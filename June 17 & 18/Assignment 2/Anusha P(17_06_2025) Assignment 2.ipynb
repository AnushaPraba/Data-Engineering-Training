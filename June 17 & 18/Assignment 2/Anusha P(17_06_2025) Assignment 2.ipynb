{
 "cells": [
  {
   "cell_type": "code",
   "execution_count": 0,
   "metadata": {
    "application/vnd.databricks.v1+cell": {
     "cellMetadata": {
      "byteLimit": 2048000,
      "rowLimit": 10000
     },
     "inputWidgets": {},
     "nuid": "922a9b3a-bb78-4fee-bd16-08d89e1e038c",
     "showTitle": false,
     "tableResultSettingsMap": {},
     "title": ""
    }
   },
   "outputs": [],
   "source": [
    "from pyspark.sql import SparkSession\n",
    "spark = SparkSession.builder.getOrCreate()"
   ]
  },
  {
   "cell_type": "markdown",
   "metadata": {
    "application/vnd.databricks.v1+cell": {
     "cellMetadata": {},
     "inputWidgets": {},
     "nuid": "e37dd9b2-210d-4a36-bb49-a186180889a9",
     "showTitle": false,
     "tableResultSettingsMap": {},
     "title": ""
    }
   },
   "source": [
    "Task Set – PySpark Hands-On (No DLT)\n",
    "Basics"
   ]
  },
  {
   "cell_type": "code",
   "execution_count": 0,
   "metadata": {
    "application/vnd.databricks.v1+cell": {
     "cellMetadata": {
      "byteLimit": 2048000,
      "rowLimit": 10000
     },
     "inputWidgets": {},
     "nuid": "b40527f6-aa5d-4e3f-86d2-c84032e0cee0",
     "showTitle": false,
     "tableResultSettingsMap": {},
     "title": ""
    }
   },
   "outputs": [
    {
     "output_type": "stream",
     "name": "stdout",
     "output_type": "stream",
     "text": [
      "root\n |-- TransactionID: string (nullable = true)\n |-- Customer: string (nullable = true)\n |-- City: string (nullable = true)\n |-- Product: string (nullable = true)\n |-- Category: string (nullable = true)\n |-- Quantity: integer (nullable = true)\n |-- UnitPrice: integer (nullable = true)\n |-- TotalPrice: integer (nullable = true)\n |-- TransactionDate: date (nullable = true)\n |-- PaymentMode: string (nullable = true)\n\n"
     ]
    }
   ],
   "source": [
    "# Load retail_data.csv into a PySpark DataFrame and display schema.\n",
    "df = spark.read.option(\"header\", True).option(\"inferSchema\", True).csv(\"file:/Workspace/Shared/retail_data.csv\")\n",
    "df.printSchema()"
   ]
  },
  {
   "cell_type": "code",
   "execution_count": 0,
   "metadata": {
    "application/vnd.databricks.v1+cell": {
     "cellMetadata": {
      "byteLimit": 2048000,
      "rowLimit": 10000
     },
     "inputWidgets": {},
     "nuid": "40d21c98-f8f9-4758-9e89-8335f4ff767b",
     "showTitle": false,
     "tableResultSettingsMap": {},
     "title": ""
    }
   },
   "outputs": [
    {
     "output_type": "stream",
     "name": "stdout",
     "output_type": "stream",
     "text": [
      "root\n |-- TransactionID: string (nullable = true)\n |-- Customer: string (nullable = true)\n |-- City: string (nullable = true)\n |-- Product: string (nullable = true)\n |-- Category: string (nullable = true)\n |-- Quantity: integer (nullable = true)\n |-- UnitPrice: double (nullable = true)\n |-- TotalPrice: double (nullable = true)\n |-- TransactionDate: date (nullable = true)\n |-- PaymentMode: string (nullable = true)\n\n"
     ]
    }
   ],
   "source": [
    "# Infer schema as False — then manually cast columns.\n",
    "from pyspark.sql.types import *\n",
    "schema = StructType([\n",
    "    StructField(\"TransactionID\", StringType(), True),\n",
    "    StructField(\"Customer\", StringType(), True),\n",
    "    StructField(\"City\", StringType(), True),\n",
    "    StructField(\"Product\", StringType(), True),\n",
    "    StructField(\"Category\", StringType(), True),\n",
    "    StructField(\"Quantity\", IntegerType(), True),\n",
    "    StructField(\"UnitPrice\", DoubleType(), True),\n",
    "    StructField(\"TotalPrice\", DoubleType(), True),\n",
    "    StructField(\"TransactionDate\", DateType(), True),\n",
    "    StructField(\"PaymentMode\", StringType(), True)\n",
    "])\n",
    "df_manual = spark.read.option(\"header\", True).schema(schema).csv(\"file:/Workspace/Shared/retail_data.csv\")\n",
    "df_manual.printSchema()"
   ]
  },
  {
   "cell_type": "markdown",
   "metadata": {
    "application/vnd.databricks.v1+cell": {
     "cellMetadata": {},
     "inputWidgets": {},
     "nuid": "3824373a-d2f3-4093-ac5d-b2a2d6ac914e",
     "showTitle": false,
     "tableResultSettingsMap": {},
     "title": ""
    }
   },
   "source": [
    "Data Exploration & Filtering"
   ]
  },
  {
   "cell_type": "code",
   "execution_count": 0,
   "metadata": {
    "application/vnd.databricks.v1+cell": {
     "cellMetadata": {
      "byteLimit": 2048000,
      "rowLimit": 10000
     },
     "inputWidgets": {},
     "nuid": "1a13a1c8-478b-4f73-a35d-a1ef51fffef6",
     "showTitle": false,
     "tableResultSettingsMap": {},
     "title": ""
    }
   },
   "outputs": [
    {
     "output_type": "stream",
     "name": "stdout",
     "output_type": "stream",
     "text": [
      "+-------------+--------+---------+-------+-----------+--------+---------+----------+-------------+\n|TransactionID|Customer|     City|Product|   Category|Quantity|UnitPrice|TotalPrice|TransactionDa|\n+-------------+--------+---------+-------+-----------+--------+---------+----------+-------------+\n|        T1001|     Ali|   Mumbai| Laptop|Electronics|       1|    70000|     70000|   2024-01-15|\n|        T1002|    Neha|Bangalore| Tablet|Electronics|       2|    30000|     60000|   2024-01-20|\n|        T1005|   Karan|   Mumbai|  Phone|Electronics|       1|    50000|     50000|   2024-02-15|\n+-------------+--------+---------+-------+-----------+--------+---------+----------+-------------+\n\n"
     ]
    }
   ],
   "source": [
    "# Filter transactions where TotalPrice > 40000 .\n",
    "from pyspark.sql.functions import col\n",
    "df.filter(col(\"TotalPrice\") > 40000).show()"
   ]
  },
  {
   "cell_type": "code",
   "execution_count": 0,
   "metadata": {
    "application/vnd.databricks.v1+cell": {
     "cellMetadata": {
      "byteLimit": 2048000,
      "rowLimit": 10000
     },
     "inputWidgets": {},
     "nuid": "6e636093-8dad-4c41-9080-f67c33cdd119",
     "showTitle": false,
     "tableResultSettingsMap": {},
     "title": ""
    }
   },
   "outputs": [
    {
     "output_type": "stream",
     "name": "stdout",
     "output_type": "stream",
     "text": [
      "+---------+\n|     City|\n+---------+\n|Bangalore|\n|   Mumbai|\n|    Delhi|\n|Hyderabad|\n+---------+\n\n"
     ]
    }
   ],
   "source": [
    "# Get unique cities from the dataset.\n",
    "df.select(\"City\").distinct().show()"
   ]
  },
  {
   "cell_type": "code",
   "execution_count": 0,
   "metadata": {
    "application/vnd.databricks.v1+cell": {
     "cellMetadata": {
      "byteLimit": 2048000,
      "rowLimit": 10000
     },
     "inputWidgets": {},
     "nuid": "63420d8a-b497-4680-8f4f-b32a58c60198",
     "showTitle": false,
     "tableResultSettingsMap": {},
     "title": ""
    }
   },
   "outputs": [
    {
     "output_type": "stream",
     "name": "stdout",
     "output_type": "stream",
     "text": [
      "+-------------+--------+-----+-------+-----------+--------+---------+----------+-------------+\n|TransactionID|Customer| City|Product|   Category|Quantity|UnitPrice|TotalPrice|TransactionDa|\n+-------------+--------+-----+-------+-----------+--------+---------+----------+-------------+\n|        T1004|    Zoya|Delhi|  Chair|  Furniture|       4|     5000|     20000|   2024-02-12|\n|        T1006|   Farah|Delhi|  Mouse|Electronics|       3|     1000|      3000|   2024-02-18|\n+-------------+--------+-----+-------+-----------+--------+---------+----------+-------------+\n\n+-------------+--------+-----+-------+-----------+--------+---------+----------+-------------+\n|TransactionID|Customer| City|Product|   Category|Quantity|UnitPrice|TotalPrice|TransactionDa|\n+-------------+--------+-----+-------+-----------+--------+---------+----------+-------------+\n|        T1004|    Zoya|Delhi|  Chair|  Furniture|       4|     5000|     20000|   2024-02-12|\n|        T1006|   Farah|Delhi|  Mouse|Electronics|       3|     1000|      3000|   2024-02-18|\n+-------------+--------+-----+-------+-----------+--------+---------+----------+-------------+\n\n"
     ]
    }
   ],
   "source": [
    "# Find all transactions from \"Delhi\" using .filter() and .where() .\n",
    "df.filter(col(\"City\") == \"Delhi\").show()\n",
    "df.where(col(\"City\") == \"Delhi\").show()"
   ]
  },
  {
   "cell_type": "markdown",
   "metadata": {
    "application/vnd.databricks.v1+cell": {
     "cellMetadata": {},
     "inputWidgets": {},
     "nuid": "83c22964-378c-4d44-af33-593c3002ca42",
     "showTitle": false,
     "tableResultSettingsMap": {},
     "title": ""
    }
   },
   "source": [
    "Data Manipulation"
   ]
  },
  {
   "cell_type": "code",
   "execution_count": 0,
   "metadata": {
    "application/vnd.databricks.v1+cell": {
     "cellMetadata": {
      "byteLimit": 2048000,
      "rowLimit": 10000
     },
     "inputWidgets": {},
     "nuid": "81cc8559-71b0-4ed9-ba88-7432680820ab",
     "showTitle": false,
     "tableResultSettingsMap": {},
     "title": ""
    }
   },
   "outputs": [
    {
     "output_type": "stream",
     "name": "stdout",
     "output_type": "stream",
     "text": [
      "+-------------+--------+---------+-------+-----------+--------+---------+----------+-------------+---------------+\n|TransactionID|Customer|     City|Product|   Category|Quantity|UnitPrice|TotalPrice|TransactionDa|DiscountedPrice|\n+-------------+--------+---------+-------+-----------+--------+---------+----------+-------------+---------------+\n|        T1001|     Ali|   Mumbai| Laptop|Electronics|       1|    70000|     70000|   2024-01-15|        63000.0|\n|        T1002|    Neha|Bangalore| Tablet|Electronics|       2|    30000|     60000|   2024-01-20|        54000.0|\n|        T1003|    Ravi|Hyderabad|   Desk|  Furniture|       1|    15000|     15000|   2024-02-10|        13500.0|\n|        T1004|    Zoya|    Delhi|  Chair|  Furniture|       4|     5000|     20000|   2024-02-12|        18000.0|\n|        T1005|   Karan|   Mumbai|  Phone|Electronics|       1|    50000|     50000|   2024-02-15|        45000.0|\n|        T1006|   Farah|    Delhi|  Mouse|Electronics|       3|     1000|      3000|   2024-02-18|         2700.0|\n+-------------+--------+---------+-------+-----------+--------+---------+----------+-------------+---------------+\n\n"
     ]
    }
   ],
   "source": [
    "# Add a column DiscountedPrice = TotalPrice - 10%.\n",
    "from pyspark.sql.functions import col\n",
    "df = df.withColumn(\"DiscountedPrice\", col(\"TotalPrice\") * 0.9)\n",
    "df.show()"
   ]
  },
  {
   "cell_type": "code",
   "execution_count": 0,
   "metadata": {
    "application/vnd.databricks.v1+cell": {
     "cellMetadata": {
      "byteLimit": 2048000,
      "rowLimit": 10000
     },
     "inputWidgets": {},
     "nuid": "c89d1390-7168-4756-a728-f78b63d99ff7",
     "showTitle": false,
     "tableResultSettingsMap": {},
     "title": ""
    }
   },
   "outputs": [
    {
     "output_type": "stream",
     "name": "stdout",
     "output_type": "stream",
     "text": [
      "+-------------+--------+---------+-------+-----------+--------+---------+----------+----------+-----------+----+\n|TransactionID|Customer|     City|Product|   Category|Quantity|UnitPrice|TotalPrice|   TxnDate|PaymentMode|Rank|\n+-------------+--------+---------+-------+-----------+--------+---------+----------+----------+-----------+----+\n|        T1002|    Neha|Bangalore| Tablet|Electronics|       2|    30000|     60000|2024-01-20|        UPI|   1|\n|        T1004|    Zoya|    Delhi|  Chair|  Furniture|       4|     5000|     20000|2024-02-12|       Card|   1|\n|        T1006|   Farah|    Delhi|  Mouse|Electronics|       3|     1000|      3000|2024-02-18|       Cash|   2|\n|        T1003|    Ravi|Hyderabad|   Desk|  Furniture|       1|    15000|     15000|2024-02-10|Net Banking|   1|\n|        T1001|     Ali|   Mumbai| Laptop|Electronics|       1|    70000|     70000|2024-01-15|       Card|   1|\n|        T1005|   Karan|   Mumbai|  Phone|Electronics|       1|    50000|     50000|2024-02-15|       Card|   2|\n+-------------+--------+---------+-------+-----------+--------+---------+----------+----------+-----------+----+\n\n"
     ]
    }
   ],
   "source": [
    "# Rename TransactionDate to TxnDate .\n",
    "df = df.withColumnRenamed(\"TransactionDate\", \"TxnDate\")\n",
    "df.show()"
   ]
  },
  {
   "cell_type": "code",
   "execution_count": 0,
   "metadata": {
    "application/vnd.databricks.v1+cell": {
     "cellMetadata": {
      "byteLimit": 2048000,
      "rowLimit": 10000
     },
     "inputWidgets": {},
     "nuid": "e114b5eb-e014-45d7-bae9-c256d77d2f26",
     "showTitle": false,
     "tableResultSettingsMap": {},
     "title": ""
    }
   },
   "outputs": [
    {
     "output_type": "stream",
     "name": "stdout",
     "output_type": "stream",
     "text": [
      "+-------------+--------+---------+-------+-----------+--------+----------+-------------+---------------+\n|TransactionID|Customer|     City|Product|   Category|Quantity|TotalPrice|TransactionDa|DiscountedPrice|\n+-------------+--------+---------+-------+-----------+--------+----------+-------------+---------------+\n|        T1001|     Ali|   Mumbai| Laptop|Electronics|       1|     70000|   2024-01-15|        63000.0|\n|        T1002|    Neha|Bangalore| Tablet|Electronics|       2|     60000|   2024-01-20|        54000.0|\n|        T1003|    Ravi|Hyderabad|   Desk|  Furniture|       1|     15000|   2024-02-10|        13500.0|\n|        T1004|    Zoya|    Delhi|  Chair|  Furniture|       4|     20000|   2024-02-12|        18000.0|\n|        T1005|   Karan|   Mumbai|  Phone|Electronics|       1|     50000|   2024-02-15|        45000.0|\n|        T1006|   Farah|    Delhi|  Mouse|Electronics|       3|      3000|   2024-02-18|         2700.0|\n+-------------+--------+---------+-------+-----------+--------+----------+-------------+---------------+\n\n"
     ]
    }
   ],
   "source": [
    "# Drop the column UnitPrice .\n",
    "df = df.drop(\"UnitPrice\")\n",
    "df.show()"
   ]
  },
  {
   "cell_type": "markdown",
   "metadata": {
    "application/vnd.databricks.v1+cell": {
     "cellMetadata": {},
     "inputWidgets": {},
     "nuid": "d2a6bd8e-ae66-40f8-b54a-a060b46b8fe2",
     "showTitle": false,
     "tableResultSettingsMap": {},
     "title": ""
    }
   },
   "source": [
    "Aggregations"
   ]
  },
  {
   "cell_type": "code",
   "execution_count": 0,
   "metadata": {
    "application/vnd.databricks.v1+cell": {
     "cellMetadata": {
      "byteLimit": 2048000,
      "rowLimit": 10000
     },
     "inputWidgets": {},
     "nuid": "7dc390c1-985f-42f9-a91a-db219384ef01",
     "showTitle": false,
     "tableResultSettingsMap": {},
     "title": ""
    }
   },
   "outputs": [
    {
     "output_type": "stream",
     "name": "stdout",
     "output_type": "stream",
     "text": [
      "+---------+----------+\n|     City|TotalSales|\n+---------+----------+\n|Bangalore|     60000|\n|   Mumbai|    120000|\n|    Delhi|     23000|\n|Hyderabad|     15000|\n+---------+----------+\n\n"
     ]
    }
   ],
   "source": [
    "# Get total sales by city.\n",
    "df.groupBy(\"City\").sum(\"TotalPrice\").withColumnRenamed(\"sum(TotalPrice)\", \"TotalSales\").show()"
   ]
  },
  {
   "cell_type": "code",
   "execution_count": 0,
   "metadata": {
    "application/vnd.databricks.v1+cell": {
     "cellMetadata": {
      "byteLimit": 2048000,
      "rowLimit": 10000
     },
     "inputWidgets": {},
     "nuid": "08b5d954-44ab-4a51-85db-b6bbcd686530",
     "showTitle": false,
     "tableResultSettingsMap": {},
     "title": ""
    }
   },
   "outputs": [
    {
     "output_type": "stream",
     "name": "stdout",
     "output_type": "stream",
     "text": [
      "+-----------+------------+\n|   Category|AvgUnitPrice|\n+-----------+------------+\n|Electronics|     37750.0|\n|  Furniture|     10000.0|\n+-----------+------------+\n\n"
     ]
    }
   ],
   "source": [
    "# Get average unit price by category.\n",
    "df_with_price = spark.read.option(\"header\", True).option(\"inferSchema\", True).csv(\"file:/Workspace/Shared/retail_data.csv\")\n",
    "df_with_price.groupBy(\"Category\").avg(\"UnitPrice\").withColumnRenamed(\"avg(UnitPrice)\", \"AvgUnitPrice\").show()\n"
   ]
  },
  {
   "cell_type": "code",
   "execution_count": 0,
   "metadata": {
    "application/vnd.databricks.v1+cell": {
     "cellMetadata": {
      "byteLimit": 2048000,
      "rowLimit": 10000
     },
     "inputWidgets": {},
     "nuid": "c7e9c657-3f77-4b4b-b6d5-6d91f3e692a7",
     "showTitle": false,
     "tableResultSettingsMap": {},
     "title": ""
    }
   },
   "outputs": [
    {
     "output_type": "stream",
     "name": "stdout",
     "output_type": "stream",
     "text": [
      "+-----------+-----+\n|PaymentMode|count|\n+-----------+-----+\n|Net Banking|    1|\n|       Card|    3|\n|       Cash|    1|\n|        UPI|    1|\n+-----------+-----+\n\n"
     ]
    }
   ],
   "source": [
    "# Count of transactions grouped by PaymentMode.\n",
    "df.groupBy(\"PaymentMode\").count().show()"
   ]
  },
  {
   "cell_type": "markdown",
   "metadata": {
    "application/vnd.databricks.v1+cell": {
     "cellMetadata": {},
     "inputWidgets": {},
     "nuid": "9a52b88e-b2db-4129-b59c-689761ad9fac",
     "showTitle": false,
     "tableResultSettingsMap": {},
     "title": ""
    }
   },
   "source": [
    "Window Functions\n"
   ]
  },
  {
   "cell_type": "code",
   "execution_count": 0,
   "metadata": {
    "application/vnd.databricks.v1+cell": {
     "cellMetadata": {
      "byteLimit": 2048000,
      "rowLimit": 10000
     },
     "inputWidgets": {},
     "nuid": "ebf333cf-2a36-4ea1-a26f-6d7beacd866f",
     "showTitle": false,
     "tableResultSettingsMap": {},
     "title": ""
    }
   },
   "outputs": [
    {
     "output_type": "stream",
     "name": "stdout",
     "output_type": "stream",
     "text": [
      "+-------------+---------+----------+----+\n|TransactionID|     City|TotalPrice|Rank|\n+-------------+---------+----------+----+\n|        T1002|Bangalore|     60000|   1|\n|        T1004|    Delhi|     20000|   1|\n|        T1006|    Delhi|      3000|   2|\n|        T1003|Hyderabad|     15000|   1|\n|        T1001|   Mumbai|     70000|   1|\n|        T1005|   Mumbai|     50000|   2|\n+-------------+---------+----------+----+\n\n"
     ]
    }
   ],
   "source": [
    "# Use a window partitioned by City to rank transactions by TotalPrice .\n",
    "from pyspark.sql.window import Window\n",
    "from pyspark.sql.functions import rank\n",
    "windowSpec = Window.partitionBy(\"City\").orderBy(col(\"TotalPrice\").desc())\n",
    "df = df.withColumn(\"Rank\", rank().over(windowSpec))\n",
    "df.select(\"TransactionID\", \"City\", \"TotalPrice\", \"Rank\").show()"
   ]
  },
  {
   "cell_type": "code",
   "execution_count": 0,
   "metadata": {
    "application/vnd.databricks.v1+cell": {
     "cellMetadata": {
      "byteLimit": 2048000,
      "rowLimit": 10000
     },
     "inputWidgets": {},
     "nuid": "f821fb66-5aac-4e59-ad4e-9ac262521ca0",
     "showTitle": false,
     "tableResultSettingsMap": {},
     "title": ""
    }
   },
   "outputs": [
    {
     "output_type": "stream",
     "name": "stdout",
     "output_type": "stream",
     "text": [
      "+-------------+---------+----------+-------+\n|TransactionID|     City|TotalPrice|PrevTxn|\n+-------------+---------+----------+-------+\n|        T1002|Bangalore|     60000|   NULL|\n|        T1004|    Delhi|     20000|   NULL|\n|        T1006|    Delhi|      3000|  20000|\n|        T1003|Hyderabad|     15000|   NULL|\n|        T1001|   Mumbai|     70000|   NULL|\n|        T1005|   Mumbai|     50000|  70000|\n+-------------+---------+----------+-------+\n\n"
     ]
    }
   ],
   "source": [
    "# Use lag function to get previous transaction amount per city.\n",
    "from pyspark.sql.functions import lag\n",
    "windowSpecLag = Window.partitionBy(\"City\").orderBy(\"TxnDate\")\n",
    "df = df.withColumn(\"PrevTxn\", lag(\"TotalPrice\").over(windowSpecLag))\n",
    "df.select(\"TransactionID\", \"City\", \"TotalPrice\", \"PrevTxn\").show()"
   ]
  },
  {
   "cell_type": "markdown",
   "metadata": {
    "application/vnd.databricks.v1+cell": {
     "cellMetadata": {},
     "inputWidgets": {},
     "nuid": "f3688259-5593-4dc0-9edd-e20d4e9d321b",
     "showTitle": false,
     "tableResultSettingsMap": {},
     "title": ""
    }
   },
   "source": [
    "Joins"
   ]
  },
  {
   "cell_type": "code",
   "execution_count": 0,
   "metadata": {
    "application/vnd.databricks.v1+cell": {
     "cellMetadata": {
      "byteLimit": 2048000,
      "rowLimit": 10000
     },
     "inputWidgets": {},
     "nuid": "57bcb1da-a3b9-4985-b1f9-97babf159887",
     "showTitle": false,
     "tableResultSettingsMap": {},
     "title": ""
    }
   },
   "outputs": [
    {
     "output_type": "stream",
     "name": "stdout",
     "output_type": "stream",
     "text": [
      "+---------+------+\n|     City|Region|\n+---------+------+\n|   Mumbai|  West|\n|    Delhi| North|\n|Bangalore| South|\n|Hyderabad| South|\n+---------+------+\n\n"
     ]
    }
   ],
   "source": [
    "# Create a second DataFrame city_region :\n",
    "# City,Region\n",
    "# Mumbai,West\n",
    "# Delhi,North\n",
    "# Bangalore,South\n",
    "# Hyderabad,South\n",
    "city_data = [(\"Mumbai\", \"West\"), (\"Delhi\", \"North\"), (\"Bangalore\", \"South\"), (\"Hyderabad\", \"South\")]\n",
    "region_df = spark.createDataFrame(city_data, [\"City\", \"Region\"])\n",
    "region_df.show()"
   ]
  },
  {
   "cell_type": "code",
   "execution_count": 0,
   "metadata": {
    "application/vnd.databricks.v1+cell": {
     "cellMetadata": {
      "byteLimit": 2048000,
      "rowLimit": 10000
     },
     "inputWidgets": {},
     "nuid": "f0b27de3-e23a-4289-974f-e3eb11ef380a",
     "showTitle": false,
     "tableResultSettingsMap": {},
     "title": ""
    }
   },
   "outputs": [
    {
     "output_type": "stream",
     "name": "stdout",
     "output_type": "stream",
     "text": [
      "+------+----------+\n|Region|TotalSales|\n+------+----------+\n|  West|    120000|\n| North|     23000|\n| South|     75000|\n+------+----------+\n\n"
     ]
    }
   ],
   "source": [
    "# Join with main DataFrame and group total sales by Region.\n",
    "df_joined = df.join(region_df, \"City\")\n",
    "df_joined.groupBy(\"Region\").sum(\"TotalPrice\").withColumnRenamed(\"sum(TotalPrice)\", \"TotalSales\").show()"
   ]
  },
  {
   "cell_type": "markdown",
   "metadata": {
    "application/vnd.databricks.v1+cell": {
     "cellMetadata": {},
     "inputWidgets": {},
     "nuid": "056e6f3f-0ed9-45d8-92cd-37ec8e660762",
     "showTitle": false,
     "tableResultSettingsMap": {},
     "title": ""
    }
   },
   "source": [
    "Nulls and Data Cleaning"
   ]
  },
  {
   "cell_type": "code",
   "execution_count": 0,
   "metadata": {
    "application/vnd.databricks.v1+cell": {
     "cellMetadata": {
      "byteLimit": 2048000,
      "rowLimit": 10000
     },
     "inputWidgets": {},
     "nuid": "956cb43f-3f4f-494f-81a5-a04e946e6853",
     "showTitle": false,
     "tableResultSettingsMap": {},
     "title": ""
    }
   },
   "outputs": [
    {
     "output_type": "stream",
     "name": "stdout",
     "output_type": "stream",
     "text": [
      "+-------------+--------+---------+-------+-----------+--------+---------+----------+----------+-----------+----+-------+\n|TransactionID|Customer|     City|Product|   Category|Quantity|UnitPrice|TotalPrice|   TxnDate|PaymentMode|Rank|PrevTxn|\n+-------------+--------+---------+-------+-----------+--------+---------+----------+----------+-----------+----+-------+\n|        T1002|    Neha|Bangalore| Tablet|Electronics|    NULL|    30000|     60000|2024-01-20|        UPI|   1|   NULL|\n|        T1004|    Zoya|    Delhi|  Chair|  Furniture|       4|     5000|     20000|2024-02-12|       Card|   1|   NULL|\n|        T1006|   Farah|    Delhi|  Mouse|Electronics|       3|     1000|      3000|2024-02-18|       Cash|   2|  20000|\n|        T1003|    Ravi|Hyderabad|   Desk|  Furniture|    NULL|    15000|     15000|2024-02-10|Net Banking|   1|   NULL|\n|        T1001|     Ali|   Mumbai| Laptop|Electronics|       1|    70000|     70000|2024-01-15|       Card|   1|   NULL|\n|        T1005|   Karan|   Mumbai|  Phone|Electronics|       1|    50000|     50000|2024-02-15|       Card|   2|  70000|\n+-------------+--------+---------+-------+-----------+--------+---------+----------+----------+-----------+----+-------+\n\n"
     ]
    }
   ],
   "source": [
    "# Introduce some nulls and replace them with default values.\n",
    "from pyspark.sql.functions import lit, when,rand\n",
    "df_with_nulls = df.withColumn(\"Quantity\", \n",
    "    when(rand() > 0.7, None).otherwise(col(\"Quantity\"))) \\\n",
    "    .withColumn(\"PaymentMode\", when(rand() > 0.7, None).otherwise(col(\"PaymentMode\")))\n",
    "df_with_nulls.show()"
   ]
  },
  {
   "cell_type": "code",
   "execution_count": 0,
   "metadata": {
    "application/vnd.databricks.v1+cell": {
     "cellMetadata": {
      "byteLimit": 2048000,
      "rowLimit": 10000
     },
     "inputWidgets": {},
     "nuid": "a5c8caf4-ce0b-485a-9759-4a6661fd176b",
     "showTitle": false,
     "tableResultSettingsMap": {},
     "title": ""
    }
   },
   "outputs": [
    {
     "output_type": "stream",
     "name": "stdout",
     "output_type": "stream",
     "text": [
      "+-------------+--------+------+-------+-----------+--------+---------+----------+----------+-----------+----+-------+\n|TransactionID|Customer|  City|Product|   Category|Quantity|UnitPrice|TotalPrice|   TxnDate|PaymentMode|Rank|PrevTxn|\n+-------------+--------+------+-------+-----------+--------+---------+----------+----------+-----------+----+-------+\n|        T1004|    Zoya| Delhi|  Chair|  Furniture|       4|     5000|     20000|2024-02-12|       Card|   1|   NULL|\n|        T1006|   Farah| Delhi|  Mouse|Electronics|       3|     1000|      3000|2024-02-18|       Cash|   2|  20000|\n|        T1001|     Ali|Mumbai| Laptop|Electronics|       1|    70000|     70000|2024-01-15|       Card|   1|   NULL|\n|        T1005|   Karan|Mumbai|  Phone|Electronics|       1|    50000|     50000|2024-02-15|       Card|   2|  70000|\n+-------------+--------+------+-------+-----------+--------+---------+----------+----------+-----------+----+-------+\n\n"
     ]
    }
   ],
   "source": [
    "# Drop rows where Quantity is null.\n",
    "df_cleaned = df_with_nulls.dropna(subset=[\"Quantity\"])\n",
    "df_cleaned.show()"
   ]
  },
  {
   "cell_type": "code",
   "execution_count": 0,
   "metadata": {
    "application/vnd.databricks.v1+cell": {
     "cellMetadata": {
      "byteLimit": 2048000,
      "rowLimit": 10000
     },
     "inputWidgets": {},
     "nuid": "1c1d797d-3551-4870-afa2-f31cb908b2c8",
     "showTitle": false,
     "tableResultSettingsMap": {},
     "title": ""
    }
   },
   "outputs": [
    {
     "output_type": "stream",
     "name": "stdout",
     "output_type": "stream",
     "text": [
      "+-------------+--------+---------+-------+-----------+--------+---------+----------+----------+-----------+----+-------+\n|TransactionID|Customer|     City|Product|   Category|Quantity|UnitPrice|TotalPrice|   TxnDate|PaymentMode|Rank|PrevTxn|\n+-------------+--------+---------+-------+-----------+--------+---------+----------+----------+-----------+----+-------+\n|        T1002|    Neha|Bangalore| Tablet|Electronics|    NULL|    30000|     60000|2024-01-20|        UPI|   1|   NULL|\n|        T1004|    Zoya|    Delhi|  Chair|  Furniture|       4|     5000|     20000|2024-02-12|       Card|   1|   NULL|\n|        T1006|   Farah|    Delhi|  Mouse|Electronics|       3|     1000|      3000|2024-02-18|       Cash|   2|  20000|\n|        T1003|    Ravi|Hyderabad|   Desk|  Furniture|    NULL|    15000|     15000|2024-02-10|Net Banking|   1|   NULL|\n|        T1001|     Ali|   Mumbai| Laptop|Electronics|       1|    70000|     70000|2024-01-15|       Card|   1|   NULL|\n|        T1005|   Karan|   Mumbai|  Phone|Electronics|       1|    50000|     50000|2024-02-15|       Card|   2|  70000|\n+-------------+--------+---------+-------+-----------+--------+---------+----------+----------+-----------+----+-------+\n\n"
     ]
    }
   ],
   "source": [
    "# Fill null PaymentMode with \"Unknown\".\n",
    "df_filled = df_with_nulls.fillna({\"PaymentMode\": \"Unknown\"})\n",
    "df_filled.show()"
   ]
  },
  {
   "cell_type": "markdown",
   "metadata": {
    "application/vnd.databricks.v1+cell": {
     "cellMetadata": {},
     "inputWidgets": {},
     "nuid": "4fb0197c-8bcf-451b-a643-8b27d523dac5",
     "showTitle": false,
     "tableResultSettingsMap": {},
     "title": ""
    }
   },
   "source": [
    "Custom Functions"
   ]
  },
  {
   "cell_type": "code",
   "execution_count": 0,
   "metadata": {
    "application/vnd.databricks.v1+cell": {
     "cellMetadata": {
      "byteLimit": 2048000,
      "rowLimit": 10000
     },
     "inputWidgets": {},
     "nuid": "f779d118-5287-4c52-b6f8-8045921ea9f8",
     "showTitle": false,
     "tableResultSettingsMap": {},
     "title": ""
    }
   },
   "outputs": [
    {
     "output_type": "stream",
     "name": "stdout",
     "output_type": "stream",
     "text": [
      "+-------------+--------+---------+-------+-----------+--------+---------+----------+----------+-----------+----+-------+----------+\n|TransactionID|Customer|     City|Product|   Category|Quantity|UnitPrice|TotalPrice|   TxnDate|PaymentMode|Rank|PrevTxn|OrderLabel|\n+-------------+--------+---------+-------+-----------+--------+---------+----------+----------+-----------+----+-------+----------+\n|        T1002|    Neha|Bangalore| Tablet|Electronics|       2|    30000|     60000|2024-01-20|        UPI|   1|   NULL|      High|\n|        T1004|    Zoya|    Delhi|  Chair|  Furniture|       4|     5000|     20000|2024-02-12|       Card|   1|   NULL|       Low|\n|        T1006|   Farah|    Delhi|  Mouse|Electronics|       3|     1000|      3000|2024-02-18|       Cash|   2|  20000|       Low|\n|        T1003|    Ravi|Hyderabad|   Desk|  Furniture|       1|    15000|     15000|2024-02-10|Net Banking|   1|   NULL|       Low|\n|        T1001|     Ali|   Mumbai| Laptop|Electronics|       1|    70000|     70000|2024-01-15|       Card|   1|   NULL|      High|\n|        T1005|   Karan|   Mumbai|  Phone|Electronics|       1|    50000|     50000|2024-02-15|       Card|   2|  70000|    Medium|\n+-------------+--------+---------+-------+-----------+--------+---------+----------+----------+-----------+----+-------+----------+\n\n"
     ]
    }
   ],
   "source": [
    "# Write a UDF to label orders:\n",
    "# def label_order(amount):\n",
    "# if amount > 50000: return \"High\"\n",
    "# elif amount >= 30000: return \"Medium\"\n",
    "# else: return \"Low\"\n",
    "# Apply this to classify TotalPrice .\n",
    "\n",
    "from pyspark.sql.functions import udf\n",
    "def label_order(amount):\n",
    "    if amount > 50000:\n",
    "        return \"High\"\n",
    "    elif amount >= 30000:\n",
    "        return \"Medium\"\n",
    "    else:\n",
    "        return \"Low\"\n",
    "\n",
    "label_udf = udf(label_order, StringType())\n",
    "df = df.withColumn(\"OrderLabel\", label_udf(col(\"TotalPrice\")))\n",
    "df.show()"
   ]
  },
  {
   "cell_type": "markdown",
   "metadata": {
    "application/vnd.databricks.v1+cell": {
     "cellMetadata": {},
     "inputWidgets": {},
     "nuid": "88020e42-a462-4e87-ab8a-5b24d41a34ce",
     "showTitle": false,
     "tableResultSettingsMap": {},
     "title": ""
    }
   },
   "source": [
    "Date & Time"
   ]
  },
  {
   "cell_type": "code",
   "execution_count": 0,
   "metadata": {
    "application/vnd.databricks.v1+cell": {
     "cellMetadata": {
      "byteLimit": 2048000,
      "rowLimit": 10000
     },
     "inputWidgets": {},
     "nuid": "e5da22ab-5c64-43e4-b44c-2bbc07cf8db2",
     "showTitle": false,
     "tableResultSettingsMap": {},
     "title": ""
    }
   },
   "outputs": [
    {
     "output_type": "stream",
     "name": "stdout",
     "output_type": "stream",
     "text": [
      "+-------------+--------+---------+-------+-----------+--------+---------+----------+----------+-----------+----+-------+----------+----+-----+---+\n|TransactionID|Customer|     City|Product|   Category|Quantity|UnitPrice|TotalPrice|   TxnDate|PaymentMode|Rank|PrevTxn|OrderLabel|Year|Month|Day|\n+-------------+--------+---------+-------+-----------+--------+---------+----------+----------+-----------+----+-------+----------+----+-----+---+\n|        T1002|    Neha|Bangalore| Tablet|Electronics|       2|    30000|     60000|2024-01-20|        UPI|   1|   NULL|      High|2024|    1| 20|\n|        T1004|    Zoya|    Delhi|  Chair|  Furniture|       4|     5000|     20000|2024-02-12|       Card|   1|   NULL|       Low|2024|    2| 12|\n|        T1006|   Farah|    Delhi|  Mouse|Electronics|       3|     1000|      3000|2024-02-18|       Cash|   2|  20000|       Low|2024|    2| 18|\n|        T1003|    Ravi|Hyderabad|   Desk|  Furniture|       1|    15000|     15000|2024-02-10|Net Banking|   1|   NULL|       Low|2024|    2| 10|\n|        T1001|     Ali|   Mumbai| Laptop|Electronics|       1|    70000|     70000|2024-01-15|       Card|   1|   NULL|      High|2024|    1| 15|\n|        T1005|   Karan|   Mumbai|  Phone|Electronics|       1|    50000|     50000|2024-02-15|       Card|   2|  70000|    Medium|2024|    2| 15|\n+-------------+--------+---------+-------+-----------+--------+---------+----------+----------+-----------+----+-------+----------+----+-----+---+\n\n"
     ]
    }
   ],
   "source": [
    "# Extract year, month, and day from TxnDate .\n",
    "from pyspark.sql.functions import year, month, dayofmonth\n",
    "df = df.withColumn(\"Year\", year(\"TxnDate\")).withColumn(\"Month\", month(\"TxnDate\")).withColumn(\"Day\", dayofmonth(\"TxnDate\"))\n",
    "df.show()"
   ]
  },
  {
   "cell_type": "code",
   "execution_count": 0,
   "metadata": {
    "application/vnd.databricks.v1+cell": {
     "cellMetadata": {
      "byteLimit": 2048000,
      "rowLimit": 10000
     },
     "inputWidgets": {},
     "nuid": "a04b6205-f427-422e-a734-21de89187529",
     "showTitle": false,
     "tableResultSettingsMap": {},
     "title": ""
    }
   },
   "outputs": [
    {
     "output_type": "stream",
     "name": "stdout",
     "output_type": "stream",
     "text": [
      "+-------------+--------+---------+-------+-----------+--------+---------+----------+----------+-----------+----+-------+----------+----+-----+---+\n|TransactionID|Customer|     City|Product|   Category|Quantity|UnitPrice|TotalPrice|   TxnDate|PaymentMode|Rank|PrevTxn|OrderLabel|Year|Month|Day|\n+-------------+--------+---------+-------+-----------+--------+---------+----------+----------+-----------+----+-------+----------+----+-----+---+\n|        T1004|    Zoya|    Delhi|  Chair|  Furniture|       4|     5000|     20000|2024-02-12|       Card|   1|   NULL|       Low|2024|    2| 12|\n|        T1006|   Farah|    Delhi|  Mouse|Electronics|       3|     1000|      3000|2024-02-18|       Cash|   2|  20000|       Low|2024|    2| 18|\n|        T1003|    Ravi|Hyderabad|   Desk|  Furniture|       1|    15000|     15000|2024-02-10|Net Banking|   1|   NULL|       Low|2024|    2| 10|\n|        T1005|   Karan|   Mumbai|  Phone|Electronics|       1|    50000|     50000|2024-02-15|       Card|   2|  70000|    Medium|2024|    2| 15|\n+-------------+--------+---------+-------+-----------+--------+---------+----------+----------+-----------+----+-------+----------+----+-----+---+\n\n"
     ]
    }
   ],
   "source": [
    "# Filter transactions that happened in February.\n",
    "df.filter(col(\"Month\") == 2).show()"
   ]
  },
  {
   "cell_type": "markdown",
   "metadata": {
    "application/vnd.databricks.v1+cell": {
     "cellMetadata": {},
     "inputWidgets": {},
     "nuid": "7aad438b-c93f-4c6b-984e-159fbeb59fc1",
     "showTitle": false,
     "tableResultSettingsMap": {},
     "title": ""
    }
   },
   "source": [
    "Union & Duplicate Handling"
   ]
  },
  {
   "cell_type": "code",
   "execution_count": 0,
   "metadata": {
    "application/vnd.databricks.v1+cell": {
     "cellMetadata": {
      "byteLimit": 2048000,
      "rowLimit": 10000
     },
     "inputWidgets": {},
     "nuid": "9e293e7e-2d4f-425f-9b1a-d43ef3e16a35",
     "showTitle": false,
     "tableResultSettingsMap": {},
     "title": ""
    }
   },
   "outputs": [
    {
     "output_type": "stream",
     "name": "stdout",
     "output_type": "stream",
     "text": [
      "+-------------+--------+---------+-------+-----------+--------+---------+----------+----------+-----------+----+-------+----------+----+-----+---+\n|TransactionID|Customer|     City|Product|   Category|Quantity|UnitPrice|TotalPrice|   TxnDate|PaymentMode|Rank|PrevTxn|OrderLabel|Year|Month|Day|\n+-------------+--------+---------+-------+-----------+--------+---------+----------+----------+-----------+----+-------+----------+----+-----+---+\n|        T1002|    Neha|Bangalore| Tablet|Electronics|       2|    30000|     60000|2024-01-20|        UPI|   1|   NULL|      High|2024|    1| 20|\n|        T1001|     Ali|   Mumbai| Laptop|Electronics|       1|    70000|     70000|2024-01-15|       Card|   1|   NULL|      High|2024|    1| 15|\n|        T1006|   Farah|    Delhi|  Mouse|Electronics|       3|     1000|      3000|2024-02-18|       Cash|   2|  20000|       Low|2024|    2| 18|\n|        T1004|    Zoya|    Delhi|  Chair|  Furniture|       4|     5000|     20000|2024-02-12|       Card|   1|   NULL|       Low|2024|    2| 12|\n|        T1003|    Ravi|Hyderabad|   Desk|  Furniture|       1|    15000|     15000|2024-02-10|Net Banking|   1|   NULL|       Low|2024|    2| 10|\n|        T1005|   Karan|   Mumbai|  Phone|Electronics|       1|    50000|     50000|2024-02-15|       Card|   2|  70000|    Medium|2024|    2| 15|\n+-------------+--------+---------+-------+-----------+--------+---------+----------+----------+-----------+----+-------+----------+----+-----+---+\n\n"
     ]
    }
   ],
   "source": [
    "# Duplicate the DataFrame using union() and remove duplicates.\n",
    "df_dup = df.union(df)\n",
    "df_no_duplicates = df_dup.dropDuplicates()\n",
    "df_no_duplicates.show()"
   ]
  }
 ],
 "metadata": {
  "application/vnd.databricks.v1+notebook": {
   "computePreferences": null,
   "dashboards": [],
   "environmentMetadata": {
    "base_environment": "",
    "environment_version": "2"
   },
   "inputWidgetPreferences": null,
   "language": "python",
   "notebookMetadata": {
    "pythonIndentUnit": 4
   },
   "notebookName": "Anusha P(17_06_2025) Assignment 2",
   "widgets": {}
  },
  "language_info": {
   "name": "python"
  }
 },
 "nbformat": 4,
 "nbformat_minor": 0
}