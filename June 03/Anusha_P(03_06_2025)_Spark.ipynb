{
  "nbformat": 4,
  "nbformat_minor": 0,
  "metadata": {
    "colab": {
      "provenance": []
    },
    "kernelspec": {
      "name": "python3",
      "display_name": "Python 3"
    },
    "language_info": {
      "name": "python"
    }
  },
  "cells": [
    {
      "cell_type": "code",
      "execution_count": 48,
      "metadata": {
        "colab": {
          "base_uri": "https://localhost:8080/",
          "height": 219
        },
        "id": "O9lvV_TbKmlM",
        "outputId": "9e8cc7aa-1262-4bfa-92a6-77f431f54216"
      },
      "outputs": [
        {
          "output_type": "execute_result",
          "data": {
            "text/plain": [
              "<pyspark.sql.session.SparkSession at 0x7d6e8e30ef50>"
            ],
            "text/html": [
              "\n",
              "            <div>\n",
              "                <p><b>SparkSession - in-memory</b></p>\n",
              "                \n",
              "        <div>\n",
              "            <p><b>SparkContext</b></p>\n",
              "\n",
              "            <p><a href=\"http://e2092ee3c27d:4040\">Spark UI</a></p>\n",
              "\n",
              "            <dl>\n",
              "              <dt>Version</dt>\n",
              "                <dd><code>v3.5.1</code></dd>\n",
              "              <dt>Master</dt>\n",
              "                <dd><code>local[*]</code></dd>\n",
              "              <dt>AppName</dt>\n",
              "                <dd><code>Employee Dataset Exploration</code></dd>\n",
              "            </dl>\n",
              "        </div>\n",
              "        \n",
              "            </div>\n",
              "        "
            ]
          },
          "metadata": {},
          "execution_count": 48
        }
      ],
      "source": [
        "from pyspark.sql import SparkSession\n",
        "spark = SparkSession.builder.appName(\"Employee Dataset Exploration\").getOrCreate()\n",
        "spark"
      ]
    },
    {
      "cell_type": "code",
      "source": [
        "#mount google drive\n",
        "from google.colab import drive\n",
        "drive.mount('/content/drive')"
      ],
      "metadata": {
        "colab": {
          "base_uri": "https://localhost:8080/"
        },
        "id": "Dfosx-7ULo9-",
        "outputId": "9857a6d7-a2e2-47ab-8811-670790f83a21"
      },
      "execution_count": 49,
      "outputs": [
        {
          "output_type": "stream",
          "name": "stdout",
          "text": [
            "Drive already mounted at /content/drive; to attempt to forcibly remount, call drive.mount(\"/content/drive\", force_remount=True).\n"
          ]
        }
      ]
    },
    {
      "cell_type": "code",
      "source": [
        "# Load CSV into Spark DataFrame\n",
        "df = spark.read.csv(\"/content/drive/MyDrive/large_employee_dataset.csv\", header=True, inferSchema=True)"
      ],
      "metadata": {
        "id": "vYp-77ieMVFt"
      },
      "execution_count": 50,
      "outputs": []
    },
    {
      "cell_type": "code",
      "source": [
        "#first 10 rows\n",
        "df.show(10)"
      ],
      "metadata": {
        "colab": {
          "base_uri": "https://localhost:8080/"
        },
        "id": "E0EaubciWgQo",
        "outputId": "dc7462b9-d583-4df1-cd58-1512cd5e60c4"
      },
      "execution_count": 51,
      "outputs": [
        {
          "output_type": "stream",
          "name": "stdout",
          "text": [
            "+----------+--------------------+---+----------+------+-----------+--------+------------+\n",
            "|EmployeeID|                Name|Age|Department|Salary|JoiningDate|  Status|        City|\n",
            "+----------+--------------------+---+----------+------+-----------+--------+------------+\n",
            "|      4128|     Charles Johnson| 52|        HR| 64039| 2018-07-07|Resigned|   Allentown|\n",
            "|      6094|       Dylan Camacho| 57| Marketing| 34686| 2015-08-25|  Active| Anthonyfort|\n",
            "|      5883| Mr. Ryan Bowman Jr.| 29|   Finance| 64541| 2025-03-11|On Leave|   Gilesstad|\n",
            "|      9146|          Brian Ball| 24|     Sales| 87831| 2015-10-01|Resigned|Jenniferfurt|\n",
            "|      1918|       Angela Hooper| 26|   Finance|108773| 2019-08-14|On Leave|Lake Amystad|\n",
            "|      4600|Alexander Johnson...| 45|     Sales| 75671| 2016-04-21|On Leave|  Russohaven|\n",
            "|      6253|         Steven Lane| 47|   Finance| 64982| 2021-07-25|  Active| East Robert|\n",
            "|      8278|       Riley Johnson| 49|        HR| 43449| 2015-08-03|Resigned|  New Thomas|\n",
            "|      8520|    Emily Washington| 43|   Finance| 33851| 2021-11-30|Resigned| West Ashley|\n",
            "|      1298|     Valerie Fleming| 42| Marketing| 70137| 2019-12-08|Resigned| Caseborough|\n",
            "+----------+--------------------+---+----------+------+-----------+--------+------------+\n",
            "only showing top 10 rows\n",
            "\n"
          ]
        }
      ]
    },
    {
      "cell_type": "code",
      "source": [
        "#count total number of employees\n",
        "df.count()"
      ],
      "metadata": {
        "colab": {
          "base_uri": "https://localhost:8080/"
        },
        "id": "gOcU65TRWkz5",
        "outputId": "cf0be2a6-dd48-4a22-e110-153e8c0be2f2"
      },
      "execution_count": 52,
      "outputs": [
        {
          "output_type": "execute_result",
          "data": {
            "text/plain": [
              "500"
            ]
          },
          "metadata": {},
          "execution_count": 52
        }
      ]
    },
    {
      "cell_type": "code",
      "source": [
        "#unique departments\n",
        "df.select(\"Department\").distinct().show()"
      ],
      "metadata": {
        "colab": {
          "base_uri": "https://localhost:8080/"
        },
        "id": "qFtVo6eSWmk2",
        "outputId": "70427832-5625-4c07-e770-595359684f9a"
      },
      "execution_count": 53,
      "outputs": [
        {
          "output_type": "stream",
          "name": "stdout",
          "text": [
            "+----------+\n",
            "|Department|\n",
            "+----------+\n",
            "|     Sales|\n",
            "|        HR|\n",
            "|   Finance|\n",
            "| Marketing|\n",
            "|        IT|\n",
            "+----------+\n",
            "\n"
          ]
        }
      ]
    },
    {
      "cell_type": "code",
      "source": [
        "#Filter all employees in the \"IT\" department.\n",
        "df.filter(df.Department == \"IT\").show()"
      ],
      "metadata": {
        "colab": {
          "base_uri": "https://localhost:8080/"
        },
        "id": "859_9WteWvKZ",
        "outputId": "515fa04b-c6b6-4c55-d530-c2d236110a4c"
      },
      "execution_count": 54,
      "outputs": [
        {
          "output_type": "stream",
          "name": "stdout",
          "text": [
            "+----------+-------------------+---+----------+------+-----------+--------+------------------+\n",
            "|EmployeeID|               Name|Age|Department|Salary|JoiningDate|  Status|              City|\n",
            "+----------+-------------------+---+----------+------+-----------+--------+------------------+\n",
            "|      6598|        Mary Henson| 58|        IT| 63951| 2021-08-25|  Active|       Port Tricia|\n",
            "|      8518|   Elizabeth Abbott| 22|        IT| 91732| 2022-11-05|  Active|       Douglasside|\n",
            "|      9506|        Thomas Dunn| 45|        IT| 90340| 2020-07-12|On Leave|    Lindseychester|\n",
            "|      9663|        Glenn Mason| 43|        IT|109189| 2020-03-27|On Leave|      Katelynburgh|\n",
            "|      2106|     Richard Bailey| 45|        IT| 30950| 2021-06-29|Resigned|        North John|\n",
            "|      8212|      Jacob Jackson| 35|        IT| 54812| 2020-09-18|On Leave|South Veronicastad|\n",
            "|      6354|     Nicole Gilmore| 35|        IT|104202| 2018-05-04|  Active|       East Joseph|\n",
            "|      5716|         David Wang| 49|        IT| 94317| 2016-03-12|Resigned|          Linmouth|\n",
            "|      1181|       Joseph Clark| 33|        IT|117142| 2016-05-31|On Leave|        Carlosfurt|\n",
            "|      8302|      Debra Swanson| 47|        IT| 35236| 2023-10-25|Resigned|     Maciasborough|\n",
            "|      9542|      Jeffrey Frank| 34|        IT| 57182| 2024-01-28|On Leave|          Paulside|\n",
            "|      4100|Christopher Jimenez| 25|        IT| 65524| 2017-03-13|  Active|      North Tamara|\n",
            "|      5780|     Kevin Harrison| 26|        IT| 77259| 2024-03-28|  Active|    New Laurietown|\n",
            "|      5572|    Andrew Harrison| 42|        IT|118992| 2021-12-08|  Active|      West Matthew|\n",
            "|      6388|        Melissa Lee| 49|        IT| 74933| 2016-05-10|  Active|       Barbermouth|\n",
            "|      7984|         Paige Hall| 28|        IT| 67290| 2017-01-29|On Leave|         Jamesfort|\n",
            "|      6043|        Casey Olson| 37|        IT| 80199| 2022-01-27|  Active|         Brianland|\n",
            "|      2817|      Tony Mcdonald| 28|        IT| 92665| 2018-06-21|On Leave|       East Ashley|\n",
            "|      1982|     Jackie Herring| 37|        IT| 65014| 2023-11-13|On Leave|       Michaeltown|\n",
            "|      9259|       Shelly James| 35|        IT|106417| 2018-04-13|On Leave|  Port Laurieburgh|\n",
            "+----------+-------------------+---+----------+------+-----------+--------+------------------+\n",
            "only showing top 20 rows\n",
            "\n"
          ]
        }
      ]
    },
    {
      "cell_type": "code",
      "source": [
        "#Show employees aged between 30 and 40.\n",
        "df.filter((df.Age >= 30) & (df.Age <= 40)).show()"
      ],
      "metadata": {
        "colab": {
          "base_uri": "https://localhost:8080/"
        },
        "id": "w6tc-B-lXDVh",
        "outputId": "82aeac34-de65-4ee4-b98a-1c07fc3502e2"
      },
      "execution_count": 55,
      "outputs": [
        {
          "output_type": "stream",
          "name": "stdout",
          "text": [
            "+----------+------------------+---+----------+------+-----------+--------+-------------------+\n",
            "|EmployeeID|              Name|Age|Department|Salary|JoiningDate|  Status|               City|\n",
            "+----------+------------------+---+----------+------+-----------+--------+-------------------+\n",
            "|      4676|Christopher Fuller| 30|        HR| 63042| 2021-04-30|Resigned|   South Donnaville|\n",
            "|      4136|     Jerome Torres| 30|   Finance| 68213| 2024-11-30|  Active|North Justinborough|\n",
            "|      1588|       Edwin Burns| 34|     Sales|108208| 2015-09-14|Resigned|        South David|\n",
            "|      8074|       Fred Brewer| 30|        HR|100736| 2021-06-06|On Leave|    Port Wendyville|\n",
            "|      3841|       April Allen| 36|        HR| 98845| 2020-05-20|  Active|      Rachelchester|\n",
            "|      8212|     Jacob Jackson| 35|        IT| 54812| 2020-09-18|On Leave| South Veronicastad|\n",
            "|      3325|       Brian Huynh| 40|   Finance| 59924| 2017-01-02|On Leave|           Johnside|\n",
            "|      6180|     Robert Cortez| 35| Marketing| 76109| 2023-12-31|Resigned|    Port Katiemouth|\n",
            "|      6354|    Nicole Gilmore| 35|        IT|104202| 2018-05-04|  Active|        East Joseph|\n",
            "|      6364|       James Hogan| 33|        HR| 79932| 2023-12-05|  Active|     Rodriguezshire|\n",
            "|      6913|   Dustin Williams| 34|   Finance| 91947| 2023-10-16|On Leave|      North Stephen|\n",
            "|      3115|   Benjamin Turner| 38|        HR| 99949| 2018-03-20|Resigned|     West Hollybury|\n",
            "|      7527|      Bobby Henson| 34|   Finance| 47038| 2022-11-24|On Leave|           Dianaton|\n",
            "|      5620|  Christina Reeves| 34|   Finance| 37858| 2024-01-16|On Leave|        Hannahhaven|\n",
            "|      9939|      Karen Hansen| 37|        HR|112082| 2021-07-30|Resigned|           New Tara|\n",
            "|      6509|     Joann Frazier| 38|   Finance| 87736| 2024-01-11|Resigned|  South Sabrinaview|\n",
            "|      6340|     Kenneth Smith| 38|     Sales|115731| 2018-12-29|Resigned|        Lake Sheila|\n",
            "|      1181|      Joseph Clark| 33|        IT|117142| 2016-05-31|On Leave|         Carlosfurt|\n",
            "|      7098|     Hayley Reeves| 38|        HR|115326| 2022-03-26|  Active|          Whiteview|\n",
            "|      9542|     Jeffrey Frank| 34|        IT| 57182| 2024-01-28|On Leave|           Paulside|\n",
            "+----------+------------------+---+----------+------+-----------+--------+-------------------+\n",
            "only showing top 20 rows\n",
            "\n"
          ]
        }
      ]
    },
    {
      "cell_type": "code",
      "source": [
        "# Sort employees by Salary in descending order.\n",
        "df.orderBy(df.Salary.desc()).show()"
      ],
      "metadata": {
        "colab": {
          "base_uri": "https://localhost:8080/"
        },
        "id": "KFPkpmasXJaW",
        "outputId": "0fa2540b-f911-4294-8f9c-343c1e64b77c"
      },
      "execution_count": 56,
      "outputs": [
        {
          "output_type": "stream",
          "name": "stdout",
          "text": [
            "+----------+--------------------+---+----------+------+-----------+--------+-------------------+\n",
            "|EmployeeID|                Name|Age|Department|Salary|JoiningDate|  Status|               City|\n",
            "+----------+--------------------+---+----------+------+-----------+--------+-------------------+\n",
            "|      8860|       Cody Williams| 30|        IT|119978| 2019-03-16|Resigned|         Susanville|\n",
            "|      4585|      Sandra Webster| 30|        HR|119940| 2022-10-21|On Leave|       Thompsonport|\n",
            "|      4667|         Ronald Hunt| 58|     Sales|119677| 2019-08-29|Resigned|    Griffithchester|\n",
            "|      1602|    Deborah Williams| 25|        HR|119397| 2023-09-26|On Leave|    Port Terrimouth|\n",
            "|      3374|        Amanda Green| 41|        HR|119316| 2021-04-08|Resigned|    West Shelleyton|\n",
            "|      6329|       Heidi Shaffer| 36|        HR|119165| 2020-01-14|Resigned|          New Alexa|\n",
            "|      2428|        Mary Stevens| 55|     Sales|119137| 2022-03-06|On Leave|         Travisport|\n",
            "|      1545|Brittany Christensen| 57|   Finance|119038| 2020-10-25|Resigned|        Matthewside|\n",
            "|      2581|    Alexandria Jones| 34|        IT|119009| 2017-01-22|On Leave|           Toniside|\n",
            "|      5572|     Andrew Harrison| 42|        IT|118992| 2021-12-08|  Active|       West Matthew|\n",
            "|      7459|    Abigail Robinson| 23|     Sales|118959| 2021-09-23|  Active|        Leslieville|\n",
            "|      7431|    Richard Mccarthy| 41|        IT|118682| 2025-02-12|On Leave|          Welchview|\n",
            "|      5998|       Bruce Serrano| 36|        HR|118641| 2019-02-02|  Active|    South Elizabeth|\n",
            "|      9714|          Kevin Reid| 37| Marketing|118584| 2015-10-03|  Active|     New Howardfort|\n",
            "|      1143|     Stacey Schwartz| 55|   Finance|118504| 2022-01-24|  Active|Lake Michaelchester|\n",
            "|      3580|         Jamie Baker| 34| Marketing|118225| 2017-07-20|  Active|        Michaelstad|\n",
            "|      9485|        Dennis Rivas| 43| Marketing|118187| 2019-05-26|On Leave|         South Mark|\n",
            "|      1943|          Roy Willis| 41|        HR|118172| 2016-03-05|  Active|     East Daisystad|\n",
            "|      5755|        Erika Ortega| 42|        IT|117517| 2023-04-16|On Leave|          Kellyfort|\n",
            "|      7350|         Jenna Patel| 50| Marketing|117237| 2016-04-11|On Leave|         Port Brian|\n",
            "+----------+--------------------+---+----------+------+-----------+--------+-------------------+\n",
            "only showing top 20 rows\n",
            "\n"
          ]
        }
      ]
    },
    {
      "cell_type": "code",
      "source": [
        "# Get the average salary by department.\n",
        "df.groupBy(\"Department\").avg(\"Salary\").withColumnRenamed(\"avg(Salary)\", \"AverageSalary\").show()"
      ],
      "metadata": {
        "colab": {
          "base_uri": "https://localhost:8080/"
        },
        "id": "UNwQobDLXYos",
        "outputId": "33dd735d-e971-4df9-9032-0dea0b46d117"
      },
      "execution_count": 57,
      "outputs": [
        {
          "output_type": "stream",
          "name": "stdout",
          "text": [
            "+----------+-----------------+\n",
            "|Department|    AverageSalary|\n",
            "+----------+-----------------+\n",
            "|     Sales|77488.54545454546|\n",
            "|        HR|76091.27450980392|\n",
            "|   Finance|72834.75630252101|\n",
            "| Marketing| 71958.1888888889|\n",
            "|        IT|73116.25555555556|\n",
            "+----------+-----------------+\n",
            "\n"
          ]
        }
      ]
    },
    {
      "cell_type": "code",
      "source": [
        "# Count of employees by Status.\n",
        "df.groupBy(\"Status\").count().show()"
      ],
      "metadata": {
        "colab": {
          "base_uri": "https://localhost:8080/"
        },
        "id": "M3_S5lZaXfXT",
        "outputId": "7362218b-3b32-46e6-d95f-56eb55a076e4"
      },
      "execution_count": 58,
      "outputs": [
        {
          "output_type": "stream",
          "name": "stdout",
          "text": [
            "+--------+-----+\n",
            "|  Status|count|\n",
            "+--------+-----+\n",
            "|Resigned|  159|\n",
            "|  Active|  172|\n",
            "|On Leave|  169|\n",
            "+--------+-----+\n",
            "\n"
          ]
        }
      ]
    },
    {
      "cell_type": "code",
      "source": [
        "# Highest salary in each city.\n",
        "from pyspark.sql.functions import max\n",
        "df.groupBy(\"City\").agg(max(\"Salary\").alias(\"MaxSalary\")).show()"
      ],
      "metadata": {
        "colab": {
          "base_uri": "https://localhost:8080/"
        },
        "id": "weSaJCOHXlOn",
        "outputId": "b80c3c50-c7c1-49b6-ce0c-2b020ffd42d5"
      },
      "execution_count": 59,
      "outputs": [
        {
          "output_type": "stream",
          "name": "stdout",
          "text": [
            "+----------------+---------+\n",
            "|            City|MaxSalary|\n",
            "+----------------+---------+\n",
            "|   Wilsonchester|    67025|\n",
            "|     Bradshawton|   111116|\n",
            "|       Steventon|    32009|\n",
            "|     Lake Alyssa|    84903|\n",
            "|      North Lisa|    57898|\n",
            "|    North Marvin|    66252|\n",
            "|     Jenniferton|    39907|\n",
            "|     Buckleyview|    50109|\n",
            "|     Burtonville|    98492|\n",
            "|    Johnsonmouth|    48799|\n",
            "|    South Joseph|    52456|\n",
            "|  Lindseychester|    90340|\n",
            "|   North Stephen|    91947|\n",
            "|Port Nicoleshire|    57537|\n",
            "|    Jerrychester|    53374|\n",
            "|  North Jennifer|    82486|\n",
            "|      Laurenstad|    44608|\n",
            "|West Brendanbury|    90698|\n",
            "|       Juliaberg|    50170|\n",
            "|       New James|    54378|\n",
            "+----------------+---------+\n",
            "only showing top 20 rows\n",
            "\n"
          ]
        }
      ]
    },
    {
      "cell_type": "code",
      "source": [
        "#Total number of employees who joined each year.\n",
        "from pyspark.sql.functions import year\n",
        "df.withColumn(\"JoinYear\", year(\"JoiningDate\")).groupBy(\"JoinYear\").count().show()"
      ],
      "metadata": {
        "colab": {
          "base_uri": "https://localhost:8080/"
        },
        "id": "NIizEFymXw7k",
        "outputId": "98d6889a-4a0b-42b9-9a45-090d30f25b5d"
      },
      "execution_count": 60,
      "outputs": [
        {
          "output_type": "stream",
          "name": "stdout",
          "text": [
            "+--------+-----+\n",
            "|JoinYear|count|\n",
            "+--------+-----+\n",
            "|    2025|   27|\n",
            "|    2018|   52|\n",
            "|    2015|   37|\n",
            "|    2023|   47|\n",
            "|    2022|   49|\n",
            "|    2019|   52|\n",
            "|    2020|   56|\n",
            "|    2016|   49|\n",
            "|    2024|   38|\n",
            "|    2017|   44|\n",
            "|    2021|   49|\n",
            "+--------+-----+\n",
            "\n"
          ]
        }
      ]
    },
    {
      "cell_type": "code",
      "source": [
        "# Department-wise count of employees who are currently \"Active\".\n",
        "df.filter(df.Status == \"Active\").groupBy(\"Department\").count().show()"
      ],
      "metadata": {
        "colab": {
          "base_uri": "https://localhost:8080/"
        },
        "id": "u31vvxHdX4th",
        "outputId": "622be934-a5fd-45a9-8749-6379ab0d2377"
      },
      "execution_count": 61,
      "outputs": [
        {
          "output_type": "stream",
          "name": "stdout",
          "text": [
            "+----------+-----+\n",
            "|Department|count|\n",
            "+----------+-----+\n",
            "|     Sales|   32|\n",
            "|        HR|   37|\n",
            "|   Finance|   45|\n",
            "| Marketing|   32|\n",
            "|        IT|   26|\n",
            "+----------+-----+\n",
            "\n"
          ]
        }
      ]
    },
    {
      "cell_type": "code",
      "source": [
        "# Average age of employees per department.\n",
        "df.groupBy(\"Department\").avg(\"Age\").withColumnRenamed(\"avg(Age)\", \"Average Age\").show()"
      ],
      "metadata": {
        "colab": {
          "base_uri": "https://localhost:8080/"
        },
        "id": "ra9Qx0ENX6vV",
        "outputId": "c850f13a-2a4b-4abb-92f4-cc79bc4e2bdd"
      },
      "execution_count": 63,
      "outputs": [
        {
          "output_type": "stream",
          "name": "stdout",
          "text": [
            "+----------+------------------+\n",
            "|Department|       Average Age|\n",
            "+----------+------------------+\n",
            "|     Sales|40.535353535353536|\n",
            "|        HR| 41.46078431372549|\n",
            "|   Finance| 39.21008403361345|\n",
            "| Marketing| 41.82222222222222|\n",
            "|        IT| 38.68888888888889|\n",
            "+----------+------------------+\n",
            "\n"
          ]
        }
      ]
    },
    {
      "cell_type": "code",
      "source": [
        "#Create another dataset with City and Region , and join it.\n",
        "from pyspark.sql.functions import when, col\n",
        "\n",
        "df = df.withColumn(\"Region\",\n",
        "    when(col(\"City\").startswith(\"North\"), \"North\")\n",
        "    .when(col(\"City\").startswith(\"South\"), \"South\")\n",
        "    .when(col(\"City\").startswith(\"East\"), \"East\")\n",
        "    .when(col(\"City\").startswith(\"West\"), \"West\")\n",
        "    .otherwise(\"Unknown\")\n",
        ")\n",
        "df.select(\"City\", \"Region\").distinct().show(100, truncate=False)"
      ],
      "metadata": {
        "colab": {
          "base_uri": "https://localhost:8080/"
        },
        "id": "i16t3JWTaboo",
        "outputId": "833e5315-4ad0-4161-f5ac-4356225fc987"
      },
      "execution_count": 64,
      "outputs": [
        {
          "output_type": "stream",
          "name": "stdout",
          "text": [
            "+---------------------+-------+\n",
            "|City                 |Region |\n",
            "+---------------------+-------+\n",
            "|Jennifermouth        |Unknown|\n",
            "|South Roger          |South  |\n",
            "|Caseyville           |Unknown|\n",
            "|South Luis           |South  |\n",
            "|Lake Rebeccafort     |Unknown|\n",
            "|South Jayport        |South  |\n",
            "|New Jeff             |Unknown|\n",
            "|Stefanietown         |Unknown|\n",
            "|West Johnport        |West   |\n",
            "|Williamsborough      |Unknown|\n",
            "|Graytown             |Unknown|\n",
            "|Port Stephaniemouth  |Unknown|\n",
            "|Patelton             |Unknown|\n",
            "|Lake Kimberlyside    |Unknown|\n",
            "|Lake William         |Unknown|\n",
            "|Larsenside           |Unknown|\n",
            "|West Monicaport      |West   |\n",
            "|Alvaradoton          |Unknown|\n",
            "|Wattsshire           |Unknown|\n",
            "|Tonyamouth           |Unknown|\n",
            "|East James           |East   |\n",
            "|Floydmouth           |Unknown|\n",
            "|North Christopherstad|North  |\n",
            "|Melissatown          |Unknown|\n",
            "|South Joseph         |South  |\n",
            "|East Jamesport       |East   |\n",
            "|South Matthewhaven   |South  |\n",
            "|Port Terrimouth      |Unknown|\n",
            "|Michelleburgh        |Unknown|\n",
            "|Jesseview            |Unknown|\n",
            "|New Jeffrey          |Unknown|\n",
            "|Jillfurt             |Unknown|\n",
            "|Lindaville           |Unknown|\n",
            "|Malikberg            |Unknown|\n",
            "|Murphystad           |Unknown|\n",
            "|Mendozaside          |Unknown|\n",
            "|West Christinaport   |West   |\n",
            "|South Diana          |South  |\n",
            "|East Stephenmouth    |East   |\n",
            "|South Scottmouth     |South  |\n",
            "|Thompsonport         |Unknown|\n",
            "|Ericahaven           |Unknown|\n",
            "|Cantuton             |Unknown|\n",
            "|Mcgeechester         |Unknown|\n",
            "|Port Michael         |Unknown|\n",
            "|Flemingstad          |Unknown|\n",
            "|Bradleyfurt          |Unknown|\n",
            "|Whiteview            |Unknown|\n",
            "|Port Maryshire       |Unknown|\n",
            "|Port Dale            |Unknown|\n",
            "|New Howardfort       |Unknown|\n",
            "|Mindymouth           |Unknown|\n",
            "|New Jennifer         |Unknown|\n",
            "|East Michaelfort     |East   |\n",
            "|Erinville            |Unknown|\n",
            "|West Hollybury       |West   |\n",
            "|Port Williamburgh    |Unknown|\n",
            "|Ericville            |Unknown|\n",
            "|Beckertown           |Unknown|\n",
            "|Gonzalezhaven        |Unknown|\n",
            "|South Michaelchester |South  |\n",
            "|South Ronaldfurt     |South  |\n",
            "|Jonesbury            |Unknown|\n",
            "|South Katie          |South  |\n",
            "|New Davidview        |Unknown|\n",
            "|West Jeremyfort      |West   |\n",
            "|North John           |North  |\n",
            "|New Benjaminside     |Unknown|\n",
            "|Mirandatown          |Unknown|\n",
            "|Eileenland           |Unknown|\n",
            "|Cooperland           |Unknown|\n",
            "|New Heatherfurt      |Unknown|\n",
            "|Port James           |Unknown|\n",
            "|Tracyburgh           |Unknown|\n",
            "|North Larryton       |North  |\n",
            "|West Christopher     |West   |\n",
            "|Danielsbury          |Unknown|\n",
            "|Welchview            |Unknown|\n",
            "|Rickmouth            |Unknown|\n",
            "|North Josephhaven    |North  |\n",
            "|Herreraville         |Unknown|\n",
            "|Port Melissa         |Unknown|\n",
            "|South Lindseymouth   |South  |\n",
            "|East Shannon         |East   |\n",
            "|Samanthaburgh        |Unknown|\n",
            "|Lake Danieltown      |Unknown|\n",
            "|South Catherinemouth |South  |\n",
            "|New Michaelfurt      |Unknown|\n",
            "|Port Michelle        |Unknown|\n",
            "|Hannahhaven          |Unknown|\n",
            "|New Cassandrachester |Unknown|\n",
            "|Lisaland             |Unknown|\n",
            "|Port Allen           |Unknown|\n",
            "|New Michaelstad      |Unknown|\n",
            "|North Veronica       |North  |\n",
            "|Burtonville          |Unknown|\n",
            "|New Zacharystad      |Unknown|\n",
            "|North Josephland     |North  |\n",
            "|Josephland           |Unknown|\n",
            "|Jasonmouth           |Unknown|\n",
            "+---------------------+-------+\n",
            "only showing top 100 rows\n",
            "\n"
          ]
        }
      ]
    },
    {
      "cell_type": "code",
      "source": [
        "# Group salaries by Region after the join.\n",
        "df.groupBy(\"Region\").avg(\"Salary\").show()"
      ],
      "metadata": {
        "colab": {
          "base_uri": "https://localhost:8080/"
        },
        "id": "eg84XX-oZkkU",
        "outputId": "7c67daad-98d6-4461-e4d2-ec804fb87bb8"
      },
      "execution_count": 65,
      "outputs": [
        {
          "output_type": "stream",
          "name": "stdout",
          "text": [
            "+-------+-----------------+\n",
            "| Region|      avg(Salary)|\n",
            "+-------+-----------------+\n",
            "|Unknown|74605.20170454546|\n",
            "|  South|71426.63829787234|\n",
            "|   East|       73085.8125|\n",
            "|   West|73189.75757575757|\n",
            "|  North|77350.58333333333|\n",
            "+-------+-----------------+\n",
            "\n"
          ]
        }
      ]
    },
    {
      "cell_type": "code",
      "source": [
        "# Calculate years of experience for each employee (current date - JoiningDate).\n",
        "from pyspark.sql.functions import current_date, datediff, round\n",
        "df = df.withColumn(\"Experience_Years\",\n",
        "    round(datediff(current_date(), col(\"JoiningDate\")) / 365.0,2))\n",
        "df.select(\"Name\", \"JoiningDate\", \"Experience_Years\").show(10, truncate=False)"
      ],
      "metadata": {
        "colab": {
          "base_uri": "https://localhost:8080/"
        },
        "id": "Ja3LX1ZacIfc",
        "outputId": "9caa8fea-4269-4c82-86e2-fbf0f0da6807"
      },
      "execution_count": 66,
      "outputs": [
        {
          "output_type": "stream",
          "name": "stdout",
          "text": [
            "+---------------------+-----------+----------------+\n",
            "|Name                 |JoiningDate|Experience_Years|\n",
            "+---------------------+-----------+----------------+\n",
            "|Charles Johnson      |2018-07-07 |6.91            |\n",
            "|Dylan Camacho        |2015-08-25 |9.78            |\n",
            "|Mr. Ryan Bowman Jr.  |2025-03-11 |0.23            |\n",
            "|Brian Ball           |2015-10-01 |9.68            |\n",
            "|Angela Hooper        |2019-08-14 |5.81            |\n",
            "|Alexander Johnson PhD|2016-04-21 |9.12            |\n",
            "|Steven Lane          |2021-07-25 |3.86            |\n",
            "|Riley Johnson        |2015-08-03 |9.84            |\n",
            "|Emily Washington     |2021-11-30 |3.51            |\n",
            "|Valerie Fleming      |2019-12-08 |5.49            |\n",
            "+---------------------+-----------+----------------+\n",
            "only showing top 10 rows\n",
            "\n"
          ]
        }
      ]
    },
    {
      "cell_type": "code",
      "source": [
        "# Filter employees with more than 5 years of experience\n",
        "df.filter(col(\"Experience_Years\") > 5).select(\"Name\", \"JoiningDate\", \"Experience_Years\").show(truncate=False)"
      ],
      "metadata": {
        "colab": {
          "base_uri": "https://localhost:8080/"
        },
        "id": "O4fBSpIAcYtz",
        "outputId": "17273f8f-62e3-469c-b190-2ef8a5bab1ca"
      },
      "execution_count": 67,
      "outputs": [
        {
          "output_type": "stream",
          "name": "stdout",
          "text": [
            "+---------------------+-----------+----------------+\n",
            "|Name                 |JoiningDate|Experience_Years|\n",
            "+---------------------+-----------+----------------+\n",
            "|Charles Johnson      |2018-07-07 |6.91            |\n",
            "|Dylan Camacho        |2015-08-25 |9.78            |\n",
            "|Brian Ball           |2015-10-01 |9.68            |\n",
            "|Angela Hooper        |2019-08-14 |5.81            |\n",
            "|Alexander Johnson PhD|2016-04-21 |9.12            |\n",
            "|Riley Johnson        |2015-08-03 |9.84            |\n",
            "|Valerie Fleming      |2019-12-08 |5.49            |\n",
            "|Tracy Hughes MD      |2020-06-01 |5.01            |\n",
            "|Scott Burnett        |2016-04-25 |9.11            |\n",
            "|Brittany Kerr        |2019-03-24 |6.2             |\n",
            "|Edwin Burns          |2015-09-14 |9.73            |\n",
            "|Mary Reynolds        |2018-07-02 |6.93            |\n",
            "|Erin Berg            |2018-04-27 |7.11            |\n",
            "|Jason Hines          |2015-11-30 |9.52            |\n",
            "|Christopher Mcdaniel |2015-06-03 |10.01           |\n",
            "|April Allen          |2020-05-20 |5.04            |\n",
            "|Glenn Mason          |2020-03-27 |5.19            |\n",
            "|Victoria Kelly       |2017-10-01 |7.68            |\n",
            "|Michael Trevino      |2020-05-13 |5.06            |\n",
            "|Heather Nelson       |2015-06-03 |10.01           |\n",
            "+---------------------+-----------+----------------+\n",
            "only showing top 20 rows\n",
            "\n"
          ]
        }
      ]
    }
  ]
}