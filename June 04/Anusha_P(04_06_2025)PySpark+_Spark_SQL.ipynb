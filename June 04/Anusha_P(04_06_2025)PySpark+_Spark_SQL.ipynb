{
  "nbformat": 4,
  "nbformat_minor": 0,
  "metadata": {
    "colab": {
      "provenance": []
    },
    "kernelspec": {
      "name": "python3",
      "display_name": "Python 3"
    },
    "language_info": {
      "name": "python"
    }
  },
  "cells": [
    {
      "cell_type": "markdown",
      "source": [
        "PySpark + Spark SQL Task\n"
      ],
      "metadata": {
        "id": "rnhW7jQFP2lF"
      }
    },
    {
      "cell_type": "code",
      "source": [
        "from pyspark.sql import SparkSession\n",
        "from pyspark.sql.functions import expr\n",
        "spark=SparkSession.builder.appName(\"PracticeProject\").enableHiveSupport().getOrCreate()\n",
        "# Customers Data\n",
        "customers_data = [\n",
        "(101, 'Ali', 'ali@gmail.com', 'Mumbai', '2022-05-10'),\n",
        "(102, 'Neha', 'neha@yahoo.com', 'Delhi', '2023-01-15'),\n",
        "(103, 'Ravi', 'ravi@hotmail.com', 'Bangalore', '2021-11-01'),\n",
        "(104, 'Sneha', 'sneha@outlook.com', 'Hyderabad', '2020-07-22'),\n",
        "(105, 'Amit', 'amit@gmail.com', 'Chennai', '2023-03-10'),\n",
        "]\n",
        "orders_data = [\n",
        "(1, 101, 'Laptop', 'Electronics', 2, 50000.0, '2024-01-10'),\n",
        "(2, 101, 'Mouse', 'Electronics', 1, 1200.0, '2024-01-15'),\n",
        "(3, 102, 'Tablet', 'Electronics', 1, 20000.0, '2024-02-01'),\n",
        "(4, 103, 'Bookshelf', 'Furniture', 1, 3500.0, '2024-02-10'),\n",
        "(5, 104, 'Mixer', 'Appliances', 1, 5000.0, '2024-02-15'),\n",
        "(6, 105, 'Notebook', 'Stationery', 5, 500.0, '2024-03-01'),\n",
        "(7, 102, 'Phone', 'Electronics', 1, 30000.0, '2024-03-02'),\n",
        "]\n",
        "customers_df = spark.createDataFrame(customers_data, [\"CustomerID\", \"Name\", \"Email\",\n",
        "\"City\", \"SignupDate\"])\n",
        "orders_df = spark.createDataFrame(orders_data, [\"OrderID\", \"CustomerID\", \"Product\",\n",
        "\"Category\", \"Quantity\", \"Price\", \"OrderDate\"])\n",
        "spark.sql(\"CREATE DATABASE IF NOT EXISTS sales\")\n",
        "spark.sql(\"USE sales\")\n",
        "# Write as tables\n",
        "customers_df.write.mode(\"overwrite\").saveAsTable(\"sales.customers\")\n",
        "orders_df.write.mode(\"overwrite\").saveAsTable(\"sales.orders\")"
      ],
      "metadata": {
        "id": "6DgImJT8P5cf"
      },
      "execution_count": 3,
      "outputs": []
    },
    {
      "cell_type": "markdown",
      "source": [
        "SECTION A: PySpark DataFrame Tasks"
      ],
      "metadata": {
        "id": "tjGujhpBQEk1"
      }
    },
    {
      "cell_type": "code",
      "source": [
        "# Add a column TotalAmount = Price * Quantity to the orders_df .\n",
        "orders_df = orders_df.withColumn(\"TotalAmount\", expr(\"Price * Quantity\"))\n",
        "orders_df.show()"
      ],
      "metadata": {
        "colab": {
          "base_uri": "https://localhost:8080/"
        },
        "id": "W_eB-k58Qhvl",
        "outputId": "25737a49-33e7-4b89-9831-09793db9cba3"
      },
      "execution_count": 4,
      "outputs": [
        {
          "output_type": "stream",
          "name": "stdout",
          "text": [
            "+-------+----------+---------+-----------+--------+-------+----------+-----------+\n",
            "|OrderID|CustomerID|  Product|   Category|Quantity|  Price| OrderDate|TotalAmount|\n",
            "+-------+----------+---------+-----------+--------+-------+----------+-----------+\n",
            "|      1|       101|   Laptop|Electronics|       2|50000.0|2024-01-10|   100000.0|\n",
            "|      2|       101|    Mouse|Electronics|       1| 1200.0|2024-01-15|     1200.0|\n",
            "|      3|       102|   Tablet|Electronics|       1|20000.0|2024-02-01|    20000.0|\n",
            "|      4|       103|Bookshelf|  Furniture|       1| 3500.0|2024-02-10|     3500.0|\n",
            "|      5|       104|    Mixer| Appliances|       1| 5000.0|2024-02-15|     5000.0|\n",
            "|      6|       105| Notebook| Stationery|       5|  500.0|2024-03-01|     2500.0|\n",
            "|      7|       102|    Phone|Electronics|       1|30000.0|2024-03-02|    30000.0|\n",
            "+-------+----------+---------+-----------+--------+-------+----------+-----------+\n",
            "\n"
          ]
        }
      ]
    },
    {
      "cell_type": "code",
      "source": [
        "# Filter all orders with TotalAmount > 10000 .\n",
        "orders_df.filter(orders_df.TotalAmount > 10000).show()"
      ],
      "metadata": {
        "colab": {
          "base_uri": "https://localhost:8080/"
        },
        "id": "YBlumth0QuMO",
        "outputId": "30d00ee2-4495-450e-8a22-1ef9a9fca532"
      },
      "execution_count": 5,
      "outputs": [
        {
          "output_type": "stream",
          "name": "stdout",
          "text": [
            "+-------+----------+-------+-----------+--------+-------+----------+-----------+\n",
            "|OrderID|CustomerID|Product|   Category|Quantity|  Price| OrderDate|TotalAmount|\n",
            "+-------+----------+-------+-----------+--------+-------+----------+-----------+\n",
            "|      1|       101| Laptop|Electronics|       2|50000.0|2024-01-10|   100000.0|\n",
            "|      3|       102| Tablet|Electronics|       1|20000.0|2024-02-01|    20000.0|\n",
            "|      7|       102|  Phone|Electronics|       1|30000.0|2024-03-02|    30000.0|\n",
            "+-------+----------+-------+-----------+--------+-------+----------+-----------+\n",
            "\n"
          ]
        }
      ]
    },
    {
      "cell_type": "code",
      "source": [
        "# Standardize the City field in customers_df eg lowercase\n",
        "customers_df = customers_df.withColumn(\"City\", expr(\"lower(City)\"))\n",
        "customers_df.show()"
      ],
      "metadata": {
        "colab": {
          "base_uri": "https://localhost:8080/"
        },
        "id": "J44UyloIQyDH",
        "outputId": "af975215-fd4f-4a96-b89d-750d5b09ab10"
      },
      "execution_count": 6,
      "outputs": [
        {
          "output_type": "stream",
          "name": "stdout",
          "text": [
            "+----------+-----+-----------------+---------+----------+\n",
            "|CustomerID| Name|            Email|     City|SignupDate|\n",
            "+----------+-----+-----------------+---------+----------+\n",
            "|       101|  Ali|    ali@gmail.com|   mumbai|2022-05-10|\n",
            "|       102| Neha|   neha@yahoo.com|    delhi|2023-01-15|\n",
            "|       103| Ravi| ravi@hotmail.com|bangalore|2021-11-01|\n",
            "|       104|Sneha|sneha@outlook.com|hyderabad|2020-07-22|\n",
            "|       105| Amit|   amit@gmail.com|  chennai|2023-03-10|\n",
            "+----------+-----+-----------------+---------+----------+\n",
            "\n"
          ]
        }
      ]
    },
    {
      "cell_type": "code",
      "source": [
        "# Extract year from OrderDate and add a new column OrderYear .\n",
        "orders_df = orders_df.withColumn(\"OrderYear\", expr(\"year(OrderDate)\"))\n",
        "orders_df.show()"
      ],
      "metadata": {
        "colab": {
          "base_uri": "https://localhost:8080/"
        },
        "id": "Zr6LNpmPREGE",
        "outputId": "39b9b213-9091-4d4e-e3bf-ea1f003a3fd8"
      },
      "execution_count": 7,
      "outputs": [
        {
          "output_type": "stream",
          "name": "stdout",
          "text": [
            "+-------+----------+---------+-----------+--------+-------+----------+-----------+---------+\n",
            "|OrderID|CustomerID|  Product|   Category|Quantity|  Price| OrderDate|TotalAmount|OrderYear|\n",
            "+-------+----------+---------+-----------+--------+-------+----------+-----------+---------+\n",
            "|      1|       101|   Laptop|Electronics|       2|50000.0|2024-01-10|   100000.0|     2024|\n",
            "|      2|       101|    Mouse|Electronics|       1| 1200.0|2024-01-15|     1200.0|     2024|\n",
            "|      3|       102|   Tablet|Electronics|       1|20000.0|2024-02-01|    20000.0|     2024|\n",
            "|      4|       103|Bookshelf|  Furniture|       1| 3500.0|2024-02-10|     3500.0|     2024|\n",
            "|      5|       104|    Mixer| Appliances|       1| 5000.0|2024-02-15|     5000.0|     2024|\n",
            "|      6|       105| Notebook| Stationery|       5|  500.0|2024-03-01|     2500.0|     2024|\n",
            "|      7|       102|    Phone|Electronics|       1|30000.0|2024-03-02|    30000.0|     2024|\n",
            "+-------+----------+---------+-----------+--------+-------+----------+-----------+---------+\n",
            "\n"
          ]
        }
      ]
    },
    {
      "cell_type": "code",
      "source": [
        "# Fill null values in any column of your choice with defaults.\n",
        "orders_df = orders_df.na.fill(0, [\"Quantity\"])\n",
        "orders_df.show()"
      ],
      "metadata": {
        "colab": {
          "base_uri": "https://localhost:8080/"
        },
        "id": "vjs9KBymRMK0",
        "outputId": "18b5dd5e-3411-496c-f229-f3645ef40d9e"
      },
      "execution_count": 8,
      "outputs": [
        {
          "output_type": "stream",
          "name": "stdout",
          "text": [
            "+-------+----------+---------+-----------+--------+-------+----------+-----------+---------+\n",
            "|OrderID|CustomerID|  Product|   Category|Quantity|  Price| OrderDate|TotalAmount|OrderYear|\n",
            "+-------+----------+---------+-----------+--------+-------+----------+-----------+---------+\n",
            "|      1|       101|   Laptop|Electronics|       2|50000.0|2024-01-10|   100000.0|     2024|\n",
            "|      2|       101|    Mouse|Electronics|       1| 1200.0|2024-01-15|     1200.0|     2024|\n",
            "|      3|       102|   Tablet|Electronics|       1|20000.0|2024-02-01|    20000.0|     2024|\n",
            "|      4|       103|Bookshelf|  Furniture|       1| 3500.0|2024-02-10|     3500.0|     2024|\n",
            "|      5|       104|    Mixer| Appliances|       1| 5000.0|2024-02-15|     5000.0|     2024|\n",
            "|      6|       105| Notebook| Stationery|       5|  500.0|2024-03-01|     2500.0|     2024|\n",
            "|      7|       102|    Phone|Electronics|       1|30000.0|2024-03-02|    30000.0|     2024|\n",
            "+-------+----------+---------+-----------+--------+-------+----------+-----------+---------+\n",
            "\n"
          ]
        }
      ]
    },
    {
      "cell_type": "code",
      "source": [
        "# Use when/otherwise to categorize orders:\n",
        "# <5000 : \"Low\"\n",
        "# 5000-20000 : \"Medium\"\n",
        "# >20000 : \"High\"\n",
        "from pyspark.sql.functions import when, col\n",
        "orders_df = orders_df.withColumn(\"OrderCategory\",\n",
        "when(col(\"TotalAmount\") < 5000, \"Low\").otherwise(when(col(\"TotalAmount\") < 20000, \"Medium\").otherwise(\"High\")))\n",
        "orders_df.show()\n",
        "\n",
        "orders_df.show()"
      ],
      "metadata": {
        "colab": {
          "base_uri": "https://localhost:8080/"
        },
        "id": "MmRR4c9bRVBt",
        "outputId": "4a637d4d-1f1d-436e-af5e-3e68a6974964"
      },
      "execution_count": 36,
      "outputs": [
        {
          "output_type": "stream",
          "name": "stdout",
          "text": [
            "+-------+----------+---------+-----------+--------+-------+----------+-----------+---------+-------------+--------------+\n",
            "|OrderID|CustomerID|  Product|   Category|Quantity|  Price| OrderDate|TotalAmount|OrderYear|OrderCategory|CleanedProduct|\n",
            "+-------+----------+---------+-----------+--------+-------+----------+-----------+---------+-------------+--------------+\n",
            "|      1|       101|   Laptop|Electronics|       2|50000.0|2024-01-10|   100000.0|     2024|         High|        Laptop|\n",
            "|      2|       101|    Mouse|Electronics|       1| 1200.0|2024-01-15|     1200.0|     2024|          Low|         Mouse|\n",
            "|      3|       102|   Tablet|Electronics|       1|20000.0|2024-02-01|    20000.0|     2024|         High|        Tablet|\n",
            "|      4|       103|Bookshelf|  Furniture|       1| 3500.0|2024-02-10|     3500.0|     2024|          Low|     Bookshelf|\n",
            "|      5|       104|    Mixer| Appliances|       1| 5000.0|2024-02-15|     5000.0|     2024|       Medium|         Mixer|\n",
            "|      6|       105| Notebook| Stationery|       5|  500.0|2024-03-01|     2500.0|     2024|          Low|      Notebook|\n",
            "|      7|       102|    Phone|Electronics|       1|30000.0|2024-03-02|    30000.0|     2024|         High|         Phone|\n",
            "+-------+----------+---------+-----------+--------+-------+----------+-----------+---------+-------------+--------------+\n",
            "\n",
            "+-------+----------+---------+-----------+--------+-------+----------+-----------+---------+-------------+--------------+\n",
            "|OrderID|CustomerID|  Product|   Category|Quantity|  Price| OrderDate|TotalAmount|OrderYear|OrderCategory|CleanedProduct|\n",
            "+-------+----------+---------+-----------+--------+-------+----------+-----------+---------+-------------+--------------+\n",
            "|      1|       101|   Laptop|Electronics|       2|50000.0|2024-01-10|   100000.0|     2024|         High|        Laptop|\n",
            "|      2|       101|    Mouse|Electronics|       1| 1200.0|2024-01-15|     1200.0|     2024|          Low|         Mouse|\n",
            "|      3|       102|   Tablet|Electronics|       1|20000.0|2024-02-01|    20000.0|     2024|         High|        Tablet|\n",
            "|      4|       103|Bookshelf|  Furniture|       1| 3500.0|2024-02-10|     3500.0|     2024|          Low|     Bookshelf|\n",
            "|      5|       104|    Mixer| Appliances|       1| 5000.0|2024-02-15|     5000.0|     2024|       Medium|         Mixer|\n",
            "|      6|       105| Notebook| Stationery|       5|  500.0|2024-03-01|     2500.0|     2024|          Low|      Notebook|\n",
            "|      7|       102|    Phone|Electronics|       1|30000.0|2024-03-02|    30000.0|     2024|         High|         Phone|\n",
            "+-------+----------+---------+-----------+--------+-------+----------+-----------+---------+-------------+--------------+\n",
            "\n"
          ]
        }
      ]
    },
    {
      "cell_type": "markdown",
      "source": [
        "SECTION B: Spark SQL Tasks"
      ],
      "metadata": {
        "id": "TdA2pS4HQ514"
      }
    },
    {
      "cell_type": "code",
      "source": [
        "# Run a SQL query to list all orders made by “Ali”.\n",
        "spark.sql(\"\"\"SELECT o.* FROM sales.orders o\n",
        "JOIN sales.customers c ON o.CustomerID = c.CustomerID\n",
        "WHERE c.Name = 'Ali'\n",
        "\"\"\").show()"
      ],
      "metadata": {
        "colab": {
          "base_uri": "https://localhost:8080/"
        },
        "id": "3GY1piXZRued",
        "outputId": "508ff2fb-5753-4d86-d897-d097651a3a08"
      },
      "execution_count": 12,
      "outputs": [
        {
          "output_type": "stream",
          "name": "stdout",
          "text": [
            "+-------+----------+-------+-----------+--------+-------+----------+\n",
            "|OrderID|CustomerID|Product|   Category|Quantity|  Price| OrderDate|\n",
            "+-------+----------+-------+-----------+--------+-------+----------+\n",
            "|      1|       101| Laptop|Electronics|       2|50000.0|2024-01-10|\n",
            "|      2|       101|  Mouse|Electronics|       1| 1200.0|2024-01-15|\n",
            "+-------+----------+-------+-----------+--------+-------+----------+\n",
            "\n"
          ]
        }
      ]
    },
    {
      "cell_type": "code",
      "source": [
        "# Get total spending by each customer using SQL.\n",
        "spark.sql(\"\"\"SELECT c.Name, SUM(o.Price * o.Quantity) AS TotalSpending\n",
        "FROM sales.orders o\n",
        "JOIN sales.customers c ON o.CustomerID = c.CustomerID\n",
        "GROUP BY o.CustomerID, c.Name\n",
        "\"\"\").show()"
      ],
      "metadata": {
        "colab": {
          "base_uri": "https://localhost:8080/"
        },
        "id": "oQsKUnO4R8LZ",
        "outputId": "cbb2bb76-e76d-4302-8bda-7f7762b52e61"
      },
      "execution_count": 14,
      "outputs": [
        {
          "output_type": "stream",
          "name": "stdout",
          "text": [
            "+-----+-------------+\n",
            "| Name|TotalSpending|\n",
            "+-----+-------------+\n",
            "|  Ali|     101200.0|\n",
            "| Neha|      50000.0|\n",
            "| Ravi|       3500.0|\n",
            "| Amit|       2500.0|\n",
            "|Sneha|       5000.0|\n",
            "+-----+-------------+\n",
            "\n"
          ]
        }
      ]
    },
    {
      "cell_type": "code",
      "source": [
        "# Find out which category made the highest total revenue.\n",
        "spark.sql(\"\"\"SELECT Category, SUM(Price * Quantity) AS TotalRevenue\n",
        "FROM sales.orders\n",
        "GROUP BY Category\n",
        "ORDER BY TotalRevenue DESC\n",
        "LIMIT 1\n",
        "\"\"\").show()"
      ],
      "metadata": {
        "colab": {
          "base_uri": "https://localhost:8080/"
        },
        "id": "pg1wfk5yUFEf",
        "outputId": "9dbd1dee-fd66-4947-9868-94149b0d2cd6"
      },
      "execution_count": 15,
      "outputs": [
        {
          "output_type": "stream",
          "name": "stdout",
          "text": [
            "+-----------+------------+\n",
            "|   Category|TotalRevenue|\n",
            "+-----------+------------+\n",
            "|Electronics|    151200.0|\n",
            "+-----------+------------+\n",
            "\n"
          ]
        }
      ]
    },
    {
      "cell_type": "code",
      "source": [
        "# Create a view customer_orders showing CustomerName, Product, TotalAmount .\n",
        "spark.sql(\"\"\"CREATE OR REPLACE VIEW sales.customer_orders AS\n",
        "SELECT c.Name AS CustomerName, o.Product, (o.Price * o.Quantity) as TotalAmount\n",
        "FROM sales.orders o\n",
        "JOIN sales.customers c ON o.CustomerID = c.CustomerID\n",
        "\"\"\")"
      ],
      "metadata": {
        "colab": {
          "base_uri": "https://localhost:8080/"
        },
        "id": "oD41vfwnURHf",
        "outputId": "c64fb82b-89a4-436b-f56d-9c5e617afe80"
      },
      "execution_count": 17,
      "outputs": [
        {
          "output_type": "execute_result",
          "data": {
            "text/plain": [
              "DataFrame[]"
            ]
          },
          "metadata": {},
          "execution_count": 17
        }
      ]
    },
    {
      "cell_type": "code",
      "source": [
        "# Query the view for products ordered after Feb 2024.\n",
        "spark.sql(\"\"\"SELECT * FROM sales.customer_orders\n",
        "WHERE TotalAmount>0 AND Product IS NOT NULL\n",
        "AND EXISTS (\n",
        "    SELECT 1 FROM orders o\n",
        "    WHERE o.Product = customer_orders.Product\n",
        "    AND o.OrderDate > '2024-02-01'\n",
        ")\"\"\").show()"
      ],
      "metadata": {
        "colab": {
          "base_uri": "https://localhost:8080/"
        },
        "id": "xHVPKVEMUkQV",
        "outputId": "e0b7c6d1-42bf-424c-d1a1-28e30b08c759"
      },
      "execution_count": 37,
      "outputs": [
        {
          "output_type": "stream",
          "name": "stdout",
          "text": [
            "+------------+---------+-----------+\n",
            "|CustomerName|  Product|TotalAmount|\n",
            "+------------+---------+-----------+\n",
            "|        Ravi|Bookshelf|     3500.0|\n",
            "|       Sneha|    Mixer|     5000.0|\n",
            "|        Amit| Notebook|     2500.0|\n",
            "|        Neha|    Phone|    30000.0|\n",
            "+------------+---------+-----------+\n",
            "\n"
          ]
        }
      ]
    },
    {
      "cell_type": "markdown",
      "source": [
        "SECTION C: Advanced Practice"
      ],
      "metadata": {
        "id": "fhMbWzUbV8kD"
      }
    },
    {
      "cell_type": "code",
      "source": [
        "# Create a Global Temp View from customers_df , then query it using:\n",
        "# SELECT * FROM global_temp.customers WHERE City = 'Mumbai';\n",
        "customers_df.createOrReplaceGlobalTempView(\"customers\")\n",
        "spark.sql(\"SELECT * FROM global_temp.customers WHERE City = 'mumbai'\").show()"
      ],
      "metadata": {
        "colab": {
          "base_uri": "https://localhost:8080/"
        },
        "id": "TIE73rHOV6zl",
        "outputId": "8837f1fe-562b-46d1-daed-92762b386c38"
      },
      "execution_count": 25,
      "outputs": [
        {
          "output_type": "stream",
          "name": "stdout",
          "text": [
            "+----------+----+-------------+------+----------+\n",
            "|CustomerID|Name|        Email|  City|SignupDate|\n",
            "+----------+----+-------------+------+----------+\n",
            "|       101| Ali|ali@gmail.com|mumbai|2022-05-10|\n",
            "+----------+----+-------------+------+----------+\n",
            "\n"
          ]
        }
      ]
    },
    {
      "cell_type": "code",
      "source": [
        "# Save the transformed orders_df (with TotalAmount) to a Parquet file.\\\n",
        "orders_df.write.mode(\"overwrite\").parquet(\"orders_parquet\")"
      ],
      "metadata": {
        "id": "_Wb2moJrWM-q"
      },
      "execution_count": 26,
      "outputs": []
    },
    {
      "cell_type": "code",
      "source": [
        "# Read back the Parquet file and count how many orders are in it.\n",
        "parquet_df = spark.read.parquet(\"orders_parquet\")\n",
        "parquet_df.count()"
      ],
      "metadata": {
        "colab": {
          "base_uri": "https://localhost:8080/"
        },
        "id": "753KQ3OnWUR_",
        "outputId": "b1143051-55b8-4c2d-92e9-e8a106617409"
      },
      "execution_count": 27,
      "outputs": [
        {
          "output_type": "execute_result",
          "data": {
            "text/plain": [
              "7"
            ]
          },
          "metadata": {},
          "execution_count": 27
        }
      ]
    },
    {
      "cell_type": "markdown",
      "source": [
        "SECTION D: UDF + Built-in Function Tasks"
      ],
      "metadata": {
        "id": "trV-K-mVWcQt"
      }
    },
    {
      "cell_type": "code",
      "source": [
        "# Write a UDF that masks emails like: ali@gmail.com → a***@gmail.com .\n",
        "from pyspark.sql.functions import udf\n",
        "from pyspark.sql.types import StringType\n",
        "\n",
        "def mask_email(email):\n",
        "    if email and '@' in email:\n",
        "        user, domain = email.split('@')\n",
        "        return user[0] + '***@' + domain\n",
        "    return email\n",
        "\n",
        "mask_email_udf = udf(mask_email, StringType())\n",
        "\n",
        "customers_df = customers_df.withColumn(\"MaskedEmail\", mask_email_udf(\"Email\"))\n",
        "customers_df.select(\"Email\", \"MaskedEmail\").show()\n"
      ],
      "metadata": {
        "colab": {
          "base_uri": "https://localhost:8080/"
        },
        "id": "-cwsX7G-WdVU",
        "outputId": "41dd5a47-f07c-4d54-96eb-a1f1c30e80be"
      },
      "execution_count": 28,
      "outputs": [
        {
          "output_type": "stream",
          "name": "stdout",
          "text": [
            "+-----------------+----------------+\n",
            "|            Email|     MaskedEmail|\n",
            "+-----------------+----------------+\n",
            "|    ali@gmail.com|  a***@gmail.com|\n",
            "|   neha@yahoo.com|  n***@yahoo.com|\n",
            "| ravi@hotmail.com|r***@hotmail.com|\n",
            "|sneha@outlook.com|s***@outlook.com|\n",
            "|   amit@gmail.com|  a***@gmail.com|\n",
            "+-----------------+----------------+\n",
            "\n"
          ]
        }
      ]
    },
    {
      "cell_type": "code",
      "source": [
        "# Use concat_ws() to create labels like ‘Ali from Mumbai’\n",
        "from pyspark.sql.functions import concat_ws\n",
        "\n",
        "labels_df = customers_df.withColumn(\"Label\", concat_ws(\" from \", \"Name\", \"City\"))\n",
        "labels_df.select(\"Name\", \"City\", \"Label\").show()"
      ],
      "metadata": {
        "colab": {
          "base_uri": "https://localhost:8080/"
        },
        "id": "EGRWYT3JW-gT",
        "outputId": "ba31bfa7-f05c-42f5-9fa5-b85940df7da3"
      },
      "execution_count": 29,
      "outputs": [
        {
          "output_type": "stream",
          "name": "stdout",
          "text": [
            "+-----+---------+--------------------+\n",
            "| Name|     City|               Label|\n",
            "+-----+---------+--------------------+\n",
            "|  Ali|   mumbai|     Ali from mumbai|\n",
            "| Neha|    delhi|     Neha from delhi|\n",
            "| Ravi|bangalore| Ravi from bangalore|\n",
            "|Sneha|hyderabad|Sneha from hyderabad|\n",
            "| Amit|  chennai|   Amit from chennai|\n",
            "+-----+---------+--------------------+\n",
            "\n"
          ]
        }
      ]
    },
    {
      "cell_type": "code",
      "source": [
        "# Use regexp_replace() to remove special characters from Product\n",
        "from pyspark.sql.functions import regexp_replace\n",
        "\n",
        "orders_df = orders_df.withColumn(\"CleanedProduct\", regexp_replace(\"Product\", \"[^a-zA-Z0-9 ]\", \"\"))\n",
        "orders_df.select(\"Product\", \"CleanedProduct\").show()"
      ],
      "metadata": {
        "colab": {
          "base_uri": "https://localhost:8080/"
        },
        "id": "eU7uOO3oXNTf",
        "outputId": "592d89ee-6e76-4ebc-e5a9-8af98082d575"
      },
      "execution_count": 30,
      "outputs": [
        {
          "output_type": "stream",
          "name": "stdout",
          "text": [
            "+---------+--------------+\n",
            "|  Product|CleanedProduct|\n",
            "+---------+--------------+\n",
            "|   Laptop|        Laptop|\n",
            "|    Mouse|         Mouse|\n",
            "|   Tablet|        Tablet|\n",
            "|Bookshelf|     Bookshelf|\n",
            "|    Mixer|         Mixer|\n",
            "| Notebook|      Notebook|\n",
            "|    Phone|         Phone|\n",
            "+---------+--------------+\n",
            "\n"
          ]
        }
      ]
    },
    {
      "cell_type": "code",
      "source": [
        "#  Calculate Customer Age in Days from SignupDate\n",
        "from pyspark.sql.functions import datediff, current_date\n",
        "\n",
        "customers_df = customers_df.withColumn(\"AgeInDays\", datediff(current_date(), \"SignupDate\"))\n",
        "customers_df.select(\"Name\", \"SignupDate\", \"AgeInDays\").show()"
      ],
      "metadata": {
        "colab": {
          "base_uri": "https://localhost:8080/"
        },
        "id": "vCQabcdfXYvM",
        "outputId": "1e1cd9b0-f4ab-4928-f8a1-66cc0832a836"
      },
      "execution_count": 35,
      "outputs": [
        {
          "output_type": "stream",
          "name": "stdout",
          "text": [
            "+-----+----------+---------+\n",
            "| Name|SignupDate|AgeInDays|\n",
            "+-----+----------+---------+\n",
            "|  Ali|2022-05-10|     1121|\n",
            "| Neha|2023-01-15|      871|\n",
            "| Ravi|2021-11-01|     1311|\n",
            "|Sneha|2020-07-22|     1778|\n",
            "| Amit|2023-03-10|      817|\n",
            "+-----+----------+---------+\n",
            "\n"
          ]
        }
      ]
    }
  ]
}