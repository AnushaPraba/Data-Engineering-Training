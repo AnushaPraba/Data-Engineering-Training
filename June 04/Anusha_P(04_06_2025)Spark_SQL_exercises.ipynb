{
  "nbformat": 4,
  "nbformat_minor": 0,
  "metadata": {
    "colab": {
      "provenance": []
    },
    "kernelspec": {
      "name": "python3",
      "display_name": "Python 3"
    },
    "language_info": {
      "name": "python"
    }
  },
  "cells": [
    {
      "cell_type": "markdown",
      "source": [
        "Database & Table Tasks\n",
        "\n"
      ],
      "metadata": {
        "id": "qIv0SJDTj7T-"
      }
    },
    {
      "cell_type": "code",
      "source": [
        "# 1. Create a new database named sales_db\n",
        "from pyspark.sql import SparkSession\n",
        "spark = SparkSession.builder.getOrCreate()\n",
        "spark.sql(\"CREATE DATABASE IF NOT EXISTS sales_db\")\n"
      ],
      "metadata": {
        "colab": {
          "base_uri": "https://localhost:8080/"
        },
        "id": "WJZXoXJXj_9O",
        "outputId": "ccb9c592-b5ef-45f8-c93d-8ebae1229c08"
      },
      "execution_count": 1,
      "outputs": [
        {
          "output_type": "execute_result",
          "data": {
            "text/plain": [
              "DataFrame[]"
            ]
          },
          "metadata": {},
          "execution_count": 1
        }
      ]
    },
    {
      "cell_type": "code",
      "source": [
        "# 2.Set the current database to sales_db .\n",
        "spark.sql(\"USE sales_db\")"
      ],
      "metadata": {
        "colab": {
          "base_uri": "https://localhost:8080/"
        },
        "id": "XIGpRUxAk6Ap",
        "outputId": "6f54bdb3-49ed-4aa2-adcb-936db69aacc7"
      },
      "execution_count": 2,
      "outputs": [
        {
          "output_type": "execute_result",
          "data": {
            "text/plain": [
              "DataFrame[]"
            ]
          },
          "metadata": {},
          "execution_count": 2
        }
      ]
    },
    {
      "cell_type": "code",
      "source": [
        "# 3.Create a table product_sales with columns\n",
        "spark.sql(\"\"\"\n",
        "    CREATE TABLE IF NOT EXISTS product_sales (\n",
        "        ProductID INT,\n",
        "        ProductName STRING,\n",
        "        Category STRING,\n",
        "        Price DOUBLE,\n",
        "        Quantity INT,\n",
        "        SaleDate DATE\n",
        "    )\n",
        "    USING PARQUET\n",
        "\"\"\")\n"
      ],
      "metadata": {
        "colab": {
          "base_uri": "https://localhost:8080/"
        },
        "id": "xiqfbS18lMI4",
        "outputId": "e401ebbe-ed02-47f2-f99b-f008c179f860"
      },
      "execution_count": 3,
      "outputs": [
        {
          "output_type": "execute_result",
          "data": {
            "text/plain": [
              "DataFrame[]"
            ]
          },
          "metadata": {},
          "execution_count": 3
        }
      ]
    },
    {
      "cell_type": "code",
      "source": [
        "# 4.Insert at least 5 rows into product_sales .\n",
        "spark.sql(\"\"\"\n",
        "    INSERT INTO product_sales VALUES\n",
        "    (1, 'iPhone 15', 'Electronics', 89999.99, 5, DATE('2024-06-01')),\n",
        "    (2, 'MacBook Air', 'Electronics', 124999.00, 2, DATE('2024-06-03')),\n",
        "    (3, 'Office Chair', 'Furniture', 8999.50, 10, DATE('2024-06-02')),\n",
        "    (4, 'LED Monitor', 'Electronics', 15000.00, 3, DATE('2024-06-01')),\n",
        "    (5, 'Wooden Table', 'Furniture', 4500.75, 4, DATE('2024-06-04'))\n",
        "\"\"\")\n"
      ],
      "metadata": {
        "colab": {
          "base_uri": "https://localhost:8080/"
        },
        "id": "XNmJDKaQlYYr",
        "outputId": "13419cdc-7091-4bc6-e451-81966478873e"
      },
      "execution_count": 4,
      "outputs": [
        {
          "output_type": "execute_result",
          "data": {
            "text/plain": [
              "DataFrame[]"
            ]
          },
          "metadata": {},
          "execution_count": 4
        }
      ]
    },
    {
      "cell_type": "markdown",
      "source": [
        "Query Tasks"
      ],
      "metadata": {
        "id": "fe3T0RNalgh2"
      }
    },
    {
      "cell_type": "code",
      "source": [
        "# Select all records from product_sales .\n",
        "spark.sql(\"SELECT * FROM product_sales\").show()"
      ],
      "metadata": {
        "colab": {
          "base_uri": "https://localhost:8080/"
        },
        "id": "i1-j8FC9lfdC",
        "outputId": "cbf16b3d-bb00-4c1f-aa6e-bf17039c568d"
      },
      "execution_count": 5,
      "outputs": [
        {
          "output_type": "stream",
          "name": "stdout",
          "text": [
            "+---------+------------+-----------+--------+--------+----------+\n",
            "|ProductID| ProductName|   Category|   Price|Quantity|  SaleDate|\n",
            "+---------+------------+-----------+--------+--------+----------+\n",
            "|        3|Office Chair|  Furniture|  8999.5|      10|2024-06-02|\n",
            "|        4| LED Monitor|Electronics| 15000.0|       3|2024-06-01|\n",
            "|        5|Wooden Table|  Furniture| 4500.75|       4|2024-06-04|\n",
            "|        1|   iPhone 15|Electronics|89999.99|       5|2024-06-01|\n",
            "|        2| MacBook Air|Electronics|124999.0|       2|2024-06-03|\n",
            "+---------+------------+-----------+--------+--------+----------+\n",
            "\n"
          ]
        }
      ]
    },
    {
      "cell_type": "code",
      "source": [
        "# 6. Retrieve products where price is above 500.\n",
        "spark.sql(\"SELECT * FROM product_sales WHERE Price > 50000\").show()"
      ],
      "metadata": {
        "colab": {
          "base_uri": "https://localhost:8080/"
        },
        "id": "xo28xDaxluX9",
        "outputId": "85cc3a62-2d59-4d82-eafe-a1333856ec5c"
      },
      "execution_count": 6,
      "outputs": [
        {
          "output_type": "stream",
          "name": "stdout",
          "text": [
            "+---------+-----------+-----------+--------+--------+----------+\n",
            "|ProductID|ProductName|   Category|   Price|Quantity|  SaleDate|\n",
            "+---------+-----------+-----------+--------+--------+----------+\n",
            "|        1|  iPhone 15|Electronics|89999.99|       5|2024-06-01|\n",
            "|        2|MacBook Air|Electronics|124999.0|       2|2024-06-03|\n",
            "+---------+-----------+-----------+--------+--------+----------+\n",
            "\n"
          ]
        }
      ]
    },
    {
      "cell_type": "code",
      "source": [
        "#7 . Calculate total sale amount ( Price * Quantity ) for each product.\n",
        "spark.sql(\"SELECT ProductName, Price * Quantity AS TotalSaleAmount FROM product_sales\").show()"
      ],
      "metadata": {
        "colab": {
          "base_uri": "https://localhost:8080/"
        },
        "id": "TlBDdNEFl112",
        "outputId": "98a29bed-866e-431e-95ba-d7cd497008dc"
      },
      "execution_count": 7,
      "outputs": [
        {
          "output_type": "stream",
          "name": "stdout",
          "text": [
            "+------------+---------------+\n",
            "| ProductName|TotalSaleAmount|\n",
            "+------------+---------------+\n",
            "|Office Chair|        89995.0|\n",
            "| LED Monitor|        45000.0|\n",
            "|Wooden Table|        18003.0|\n",
            "|   iPhone 15|      449999.95|\n",
            "| MacBook Air|       249998.0|\n",
            "+------------+---------------+\n",
            "\n"
          ]
        }
      ]
    },
    {
      "cell_type": "code",
      "source": [
        "# 8. Find the number of products sold in each Category .\n",
        "spark.sql(\"\"\"SELECT Category, SUM(Quantity) AS TotalProductsSold\n",
        "              FROM product_sales GROUP BY Category\"\"\").show()"
      ],
      "metadata": {
        "colab": {
          "base_uri": "https://localhost:8080/"
        },
        "id": "38fnXjyal-9r",
        "outputId": "7e1d92fb-c031-4e35-9b19-f4cf4019eb52"
      },
      "execution_count": 8,
      "outputs": [
        {
          "output_type": "stream",
          "name": "stdout",
          "text": [
            "+-----------+-----------------+\n",
            "|   Category|TotalProductsSold|\n",
            "+-----------+-----------------+\n",
            "|Electronics|               10|\n",
            "|  Furniture|               14|\n",
            "+-----------+-----------------+\n",
            "\n"
          ]
        }
      ]
    },
    {
      "cell_type": "code",
      "source": [
        "# 9. Sort products by total sales in descending order.\n",
        "spark.sql(\"\"\"SELECT ProductName, SUM(Quantity) AS TotalSales\n",
        "              FROM product_sales GROUP BY ProductName\n",
        "              ORDER BY TotalSales DESC\"\"\").show()"
      ],
      "metadata": {
        "colab": {
          "base_uri": "https://localhost:8080/"
        },
        "id": "urhOvqiBmN4a",
        "outputId": "727a88ac-7260-4309-b0f9-c8b8051d81db"
      },
      "execution_count": 9,
      "outputs": [
        {
          "output_type": "stream",
          "name": "stdout",
          "text": [
            "+------------+----------+\n",
            "| ProductName|TotalSales|\n",
            "+------------+----------+\n",
            "|Office Chair|        10|\n",
            "|   iPhone 15|         5|\n",
            "|Wooden Table|         4|\n",
            "| LED Monitor|         3|\n",
            "| MacBook Air|         2|\n",
            "+------------+----------+\n",
            "\n"
          ]
        }
      ]
    },
    {
      "cell_type": "markdown",
      "source": [
        "Temporary View Tasks"
      ],
      "metadata": {
        "id": "iPfEV5vFmjs1"
      }
    },
    {
      "cell_type": "code",
      "source": [
        "# 10. Create a PySpark DataFrame with dummy product data.\n",
        "from pyspark.sql import SparkSession\n",
        "from pyspark.sql.types import StructType, StructField, IntegerType, StringType, DoubleType, DateType\n",
        "from datetime import date\n",
        "product_data = [\n",
        "    (101, \"Keyboard\", \"Electronics\", 1200.0, 3, date(2024, 6, 1)),\n",
        "    (102, \"Mouse\", \"Electronics\", 600.0, 1, date(2024, 6, 2)),\n",
        "    (103, \"Desk Lamp\", \"Furniture\", 1500.0, 2, date(2024, 6, 3)),\n",
        "    (104, \"Notebook\", \"Stationery\", 50.0, 10, date(2024, 6, 4)),\n",
        "    (105, \"Monitor\", \"Electronics\", 7500.0, 1, date(2024, 6, 5))]\n",
        "schema = StructType([\n",
        "    StructField(\"ProductID\", IntegerType(), True),\n",
        "    StructField(\"ProductName\", StringType(), True),\n",
        "    StructField(\"Category\", StringType(), True),\n",
        "    StructField(\"Price\", DoubleType(), True),\n",
        "    StructField(\"Quantity\", IntegerType(), True),\n",
        "    StructField(\"SaleDate\", DateType(), True)])\n",
        "sample_df = spark.createDataFrame(product_data, schema=schema)\n",
        "sample_df.show()\n"
      ],
      "metadata": {
        "colab": {
          "base_uri": "https://localhost:8080/"
        },
        "id": "STRbd6aDmf31",
        "outputId": "65882939-5496-44cd-b338-cca29e8372e6"
      },
      "execution_count": 11,
      "outputs": [
        {
          "output_type": "stream",
          "name": "stdout",
          "text": [
            "+---------+-----------+-----------+------+--------+----------+\n",
            "|ProductID|ProductName|   Category| Price|Quantity|  SaleDate|\n",
            "+---------+-----------+-----------+------+--------+----------+\n",
            "|      101|   Keyboard|Electronics|1200.0|       3|2024-06-01|\n",
            "|      102|      Mouse|Electronics| 600.0|       1|2024-06-02|\n",
            "|      103|  Desk Lamp|  Furniture|1500.0|       2|2024-06-03|\n",
            "|      104|   Notebook| Stationery|  50.0|      10|2024-06-04|\n",
            "|      105|    Monitor|Electronics|7500.0|       1|2024-06-05|\n",
            "+---------+-----------+-----------+------+--------+----------+\n",
            "\n"
          ]
        }
      ]
    },
    {
      "cell_type": "code",
      "source": [
        "# 11. Register it as a temporary view called temp_orders .\n",
        "sample_df.createOrReplaceTempView(\"temp_orders\")"
      ],
      "metadata": {
        "id": "vYTsln47nyfQ"
      },
      "execution_count": 12,
      "outputs": []
    },
    {
      "cell_type": "code",
      "source": [
        "# 12. Run a SQL query to filter temp_orders where quantity > 1.\n",
        "spark.sql(\"SELECT * FROM temp_orders WHERE Quantity > 1\").show()"
      ],
      "metadata": {
        "colab": {
          "base_uri": "https://localhost:8080/"
        },
        "id": "R1aLZwZIoEZp",
        "outputId": "7c0ead48-b377-4950-85b4-a3f57a52f105"
      },
      "execution_count": 13,
      "outputs": [
        {
          "output_type": "stream",
          "name": "stdout",
          "text": [
            "+---------+-----------+-----------+------+--------+----------+\n",
            "|ProductID|ProductName|   Category| Price|Quantity|  SaleDate|\n",
            "+---------+-----------+-----------+------+--------+----------+\n",
            "|      101|   Keyboard|Electronics|1200.0|       3|2024-06-01|\n",
            "|      103|  Desk Lamp|  Furniture|1500.0|       2|2024-06-03|\n",
            "|      104|   Notebook| Stationery|  50.0|      10|2024-06-04|\n",
            "+---------+-----------+-----------+------+--------+----------+\n",
            "\n"
          ]
        }
      ]
    },
    {
      "cell_type": "markdown",
      "source": [
        "Global View Tasks\n"
      ],
      "metadata": {
        "id": "Wrb73W-8mhIu"
      }
    },
    {
      "cell_type": "code",
      "source": [
        "# 13. Create a global temp view from a PySpark DataFrame named global_orders .\n",
        "sample_df.createOrReplaceGlobalTempView(\"global_orders\")"
      ],
      "metadata": {
        "id": "kBTAj4ekoOwY"
      },
      "execution_count": 14,
      "outputs": []
    },
    {
      "cell_type": "code",
      "source": [
        "# 14. Run a SQL query on the global view from another notebook cell/session.\n",
        "spark.sql(\"SELECT * FROM global_temp.global_orders\").show()"
      ],
      "metadata": {
        "colab": {
          "base_uri": "https://localhost:8080/"
        },
        "id": "lraHM1BgoS3y",
        "outputId": "84a7ea2a-9649-4c8d-bad4-f3e8425d76ef"
      },
      "execution_count": 15,
      "outputs": [
        {
          "output_type": "stream",
          "name": "stdout",
          "text": [
            "+---------+-----------+-----------+------+--------+----------+\n",
            "|ProductID|ProductName|   Category| Price|Quantity|  SaleDate|\n",
            "+---------+-----------+-----------+------+--------+----------+\n",
            "|      101|   Keyboard|Electronics|1200.0|       3|2024-06-01|\n",
            "|      102|      Mouse|Electronics| 600.0|       1|2024-06-02|\n",
            "|      103|  Desk Lamp|  Furniture|1500.0|       2|2024-06-03|\n",
            "|      104|   Notebook| Stationery|  50.0|      10|2024-06-04|\n",
            "|      105|    Monitor|Electronics|7500.0|       1|2024-06-05|\n",
            "+---------+-----------+-----------+------+--------+----------+\n",
            "\n"
          ]
        }
      ]
    },
    {
      "cell_type": "markdown",
      "source": [
        "Join Tasks"
      ],
      "metadata": {
        "id": "yFjEcbTVorUi"
      }
    },
    {
      "cell_type": "code",
      "source": [
        "# 15. Create a second table customer_details with: CustomerID , Name , Gender , City , SignupDate\n",
        "spark.sql(\"\"\"\n",
        "    CREATE TABLE IF NOT EXISTS customer_details (\n",
        "        CustomerID INT,\n",
        "        Name STRING,\n",
        "        Gender STRING,\n",
        "        City STRING,\n",
        "        SignupDate DATE\n",
        "    )\n",
        "    USING PARQUET\n",
        "\"\"\")"
      ],
      "metadata": {
        "colab": {
          "base_uri": "https://localhost:8080/"
        },
        "id": "e4y9hheoot1-",
        "outputId": "20ddd00f-d7ea-419d-b0db-fdf8f802eb19"
      },
      "execution_count": 18,
      "outputs": [
        {
          "output_type": "execute_result",
          "data": {
            "text/plain": [
              "DataFrame[]"
            ]
          },
          "metadata": {},
          "execution_count": 18
        }
      ]
    },
    {
      "cell_type": "code",
      "source": [
        "# 16. Insert at least 3 records into customer_details .\n",
        "spark.sql(\"\"\" INSERT INTO customer_details VALUES\n",
        "              (1, 'Alice Johnson', 'Female', 'New York', DATE('2023-01-15')),\n",
        "              (2, 'Bob Smith', 'Male', 'Los Angeles', DATE('2022-07-20')),\n",
        "              (3, 'Charlie Brown', 'Male', 'Chicago', DATE('2023-03-12')) \"\"\")\n"
      ],
      "metadata": {
        "colab": {
          "base_uri": "https://localhost:8080/"
        },
        "id": "_LaD6b2AphkE",
        "outputId": "b031f45f-cf26-4612-dcbb-7019da874036"
      },
      "execution_count": 20,
      "outputs": [
        {
          "output_type": "execute_result",
          "data": {
            "text/plain": [
              "DataFrame[]"
            ]
          },
          "metadata": {},
          "execution_count": 20
        }
      ]
    },
    {
      "cell_type": "code",
      "source": [
        "# 17. Write a SQL join between product_sales and customer_details based on\n",
        "#ProductID = CustomerID (simulate a match).\n",
        "spark.sql(\"\"\"\n",
        "    SELECT *\n",
        "    FROM product_sales p\n",
        "    JOIN customer_details c ON p.ProductID = c.CustomerID\n",
        "\"\"\").show()"
      ],
      "metadata": {
        "colab": {
          "base_uri": "https://localhost:8080/"
        },
        "id": "_Yy-Rw4GqE1c",
        "outputId": "7550b54c-4be0-4d31-8d5b-853914b00aa2"
      },
      "execution_count": 22,
      "outputs": [
        {
          "output_type": "stream",
          "name": "stdout",
          "text": [
            "+---------+------------+-----------+--------+--------+----------+----------+-------------+------+-----------+----------+\n",
            "|ProductID| ProductName|   Category|   Price|Quantity|  SaleDate|CustomerID|         Name|Gender|       City|SignupDate|\n",
            "+---------+------------+-----------+--------+--------+----------+----------+-------------+------+-----------+----------+\n",
            "|        3|Office Chair|  Furniture|  8999.5|      10|2024-06-02|         3|Charlie Brown|  Male|    Chicago|2023-03-12|\n",
            "|        1|   iPhone 15|Electronics|89999.99|       5|2024-06-01|         1|Alice Johnson|Female|   New York|2023-01-15|\n",
            "|        2| MacBook Air|Electronics|124999.0|       2|2024-06-03|         2|    Bob Smith|  Male|Los Angeles|2022-07-20|\n",
            "+---------+------------+-----------+--------+--------+----------+----------+-------------+------+-----------+----------+\n",
            "\n"
          ]
        }
      ]
    },
    {
      "cell_type": "code",
      "source": [
        "# 18. List customers who bought more than 2 products.\n",
        "spark.sql(\"\"\"\n",
        "          SELECT c.Name, SUM(p.Quantity) as TotalProductsBought\n",
        "          FROM product_sales p\n",
        "          JOIN customer_details c ON p.ProductID = c.CustomerID\n",
        "          GROUP BY c.Name\n",
        "          HAVING SUM(p.Quantity) > 2\n",
        "\"\"\").show()\n"
      ],
      "metadata": {
        "colab": {
          "base_uri": "https://localhost:8080/"
        },
        "id": "PHCCQjXHqSL7",
        "outputId": "43223398-fa54-4dc1-d19f-5823faa711e9"
      },
      "execution_count": 25,
      "outputs": [
        {
          "output_type": "stream",
          "name": "stdout",
          "text": [
            "+-------------+-------------------+\n",
            "|         Name|TotalProductsBought|\n",
            "+-------------+-------------------+\n",
            "|Charlie Brown|                 10|\n",
            "|Alice Johnson|                  5|\n",
            "+-------------+-------------------+\n",
            "\n"
          ]
        }
      ]
    },
    {
      "cell_type": "markdown",
      "source": [
        "View & Summary Tasks\n"
      ],
      "metadata": {
        "id": "DJ61umAyrC27"
      }
    },
    {
      "cell_type": "code",
      "source": [
        "# 19. Create a SQL view sales_summary that includes:\n",
        "# ProductName , Price , Quantity , Total = Price * Quantity\n",
        "spark.sql(\"\"\"\n",
        "CREATE OR REPLACE VIEW sales_summary AS\n",
        "SELECT ProductName, Price, Quantity, (Price * Quantity) AS Total\n",
        "FROM product_sales\n",
        "\"\"\")"
      ],
      "metadata": {
        "colab": {
          "base_uri": "https://localhost:8080/"
        },
        "id": "G_2EpdzYrIh1",
        "outputId": "295ca38d-6b5d-411a-d9a7-dcd532c67754"
      },
      "execution_count": 26,
      "outputs": [
        {
          "output_type": "execute_result",
          "data": {
            "text/plain": [
              "DataFrame[]"
            ]
          },
          "metadata": {},
          "execution_count": 26
        }
      ]
    },
    {
      "cell_type": "code",
      "source": [
        "# 20. Query the view for records with Total > 1000 .\n",
        "spark.sql(\"SELECT * FROM sales_summary WHERE Total > 1000\").show()"
      ],
      "metadata": {
        "colab": {
          "base_uri": "https://localhost:8080/"
        },
        "id": "KLcP8uq0rV7L",
        "outputId": "91360a7a-4868-49f4-d954-9efe37756a70"
      },
      "execution_count": 27,
      "outputs": [
        {
          "output_type": "stream",
          "name": "stdout",
          "text": [
            "+------------+--------+--------+---------+\n",
            "| ProductName|   Price|Quantity|    Total|\n",
            "+------------+--------+--------+---------+\n",
            "|Office Chair|  8999.5|      10|  89995.0|\n",
            "| LED Monitor| 15000.0|       3|  45000.0|\n",
            "|Wooden Table| 4500.75|       4|  18003.0|\n",
            "|   iPhone 15|89999.99|       5|449999.95|\n",
            "| MacBook Air|124999.0|       2| 249998.0|\n",
            "+------------+--------+--------+---------+\n",
            "\n"
          ]
        }
      ]
    },
    {
      "cell_type": "markdown",
      "source": [
        "Cleanup Tasks\n"
      ],
      "metadata": {
        "id": "H9SVUpL8rdCR"
      }
    },
    {
      "cell_type": "code",
      "source": [
        "# 21. Drop the view sales_summary .\n",
        "spark.sql(\"DROP VIEW sales_summary\")"
      ],
      "metadata": {
        "colab": {
          "base_uri": "https://localhost:8080/"
        },
        "id": "ErtKcFTPriaA",
        "outputId": "38656a22-006b-4e07-b836-96d0f79355cf"
      },
      "execution_count": 28,
      "outputs": [
        {
          "output_type": "execute_result",
          "data": {
            "text/plain": [
              "DataFrame[]"
            ]
          },
          "metadata": {},
          "execution_count": 28
        }
      ]
    },
    {
      "cell_type": "code",
      "source": [
        "# 22. Drop the tables product_sales and customer_details .\n",
        "spark.sql(\"DROP TABLE product_sales\")\n",
        "spark.sql(\"DROP TABLE customer_details\")"
      ],
      "metadata": {
        "colab": {
          "base_uri": "https://localhost:8080/"
        },
        "id": "-HNGDZ73rq9y",
        "outputId": "445eee23-18d7-4136-eec1-3daab3a61e8f"
      },
      "execution_count": 29,
      "outputs": [
        {
          "output_type": "execute_result",
          "data": {
            "text/plain": [
              "DataFrame[]"
            ]
          },
          "metadata": {},
          "execution_count": 29
        }
      ]
    },
    {
      "cell_type": "code",
      "source": [
        "# 23. Drop the database sales_db .\n",
        "spark.sql(\"DROP DATABASE sales_db\")"
      ],
      "metadata": {
        "colab": {
          "base_uri": "https://localhost:8080/"
        },
        "id": "cA7_7KC4ryZH",
        "outputId": "c2f377f2-cb73-4952-abeb-b0467d3d83f9"
      },
      "execution_count": 30,
      "outputs": [
        {
          "output_type": "execute_result",
          "data": {
            "text/plain": [
              "DataFrame[]"
            ]
          },
          "metadata": {},
          "execution_count": 30
        }
      ]
    }
  ]
}