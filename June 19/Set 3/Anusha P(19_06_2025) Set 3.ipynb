{
 "cells": [
  {
   "cell_type": "code",
   "execution_count": 0,
   "metadata": {
    "application/vnd.databricks.v1+cell": {
     "cellMetadata": {
      "byteLimit": 2048000,
      "rowLimit": 10000
     },
     "inputWidgets": {},
     "nuid": "622fd0e3-f31c-4af9-bd77-9bf0a699eab1",
     "showTitle": false,
     "tableResultSettingsMap": {},
     "title": ""
    }
   },
   "outputs": [
    {
     "output_type": "execute_result",
     "data": {
      "text/html": [
       "\n",
       "            <div>\n",
       "                <p><b>SparkSession - hive</b></p>\n",
       "                \n",
       "        <div>\n",
       "            <p><b>SparkContext</b></p>\n",
       "\n",
       "            <p><a href=\"/?o=2806829887576824#setting/sparkui/0612-043650-nhuexwr6/driver-5460914794868977173\">Spark UI</a></p>\n",
       "\n",
       "            <dl>\n",
       "              <dt>Version</dt>\n",
       "                <dd><code>v3.5.0</code></dd>\n",
       "              <dt>Master</dt>\n",
       "                <dd><code>local[*, 4]</code></dd>\n",
       "              <dt>AppName</dt>\n",
       "                <dd><code>Databricks Shell</code></dd>\n",
       "            </dl>\n",
       "        </div>\n",
       "        \n",
       "            </div>\n",
       "        "
      ],
      "text/plain": [
       "<pyspark.sql.session.SparkSession at 0x7043649b9350>"
      ]
     },
     "execution_count": 1,
     "metadata": {},
     "output_type": "execute_result"
    }
   ],
   "source": [
    "from pyspark.sql import SparkSession\n",
    "spark=SparkSession.builder.getOrCreate()\n",
    "spark"
   ]
  },
  {
   "cell_type": "markdown",
   "metadata": {
    "application/vnd.databricks.v1+cell": {
     "cellMetadata": {},
     "inputWidgets": {},
     "nuid": "f062c13b-c844-4f17-b0f7-b589190897d5",
     "showTitle": false,
     "tableResultSettingsMap": {},
     "title": ""
    }
   },
   "source": [
    "Scenario 1: Inventory Alerting System"
   ]
  },
  {
   "cell_type": "code",
   "execution_count": 0,
   "metadata": {
    "application/vnd.databricks.v1+cell": {
     "cellMetadata": {
      "byteLimit": 2048000,
      "rowLimit": 10000
     },
     "inputWidgets": {},
     "nuid": "20ba3fba-ba23-4745-937c-75d4bb849dda",
     "showTitle": false,
     "tableResultSettingsMap": {},
     "title": ""
    }
   },
   "outputs": [
    {
     "output_type": "stream",
     "name": "stdout",
     "output_type": "stream",
     "text": [
      "root\n |-- ItemID: string (nullable = true)\n |-- ItemName: string (nullable = true)\n |-- Category: string (nullable = true)\n |-- Warehouse: string (nullable = true)\n |-- StockQty: integer (nullable = true)\n |-- ReorderLevel: integer (nullable = true)\n |-- LastRestocked: date (nullable = true)\n |-- UnitPrice: integer (nullable = true)\n |-- Supplier: string (nullable = true)\n\n+------+------------+-----------+----------+--------+------------+-------------+---------+---------+\n|ItemID|    ItemName|   Category| Warehouse|StockQty|ReorderLevel|LastRestocked|UnitPrice| Supplier|\n+------+------------+-----------+----------+--------+------------+-------------+---------+---------+\n|  I001|      LED TV|Electronics|WarehouseA|      50|          20|   2024-03-15|    30000|   AVTech|\n|  I002|      Laptop|Electronics|WarehouseB|      10|          15|   2024-04-01|    70000|TechWorld|\n|  I003|Office Chair|  Furniture|WarehouseA|      40|          10|   2024-03-25|     6000|  ChairCo|\n|  I004|Refrigerator| Appliances|WarehouseC|       5|          10|   2024-02-20|    25000| FreezeIt|\n|  I005|     Printer|Electronics|WarehouseB|       3|           5|   2024-03-30|     8000|PrintFast|\n+------+------------+-----------+----------+--------+------------+-------------+---------+---------+\n\n"
     ]
    }
   ],
   "source": [
    "# Load the data using PySpark.\n",
    "df=spark.read.option(\"header\",True).option(\"inferSchema\",True).csv(\"file:/Workspace/Shared/inventory_supply.csv\")\n",
    "df.printSchema()\n",
    "df.show()"
   ]
  },
  {
   "cell_type": "code",
   "execution_count": 0,
   "metadata": {
    "application/vnd.databricks.v1+cell": {
     "cellMetadata": {
      "byteLimit": 2048000,
      "rowLimit": 10000
     },
     "inputWidgets": {},
     "nuid": "c50709c7-7817-42dd-b252-a9da52367253",
     "showTitle": false,
     "tableResultSettingsMap": {},
     "title": ""
    }
   },
   "outputs": [
    {
     "output_type": "stream",
     "name": "stdout",
     "output_type": "stream",
     "text": [
      "+------+------------+-----------+----------+--------+------------+-------------+---------+---------+------------+\n|ItemID|    ItemName|   Category| Warehouse|StockQty|ReorderLevel|LastRestocked|UnitPrice| Supplier|NeedsReorder|\n+------+------------+-----------+----------+--------+------------+-------------+---------+---------+------------+\n|  I001|      LED TV|Electronics|WarehouseA|      50|          20|   2024-03-15|    30000|   AVTech|       false|\n|  I002|      Laptop|Electronics|WarehouseB|      10|          15|   2024-04-01|    70000|TechWorld|        true|\n|  I003|Office Chair|  Furniture|WarehouseA|      40|          10|   2024-03-25|     6000|  ChairCo|       false|\n|  I004|Refrigerator| Appliances|WarehouseC|       5|          10|   2024-02-20|    25000| FreezeIt|        true|\n|  I005|     Printer|Electronics|WarehouseB|       3|           5|   2024-03-30|     8000|PrintFast|        true|\n+------+------------+-----------+----------+--------+------------+-------------+---------+---------+------------+\n\n"
     ]
    }
   ],
   "source": [
    "# Create a new column NeedsReorder = StockQty < ReorderLevel .\n",
    "from pyspark.sql.functions import col\n",
    "df=df.withColumn(\"NeedsReorder\", col(\"StockQty\") < col(\"ReorderLevel\"))\n",
    "df.show()"
   ]
  },
  {
   "cell_type": "code",
   "execution_count": 0,
   "metadata": {
    "application/vnd.databricks.v1+cell": {
     "cellMetadata": {
      "byteLimit": 2048000,
      "rowLimit": 10000
     },
     "inputWidgets": {},
     "nuid": "68d56091-5aed-4cdc-b8da-785d00f58cd4",
     "showTitle": false,
     "tableResultSettingsMap": {},
     "title": ""
    }
   },
   "outputs": [],
   "source": [
    "# Create a view of all items that need restocking.\n",
    "df.createOrReplaceTempView(\"needs_reorder\")"
   ]
  },
  {
   "cell_type": "code",
   "execution_count": 0,
   "metadata": {
    "application/vnd.databricks.v1+cell": {
     "cellMetadata": {
      "byteLimit": 2048000,
      "rowLimit": 10000
     },
     "inputWidgets": {},
     "nuid": "91f510c0-3f54-405d-ab41-3a476c45d59a",
     "showTitle": false,
     "tableResultSettingsMap": {},
     "title": ""
    }
   },
   "outputs": [
    {
     "output_type": "stream",
     "name": "stdout",
     "output_type": "stream",
     "text": [
      "+------+------------+-----------+----------+--------+------------+-------------+---------+---------+------------+\n|ItemID|    ItemName|   Category| Warehouse|StockQty|ReorderLevel|LastRestocked|UnitPrice| Supplier|NeedsReorder|\n+------+------------+-----------+----------+--------+------------+-------------+---------+---------+------------+\n|  I002|      Laptop|Electronics|WarehouseB|      10|          15|   2024-04-01|    70000|TechWorld|        true|\n|  I004|Refrigerator| Appliances|WarehouseC|       5|          10|   2024-02-20|    25000| FreezeIt|        true|\n|  I005|     Printer|Electronics|WarehouseB|       3|           5|   2024-03-30|     8000|PrintFast|        true|\n+------+------------+-----------+----------+--------+------------+-------------+---------+---------+------------+\n\n+---------+---------------+\n|Warehouse|ItemsforReorder|\n+---------+---------------+\n+---------+---------------+\n\n"
     ]
    }
   ],
   "source": [
    "# Highlight warehouses with more than 2 such items.\n",
    "spark.sql(\"SELECT * FROM needs_reorder WHERE NeedsReorder = true\").show()\n",
    "spark.sql(\"\"\"SELECT Warehouse, COUNT(*) AS ItemsforReorder\n",
    "FROM needs_reorder\n",
    "WHERE NeedsReorder = true\n",
    "GROUP BY Warehouse\n",
    "HAVING COUNT(*) > 2\"\"\").show()"
   ]
  },
  {
   "cell_type": "markdown",
   "metadata": {
    "application/vnd.databricks.v1+cell": {
     "cellMetadata": {},
     "inputWidgets": {},
     "nuid": "6d78b931-bbb5-4008-8151-b1c0137c0e57",
     "showTitle": false,
     "tableResultSettingsMap": {},
     "title": ""
    }
   },
   "source": [
    "Scenario 2: Supplier Price Optimization"
   ]
  },
  {
   "cell_type": "code",
   "execution_count": 0,
   "metadata": {
    "application/vnd.databricks.v1+cell": {
     "cellMetadata": {
      "byteLimit": 2048000,
      "rowLimit": 10000
     },
     "inputWidgets": {},
     "nuid": "8ec21c85-9154-41e0-9378-a01c278525ee",
     "showTitle": false,
     "tableResultSettingsMap": {},
     "title": ""
    }
   },
   "outputs": [
    {
     "output_type": "stream",
     "name": "stdout",
     "output_type": "stream",
     "text": [
      "+-----------+---------+------+------------+----------+--------+------------+-------------+---------+------------+------------------+------------------+\n|   Category| Supplier|ItemID|    ItemName| Warehouse|StockQty|ReorderLevel|LastRestocked|UnitPrice|NeedsReorder|AvgPriceBySupplier|AvgPriceByCategory|\n+-----------+---------+------+------------+----------+--------+------------+-------------+---------+------------+------------------+------------------+\n|Electronics|   AVTech|  I001|      LED TV|WarehouseA|      50|          20|   2024-03-15|    30000|       false|           30000.0|           36000.0|\n|Electronics|TechWorld|  I002|      Laptop|WarehouseB|      10|          15|   2024-04-01|    70000|        true|           70000.0|           36000.0|\n|  Furniture|  ChairCo|  I003|Office Chair|WarehouseA|      40|          10|   2024-03-25|     6000|       false|            6000.0|            6000.0|\n| Appliances| FreezeIt|  I004|Refrigerator|WarehouseC|       5|          10|   2024-02-20|    25000|        true|           25000.0|           25000.0|\n|Electronics|PrintFast|  I005|     Printer|WarehouseB|       3|           5|   2024-03-30|     8000|        true|            8000.0|           36000.0|\n+-----------+---------+------+------------+----------+--------+------------+-------------+---------+------------+------------------+------------------+\n\n"
     ]
    }
   ],
   "source": [
    "# Group items by Supplier and compute average price.\n",
    "from pyspark.sql.functions import avg, count, sum\n",
    "supplier_avg = df.groupBy(\"Supplier\").agg(avg(\"UnitPrice\").alias(\"AvgPriceBySupplier\"))\n",
    "sup_df=df.join(supplier_avg, \"Supplier\")\n",
    "market_avg = df.groupBy(\"Category\").agg(avg(\"UnitPrice\").alias(\"AvgPriceByCategory\"))\n",
    "sup_df= sup_df.join(market_avg, \"Category\")\n",
    "sup_df.show()"
   ]
  },
  {
   "cell_type": "code",
   "execution_count": 0,
   "metadata": {
    "application/vnd.databricks.v1+cell": {
     "cellMetadata": {
      "byteLimit": 2048000,
      "rowLimit": 10000
     },
     "inputWidgets": {},
     "nuid": "90ca3566-7c21-459c-8d9c-b86c144f114f",
     "showTitle": false,
     "tableResultSettingsMap": {},
     "title": ""
    }
   },
   "outputs": [
    {
     "output_type": "stream",
     "name": "stdout",
     "output_type": "stream",
     "text": [
      "+-----------+---------+------+------------+----------+--------+------------+-------------+---------+------------+------------------+------------------+-----------+\n|   Category| Supplier|ItemID|    ItemName| Warehouse|StockQty|ReorderLevel|LastRestocked|UnitPrice|NeedsReorder|AvgPriceBySupplier|AvgPriceByCategory|BelowMarket|\n+-----------+---------+------+------------+----------+--------+------------+-------------+---------+------------+------------------+------------------+-----------+\n|Electronics|   AVTech|  I001|      LED TV|WarehouseA|      50|          20|   2024-03-15|    30000|       false|           30000.0|           36000.0|       true|\n|Electronics|TechWorld|  I002|      Laptop|WarehouseB|      10|          15|   2024-04-01|    70000|        true|           70000.0|           36000.0|      false|\n|Electronics|PrintFast|  I005|     Printer|WarehouseB|       3|           5|   2024-03-30|     8000|        true|            8000.0|           36000.0|       true|\n| Appliances| FreezeIt|  I004|Refrigerator|WarehouseC|       5|          10|   2024-02-20|    25000|        true|           25000.0|           25000.0|      false|\n|  Furniture|  ChairCo|  I003|Office Chair|WarehouseA|      40|          10|   2024-03-25|     6000|       false|            6000.0|            6000.0|      false|\n+-----------+---------+------+------------+----------+--------+------------+-------------+---------+------------+------------------+------------------+-----------+\n\n"
     ]
    }
   ],
   "source": [
    "# Find which suppliers offer items below average price in their category.\n",
    "sup_df=sup_df.withColumn(\"BelowMarket\", col(\"UnitPrice\") < col(\"AvgPriceByCategory\"))\n",
    "sup_df.show()"
   ]
  },
  {
   "cell_type": "code",
   "execution_count": 0,
   "metadata": {
    "application/vnd.databricks.v1+cell": {
     "cellMetadata": {
      "byteLimit": 2048000,
      "rowLimit": 10000
     },
     "inputWidgets": {},
     "nuid": "3e694caa-1e16-4e1f-a8f0-6b9f7db84b64",
     "showTitle": false,
     "tableResultSettingsMap": {},
     "title": ""
    }
   },
   "outputs": [
    {
     "output_type": "stream",
     "name": "stdout",
     "output_type": "stream",
     "text": [
      "+---------+--------+--------+\n| Supplier|BelowPct|GoodDeal|\n+---------+--------+--------+\n|   AVTech|     1.0|    true|\n|TechWorld|     0.0|   false|\n|PrintFast|     1.0|    true|\n| FreezeIt|     0.0|   false|\n|  ChairCo|     0.0|   false|\n+---------+--------+--------+\n\n"
     ]
    }
   ],
   "source": [
    "#Tag suppliers with Good Deal if >50% of their items are below market average.\n",
    "score = sup_df.groupBy(\"Supplier\").agg(\n",
    "    (sum(col(\"BelowMarket\").cast(\"int\")) / count(\"*\")).alias(\"BelowPct\")\n",
    ")\n",
    "gooddeal_df = score.withColumn(\"GoodDeal\", col(\"BelowPct\") > 0.5)\n",
    "gooddeal_df.show()"
   ]
  },
  {
   "cell_type": "markdown",
   "metadata": {
    "application/vnd.databricks.v1+cell": {
     "cellMetadata": {},
     "inputWidgets": {},
     "nuid": "0d2cf8ff-2e14-40b0-bf85-0c3a400803bb",
     "showTitle": false,
     "tableResultSettingsMap": {},
     "title": ""
    }
   },
   "source": [
    "Scenario 3: Cost Forecasting"
   ]
  },
  {
   "cell_type": "code",
   "execution_count": 0,
   "metadata": {
    "application/vnd.databricks.v1+cell": {
     "cellMetadata": {
      "byteLimit": 2048000,
      "rowLimit": 10000
     },
     "inputWidgets": {},
     "nuid": "69caff5a-cafc-46a0-8bf3-237eebc891ea",
     "showTitle": false,
     "tableResultSettingsMap": {},
     "title": ""
    }
   },
   "outputs": [
    {
     "output_type": "stream",
     "name": "stdout",
     "output_type": "stream",
     "text": [
      "+----------+---------------+\n| Warehouse|TotalStockValue|\n+----------+---------------+\n|WarehouseA|        1740000|\n|WarehouseC|         125000|\n|WarehouseB|         724000|\n+----------+---------------+\n\n"
     ]
    }
   ],
   "source": [
    "# Calculate TotalStockValue = StockQty * UnitPrice .\n",
    "df = df.withColumn(\"TotalStockValue\", col(\"StockQty\") * col(\"UnitPrice\"))\n",
    "df.groupBy(\"Warehouse\").agg(sum(\"TotalStockValue\").alias(\"TotalStockValue\")).show()"
   ]
  },
  {
   "cell_type": "code",
   "execution_count": 0,
   "metadata": {
    "application/vnd.databricks.v1+cell": {
     "cellMetadata": {
      "byteLimit": 2048000,
      "rowLimit": 10000
     },
     "inputWidgets": {},
     "nuid": "a69c4769-5e34-4a04-b68a-e8062117a92e",
     "showTitle": false,
     "tableResultSettingsMap": {},
     "title": ""
    }
   },
   "outputs": [
    {
     "output_type": "stream",
     "name": "stdout",
     "output_type": "stream",
     "text": [
      "+------+------------+-----------+----------+--------+------------+-------------+---------+---------+------------+---------------+\n|ItemID|    ItemName|   Category| Warehouse|StockQty|ReorderLevel|LastRestocked|UnitPrice| Supplier|NeedsReorder|TotalStockValue|\n+------+------------+-----------+----------+--------+------------+-------------+---------+---------+------------+---------------+\n|  I001|      LED TV|Electronics|WarehouseA|      50|          20|   2024-03-15|    30000|   AVTech|       false|        1500000|\n|  I002|      Laptop|Electronics|WarehouseB|      10|          15|   2024-04-01|    70000|TechWorld|        true|         700000|\n|  I003|Office Chair|  Furniture|WarehouseA|      40|          10|   2024-03-25|     6000|  ChairCo|       false|         240000|\n+------+------------+-----------+----------+--------+------------+-------------+---------+---------+------------+---------------+\n\n"
     ]
    }
   ],
   "source": [
    "# Identify top 3 highest-value items.\n",
    "df.orderBy(col(\"TotalStockValue\").desc()).limit(3).show()"
   ]
  },
  {
   "cell_type": "code",
   "execution_count": 0,
   "metadata": {
    "application/vnd.databricks.v1+cell": {
     "cellMetadata": {
      "byteLimit": 2048000,
      "rowLimit": 10000
     },
     "inputWidgets": {},
     "nuid": "2b58ea81-dc49-4302-9b7f-0007befb6500",
     "showTitle": false,
     "tableResultSettingsMap": {},
     "title": ""
    }
   },
   "outputs": [],
   "source": [
    "# Export the result as a Parquet file partitioned by Warehouse .\n",
    "df.write.mode(\"overwrite\").parquet(\"file:/Workspace/Shared/stocksvalue\", partitionBy=\"Warehouse\")"
   ]
  },
  {
   "cell_type": "markdown",
   "metadata": {
    "application/vnd.databricks.v1+cell": {
     "cellMetadata": {},
     "inputWidgets": {},
     "nuid": "c1277817-1927-4488-8701-8c87dd70632d",
     "showTitle": false,
     "tableResultSettingsMap": {},
     "title": ""
    }
   },
   "source": [
    "Warehouse Utilization"
   ]
  },
  {
   "cell_type": "code",
   "execution_count": 0,
   "metadata": {
    "application/vnd.databricks.v1+cell": {
     "cellMetadata": {
      "byteLimit": 2048000,
      "rowLimit": 10000
     },
     "inputWidgets": {},
     "nuid": "4b02a0ac-f169-46d5-9c9c-a0dc8e672ae2",
     "showTitle": false,
     "tableResultSettingsMap": {},
     "title": ""
    }
   },
   "outputs": [
    {
     "output_type": "stream",
     "name": "stdout",
     "output_type": "stream",
     "text": [
      "+----------+---------+\n| Warehouse|ItemCount|\n+----------+---------+\n|WarehouseA|        2|\n|WarehouseC|        1|\n|WarehouseB|        2|\n+----------+---------+\n\n"
     ]
    }
   ],
   "source": [
    "# Count items stored per warehouse.\n",
    "stock_counts=df.groupBy(\"Warehouse\").count().withColumnRenamed(\"count\", \"ItemCount\")\n",
    "stock_counts.show()"
   ]
  },
  {
   "cell_type": "code",
   "execution_count": 0,
   "metadata": {
    "application/vnd.databricks.v1+cell": {
     "cellMetadata": {
      "byteLimit": 2048000,
      "rowLimit": 10000
     },
     "inputWidgets": {},
     "nuid": "ef831109-9217-4196-99ba-3e350068f8d2",
     "showTitle": false,
     "tableResultSettingsMap": {},
     "title": ""
    }
   },
   "outputs": [
    {
     "output_type": "stream",
     "name": "stdout",
     "output_type": "stream",
     "text": [
      "+----------+-----------+--------+\n| Warehouse|   Category|AvgStock|\n+----------+-----------+--------+\n|WarehouseB|Electronics|     6.5|\n|WarehouseA|  Furniture|    40.0|\n|WarehouseC| Appliances|     5.0|\n|WarehouseA|Electronics|    50.0|\n+----------+-----------+--------+\n\n"
     ]
    }
   ],
   "source": [
    "# Average stock per category in each warehouse.\n",
    "avg_stock=df.groupBy(\"Warehouse\",\"Category\").agg(avg(\"StockQty\").alias(\"AvgStock\"))\n",
    "avg_stock.show()"
   ]
  },
  {
   "cell_type": "code",
   "execution_count": 0,
   "metadata": {
    "application/vnd.databricks.v1+cell": {
     "cellMetadata": {
      "byteLimit": 2048000,
      "rowLimit": 10000
     },
     "inputWidgets": {},
     "nuid": "340a0e00-034b-4453-94f6-3180080af592",
     "showTitle": false,
     "tableResultSettingsMap": {},
     "title": ""
    }
   },
   "outputs": [
    {
     "output_type": "stream",
     "name": "stdout",
     "output_type": "stream",
     "text": [
      "+----------+---------+----------+\n| Warehouse|ItemCount|TotalStock|\n+----------+---------+----------+\n|WarehouseA|        2|        90|\n|WarehouseC|        1|         5|\n|WarehouseB|        2|        13|\n+----------+---------+----------+\n\n"
     ]
    }
   ],
   "source": [
    "# Determine underutilized warehouses ( total stock < 100 ).\n",
    "from pyspark.sql.functions import expr\n",
    "stock_counts.join(df.groupBy(\"Warehouse\").agg(expr(\"sum(StockQty)\").alias(\"TotalStock\")), \"Warehouse\").filter(col(\"TotalStock\") < 100).show()"
   ]
  },
  {
   "cell_type": "markdown",
   "metadata": {
    "application/vnd.databricks.v1+cell": {
     "cellMetadata": {},
     "inputWidgets": {},
     "nuid": "aab4e52b-355c-4cbc-8cb3-5f6a91c6aaff",
     "showTitle": false,
     "tableResultSettingsMap": {},
     "title": ""
    }
   },
   "source": [
    "Scenario 5: Delta Audit Trail"
   ]
  },
  {
   "cell_type": "code",
   "execution_count": 0,
   "metadata": {
    "application/vnd.databricks.v1+cell": {
     "cellMetadata": {
      "byteLimit": 2048000,
      "rowLimit": 10000
     },
     "inputWidgets": {},
     "nuid": "92a52f6f-3f67-48a8-b56f-66e2ece0d68c",
     "showTitle": false,
     "tableResultSettingsMap": {},
     "title": ""
    }
   },
   "outputs": [],
   "source": [
    "# Save as Delta table retail_inventory .\n",
    "from delta.tables import DeltaTable\n",
    "df.write.format(\"delta\").mode(\"overwrite\").save(\"file:/Workspace/Shared/retail_inventory\")\n",
    "delta = DeltaTable.forPath(spark, \"file:/Workspace/Shared/retail_inventory\")"
   ]
  },
  {
   "cell_type": "code",
   "execution_count": 0,
   "metadata": {
    "application/vnd.databricks.v1+cell": {
     "cellMetadata": {
      "byteLimit": 2048000,
      "rowLimit": 10000
     },
     "inputWidgets": {},
     "nuid": "bbce3019-14a4-4ee4-8f83-999f8b45b6a1",
     "showTitle": false,
     "tableResultSettingsMap": {},
     "title": ""
    }
   },
   "outputs": [],
   "source": [
    "# Update stock of 'Laptop' to 20.\n",
    "delta.update(condition=\"ItemName='Laptop'\", set={\"StockQty\": \"20\"})"
   ]
  },
  {
   "cell_type": "code",
   "execution_count": 0,
   "metadata": {
    "application/vnd.databricks.v1+cell": {
     "cellMetadata": {
      "byteLimit": 2048000,
      "rowLimit": 10000
     },
     "inputWidgets": {},
     "nuid": "d617acba-c787-4f3b-860f-4ee418f6a507",
     "showTitle": false,
     "tableResultSettingsMap": {},
     "title": ""
    }
   },
   "outputs": [],
   "source": [
    "# Delete any item with StockQty = 0 .\n",
    "delta.delete(\"StockQty = 0\")"
   ]
  },
  {
   "cell_type": "code",
   "execution_count": 0,
   "metadata": {
    "application/vnd.databricks.v1+cell": {
     "cellMetadata": {
      "byteLimit": 2048000,
      "rowLimit": 10000
     },
     "inputWidgets": {},
     "nuid": "492a7345-138e-48d0-9f8a-dfbd1d080eba",
     "showTitle": false,
     "tableResultSettingsMap": {},
     "title": ""
    }
   },
   "outputs": [
    {
     "output_type": "stream",
     "name": "stdout",
     "output_type": "stream",
     "text": [
      "+-------+--------------------+----------------+--------------------+---------+--------------------+----+------------------+--------------------+-----------+-----------------+-------------+--------------------+------------+--------------------+\n|version|           timestamp|          userId|            userName|operation| operationParameters| job|          notebook|           clusterId|readVersion|   isolationLevel|isBlindAppend|    operationMetrics|userMetadata|          engineInfo|\n+-------+--------------------+----------------+--------------------+---------+--------------------+----+------------------+--------------------+-----------+-----------------+-------------+--------------------+------------+--------------------+\n|      2|2025-06-19 08:44:...|4042796083082360|azuser3548_mml.lo...|   DELETE|{predicate -> [\"(...|NULL|{4419187724732004}|0612-043650-nhuexwr6|          1|WriteSerializable|        false|{numRemovedFiles ...|        NULL|Databricks-Runtim...|\n|      1|2025-06-19 08:44:...|4042796083082360|azuser3548_mml.lo...|   UPDATE|{predicate -> [\"(...|NULL|{4419187724732004}|0612-043650-nhuexwr6|          0|WriteSerializable|        false|{numRemovedFiles ...|        NULL|Databricks-Runtim...|\n|      0|2025-06-19 08:44:...|4042796083082360|azuser3548_mml.lo...|    WRITE|{mode -> Overwrit...|NULL|{4419187724732004}|0612-043650-nhuexwr6|       NULL|WriteSerializable|        false|{numFiles -> 1, n...|        NULL|Databricks-Runtim...|\n+-------+--------------------+----------------+--------------------+---------+--------------------+----+------------------+--------------------+-----------+-----------------+-------------+--------------------+------------+--------------------+\n\n+------+------------+-----------+----------+--------+------------+-------------+---------+---------+------------+---------------+\n|ItemID|    ItemName|   Category| Warehouse|StockQty|ReorderLevel|LastRestocked|UnitPrice| Supplier|NeedsReorder|TotalStockValue|\n+------+------------+-----------+----------+--------+------------+-------------+---------+---------+------------+---------------+\n|  I001|      LED TV|Electronics|WarehouseA|      50|          20|   2024-03-15|    30000|   AVTech|       false|        1500000|\n|  I002|      Laptop|Electronics|WarehouseB|      10|          15|   2024-04-01|    70000|TechWorld|        true|         700000|\n|  I003|Office Chair|  Furniture|WarehouseA|      40|          10|   2024-03-25|     6000|  ChairCo|       false|         240000|\n|  I004|Refrigerator| Appliances|WarehouseC|       5|          10|   2024-02-20|    25000| FreezeIt|        true|         125000|\n|  I005|     Printer|Electronics|WarehouseB|       3|           5|   2024-03-30|     8000|PrintFast|        true|          24000|\n+------+------------+-----------+----------+--------+------------+-------------+---------+---------+------------+---------------+\n\n"
     ]
    }
   ],
   "source": [
    "# Run DESCRIBE HISTORY and query VERSION AS OF previous state.\n",
    "spark.sql(\"DESCRIBE HISTORY delta.`file:/Workspace/Shared/retail_inventory`\").show()\n",
    "spark.read.format(\"delta\").option(\"versionAsOf\", 0).load(\"file:/Workspace/Shared/retail_inventory\").show()\n",
    "     "
   ]
  },
  {
   "cell_type": "markdown",
   "metadata": {
    "application/vnd.databricks.v1+cell": {
     "cellMetadata": {},
     "inputWidgets": {},
     "nuid": "8644487a-0ceb-4fb2-adf9-b2bafd52d69b",
     "showTitle": false,
     "tableResultSettingsMap": {},
     "title": ""
    }
   },
   "source": [
    "Scenario 6: Alerts from Restock Logs (Join Task)"
   ]
  },
  {
   "cell_type": "code",
   "execution_count": 0,
   "metadata": {
    "application/vnd.databricks.v1+cell": {
     "cellMetadata": {
      "byteLimit": 2048000,
      "rowLimit": 10000
     },
     "inputWidgets": {},
     "nuid": "36140832-8fc0-40f5-b97f-056347663a1d",
     "showTitle": false,
     "tableResultSettingsMap": {},
     "title": ""
    }
   },
   "outputs": [],
   "source": [
    "\n",
    "from delta.tables import DeltaTable\n",
    "from pyspark.sql.functions import col, month, datediff, when, to_date\n",
    "logs = spark.read.option(\"header\", True).csv(\"file:/Workspace/Shared/restock_logs.csv\") \\\n",
    "    .withColumnRenamed(\"QuantityAdded \", \"QuantityAdded\") \\\n",
    "    .withColumn(\"RestockDate\", to_date(\"RestockDate\", \"yyyy-MM-dd\"))\n",
    "df = spark.read.format(\"delta\").load(\"file:/Workspace/Shared/retail_inventory\")\n",
    "if 'RestockedRecently' not in df.columns:\n",
    "    df = df.withColumn(\"RestockedRecently\", col(\"StockQty\") * 0 == 1)  \n",
    "    df.write.format(\"delta\").mode(\"overwrite\").option(\"overwriteSchema\", \"true\").save(\"file:/Workspace/Shared/retail_inventory\")\n",
    "delta = DeltaTable.forPath(spark, \"file:/Workspace/Shared/retail_inventory\")\n"
   ]
  },
  {
   "cell_type": "code",
   "execution_count": 0,
   "metadata": {
    "application/vnd.databricks.v1+cell": {
     "cellMetadata": {
      "byteLimit": 2048000,
      "rowLimit": 10000
     },
     "inputWidgets": {},
     "nuid": "6b397ccd-688b-41bf-b28b-b74d7161fc58",
     "showTitle": false,
     "tableResultSettingsMap": {},
     "title": ""
    }
   },
   "outputs": [],
   "source": [
    "#Join with inventory table to update StockQty.\n",
    "updated = df.alias(\"i\").join(logs.alias(\"r\"), \"ItemID\", \"left\") \\\n",
    "    .withColumn(\"NewStockQty\", col(\"StockQty\") + col(\"QuantityAdded\")) \\\n",
    "    .withColumn(\"RestockedRecently\", col(\"QuantityAdded\").isNotNull())"
   ]
  },
  {
   "cell_type": "code",
   "execution_count": 0,
   "metadata": {
    "application/vnd.databricks.v1+cell": {
     "cellMetadata": {
      "byteLimit": 2048000,
      "rowLimit": 10000
     },
     "inputWidgets": {},
     "nuid": "4d22f6fb-78a8-4c98-86ef-f6598e7c6e61",
     "showTitle": false,
     "tableResultSettingsMap": {},
     "title": ""
    }
   },
   "outputs": [],
   "source": [
    "# Use MERGE INTO to update in Delta.\n",
    "delta.alias(\"t\").merge(\n",
    "    updated.select(\"ItemID\", \"NewStockQty\", \"RestockedRecently\").alias(\"s\"),\n",
    "    \"t.ItemID = s.ItemID\"\n",
    ").whenMatchedUpdate(set={\n",
    "    \"StockQty\": \"s.NewStockQty\",\n",
    "    \"RestockedRecently\": \"s.RestockedRecently\"\n",
    "}).execute()"
   ]
  },
  {
   "cell_type": "markdown",
   "metadata": {
    "application/vnd.databricks.v1+cell": {
     "cellMetadata": {},
     "inputWidgets": {},
     "nuid": "83cfdd32-4bb9-418e-93b8-2d149f8fc1b1",
     "showTitle": false,
     "tableResultSettingsMap": {},
     "title": ""
    }
   },
   "source": [
    "Scenario 7: Report Generation with SQL Views"
   ]
  },
  {
   "cell_type": "code",
   "execution_count": 0,
   "metadata": {
    "application/vnd.databricks.v1+cell": {
     "cellMetadata": {
      "byteLimit": 2048000,
      "rowLimit": 10000
     },
     "inputWidgets": {},
     "nuid": "c801e425-56ac-457d-8fef-796ef85d479c",
     "showTitle": false,
     "tableResultSettingsMap": {},
     "title": ""
    }
   },
   "outputs": [
    {
     "output_type": "execute_result",
     "data": {
      "text/plain": [
       "DataFrame[]"
      ]
     },
     "execution_count": 30,
     "metadata": {},
     "output_type": "execute_result"
    }
   ],
   "source": [
    "# Create SQL view inventory_summary with:\n",
    "# ItemName, Category, StockQty, NeedsReorder, TotalStockValue\n",
    "spark.sql(\"\"\"CREATE OR REPLACE TEMP VIEW inventory_summary AS\n",
    "SELECT ItemName, Category, StockQty, NeedsReorder, StockQty*UnitPrice AS TotalStockValue\n",
    "FROM delta.`file:/Workspace/Shared/retail_inventory`\"\"\")"
   ]
  },
  {
   "cell_type": "code",
   "execution_count": 0,
   "metadata": {
    "application/vnd.databricks.v1+cell": {
     "cellMetadata": {
      "byteLimit": 2048000,
      "rowLimit": 10000
     },
     "inputWidgets": {},
     "nuid": "edab430a-ed11-4830-aff8-6124134e3f0b",
     "showTitle": false,
     "tableResultSettingsMap": {},
     "title": ""
    }
   },
   "outputs": [
    {
     "output_type": "execute_result",
     "data": {
      "text/plain": [
       "DataFrame[]"
      ]
     },
     "execution_count": 31,
     "metadata": {},
     "output_type": "execute_result"
    }
   ],
   "source": [
    "#Create view supplier_leaderboard sorted by average price\n",
    "spark.sql(\"\"\"CREATE OR REPLACE TEMP VIEW supplier_leaderboard AS\n",
    "SELECT Supplier, AVG(UnitPrice) AS AvgPrice\n",
    "FROM delta.`file:/Workspace/Shared/retail_inventory`\n",
    "GROUP BY Supplier\n",
    "ORDER BY AvgPrice\"\"\")"
   ]
  },
  {
   "cell_type": "markdown",
   "metadata": {
    "application/vnd.databricks.v1+cell": {
     "cellMetadata": {},
     "inputWidgets": {},
     "nuid": "9b76fa3a-75ad-496d-95d2-ea89b8951f34",
     "showTitle": false,
     "tableResultSettingsMap": {},
     "title": ""
    }
   },
   "source": [
    "Scenario 8: Advanced Filtering"
   ]
  },
  {
   "cell_type": "code",
   "execution_count": 0,
   "metadata": {
    "application/vnd.databricks.v1+cell": {
     "cellMetadata": {
      "byteLimit": 2048000,
      "rowLimit": 10000
     },
     "inputWidgets": {},
     "nuid": "29086e39-914f-4d92-8d94-e20a4917f43d",
     "showTitle": false,
     "tableResultSettingsMap": {},
     "title": ""
    }
   },
   "outputs": [],
   "source": [
    "# Use when / otherwise to categorize items:\n",
    "# \"Overstocked\" (>2x ReorderLevel)\n",
    "# \"LowStock\"\n",
    "df=df.select(\n",
    "    \"ItemName\", \"Category\", \"StockQty\", \"ReorderLevel\", \"TotalStockValue\",\"LastRestocked\"\n",
    ").withColumn(\n",
    "    \"NeedsReorder\", col(\"StockQty\") < col(\"ReorderLevel\")\n",
    ")\n",
    "df.createOrReplaceTempView(\"inventory_summary\")\n",
    "df = spark.table(\"inventory_summary\").withColumn(\"StockStatus\",\n",
    "    when(col(\"StockQty\") > 2 * col(\"ReorderLevel\"), \"Overstocked\")\n",
    "    .when(col(\"StockQty\") < col(\"ReorderLevel\"), \"LowStock\")\n",
    "    .otherwise(\"OK\")\n",
    ")"
   ]
  },
  {
   "cell_type": "code",
   "execution_count": 0,
   "metadata": {
    "application/vnd.databricks.v1+cell": {
     "cellMetadata": {
      "byteLimit": 2048000,
      "rowLimit": 10000
     },
     "inputWidgets": {},
     "nuid": "a9f3d619-2299-4024-8c08-afea6c7d6dd0",
     "showTitle": false,
     "tableResultSettingsMap": {},
     "title": ""
    }
   },
   "outputs": [
    {
     "output_type": "stream",
     "name": "stdout",
     "output_type": "stream",
     "text": [
      "+--------+--------+--------+------------+---------------+-------------+------------+-----------+\n|ItemName|Category|StockQty|ReorderLevel|TotalStockValue|LastRestocked|NeedsReorder|StockStatus|\n+--------+--------+--------+------------+---------------+-------------+------------+-----------+\n+--------+--------+--------+------------+---------------+-------------+------------+-----------+\n\n+--------+--------+--------+------------+---------------+-------------+------------+-----------+\n|ItemName|Category|StockQty|ReorderLevel|TotalStockValue|LastRestocked|NeedsReorder|StockStatus|\n+--------+--------+--------+------------+---------------+-------------+------------+-----------+\n+--------+--------+--------+------------+---------------+-------------+------------+-----------+\n\n"
     ]
    }
   ],
   "source": [
    "# Use .filter() and .where() for the same and compare.\n",
    "df.filter(col(\"StockQty\") < col(\"ReorderLevel\")).show()\n",
    "df.where(\"StockQty < ReorderLevel\").show()"
   ]
  },
  {
   "cell_type": "markdown",
   "metadata": {
    "application/vnd.databricks.v1+cell": {
     "cellMetadata": {},
     "inputWidgets": {},
     "nuid": "4219787a-17a3-4d71-a411-8e08a4749517",
     "showTitle": false,
     "tableResultSettingsMap": {},
     "title": ""
    }
   },
   "source": [
    "Scenario 9: Feature Engineering"
   ]
  },
  {
   "cell_type": "code",
   "execution_count": 0,
   "metadata": {
    "application/vnd.databricks.v1+cell": {
     "cellMetadata": {
      "byteLimit": 2048000,
      "rowLimit": 10000
     },
     "inputWidgets": {},
     "nuid": "497ca9f9-cdbf-4051-95a7-9eddd10ad2f9",
     "showTitle": false,
     "tableResultSettingsMap": {},
     "title": ""
    }
   },
   "outputs": [
    {
     "output_type": "stream",
     "name": "stdout",
     "output_type": "stream",
     "text": [
      "+------------+------------+--------+--------------+\n|    ItemName|RestockMonth|StockAge|StockAgeBucket|\n+------------+------------+--------+--------------+\n|      LED TV|           3|     461|         Stale|\n|Office Chair|           3|     451|         Stale|\n|Refrigerator|           2|     485|         Stale|\n|     Printer|           3|     446|         Stale|\n|      Laptop|           4|     444|         Stale|\n+------------+------------+--------+--------------+\n\n"
     ]
    }
   ],
   "source": [
    "# Extract RestockMonth from LastRestocked .\n",
    "# Create feature: StockAge = CURRENT_DATE - LastRestocked\n",
    "# Bucket StockAge into: New, Moderate, Stale\n",
    "from pyspark.sql.functions import month, datediff, current_date, when\n",
    "df = spark.table(\"inventory_summary\")\n",
    "df = df.withColumn(\"RestockMonth\", month(\"LastRestocked\")) \\\n",
    "       .withColumn(\"StockAge\", datediff(current_date(), col(\"LastRestocked\"))) \\\n",
    "       .withColumn(\"StockAgeBucket\",\n",
    "           when(col(\"StockAge\") < 30, \"New\")\n",
    "           .when(col(\"StockAge\") < 90, \"Moderate\")\n",
    "           .otherwise(\"Stale\"))\n",
    "df.select(\"ItemName\", \"RestockMonth\", \"StockAge\", \"StockAgeBucket\").show()"
   ]
  },
  {
   "cell_type": "markdown",
   "metadata": {
    "application/vnd.databricks.v1+cell": {
     "cellMetadata": {},
     "inputWidgets": {},
     "nuid": "8b9caac5-de2c-4702-83f6-aeab7cb49f38",
     "showTitle": false,
     "tableResultSettingsMap": {},
     "title": ""
    }
   },
   "source": [
    "Scenario 10: Export Options"
   ]
  },
  {
   "cell_type": "code",
   "execution_count": 0,
   "metadata": {
    "application/vnd.databricks.v1+cell": {
     "cellMetadata": {
      "byteLimit": 2048000,
      "rowLimit": 10000
     },
     "inputWidgets": {},
     "nuid": "f1baa133-50f8-4660-b69f-819d22c97642",
     "showTitle": false,
     "tableResultSettingsMap": {},
     "title": ""
    }
   },
   "outputs": [],
   "source": [
    "# Write full DataFrame to:\n",
    "# CSV for analysts\n",
    "# JSON for integration\n",
    "# Delta for pipelines\n",
    "# Save with meaningful file and partition names like\n",
    "# /export/inventory/stale_items/\n",
    "\n",
    "df.write.mode(\"overwrite\").option(\"header\",True) \\\n",
    "   .csv(\"file:/Workspace/Shared/export/inventory/all_items_csv\")\n",
    "df.write.mode(\"overwrite\").json(\"file:/Workspace/Shared/export/inventory/all_items_json\")\n",
    "df.write.mode(\"overwrite\").format(\"delta\") \\\n",
    "   .save(\"file:/Workspace/Shared/export/inventory/all_items_delta\")"
   ]
  }
 ],
 "metadata": {
  "application/vnd.databricks.v1+notebook": {
   "computePreferences": null,
   "dashboards": [],
   "environmentMetadata": {
    "base_environment": "",
    "environment_version": "2"
   },
   "inputWidgetPreferences": null,
   "language": "python",
   "notebookMetadata": {
    "pythonIndentUnit": 4
   },
   "notebookName": "Anusha P(19_06_2025) Set 3",
   "widgets": {}
  },
  "language_info": {
   "name": "python"
  }
 },
 "nbformat": 4,
 "nbformat_minor": 0
}