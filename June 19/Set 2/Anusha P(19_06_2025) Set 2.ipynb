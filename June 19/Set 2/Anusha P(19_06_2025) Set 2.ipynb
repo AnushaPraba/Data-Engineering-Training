{
 "cells": [
  {
   "cell_type": "code",
   "execution_count": 0,
   "metadata": {
    "application/vnd.databricks.v1+cell": {
     "cellMetadata": {
      "byteLimit": 2048000,
      "rowLimit": 10000
     },
     "inputWidgets": {},
     "nuid": "748a9798-137e-48e7-acc4-0597b655351a",
     "showTitle": false,
     "tableResultSettingsMap": {},
     "title": ""
    }
   },
   "outputs": [
    {
     "output_type": "execute_result",
     "data": {
      "text/html": [
       "\n",
       "            <div>\n",
       "                <p><b>SparkSession - hive</b></p>\n",
       "                \n",
       "        <div>\n",
       "            <p><b>SparkContext</b></p>\n",
       "\n",
       "            <p><a href=\"/?o=2806829887576824#setting/sparkui/0612-043650-nhuexwr6/driver-5460914794868977173\">Spark UI</a></p>\n",
       "\n",
       "            <dl>\n",
       "              <dt>Version</dt>\n",
       "                <dd><code>v3.5.0</code></dd>\n",
       "              <dt>Master</dt>\n",
       "                <dd><code>local[*, 4]</code></dd>\n",
       "              <dt>AppName</dt>\n",
       "                <dd><code>Databricks Shell</code></dd>\n",
       "            </dl>\n",
       "        </div>\n",
       "        \n",
       "            </div>\n",
       "        "
      ],
      "text/plain": [
       "<pyspark.sql.session.SparkSession at 0x7b335e9a4790>"
      ]
     },
     "execution_count": 1,
     "metadata": {},
     "output_type": "execute_result"
    }
   ],
   "source": [
    "from pyspark.sql import SparkSession\n",
    "spark=SparkSession.builder.getOrCreate()\n",
    "spark "
   ]
  },
  {
   "cell_type": "markdown",
   "metadata": {
    "application/vnd.databricks.v1+cell": {
     "cellMetadata": {},
     "inputWidgets": {},
     "nuid": "b81fd8ef-fcac-4b78-9a7c-d73f6e88f15d",
     "showTitle": false,
     "tableResultSettingsMap": {},
     "title": ""
    }
   },
   "source": [
    "Ingestion & Time Fields"
   ]
  },
  {
   "cell_type": "code",
   "execution_count": 0,
   "metadata": {
    "application/vnd.databricks.v1+cell": {
     "cellMetadata": {
      "byteLimit": 2048000,
      "rowLimit": 10000
     },
     "inputWidgets": {},
     "nuid": "43797e07-5291-4214-9ff4-935f64ab0872",
     "showTitle": false,
     "tableResultSettingsMap": {},
     "title": ""
    }
   },
   "outputs": [],
   "source": [
    "# Load into PySpark with inferred schema\n",
    "from pyspark.sql.functions import to_date, datediff, coalesce, col\n",
    "df=spark.read.option(\"header\", True).option(\"inferSchema\", True) \\\n",
    "    .csv(\"file:/Workspace/Shared/course_enrollment.csv\")"
   ]
  },
  {
   "cell_type": "code",
   "execution_count": 0,
   "metadata": {
    "application/vnd.databricks.v1+cell": {
     "cellMetadata": {
      "byteLimit": 2048000,
      "rowLimit": 10000
     },
     "inputWidgets": {},
     "nuid": "22b9b760-0908-40dd-bc27-f363a6f22a67",
     "showTitle": false,
     "tableResultSettingsMap": {},
     "title": ""
    }
   },
   "outputs": [],
   "source": [
    "# Convert EnrollDate and CompletionDate to date type\n",
    "df = df.withColumn(\"EnrollDate\", to_date(\"EnrollDate\", \"yyyy-MM-dd\")) \\\n",
    "       .withColumn(\"CompletionDate\", to_date(\"CompletionDate\", \"yyyy-MM-dd\"))"
   ]
  },
  {
   "cell_type": "code",
   "execution_count": 0,
   "metadata": {
    "application/vnd.databricks.v1+cell": {
     "cellMetadata": {
      "byteLimit": 2048000,
      "rowLimit": 10000
     },
     "inputWidgets": {},
     "nuid": "e07cdc4d-d93b-4295-b229-a386e9d48fd4",
     "showTitle": false,
     "tableResultSettingsMap": {},
     "title": ""
    }
   },
   "outputs": [
    {
     "output_type": "stream",
     "name": "stdout",
     "output_type": "stream",
     "text": [
      "+--------+------+--------+-----------------+------------+----------+--------------+---------------+----+--------------+\n|EnrollID|UserID|CourseID|       CourseName|    Category|EnrollDate|CompletionDate|ProgressPercent|   R|DaysToComplete|\n+--------+------+--------+-----------------+------------+----------+--------------+---------------+----+--------------+\n|    E001|  U001|    C001|    Python Basics| Programming|2024-04-01|    2024-04-10|            100|   4|             9|\n|    E002|  U002|    C002|Excel for Finance|Productivity|2024-04-02|          NULL|             45|NULL|          NULL|\n|    E003|  U001|    C003|  ML with PySpark|Data Science|2024-04-03|          NULL|             30|NULL|          NULL|\n|    E004|  U003|    C001|    Python Basics| Programming|2024-04-04|    2024-04-20|            100|   5|            16|\n|    E005|  U004|    C004|Digital Marketing|   Marketing|2024-04-05|    2024-04-16|            100|   4|            11|\n+--------+------+--------+-----------------+------------+----------+--------------+---------------+----+--------------+\n\n"
     ]
    }
   ],
   "source": [
    "# Add DaysToComplete column if completed\n",
    "df=df.withColumn(\"DaysToComplete\",\n",
    "           datediff(\"CompletionDate\", \"EnrollDate\"))\n",
    "df.show()"
   ]
  },
  {
   "cell_type": "markdown",
   "metadata": {
    "application/vnd.databricks.v1+cell": {
     "cellMetadata": {},
     "inputWidgets": {},
     "nuid": "b0728b42-5ad0-41e1-b906-717d59287cd3",
     "showTitle": false,
     "tableResultSettingsMap": {},
     "title": ""
    }
   },
   "source": [
    "User Learning Path Progress"
   ]
  },
  {
   "cell_type": "code",
   "execution_count": 0,
   "metadata": {
    "application/vnd.databricks.v1+cell": {
     "cellMetadata": {
      "byteLimit": 2048000,
      "rowLimit": 10000
     },
     "inputWidgets": {},
     "nuid": "0468cb20-021a-4472-a326-3fabe0e41842",
     "showTitle": false,
     "tableResultSettingsMap": {},
     "title": ""
    }
   },
   "outputs": [
    {
     "output_type": "stream",
     "name": "stdout",
     "output_type": "stream",
     "text": [
      "+------+---------------+-----------+----------------+\n|UserID|CoursesEnrolled|AvgProgress|CompletedCourses|\n+------+---------------+-----------+----------------+\n|  U004|              1|      100.0|               1|\n|  U002|              1|       45.0|               0|\n|  U003|              1|      100.0|               1|\n|  U001|              2|       65.0|               1|\n+------+---------------+-----------+----------------+\n\n"
     ]
    }
   ],
   "source": [
    "# Group by UserID : count of courses enrolled\n",
    "#Avg progress % across all enrollments\n",
    "# Flag IsCompleted = ProgressPercent = 100\n",
    "from pyspark.sql.functions import *\n",
    "progress = df.groupBy(\"UserID\").agg(\n",
    "      count(\"*\").alias(\"CoursesEnrolled\"),\n",
    "      avg(\"ProgressPercent\").alias(\"AvgProgress\"),\n",
    "      sum(when(col(\"ProgressPercent\") == 100, 1).otherwise(0)).alias(\"CompletedCourses\"))\n",
    "progress.show()"
   ]
  },
  {
   "cell_type": "markdown",
   "metadata": {
    "application/vnd.databricks.v1+cell": {
     "cellMetadata": {},
     "inputWidgets": {},
     "nuid": "e3eb5d53-0870-4d5b-af90-45d7bbe32d6c",
     "showTitle": false,
     "tableResultSettingsMap": {},
     "title": ""
    }
   },
   "source": [
    "Engagement Scoring"
   ]
  },
  {
   "cell_type": "code",
   "execution_count": 0,
   "metadata": {
    "application/vnd.databricks.v1+cell": {
     "cellMetadata": {
      "byteLimit": 2048000,
      "rowLimit": 10000
     },
     "inputWidgets": {},
     "nuid": "dd968308-6ad7-4417-b101-477cf71fd26f",
     "showTitle": false,
     "tableResultSettingsMap": {},
     "title": ""
    }
   },
   "outputs": [
    {
     "output_type": "stream",
     "name": "stdout",
     "output_type": "stream",
     "text": [
      "EngagementScore:\n+--------+------+--------+-----------------+------------+----------+--------------+---------------+----+--------------+------+---------------+\n|EnrollID|UserID|CourseID|       CourseName|    Category|EnrollDate|CompletionDate|ProgressPercent|   R|DaysToComplete|Rating|EngagementScore|\n+--------+------+--------+-----------------+------------+----------+--------------+---------------+----+--------------+------+---------------+\n|    E001|  U001|    C001|    Python Basics| Programming|2024-04-01|    2024-04-10|            100|   4|             9|     4|            400|\n|    E002|  U002|    C002|Excel for Finance|Productivity|2024-04-02|          NULL|             45|NULL|          NULL|     0|              0|\n|    E003|  U001|    C003|  ML with PySpark|Data Science|2024-04-03|          NULL|             30|NULL|          NULL|     0|              0|\n|    E004|  U003|    C001|    Python Basics| Programming|2024-04-04|    2024-04-20|            100|   5|            16|     5|            500|\n|    E005|  U004|    C004|Digital Marketing|   Marketing|2024-04-05|    2024-04-16|            100|   4|            11|     4|            400|\n+--------+------+--------+-----------------+------------+----------+--------------+---------------+----+--------------+------+---------------+\n\n"
     ]
    }
   ],
   "source": [
    "#Create a score: ProgressPercent * Rating (if not null)\n",
    "# Replace null Rating with 0 before computing\n",
    "from pyspark.sql.functions import *\n",
    "df = df.withColumn(\"Rating\", coalesce(col(\"Rating\"), lit(0)))\n",
    "print(\"EngagementScore:\")\n",
    "df = df.withColumn(\"EngagementScore\", col(\"ProgressPercent\") * col(\"Rating\"))\n",
    "df.show()"
   ]
  },
  {
   "cell_type": "markdown",
   "metadata": {
    "application/vnd.databricks.v1+cell": {
     "cellMetadata": {},
     "inputWidgets": {},
     "nuid": "1b767006-7783-4472-8941-dd072c85e621",
     "showTitle": false,
     "tableResultSettingsMap": {},
     "title": ""
    }
   },
   "source": [
    "Identify Drop-offs"
   ]
  },
  {
   "cell_type": "code",
   "execution_count": 0,
   "metadata": {
    "application/vnd.databricks.v1+cell": {
     "cellMetadata": {
      "byteLimit": 2048000,
      "rowLimit": 10000
     },
     "inputWidgets": {},
     "nuid": "8d915198-c933-4794-9baf-c8af0c004b89",
     "showTitle": false,
     "tableResultSettingsMap": {},
     "title": ""
    }
   },
   "outputs": [
    {
     "output_type": "execute_result",
     "data": {
      "text/plain": [
       "DataFrame[]"
      ]
     },
     "execution_count": 10,
     "metadata": {},
     "output_type": "execute_result"
    }
   ],
   "source": [
    "#Filter all records with ProgressPercent < 50 and CompletionDate is null\n",
    "# Create a view called Dropouts\n",
    "df.createOrReplaceTempView(\"enrollments\")\n",
    "spark.sql(\"\"\"\n",
    "  CREATE OR REPLACE TEMP VIEW Dropouts AS\n",
    "  SELECT *\n",
    "  FROM enrollments\n",
    "  WHERE ProgressPercent < 50\n",
    "    AND CompletionDate IS NULL\n",
    "\"\"\")"
   ]
  },
  {
   "cell_type": "markdown",
   "metadata": {
    "application/vnd.databricks.v1+cell": {
     "cellMetadata": {},
     "inputWidgets": {},
     "nuid": "fa0516f1-2cf4-4b1c-a597-57ad45e3fac9",
     "showTitle": false,
     "tableResultSettingsMap": {},
     "title": ""
    }
   },
   "source": [
    "Joins with Metadata"
   ]
  },
  {
   "cell_type": "code",
   "execution_count": 0,
   "metadata": {
    "application/vnd.databricks.v1+cell": {
     "cellMetadata": {
      "byteLimit": 2048000,
      "rowLimit": 10000
     },
     "inputWidgets": {},
     "nuid": "38783447-1b59-4b4d-b755-398635f29d36",
     "showTitle": false,
     "tableResultSettingsMap": {},
     "title": ""
    }
   },
   "outputs": [
    {
     "output_type": "stream",
     "name": "stdout",
     "output_type": "stream",
     "text": [
      "+-------------+-----------+\n|   Instructor|AvgProgress|\n+-------------+-----------+\n|Abdullah Khan|      100.0|\n|  Zoya Sheikh|      100.0|\n|   Sana Gupta|       45.0|\n| Ibrahim Khan|       30.0|\n+-------------+-----------+\n\n"
     ]
    }
   ],
   "source": [
    "# Join to find average progress per instructor\n",
    "catalog = spark.read.option(\"header\", True).option(\"inferSchema\", True).csv(\"file:/Workspace/Shared/course_catalog.csv\")\n",
    "joined = df.join(catalog, \"CourseID\", \"left\")\n",
    "joined.groupBy(\"Instructor\").agg(avg(\"ProgressPercent\").alias(\"AvgProgress\")).orderBy(col(\"AvgProgress\").desc()).show()\n"
   ]
  },
  {
   "cell_type": "code",
   "execution_count": 0,
   "metadata": {
    "application/vnd.databricks.v1+cell": {
     "cellMetadata": {
      "byteLimit": 2048000,
      "rowLimit": 10000
     },
     "inputWidgets": {},
     "nuid": "6d777a8d-9112-4552-942e-9c71ebbdb6f9",
     "showTitle": false,
     "tableResultSettingsMap": {},
     "title": ""
    }
   },
   "outputs": [
    {
     "output_type": "stream",
     "name": "stdout",
     "output_type": "stream",
     "text": [
      "+--------+-------------+-----------+\n|CourseID|   CourseName|EnrollCount|\n+--------+-------------+-----------+\n|    C001|Python Basics|          2|\n+--------+-------------+-----------+\n\n"
     ]
    }
   ],
   "source": [
    "# Show who teaches the most enrolled course\n",
    "joined.groupBy(\"CourseID\",\"CourseName\") .agg(count(\"*\").alias(\"EnrollCount\")).orderBy(col(\"EnrollCount\").desc()).limit(1).show()"
   ]
  },
  {
   "cell_type": "markdown",
   "metadata": {
    "application/vnd.databricks.v1+cell": {
     "cellMetadata": {},
     "inputWidgets": {},
     "nuid": "84a34e7a-5a44-4db7-a4a8-82ecbaef9c20",
     "showTitle": false,
     "tableResultSettingsMap": {},
     "title": ""
    }
   },
   "source": [
    "Delta Lake Practice"
   ]
  },
  {
   "cell_type": "code",
   "execution_count": 0,
   "metadata": {
    "application/vnd.databricks.v1+cell": {
     "cellMetadata": {
      "byteLimit": 2048000,
      "rowLimit": 10000
     },
     "inputWidgets": {},
     "nuid": "4ea363ff-19de-4b08-b02b-e075087c81d7",
     "showTitle": false,
     "tableResultSettingsMap": {},
     "title": ""
    }
   },
   "outputs": [],
   "source": [
    "# Save as Delta Table enrollments_delta\n",
    "joined.write.format(\"delta\").mode(\"overwrite\").save(\"file:/Workspace/Shared/enrollments_delta\")"
   ]
  },
  {
   "cell_type": "code",
   "execution_count": 0,
   "metadata": {
    "application/vnd.databricks.v1+cell": {
     "cellMetadata": {
      "byteLimit": 2048000,
      "rowLimit": 10000
     },
     "inputWidgets": {},
     "nuid": "cca29681-62a6-420e-b8d7-e980bd6a0698",
     "showTitle": false,
     "tableResultSettingsMap": {},
     "title": ""
    }
   },
   "outputs": [],
   "source": [
    "# Apply:\n",
    "# Update: Set all ratings to 5 where Course = 'Python Basics'\n",
    "# Delete: All rows where ProgressPercent = 0\n",
    "from delta.tables import DeltaTable\n",
    "dt = DeltaTable.forPath(spark, \"file:/Workspace/Shared/enrollments_delta\")\n",
    "dt.update(condition=\"CourseName = 'Python Basics'\", set={\"Rating\":\"5\"})\n",
    "dt.delete(condition=\"ProgressPercent = 0\")"
   ]
  },
  {
   "cell_type": "code",
   "execution_count": 0,
   "metadata": {
    "application/vnd.databricks.v1+cell": {
     "cellMetadata": {
      "byteLimit": 2048000,
      "rowLimit": 10000
     },
     "inputWidgets": {},
     "nuid": "fb93a61e-62e1-4efd-9f5f-5f9cebbb4c7d",
     "showTitle": false,
     "tableResultSettingsMap": {},
     "title": ""
    }
   },
   "outputs": [
    {
     "output_type": "stream",
     "name": "stdout",
     "output_type": "stream",
     "text": [
      "+-------+--------------------+----------------+--------------------+---------+--------------------+----+------------------+--------------------+-----------+-----------------+-------------+--------------------+------------+--------------------+\n|version|           timestamp|          userId|            userName|operation| operationParameters| job|          notebook|           clusterId|readVersion|   isolationLevel|isBlindAppend|    operationMetrics|userMetadata|          engineInfo|\n+-------+--------------------+----------------+--------------------+---------+--------------------+----+------------------+--------------------+-----------+-----------------+-------------+--------------------+------------+--------------------+\n|      2|2025-06-19 09:11:...|4042796083082360|azuser3548_mml.lo...|   DELETE|{predicate -> [\"(...|NULL|{4419187724732099}|0612-043650-nhuexwr6|          1|WriteSerializable|        false|{numRemovedFiles ...|        NULL|Databricks-Runtim...|\n|      1|2025-06-19 09:11:...|4042796083082360|azuser3548_mml.lo...|   UPDATE|{predicate -> [\"(...|NULL|{4419187724732099}|0612-043650-nhuexwr6|          0|WriteSerializable|        false|{numRemovedFiles ...|        NULL|Databricks-Runtim...|\n|      0|2025-06-19 09:11:...|4042796083082360|azuser3548_mml.lo...|    WRITE|{mode -> Overwrit...|NULL|{4419187724732099}|0612-043650-nhuexwr6|       NULL|WriteSerializable|        false|{numFiles -> 1, n...|        NULL|Databricks-Runtim...|\n+-------+--------------------+----------------+--------------------+---------+--------------------+----+------------------+--------------------+-----------+-----------------+-------------+--------------------+------------+--------------------+\n\n"
     ]
    }
   ],
   "source": [
    "# Show DESCRIBE HISTORY\n",
    "spark.sql(\"DESCRIBE HISTORY delta.`file:/Workspace/Shared/enrollments_delta`\").show()"
   ]
  },
  {
   "cell_type": "markdown",
   "metadata": {
    "application/vnd.databricks.v1+cell": {
     "cellMetadata": {},
     "inputWidgets": {},
     "nuid": "0bb2c840-1c39-4987-81ad-c82b0c5cd5f8",
     "showTitle": false,
     "tableResultSettingsMap": {},
     "title": ""
    }
   },
   "source": [
    "Window Functions"
   ]
  },
  {
   "cell_type": "code",
   "execution_count": 0,
   "metadata": {
    "application/vnd.databricks.v1+cell": {
     "cellMetadata": {
      "byteLimit": 2048000,
      "rowLimit": 10000
     },
     "inputWidgets": {},
     "nuid": "9553187c-0b3d-4edc-b887-d100103bc3e3",
     "showTitle": false,
     "tableResultSettingsMap": {},
     "title": ""
    }
   },
   "outputs": [
    {
     "output_type": "stream",
     "name": "stdout",
     "output_type": "stream",
     "text": [
      "+--------+-----------------+-----------+----+\n|CourseID|       CourseName|EnrollCount|Rank|\n+--------+-----------------+-----------+----+\n|    C001|    Python Basics|          2|   1|\n|    C004|Digital Marketing|          1|   2|\n|    C002|Excel for Finance|          1|   2|\n|    C003|  ML with PySpark|          1|   2|\n+--------+-----------------+-----------+----+\n\n"
     ]
    }
   ],
   "source": [
    "# Use dense_rank() to rank courses by number of enrollments\n",
    "from pyspark.sql.window import Window\n",
    "from pyspark.sql.functions import dense_rank, lead\n",
    "w1 = Window.orderBy(col(\"EnrollCount\").desc())\n",
    "course_rank = joined.groupBy(\"CourseID\",\"CourseName\") .agg(count(\"*\").alias(\"EnrollCount\")).withColumn(\"Rank\", dense_rank().over(w1))\n",
    "course_rank.show()"
   ]
  },
  {
   "cell_type": "code",
   "execution_count": 0,
   "metadata": {
    "application/vnd.databricks.v1+cell": {
     "cellMetadata": {
      "byteLimit": 2048000,
      "rowLimit": 10000
     },
     "inputWidgets": {},
     "nuid": "54ffac8b-479d-4a9c-bebf-04047a34558d",
     "showTitle": false,
     "tableResultSettingsMap": {},
     "title": ""
    }
   },
   "outputs": [
    {
     "output_type": "stream",
     "name": "stdout",
     "output_type": "stream",
     "text": [
      "+--------+--------+------+-----------------+------------+----------+--------------+---------------+----+--------------+------+---------------+-------------+-------------+------------+---------------+\n|CourseID|EnrollID|UserID|       CourseName|    Category|EnrollDate|CompletionDate|ProgressPercent|   R|DaysToComplete|Rating|EngagementScore|   Instructor|DurationHours|       Level|     NextCourse|\n+--------+--------+------+-----------------+------------+----------+--------------+---------------+----+--------------+------+---------------+-------------+-------------+------------+---------------+\n|    C001|    E001|  U001|    Python Basics| Programming|2024-04-01|    2024-04-10|            100|   4|             9|     4|            400|Abdullah Khan|            8|    Beginner|ML with PySpark|\n|    C003|    E003|  U001|  ML with PySpark|Data Science|2024-04-03|          NULL|             30|NULL|          NULL|     0|              0| Ibrahim Khan|           10|Intermediate|           NULL|\n|    C002|    E002|  U002|Excel for Finance|Productivity|2024-04-02|          NULL|             45|NULL|          NULL|     0|              0|   Sana Gupta|            5|    Beginner|           NULL|\n|    C001|    E004|  U003|    Python Basics| Programming|2024-04-04|    2024-04-20|            100|   5|            16|     5|            500|Abdullah Khan|            8|    Beginner|           NULL|\n|    C004|    E005|  U004|Digital Marketing|   Marketing|2024-04-05|    2024-04-16|            100|   4|            11|     4|            400|  Zoya Sheikh|            6|    Beginner|           NULL|\n+--------+--------+------+-----------------+------------+----------+--------------+---------------+----+--------------+------+---------------+-------------+-------------+------------+---------------+\n\n"
     ]
    }
   ],
   "source": [
    "# lead() to find next course by each user (sorted by EnrollDate)\n",
    "w2 = Window.partitionBy(\"UserID\").orderBy(\"EnrollDate\")\n",
    "joined = joined.withColumn(\"NextCourse\", lead(\"CourseName\").over(w2))\n",
    "joined.show()"
   ]
  },
  {
   "cell_type": "markdown",
   "metadata": {
    "application/vnd.databricks.v1+cell": {
     "cellMetadata": {},
     "inputWidgets": {},
     "nuid": "36cd6d8d-9fad-47ac-bbfb-360a1dfa75b8",
     "showTitle": false,
     "tableResultSettingsMap": {},
     "title": ""
    }
   },
   "source": [
    "SQL Logic for Dashboard Views"
   ]
  },
  {
   "cell_type": "code",
   "execution_count": 0,
   "metadata": {
    "application/vnd.databricks.v1+cell": {
     "cellMetadata": {
      "byteLimit": 2048000,
      "rowLimit": 10000
     },
     "inputWidgets": {},
     "nuid": "4de5a3ee-ca48-485b-96f0-d859006e54da",
     "showTitle": false,
     "tableResultSettingsMap": {},
     "title": ""
    }
   },
   "outputs": [
    {
     "output_type": "execute_result",
     "data": {
      "text/plain": [
       "DataFrame[]"
      ]
     },
     "execution_count": 19,
     "metadata": {},
     "output_type": "execute_result"
    }
   ],
   "source": [
    "# Create views:\n",
    "# daily_enrollments\n",
    "spark.sql(\"\"\"CREATE OR REPLACE TEMP VIEW daily_enrollments AS\n",
    "  SELECT EnrollDate, COUNT(*) AS EnrollCount\n",
    "  FROM enrollments\n",
    "  GROUP BY EnrollDate\"\"\")"
   ]
  },
  {
   "cell_type": "code",
   "execution_count": 0,
   "metadata": {
    "application/vnd.databricks.v1+cell": {
     "cellMetadata": {
      "byteLimit": 2048000,
      "rowLimit": 10000
     },
     "inputWidgets": {},
     "nuid": "422b1be9-78dd-479f-8312-eca39f841952",
     "showTitle": false,
     "tableResultSettingsMap": {},
     "title": ""
    }
   },
   "outputs": [
    {
     "output_type": "execute_result",
     "data": {
      "text/plain": [
       "DataFrame[]"
      ]
     },
     "execution_count": 20,
     "metadata": {},
     "output_type": "execute_result"
    }
   ],
   "source": [
    "# category_performance (avg rating by category)\n",
    "spark.sql(\"\"\"CREATE OR REPLACE TEMP VIEW category_performance AS\n",
    "  SELECT Category, AVG(Rating) AS AvgRating\n",
    "  FROM enrollments\n",
    "  GROUP BY Category\"\"\")"
   ]
  },
  {
   "cell_type": "code",
   "execution_count": 0,
   "metadata": {
    "application/vnd.databricks.v1+cell": {
     "cellMetadata": {
      "byteLimit": 2048000,
      "rowLimit": 10000
     },
     "inputWidgets": {},
     "nuid": "9f53f662-8769-4a6b-b47d-f0f4700aa511",
     "showTitle": false,
     "tableResultSettingsMap": {},
     "title": ""
    }
   },
   "outputs": [
    {
     "output_type": "execute_result",
     "data": {
      "text/plain": [
       "DataFrame[]"
      ]
     },
     "execution_count": 21,
     "metadata": {},
     "output_type": "execute_result"
    }
   ],
   "source": [
    "# top_3_courses\n",
    "spark.sql(\"\"\"CREATE OR REPLACE TEMP VIEW top_3_courses AS\n",
    "  SELECT CourseID, CourseName, COUNT(*) AS EnrollCount\n",
    "  FROM enrollments\n",
    "  GROUP BY CourseID, CourseName\n",
    "  ORDER BY EnrollCount DESC\n",
    "  LIMIT 3\"\"\")"
   ]
  },
  {
   "cell_type": "markdown",
   "metadata": {
    "application/vnd.databricks.v1+cell": {
     "cellMetadata": {},
     "inputWidgets": {},
     "nuid": "413f2ef4-b63d-40ac-8b4d-d133e6b26f10",
     "showTitle": false,
     "tableResultSettingsMap": {},
     "title": ""
    }
   },
   "source": [
    "Time Travel"
   ]
  },
  {
   "cell_type": "code",
   "execution_count": 0,
   "metadata": {
    "application/vnd.databricks.v1+cell": {
     "cellMetadata": {
      "byteLimit": 2048000,
      "rowLimit": 10000
     },
     "inputWidgets": {},
     "nuid": "a3925afe-fe2c-4dd9-b505-3797ece4f285",
     "showTitle": false,
     "tableResultSettingsMap": {},
     "title": ""
    }
   },
   "outputs": [
    {
     "output_type": "stream",
     "name": "stdout",
     "output_type": "stream",
     "text": [
      "+--------+--------+------+-----------------+------------+----------+--------------+---------------+----+--------------+------+---------------+-------------+-------------+------------+\n|CourseID|EnrollID|UserID|       CourseName|    Category|EnrollDate|CompletionDate|ProgressPercent|   R|DaysToComplete|Rating|EngagementScore|   Instructor|DurationHours|       Level|\n+--------+--------+------+-----------------+------------+----------+--------------+---------------+----+--------------+------+---------------+-------------+-------------+------------+\n|    C001|    E001|  U001|    Python Basics| Programming|2024-04-01|    2024-04-10|            100|   4|             9|     4|            400|Abdullah Khan|            8|    Beginner|\n|    C002|    E002|  U002|Excel for Finance|Productivity|2024-04-02|          NULL|             45|NULL|          NULL|     0|              0|   Sana Gupta|            5|    Beginner|\n|    C003|    E003|  U001|  ML with PySpark|Data Science|2024-04-03|          NULL|             30|NULL|          NULL|     0|              0| Ibrahim Khan|           10|Intermediate|\n|    C001|    E004|  U003|    Python Basics| Programming|2024-04-04|    2024-04-20|            100|   5|            16|     5|            500|Abdullah Khan|            8|    Beginner|\n|    C004|    E005|  U004|Digital Marketing|   Marketing|2024-04-05|    2024-04-16|            100|   4|            11|     4|            400|  Zoya Sheikh|            6|    Beginner|\n+--------+--------+------+-----------------+------------+----------+--------------+---------------+----+--------------+------+---------------+-------------+-------------+------------+\n\n"
     ]
    }
   ],
   "source": [
    "# View previous version before update/delete\n",
    "spark.read.format(\"delta\").option(\"versionAsOf\", 0).load(\"file:/Workspace/Shared/enrollments_delta\").show()"
   ]
  },
  {
   "cell_type": "markdown",
   "metadata": {
    "application/vnd.databricks.v1+cell": {
     "cellMetadata": {},
     "inputWidgets": {},
     "nuid": "61f5cca3-4152-4088-84e1-67c823e29fb2",
     "showTitle": false,
     "tableResultSettingsMap": {},
     "title": ""
    }
   },
   "source": [
    "Export Reporting"
   ]
  },
  {
   "cell_type": "code",
   "execution_count": 0,
   "metadata": {
    "application/vnd.databricks.v1+cell": {
     "cellMetadata": {
      "byteLimit": 2048000,
      "rowLimit": 10000
     },
     "inputWidgets": {},
     "nuid": "249562e2-2710-46a7-a12f-e5a6da0c43f3",
     "showTitle": false,
     "tableResultSettingsMap": {},
     "title": ""
    }
   },
   "outputs": [],
   "source": [
    "# Write to JSON, partitioned by Category\n",
    "df.write.mode(\"overwrite\").partitionBy(\"Category\").json(\"file:/Workspace/Shared/enrollments_json\")"
   ]
  },
  {
   "cell_type": "code",
   "execution_count": 0,
   "metadata": {
    "application/vnd.databricks.v1+cell": {
     "cellMetadata": {
      "byteLimit": 2048000,
      "rowLimit": 10000
     },
     "inputWidgets": {},
     "nuid": "38cb461d-d341-465b-a877-fcdd1c0f8f80",
     "showTitle": false,
     "tableResultSettingsMap": {},
     "title": ""
    }
   },
   "outputs": [],
   "source": [
    "# Create summary DataFrame:\n",
    "# CourseName, TotalEnrollments, AvgRating, AvgProgress\n",
    "summary_df = joined.groupBy(\"Category\",\"CourseName\") .agg(count(\"*\").alias(\"TotalEnrollments\"),avg(\"Rating\").alias(\"AvgRating\"),avg(\"ProgressPercent\").alias(\"AvgProgress\"))"
   ]
  },
  {
   "cell_type": "code",
   "execution_count": 0,
   "metadata": {
    "application/vnd.databricks.v1+cell": {
     "cellMetadata": {
      "byteLimit": 2048000,
      "rowLimit": 10000
     },
     "inputWidgets": {},
     "nuid": "fdd35fe1-2b90-47b0-a51f-08795deac635",
     "showTitle": false,
     "tableResultSettingsMap": {},
     "title": ""
    }
   },
   "outputs": [],
   "source": [
    "# Save as Parquet\n",
    "summary_df.write.mode(\"overwrite\").parquet(\"file:/Workspace/Shared/enrollments_summary\")"
   ]
  },
  {
   "cell_type": "markdown",
   "metadata": {
    "application/vnd.databricks.v1+cell": {
     "cellMetadata": {},
     "inputWidgets": {},
     "nuid": "a19af805-b206-4f93-aeef-65f2cdbcc136",
     "showTitle": false,
     "tableResultSettingsMap": {},
     "title": ""
    }
   },
   "source": []
  }
 ],
 "metadata": {
  "application/vnd.databricks.v1+notebook": {
   "computePreferences": null,
   "dashboards": [],
   "environmentMetadata": {
    "base_environment": "",
    "environment_version": "2"
   },
   "inputWidgetPreferences": null,
   "language": "python",
   "notebookMetadata": {
    "pythonIndentUnit": 4
   },
   "notebookName": "Anusha P(19_06_2025) Set 2",
   "widgets": {}
  },
  "language_info": {
   "name": "python"
  }
 },
 "nbformat": 4,
 "nbformat_minor": 0
}