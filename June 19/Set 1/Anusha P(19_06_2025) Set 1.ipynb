{
 "cells": [
  {
   "cell_type": "code",
   "execution_count": 0,
   "metadata": {
    "application/vnd.databricks.v1+cell": {
     "cellMetadata": {
      "byteLimit": 2048000,
      "rowLimit": 10000
     },
     "inputWidgets": {},
     "nuid": "317e2660-514d-49d9-bb53-b49c66d601cb",
     "showTitle": false,
     "tableResultSettingsMap": {},
     "title": ""
    }
   },
   "outputs": [
    {
     "output_type": "execute_result",
     "data": {
      "text/html": [
       "\n",
       "            <div>\n",
       "                <p><b>SparkSession - hive</b></p>\n",
       "                \n",
       "        <div>\n",
       "            <p><b>SparkContext</b></p>\n",
       "\n",
       "            <p><a href=\"/?o=2806829887576824#setting/sparkui/0612-043650-nhuexwr6/driver-5460914794868977173\">Spark UI</a></p>\n",
       "\n",
       "            <dl>\n",
       "              <dt>Version</dt>\n",
       "                <dd><code>v3.5.0</code></dd>\n",
       "              <dt>Master</dt>\n",
       "                <dd><code>local[*, 4]</code></dd>\n",
       "              <dt>AppName</dt>\n",
       "                <dd><code>Databricks Shell</code></dd>\n",
       "            </dl>\n",
       "        </div>\n",
       "        \n",
       "            </div>\n",
       "        "
      ],
      "text/plain": [
       "<pyspark.sql.session.SparkSession at 0x78f02ff34710>"
      ]
     },
     "execution_count": 1,
     "metadata": {},
     "output_type": "execute_result"
    }
   ],
   "source": [
    "from pyspark.sql import SparkSession\n",
    "spark=SparkSession.builder.getOrCreate()\n",
    "spark"
   ]
  },
  {
   "cell_type": "markdown",
   "metadata": {
    "application/vnd.databricks.v1+cell": {
     "cellMetadata": {},
     "inputWidgets": {},
     "nuid": "e19b5a95-161f-4a3b-a7aa-c876c69a8559",
     "showTitle": false,
     "tableResultSettingsMap": {},
     "title": ""
    }
   },
   "source": [
    "Data Ingestion & Schema Analysis"
   ]
  },
  {
   "cell_type": "code",
   "execution_count": 0,
   "metadata": {
    "application/vnd.databricks.v1+cell": {
     "cellMetadata": {
      "byteLimit": 2048000,
      "rowLimit": 10000
     },
     "inputWidgets": {},
     "nuid": "48cc63e5-cf07-4cc1-a15b-041faa23d47e",
     "showTitle": false,
     "tableResultSettingsMap": {},
     "title": ""
    }
   },
   "outputs": [
    {
     "output_type": "stream",
     "name": "stdout",
     "output_type": "stream",
     "text": [
      "+-----+---------+----------+---------+-------------------+-------------------+-----------+--------+--------+\n|LogID|VehicleID|EntryPoint|ExitPoint|          EntryTime|           ExitTime|VehicleType|SpeedKMH|TollPaid|\n+-----+---------+----------+---------+-------------------+-------------------+-----------+--------+--------+\n| L001|     V001|     GateA|    GateC|2024-05-01 08:01:00|2024-05-01 08:20:00|        Car|      60|      50|\n| L002|     V002|     GateB|    GateC|2024-05-01 08:10:00|2024-05-01 08:45:00|      Truck|      45|     100|\n| L003|     V003|     GateA|    GateD|2024-05-01 09:00:00|2024-05-01 09:18:00|       Bike|      55|      30|\n| L004|     V004|     GateC|    GateD|2024-05-01 09:15:00|2024-05-01 09:35:00|        Car|      80|      50|\n| L005|     V005|     GateB|    GateA|2024-05-01 10:05:00|2024-05-01 10:40:00|        Bus|      40|      70|\n+-----+---------+----------+---------+-------------------+-------------------+-----------+--------+--------+\n\n"
     ]
    }
   ],
   "source": [
    "# Load CSV using PySpark with schema inference\n",
    "df = spark.read.option(\"header\", True).option(\"inferSchema\", True).csv(\"file:/Workspace/Shared/traffic_logs.csv\")\n",
    "df.show()"
   ]
  },
  {
   "cell_type": "code",
   "execution_count": 0,
   "metadata": {
    "application/vnd.databricks.v1+cell": {
     "cellMetadata": {
      "byteLimit": 2048000,
      "rowLimit": 10000
     },
     "inputWidgets": {},
     "nuid": "fad26b06-5953-468c-b9e3-ed14a648e011",
     "showTitle": false,
     "tableResultSettingsMap": {},
     "title": ""
    }
   },
   "outputs": [
    {
     "output_type": "stream",
     "name": "stdout",
     "output_type": "stream",
     "text": [
      "root\n |-- LogID: string (nullable = true)\n |-- VehicleID: string (nullable = true)\n |-- EntryPoint: string (nullable = true)\n |-- ExitPoint: string (nullable = true)\n |-- EntryTime: timestamp (nullable = true)\n |-- ExitTime: timestamp (nullable = true)\n |-- VehicleType: string (nullable = true)\n |-- SpeedKMH: integer (nullable = true)\n |-- TollPaid: integer (nullable = true)\n\n"
     ]
    }
   ],
   "source": [
    "# Manually define schema and compare\n",
    "from pyspark.sql.types import *\n",
    "schema = StructType([\n",
    "    StructField(\"LogID\", StringType(), True),\n",
    "    StructField(\"VehicleID\", StringType(), True),\n",
    "    StructField(\"EntryPoint\", StringType(), True),\n",
    "    StructField(\"ExitPoint\", StringType(), True),\n",
    "    StructField(\"EntryTime\", TimestampType(), True),\n",
    "    StructField(\"ExitTime\", TimestampType(), True),\n",
    "    StructField(\"VehicleType\", StringType(), True),\n",
    "    StructField(\"SpeedKMH\", IntegerType(), True),\n",
    "    StructField(\"TollPaid\", IntegerType(), True)\n",
    "])\n",
    "\n",
    "df_manual = spark.read.schema(schema).option(\"header\", True).csv(\"file:/Workspace/Shared/traffic_logs.csv\")\n",
    "df_manual.printSchema()"
   ]
  },
  {
   "cell_type": "code",
   "execution_count": 0,
   "metadata": {
    "application/vnd.databricks.v1+cell": {
     "cellMetadata": {
      "byteLimit": 2048000,
      "rowLimit": 10000
     },
     "inputWidgets": {},
     "nuid": "22ab16af-23e7-49b2-921e-0bd79a243052",
     "showTitle": false,
     "tableResultSettingsMap": {},
     "title": ""
    }
   },
   "outputs": [],
   "source": [
    "# Ensure EntryTime/ExitTime are timestamp\n",
    "from pyspark.sql.functions import *\n",
    "df = df_manual.withColumn(\"EntryTime\", to_timestamp(\"EntryTime\")).withColumn(\"ExitTime\", to_timestamp(\"ExitTime\"))"
   ]
  },
  {
   "cell_type": "markdown",
   "metadata": {
    "application/vnd.databricks.v1+cell": {
     "cellMetadata": {},
     "inputWidgets": {},
     "nuid": "19defb74-91a3-4000-b962-3b0b743b7579",
     "showTitle": false,
     "tableResultSettingsMap": {},
     "title": ""
    }
   },
   "source": [
    "Derived Column Creation"
   ]
  },
  {
   "cell_type": "code",
   "execution_count": 0,
   "metadata": {
    "application/vnd.databricks.v1+cell": {
     "cellMetadata": {
      "byteLimit": 2048000,
      "rowLimit": 10000
     },
     "inputWidgets": {},
     "nuid": "9211071a-4372-4152-83f4-539f38e8e4a7",
     "showTitle": false,
     "tableResultSettingsMap": {},
     "title": ""
    }
   },
   "outputs": [
    {
     "output_type": "stream",
     "name": "stdout",
     "output_type": "stream",
     "text": [
      "+-----+---------+----------+---------+-------------------+-------------------+-----------+--------+--------+-------------------+\n|LogID|VehicleID|EntryPoint|ExitPoint|          EntryTime|           ExitTime|VehicleType|SpeedKMH|TollPaid|TripDurationMinutes|\n+-----+---------+----------+---------+-------------------+-------------------+-----------+--------+--------+-------------------+\n| L001|     V001|     GateA|    GateC|2024-05-01 08:01:00|2024-05-01 08:20:00|        Car|      60|      50|               19.0|\n| L002|     V002|     GateB|    GateC|2024-05-01 08:10:00|2024-05-01 08:45:00|      Truck|      45|     100|               35.0|\n| L003|     V003|     GateA|    GateD|2024-05-01 09:00:00|2024-05-01 09:18:00|       Bike|      55|      30|               18.0|\n| L004|     V004|     GateC|    GateD|2024-05-01 09:15:00|2024-05-01 09:35:00|        Car|      80|      50|               20.0|\n| L005|     V005|     GateB|    GateA|2024-05-01 10:05:00|2024-05-01 10:40:00|        Bus|      40|      70|               35.0|\n+-----+---------+----------+---------+-------------------+-------------------+-----------+--------+--------+-------------------+\n\n"
     ]
    }
   ],
   "source": [
    "# Calculate TripDurationMinutes = ExitTime - EntryTime\n",
    "df = df.withColumn(\"TripDurationMinutes\", (unix_timestamp(\"ExitTime\") - unix_timestamp(\"EntryTime\")) / 60)\n",
    "df.show()"
   ]
  },
  {
   "cell_type": "code",
   "execution_count": 0,
   "metadata": {
    "application/vnd.databricks.v1+cell": {
     "cellMetadata": {
      "byteLimit": 2048000,
      "rowLimit": 10000
     },
     "inputWidgets": {},
     "nuid": "517e02e6-8098-4829-987d-6b03db3d08ec",
     "showTitle": false,
     "tableResultSettingsMap": {},
     "title": ""
    }
   },
   "outputs": [
    {
     "output_type": "stream",
     "name": "stdout",
     "output_type": "stream",
     "text": [
      "+-----+---------+----------+---------+-------------------+-------------------+-----------+--------+--------+-------------------+-----------+\n|LogID|VehicleID|EntryPoint|ExitPoint|          EntryTime|           ExitTime|VehicleType|SpeedKMH|TollPaid|TripDurationMinutes|IsOverspeed|\n+-----+---------+----------+---------+-------------------+-------------------+-----------+--------+--------+-------------------+-----------+\n| L001|     V001|     GateA|    GateC|2024-05-01 08:01:00|2024-05-01 08:20:00|        Car|      60|      50|               19.0|      false|\n| L002|     V002|     GateB|    GateC|2024-05-01 08:10:00|2024-05-01 08:45:00|      Truck|      45|     100|               35.0|      false|\n| L003|     V003|     GateA|    GateD|2024-05-01 09:00:00|2024-05-01 09:18:00|       Bike|      55|      30|               18.0|      false|\n| L004|     V004|     GateC|    GateD|2024-05-01 09:15:00|2024-05-01 09:35:00|        Car|      80|      50|               20.0|       true|\n| L005|     V005|     GateB|    GateA|2024-05-01 10:05:00|2024-05-01 10:40:00|        Bus|      40|      70|               35.0|      false|\n+-----+---------+----------+---------+-------------------+-------------------+-----------+--------+--------+-------------------+-----------+\n\n"
     ]
    }
   ],
   "source": [
    "# Add IsOverspeed = SpeedKMH > 60\n",
    "df = df.withColumn(\"IsOverspeed\", col(\"SpeedKMH\") > 60)\n",
    "df.show()"
   ]
  },
  {
   "cell_type": "markdown",
   "metadata": {
    "application/vnd.databricks.v1+cell": {
     "cellMetadata": {},
     "inputWidgets": {},
     "nuid": "02e70582-0132-4b6a-8740-01e94ddf5461",
     "showTitle": false,
     "tableResultSettingsMap": {},
     "title": ""
    }
   },
   "source": [
    "Vehicle Behavior Aggregations"
   ]
  },
  {
   "cell_type": "code",
   "execution_count": 0,
   "metadata": {
    "application/vnd.databricks.v1+cell": {
     "cellMetadata": {
      "byteLimit": 2048000,
      "rowLimit": 10000
     },
     "inputWidgets": {},
     "nuid": "993d142d-11a7-4ea3-b6e7-63893eabe941",
     "showTitle": false,
     "tableResultSettingsMap": {},
     "title": ""
    }
   },
   "outputs": [
    {
     "output_type": "stream",
     "name": "stdout",
     "output_type": "stream",
     "text": [
      "+-----------+--------+\n|VehicleType|AvgSpeed|\n+-----------+--------+\n|       Bike|    55.0|\n|        Car|    70.0|\n|      Truck|    45.0|\n|        Bus|    40.0|\n+-----------+--------+\n\n"
     ]
    }
   ],
   "source": [
    "# Average speed per VehicleType\n",
    "avg_speed = df.groupBy(\"VehicleType\").agg(avg(\"SpeedKMH\").alias(\"AvgSpeed\"))\n",
    "avg_speed.show()"
   ]
  },
  {
   "cell_type": "code",
   "execution_count": 0,
   "metadata": {
    "application/vnd.databricks.v1+cell": {
     "cellMetadata": {
      "byteLimit": 2048000,
      "rowLimit": 10000
     },
     "inputWidgets": {},
     "nuid": "603f36b4-04fa-49b3-9189-2bfebb067b1b",
     "showTitle": false,
     "tableResultSettingsMap": {},
     "title": ""
    }
   },
   "outputs": [
    {
     "output_type": "stream",
     "name": "stdout",
     "output_type": "stream",
     "text": [
      "+----------+---------+\n|EntryPoint|TotalToll|\n+----------+---------+\n|     GateA|       80|\n|     GateB|      170|\n|     GateC|       50|\n+----------+---------+\n\n"
     ]
    }
   ],
   "source": [
    "# Total toll collected per gate (EntryPoint)\n",
    "toll_per_gate = df.groupBy(\"EntryPoint\").agg(sum(\"TollPaid\").alias(\"TotalToll\"))\n",
    "toll_per_gate.show()"
   ]
  },
  {
   "cell_type": "code",
   "execution_count": 0,
   "metadata": {
    "application/vnd.databricks.v1+cell": {
     "cellMetadata": {
      "byteLimit": 2048000,
      "rowLimit": 10000
     },
     "inputWidgets": {},
     "nuid": "4cb554c6-7661-4c4c-b4a0-6f663e7a022c",
     "showTitle": false,
     "tableResultSettingsMap": {},
     "title": ""
    }
   },
   "outputs": [
    {
     "output_type": "stream",
     "name": "stdout",
     "output_type": "stream",
     "text": [
      "+---------+-----+\n|ExitPoint|count|\n+---------+-----+\n|    GateD|    2|\n+---------+-----+\n\n"
     ]
    }
   ],
   "source": [
    "# Most used ExitPoint\n",
    "most_exit = df.groupBy(\"ExitPoint\").count().orderBy(desc(\"count\")).limit(1)\n",
    "most_exit.show()"
   ]
  },
  {
   "cell_type": "markdown",
   "metadata": {
    "application/vnd.databricks.v1+cell": {
     "cellMetadata": {},
     "inputWidgets": {},
     "nuid": "5b138675-f972-4be3-b20e-867bfa42f6d5",
     "showTitle": false,
     "tableResultSettingsMap": {},
     "title": ""
    }
   },
   "source": [
    "Window Functions"
   ]
  },
  {
   "cell_type": "code",
   "execution_count": 0,
   "metadata": {
    "application/vnd.databricks.v1+cell": {
     "cellMetadata": {
      "byteLimit": 2048000,
      "rowLimit": 10000
     },
     "inputWidgets": {},
     "nuid": "d83b5091-1684-4d25-b064-82499b3ecffc",
     "showTitle": false,
     "tableResultSettingsMap": {},
     "title": ""
    }
   },
   "outputs": [
    {
     "output_type": "stream",
     "name": "stdout",
     "output_type": "stream",
     "text": [
      "+-----+---------+----------+---------+-------------------+-------------------+-----------+--------+--------+-------------------+-----------+---------+\n|LogID|VehicleID|EntryPoint|ExitPoint|          EntryTime|           ExitTime|VehicleType|SpeedKMH|TollPaid|TripDurationMinutes|IsOverspeed|SpeedRank|\n+-----+---------+----------+---------+-------------------+-------------------+-----------+--------+--------+-------------------+-----------+---------+\n| L003|     V003|     GateA|    GateD|2024-05-01 09:00:00|2024-05-01 09:18:00|       Bike|      55|      30|               18.0|      false|        1|\n| L005|     V005|     GateB|    GateA|2024-05-01 10:05:00|2024-05-01 10:40:00|        Bus|      40|      70|               35.0|      false|        1|\n| L004|     V004|     GateC|    GateD|2024-05-01 09:15:00|2024-05-01 09:35:00|        Car|      80|      50|               20.0|       true|        1|\n| L001|     V001|     GateA|    GateC|2024-05-01 08:01:00|2024-05-01 08:20:00|        Car|      60|      50|               19.0|      false|        2|\n| L002|     V002|     GateB|    GateC|2024-05-01 08:10:00|2024-05-01 08:45:00|      Truck|      45|     100|               35.0|      false|        1|\n+-----+---------+----------+---------+-------------------+-------------------+-----------+--------+--------+-------------------+-----------+---------+\n\n"
     ]
    }
   ],
   "source": [
    "# Rank vehicles by speed within VehicleType\n",
    "from pyspark.sql.window import Window\n",
    "from pyspark.sql.functions import rank, lag\n",
    "\n",
    "vt_window = Window.partitionBy(\"VehicleType\").orderBy(col(\"SpeedKMH\").desc())\n",
    "df = df.withColumn(\"SpeedRank\", rank().over(vt_window))\n",
    "df.show()"
   ]
  },
  {
   "cell_type": "code",
   "execution_count": 0,
   "metadata": {
    "application/vnd.databricks.v1+cell": {
     "cellMetadata": {
      "byteLimit": 2048000,
      "rowLimit": 10000
     },
     "inputWidgets": {},
     "nuid": "4acf9156-7236-4687-927c-13e195a49c92",
     "showTitle": false,
     "tableResultSettingsMap": {},
     "title": ""
    }
   },
   "outputs": [
    {
     "output_type": "stream",
     "name": "stdout",
     "output_type": "stream",
     "text": [
      "+-----+---------+----------+---------+-------------------+-------------------+-----------+--------+--------+-------------------+-----------+---------+------------+\n|LogID|VehicleID|EntryPoint|ExitPoint|          EntryTime|           ExitTime|VehicleType|SpeedKMH|TollPaid|TripDurationMinutes|IsOverspeed|SpeedRank|LastExitTime|\n+-----+---------+----------+---------+-------------------+-------------------+-----------+--------+--------+-------------------+-----------+---------+------------+\n| L001|     V001|     GateA|    GateC|2024-05-01 08:01:00|2024-05-01 08:20:00|        Car|      60|      50|               19.0|      false|        2|        NULL|\n| L002|     V002|     GateB|    GateC|2024-05-01 08:10:00|2024-05-01 08:45:00|      Truck|      45|     100|               35.0|      false|        1|        NULL|\n| L003|     V003|     GateA|    GateD|2024-05-01 09:00:00|2024-05-01 09:18:00|       Bike|      55|      30|               18.0|      false|        1|        NULL|\n| L004|     V004|     GateC|    GateD|2024-05-01 09:15:00|2024-05-01 09:35:00|        Car|      80|      50|               20.0|       true|        1|        NULL|\n| L005|     V005|     GateB|    GateA|2024-05-01 10:05:00|2024-05-01 10:40:00|        Bus|      40|      70|               35.0|      false|        1|        NULL|\n+-----+---------+----------+---------+-------------------+-------------------+-----------+--------+--------+-------------------+-----------+---------+------------+\n\n"
     ]
    }
   ],
   "source": [
    "# Find last exit time for each vehicle using lag()\n",
    "v_window = Window.partitionBy(\"VehicleID\").orderBy(\"ExitTime\")\n",
    "df = df.withColumn(\"LastExitTime\", lag(\"ExitTime\").over(v_window))\n",
    "df.show()"
   ]
  },
  {
   "cell_type": "markdown",
   "metadata": {
    "application/vnd.databricks.v1+cell": {
     "cellMetadata": {},
     "inputWidgets": {},
     "nuid": "c2be55f3-fb8a-4b9b-8406-15cce0225524",
     "showTitle": false,
     "tableResultSettingsMap": {},
     "title": ""
    }
   },
   "source": [
    "Session Segmentation"
   ]
  },
  {
   "cell_type": "code",
   "execution_count": 0,
   "metadata": {
    "application/vnd.databricks.v1+cell": {
     "cellMetadata": {
      "byteLimit": 2048000,
      "rowLimit": 10000
     },
     "inputWidgets": {},
     "nuid": "86c8eceb-0e4c-4a3c-bcaa-df9a3155d028",
     "showTitle": false,
     "tableResultSettingsMap": {},
     "title": ""
    }
   },
   "outputs": [],
   "source": [
    "# Group by VehicleID to simulate route sessions\n",
    "# Find duration between subsequent trips (idle time)\n",
    "df = df.withColumn(\"IdleTimeMinutes\",(unix_timestamp(\"EntryTime\") - unix_timestamp(\"LastExitTime\")) / 60)"
   ]
  },
  {
   "cell_type": "markdown",
   "metadata": {
    "application/vnd.databricks.v1+cell": {
     "cellMetadata": {},
     "inputWidgets": {},
     "nuid": "71632e7c-14d1-47ea-afed-0364c988b804",
     "showTitle": false,
     "tableResultSettingsMap": {},
     "title": ""
    }
   },
   "source": [
    "Anomaly Detection"
   ]
  },
  {
   "cell_type": "code",
   "execution_count": 0,
   "metadata": {
    "application/vnd.databricks.v1+cell": {
     "cellMetadata": {
      "byteLimit": 2048000,
      "rowLimit": 10000
     },
     "inputWidgets": {},
     "nuid": "ea6761e1-9dcd-4f54-83d5-cfd4e9ca4dc0",
     "showTitle": false,
     "tableResultSettingsMap": {},
     "title": ""
    }
   },
   "outputs": [
    {
     "output_type": "stream",
     "name": "stdout",
     "output_type": "stream",
     "text": [
      "+-----+---------+-----------+--------+-------------------+\n|LogID|VehicleID|VehicleType|SpeedKMH|TripDurationMinutes|\n+-----+---------+-----------+--------+-------------------+\n+-----+---------+-----------+--------+-------------------+\n\n"
     ]
    }
   ],
   "source": [
    "# Identify vehicles with speed > 70 and TripDuration < 10 minutes\n",
    "df.filter((col(\"SpeedKMH\") > 70) & (col(\"TripDurationMinutes\") < 10)).select(\"LogID\",\"VehicleID\",\"VehicleType\",\"SpeedKMH\",\"TripDurationMinutes\").show()"
   ]
  },
  {
   "cell_type": "code",
   "execution_count": 0,
   "metadata": {
    "application/vnd.databricks.v1+cell": {
     "cellMetadata": {
      "byteLimit": 2048000,
      "rowLimit": 10000
     },
     "inputWidgets": {},
     "nuid": "6a733bad-1771-4bb9-8893-c62a945fe175",
     "showTitle": false,
     "tableResultSettingsMap": {},
     "title": ""
    }
   },
   "outputs": [
    {
     "output_type": "stream",
     "name": "stdout",
     "output_type": "stream",
     "text": [
      "+-----+---------+-------------------+--------+\n|LogId|VehicleID|TripDurationMinutes|TollPaid|\n+-----+---------+-------------------+--------+\n+-----+---------+-------------------+--------+\n\n"
     ]
    }
   ],
   "source": [
    "# Vehicles that paid less toll for longer trips\n",
    "df.filter((col(\"TripDurationMinutes\") > 30) & (col(\"TollPaid\") < 40)).select(\"LogId\",\"VehicleID\",\"TripDurationMinutes\",\"TollPaid\").show()"
   ]
  },
  {
   "cell_type": "code",
   "execution_count": 0,
   "metadata": {
    "application/vnd.databricks.v1+cell": {
     "cellMetadata": {
      "byteLimit": 2048000,
      "rowLimit": 10000
     },
     "inputWidgets": {},
     "nuid": "7c5e83c4-f4d2-487e-907a-f6baa31e72a7",
     "showTitle": false,
     "tableResultSettingsMap": {},
     "title": ""
    }
   },
   "outputs": [
    {
     "output_type": "stream",
     "name": "stdout",
     "output_type": "stream",
     "text": [
      "+-----+---------+---------+----------+\n|LogID|VehicleID|ExitPoint|EntryPoint|\n+-----+---------+---------+----------+\n| L005|     V005|    GateA|     GateB|\n+-----+---------+---------+----------+\n\n"
     ]
    }
   ],
   "source": [
    "# Suspicious backtracking (ExitPoint earlier than EntryPoint)\n",
    "df.filter(col(\"ExitPoint\") < col(\"EntryPoint\")).select(\"LogID\",\"VehicleID\",\"ExitPoint\",\"EntryPoint\").show()"
   ]
  },
  {
   "cell_type": "markdown",
   "metadata": {
    "application/vnd.databricks.v1+cell": {
     "cellMetadata": {},
     "inputWidgets": {},
     "nuid": "732b79c9-e6ca-462f-a064-f45d83c9d81b",
     "showTitle": false,
     "tableResultSettingsMap": {},
     "title": ""
    }
   },
   "source": [
    "Join with Metadata"
   ]
  },
  {
   "cell_type": "code",
   "execution_count": 0,
   "metadata": {
    "application/vnd.databricks.v1+cell": {
     "cellMetadata": {
      "byteLimit": 2048000,
      "rowLimit": 10000
     },
     "inputWidgets": {},
     "nuid": "94c25ff4-4c65-4962-8397-27a833c68859",
     "showTitle": false,
     "tableResultSettingsMap": {},
     "title": ""
    }
   },
   "outputs": [
    {
     "output_type": "stream",
     "name": "stdout",
     "output_type": "stream",
     "text": [
      "+--------------+----------+\n|RegisteredCity|TotalTrips|\n+--------------+----------+\n|     Bangalore|         1|\n|       Chennai|         1|\n|        Mumbai|         1|\n|          Pune|         1|\n|         Delhi|         1|\n+--------------+----------+\n\n"
     ]
    }
   ],
   "source": [
    "# Join and group trips by RegisteredCity\n",
    "registry = spark.read.option(\"header\", True).csv(\"file:/Workspace/Shared/vehicle_registry.csv\")\n",
    "df_joined = df.join(registry, on=\"VehicleID\", how=\"left\")\n",
    "city_trips = df_joined.groupBy(\"RegisteredCity\").agg(count(\"*\").alias(\"TotalTrips\"))\n",
    "city_trips.show()"
   ]
  },
  {
   "cell_type": "markdown",
   "metadata": {
    "application/vnd.databricks.v1+cell": {
     "cellMetadata": {},
     "inputWidgets": {},
     "nuid": "59648ed6-3bad-4682-9cd3-2461474c668b",
     "showTitle": false,
     "tableResultSettingsMap": {},
     "title": ""
    }
   },
   "source": [
    "Delta Lake Features"
   ]
  },
  {
   "cell_type": "code",
   "execution_count": 0,
   "metadata": {
    "application/vnd.databricks.v1+cell": {
     "cellMetadata": {
      "byteLimit": 2048000,
      "rowLimit": 10000
     },
     "inputWidgets": {},
     "nuid": "50cb8f6a-a435-40d0-bb9e-13517ae9d479",
     "showTitle": false,
     "tableResultSettingsMap": {},
     "title": ""
    }
   },
   "outputs": [],
   "source": [
    "# Save traffic_logs as Delta Table\n",
    "df.write.format(\"delta\").mode(\"overwrite\").save(\"file:/Workspace/Shared/traffic_delta\")"
   ]
  },
  {
   "cell_type": "code",
   "execution_count": 0,
   "metadata": {
    "application/vnd.databricks.v1+cell": {
     "cellMetadata": {
      "byteLimit": 2048000,
      "rowLimit": 10000
     },
     "inputWidgets": {},
     "nuid": "4300b7e0-206b-4b63-b0a9-c8976260e38c",
     "showTitle": false,
     "tableResultSettingsMap": {},
     "title": ""
    }
   },
   "outputs": [],
   "source": [
    "# Apply MERGE INTO to update toll rates for all Bikes\n",
    "from delta.tables import DeltaTable\n",
    "dt = DeltaTable.forPath(spark, \"file:/Workspace/Shared/traffic_delta\")\n",
    "dt.update(condition=col(\"VehicleType\") == \"Bike\",set={\"TollPaid\": \"35\"})"
   ]
  },
  {
   "cell_type": "code",
   "execution_count": 0,
   "metadata": {
    "application/vnd.databricks.v1+cell": {
     "cellMetadata": {
      "byteLimit": 2048000,
      "rowLimit": 10000
     },
     "inputWidgets": {},
     "nuid": "d5f5aaba-c972-4ecf-8a95-6a279c6ec68f",
     "showTitle": false,
     "tableResultSettingsMap": {},
     "title": ""
    }
   },
   "outputs": [],
   "source": [
    "# Delete trips longer than 60 minutes\n",
    "dt.delete(col(\"TripDurationMinutes\") > 60)"
   ]
  },
  {
   "cell_type": "code",
   "execution_count": 0,
   "metadata": {
    "application/vnd.databricks.v1+cell": {
     "cellMetadata": {
      "byteLimit": 2048000,
      "rowLimit": 10000
     },
     "inputWidgets": {},
     "nuid": "f4fa52f7-7549-42c7-94f5-e5bee4c26c49",
     "showTitle": false,
     "tableResultSettingsMap": {},
     "title": ""
    }
   },
   "outputs": [
    {
     "output_type": "stream",
     "name": "stdout",
     "output_type": "stream",
     "text": [
      "+-------+--------------------+----------------+--------------------+---------+--------------------+----+------------------+--------------------+-----------+-----------------+-------------+--------------------+------------+--------------------+\n|version|           timestamp|          userId|            userName|operation| operationParameters| job|          notebook|           clusterId|readVersion|   isolationLevel|isBlindAppend|    operationMetrics|userMetadata|          engineInfo|\n+-------+--------------------+----------------+--------------------+---------+--------------------+----+------------------+--------------------+-----------+-----------------+-------------+--------------------+------------+--------------------+\n|      2|2025-06-19 09:52:...|4042796083082360|azuser3548_mml.lo...|   DELETE|{predicate -> [\"(...|NULL|{4419187724732167}|0612-043650-nhuexwr6|          1|WriteSerializable|        false|{numRemovedFiles ...|        NULL|Databricks-Runtim...|\n|      1|2025-06-19 09:52:...|4042796083082360|azuser3548_mml.lo...|   UPDATE|{predicate -> [\"(...|NULL|{4419187724732167}|0612-043650-nhuexwr6|          0|WriteSerializable|        false|{numRemovedFiles ...|        NULL|Databricks-Runtim...|\n|      0|2025-06-19 09:52:...|4042796083082360|azuser3548_mml.lo...|    WRITE|{mode -> Overwrit...|NULL|{4419187724732167}|0612-043650-nhuexwr6|       NULL|WriteSerializable|        false|{numFiles -> 1, n...|        NULL|Databricks-Runtim...|\n+-------+--------------------+----------------+--------------------+---------+--------------------+----+------------------+--------------------+-----------+-----------------+-------------+--------------------+------------+--------------------+\n\n"
     ]
    }
   ],
   "source": [
    "# Use DESCRIBE HISTORY and VERSION AS OF\n",
    "dt.history().show()\n",
    "old_df = spark.read.format(\"delta\").option(\"versionAsOf\", 0).load(\"file:/Workspace/Shared/traffic_delta\")\n"
   ]
  },
  {
   "cell_type": "markdown",
   "metadata": {
    "application/vnd.databricks.v1+cell": {
     "cellMetadata": {},
     "inputWidgets": {},
     "nuid": "c0e5fc15-7926-4faa-8965-90c110b55c69",
     "showTitle": false,
     "tableResultSettingsMap": {},
     "title": ""
    }
   },
   "source": [
    "Advanced Conditions"
   ]
  },
  {
   "cell_type": "code",
   "execution_count": 0,
   "metadata": {
    "application/vnd.databricks.v1+cell": {
     "cellMetadata": {
      "byteLimit": 2048000,
      "rowLimit": 10000
     },
     "inputWidgets": {},
     "nuid": "6f4a99bd-1e83-4492-8898-17129aa1b604",
     "showTitle": false,
     "tableResultSettingsMap": {},
     "title": ""
    }
   },
   "outputs": [
    {
     "output_type": "stream",
     "name": "stdout",
     "output_type": "stream",
     "text": [
      "+-----+---------+----------+---------+-------------------+-------------------+-----------+--------+--------+-------------------+-----------+---------+------------+---------------+-----------+--------+\n|LogID|VehicleID|EntryPoint|ExitPoint|          EntryTime|           ExitTime|VehicleType|SpeedKMH|TollPaid|TripDurationMinutes|IsOverspeed|SpeedRank|LastExitTime|IdleTimeMinutes|IsBacktrack|TripType|\n+-----+---------+----------+---------+-------------------+-------------------+-----------+--------+--------+-------------------+-----------+---------+------------+---------------+-----------+--------+\n| L001|     V001|     GateA|    GateC|2024-05-01 08:01:00|2024-05-01 08:20:00|        Car|      60|      50|               19.0|      false|        2|        NULL|           NULL|      false|  Medium|\n| L002|     V002|     GateB|    GateC|2024-05-01 08:10:00|2024-05-01 08:45:00|      Truck|      45|     100|               35.0|      false|        1|        NULL|           NULL|      false|    Long|\n| L003|     V003|     GateA|    GateD|2024-05-01 09:00:00|2024-05-01 09:18:00|       Bike|      55|      30|               18.0|      false|        1|        NULL|           NULL|      false|  Medium|\n| L004|     V004|     GateC|    GateD|2024-05-01 09:15:00|2024-05-01 09:35:00|        Car|      80|      50|               20.0|       true|        1|        NULL|           NULL|      false|  Medium|\n| L005|     V005|     GateB|    GateA|2024-05-01 10:05:00|2024-05-01 10:40:00|        Bus|      40|      70|               35.0|      false|        1|        NULL|           NULL|       true|    Long|\n+-----+---------+----------+---------+-------------------+-------------------+-----------+--------+--------+-------------------+-----------+---------+------------+---------------+-----------+--------+\n\n"
     ]
    }
   ],
   "source": [
    "# when/otherwise : Tag trip type as:\n",
    "# \"Short\" <15min\n",
    "# \"Medium\" 15-30min\n",
    "# \"Long\" >30min\n",
    "df = df.withColumn(\"TripType\", when(col(\"TripDurationMinutes\") < 15, \"Short\")\n",
    ".when(col(\"TripDurationMinutes\") <= 30, \"Medium\").otherwise(\"Long\"))\n",
    "df.show()"
   ]
  },
  {
   "cell_type": "code",
   "execution_count": 0,
   "metadata": {
    "application/vnd.databricks.v1+cell": {
     "cellMetadata": {
      "byteLimit": 2048000,
      "rowLimit": 10000
     },
     "inputWidgets": {},
     "nuid": "44a3124a-3deb-49b2-89c3-29bae1b846d7",
     "showTitle": false,
     "tableResultSettingsMap": {},
     "title": ""
    }
   },
   "outputs": [
    {
     "output_type": "stream",
     "name": "stdout",
     "output_type": "stream",
     "text": [
      "+---------+----------+----------+----------+\n|VehicleID|  TripDate|DailyTrips|IsFrequent|\n+---------+----------+----------+----------+\n|     V002|2024-05-01|         1|     false|\n|     V001|2024-05-01|         1|     false|\n|     V005|2024-05-01|         1|     false|\n|     V003|2024-05-01|         1|     false|\n|     V004|2024-05-01|         1|     false|\n+---------+----------+----------+----------+\n\n"
     ]
    }
   ],
   "source": [
    "# Flag vehicles with more than 3 trips in a day\n",
    "df = df.withColumn(\"TripDate\", to_date(\"EntryTime\"))\n",
    "trips_df=df.groupBy(\"VehicleID\", \"TripDate\").agg(count(\"*\").alias(\"DailyTrips\"))\n",
    "trips_df=trips_df.withColumn(\"IsFrequent\", col(\"DailyTrips\") > 3).show()"
   ]
  },
  {
   "cell_type": "markdown",
   "metadata": {
    "application/vnd.databricks.v1+cell": {
     "cellMetadata": {},
     "inputWidgets": {},
     "nuid": "653c8ee3-ff8e-451b-a948-42eca7ebd534",
     "showTitle": false,
     "tableResultSettingsMap": {},
     "title": ""
    }
   },
   "source": [
    "Export & Reporting"
   ]
  },
  {
   "cell_type": "code",
   "execution_count": 0,
   "metadata": {
    "application/vnd.databricks.v1+cell": {
     "cellMetadata": {
      "byteLimit": 2048000,
      "rowLimit": 10000
     },
     "inputWidgets": {},
     "nuid": "24416480-e439-4722-b8f5-b7577fc96a9a",
     "showTitle": false,
     "tableResultSettingsMap": {},
     "title": ""
    }
   },
   "outputs": [],
   "source": [
    "# Write final enriched DataFrame to:\n",
    "# Parquet partitioned by VehicleType\n",
    "df.write.mode(\"overwrite\").partitionBy(\"VehicleType\").parquet(\"file:/Workspace/Shared/traffic_parquet\")\n",
    "\n",
    "# CSV for dashboards\n",
    "df.write.mode(\"overwrite\").csv(\"file:/Workspace/Shared/traffic_csv\", header=True)\n"
   ]
  },
  {
   "cell_type": "code",
   "execution_count": 0,
   "metadata": {
    "application/vnd.databricks.v1+cell": {
     "cellMetadata": {
      "byteLimit": 2048000,
      "rowLimit": 10000
     },
     "inputWidgets": {},
     "nuid": "d13e0009-f5c5-4aa9-9df2-74ae9c8f423d",
     "showTitle": false,
     "tableResultSettingsMap": {},
     "title": ""
    }
   },
   "outputs": [
    {
     "output_type": "execute_result",
     "data": {
      "text/plain": [
       "DataFrame[]"
      ]
     },
     "execution_count": 36,
     "metadata": {},
     "output_type": "execute_result"
    }
   ],
   "source": [
    "# Create summary SQL View: total toll by VehicleType + ExitPoint\n",
    "df.createOrReplaceTempView(\"traffic\")\n",
    "spark.sql(\"\"\"CREATE OR REPLACE TEMP VIEW toll_summary AS\n",
    "SELECT VehicleType, ExitPoint, SUM(TollPaid) AS TotalToll\n",
    "FROM traffic\n",
    "GROUP BY VehicleType, ExitPoint\"\"\")"
   ]
  },
  {
   "cell_type": "markdown",
   "metadata": {
    "application/vnd.databricks.v1+cell": {
     "cellMetadata": {},
     "inputWidgets": {},
     "nuid": "07441fcc-e5c4-4594-8799-4bfb8d52d9ad",
     "showTitle": false,
     "tableResultSettingsMap": {},
     "title": ""
    }
   },
   "source": []
  }
 ],
 "metadata": {
  "application/vnd.databricks.v1+notebook": {
   "computePreferences": null,
   "dashboards": [],
   "environmentMetadata": {
    "base_environment": "",
    "environment_version": "2"
   },
   "inputWidgetPreferences": null,
   "language": "python",
   "notebookMetadata": {
    "pythonIndentUnit": 4
   },
   "notebookName": "Anusha P(19_06_2025) Set 1",
   "widgets": {}
  },
  "language_info": {
   "name": "python"
  }
 },
 "nbformat": 4,
 "nbformat_minor": 0
}