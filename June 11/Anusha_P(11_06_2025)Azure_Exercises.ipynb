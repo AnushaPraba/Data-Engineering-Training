{
  "nbformat": 4,
  "nbformat_minor": 0,
  "metadata": {
    "colab": {
      "provenance": []
    },
    "kernelspec": {
      "name": "python3",
      "display_name": "Python 3"
    },
    "language_info": {
      "name": "python"
    }
  },
  "cells": [
    {
      "cell_type": "code",
      "execution_count": 2,
      "metadata": {
        "colab": {
          "base_uri": "https://localhost:8080/",
          "height": 219
        },
        "id": "k8FtpuuJqNz2",
        "outputId": "ad3ba163-9a82-4ba6-cf73-50a927bd252a"
      },
      "outputs": [
        {
          "output_type": "execute_result",
          "data": {
            "text/plain": [
              "<pyspark.sql.session.SparkSession at 0x7f40ceabb690>"
            ],
            "text/html": [
              "\n",
              "            <div>\n",
              "                <p><b>SparkSession - in-memory</b></p>\n",
              "                \n",
              "        <div>\n",
              "            <p><b>SparkContext</b></p>\n",
              "\n",
              "            <p><a href=\"http://d8118fcb05c3:4040\">Spark UI</a></p>\n",
              "\n",
              "            <dl>\n",
              "              <dt>Version</dt>\n",
              "                <dd><code>v3.5.1</code></dd>\n",
              "              <dt>Master</dt>\n",
              "                <dd><code>local[*]</code></dd>\n",
              "              <dt>AppName</dt>\n",
              "                <dd><code>pyspark-shell</code></dd>\n",
              "            </dl>\n",
              "        </div>\n",
              "        \n",
              "            </div>\n",
              "        "
            ]
          },
          "metadata": {},
          "execution_count": 2
        }
      ],
      "source": [
        "from pyspark.sql import SparkSession\n",
        "spark = SparkSession.builder.getOrCreate()\n",
        "spark"
      ]
    },
    {
      "cell_type": "code",
      "source": [
        "data = [\n",
        "    (\"Ananya\", \"HR\", 52000),\n",
        "    (\"Rahul\", \"Engineering\", 65000),\n",
        "    (\"Priya\", \"Engineering\", 60000),\n",
        "    (\"Zoya\", \"Marketing\", 48000),\n",
        "    (\"Karan\", \"HR\", 53000),\n",
        "    (\"Naveen\", \"Engineering\", 70000),\n",
        "    (\"Fatima\", \"Marketing\", 45000)\n",
        "]\n",
        "columns = [\"Name\", \"Department\", \"Salary\"]\n",
        "df = spark.createDataFrame(data, columns)"
      ],
      "metadata": {
        "id": "huRov-LVrPis"
      },
      "execution_count": 3,
      "outputs": []
    },
    {
      "cell_type": "markdown",
      "source": [
        "Exercise Set 1: Basics"
      ],
      "metadata": {
        "id": "PK53x0g_rTrd"
      }
    },
    {
      "cell_type": "code",
      "source": [
        "# 1. Display all records in the DataFrame.\n",
        "df.show()"
      ],
      "metadata": {
        "colab": {
          "base_uri": "https://localhost:8080/"
        },
        "id": "_sCZZBd4qvJ9",
        "outputId": "639ab986-8513-4c37-dd92-4e18c62745c7"
      },
      "execution_count": 4,
      "outputs": [
        {
          "output_type": "stream",
          "name": "stdout",
          "text": [
            "+------+-----------+------+\n",
            "|  Name| Department|Salary|\n",
            "+------+-----------+------+\n",
            "|Ananya|         HR| 52000|\n",
            "| Rahul|Engineering| 65000|\n",
            "| Priya|Engineering| 60000|\n",
            "|  Zoya|  Marketing| 48000|\n",
            "| Karan|         HR| 53000|\n",
            "|Naveen|Engineering| 70000|\n",
            "|Fatima|  Marketing| 45000|\n",
            "+------+-----------+------+\n",
            "\n"
          ]
        }
      ]
    },
    {
      "cell_type": "code",
      "source": [
        "# 2. Print the schema of the DataFrame.\n",
        "df.printSchema()"
      ],
      "metadata": {
        "colab": {
          "base_uri": "https://localhost:8080/"
        },
        "id": "Sk2rLnZ2qxIG",
        "outputId": "cae3895d-1e85-4efd-98f6-af9eb6df24a7"
      },
      "execution_count": 5,
      "outputs": [
        {
          "output_type": "stream",
          "name": "stdout",
          "text": [
            "root\n",
            " |-- Name: string (nullable = true)\n",
            " |-- Department: string (nullable = true)\n",
            " |-- Salary: long (nullable = true)\n",
            "\n"
          ]
        }
      ]
    },
    {
      "cell_type": "code",
      "source": [
        "# 3. Count total number of employees.\n",
        "df.count()"
      ],
      "metadata": {
        "colab": {
          "base_uri": "https://localhost:8080/"
        },
        "id": "Do6VFoVKqzHs",
        "outputId": "35023e7a-907b-4282-fa52-4cfefa1d2caa"
      },
      "execution_count": 6,
      "outputs": [
        {
          "output_type": "execute_result",
          "data": {
            "text/plain": [
              "7"
            ]
          },
          "metadata": {},
          "execution_count": 6
        }
      ]
    },
    {
      "cell_type": "markdown",
      "source": [
        "Exercise Set 2: Column Operations"
      ],
      "metadata": {
        "id": "ORXblCkLrhhm"
      }
    },
    {
      "cell_type": "code",
      "source": [
        "# 4. Add a new column Bonus which is 15% of Salary.\n",
        "from pyspark.sql.functions import col\n",
        "df_bonus = df.withColumn(\"Bonus\", col(\"Salary\") * 0.15)\n",
        "df_bonus.show()"
      ],
      "metadata": {
        "colab": {
          "base_uri": "https://localhost:8080/"
        },
        "id": "XNdHgr7wq1Jn",
        "outputId": "90f33b50-d8b1-42ae-ea1f-80599d6e5557"
      },
      "execution_count": 8,
      "outputs": [
        {
          "output_type": "stream",
          "name": "stdout",
          "text": [
            "+------+-----------+------+-------+\n",
            "|  Name| Department|Salary|  Bonus|\n",
            "+------+-----------+------+-------+\n",
            "|Ananya|         HR| 52000| 7800.0|\n",
            "| Rahul|Engineering| 65000| 9750.0|\n",
            "| Priya|Engineering| 60000| 9000.0|\n",
            "|  Zoya|  Marketing| 48000| 7200.0|\n",
            "| Karan|         HR| 53000| 7950.0|\n",
            "|Naveen|Engineering| 70000|10500.0|\n",
            "|Fatima|  Marketing| 45000| 6750.0|\n",
            "+------+-----------+------+-------+\n",
            "\n"
          ]
        }
      ]
    },
    {
      "cell_type": "code",
      "source": [
        "# 5. Add a new column NetPay = Salary + Bonus.\n",
        "df_netpay = df_bonus.withColumn(\"NetPay\", col(\"Salary\") + col(\"Bonus\"))\n",
        "df_netpay.show()"
      ],
      "metadata": {
        "colab": {
          "base_uri": "https://localhost:8080/"
        },
        "id": "HVU2dR8Fq239",
        "outputId": "639ff61e-4173-4c87-8de1-b6ec715c9d3a"
      },
      "execution_count": 9,
      "outputs": [
        {
          "output_type": "stream",
          "name": "stdout",
          "text": [
            "+------+-----------+------+-------+-------+\n",
            "|  Name| Department|Salary|  Bonus| NetPay|\n",
            "+------+-----------+------+-------+-------+\n",
            "|Ananya|         HR| 52000| 7800.0|59800.0|\n",
            "| Rahul|Engineering| 65000| 9750.0|74750.0|\n",
            "| Priya|Engineering| 60000| 9000.0|69000.0|\n",
            "|  Zoya|  Marketing| 48000| 7200.0|55200.0|\n",
            "| Karan|         HR| 53000| 7950.0|60950.0|\n",
            "|Naveen|Engineering| 70000|10500.0|80500.0|\n",
            "|Fatima|  Marketing| 45000| 6750.0|51750.0|\n",
            "+------+-----------+------+-------+-------+\n",
            "\n"
          ]
        }
      ]
    },
    {
      "cell_type": "markdown",
      "source": [
        "Exercise Set 3: Filtering and Conditions"
      ],
      "metadata": {
        "id": "fFHSKRORr3fW"
      }
    },
    {
      "cell_type": "code",
      "source": [
        "# 6. Display only employees from the “Engineering” department.\n",
        "df.filter(col(\"Department\") == \"Engineering\").show()"
      ],
      "metadata": {
        "colab": {
          "base_uri": "https://localhost:8080/"
        },
        "id": "aqJ6ZxXPq6aa",
        "outputId": "e0a20482-64f6-4805-875b-82f5591b3b02"
      },
      "execution_count": 10,
      "outputs": [
        {
          "output_type": "stream",
          "name": "stdout",
          "text": [
            "+------+-----------+------+\n",
            "|  Name| Department|Salary|\n",
            "+------+-----------+------+\n",
            "| Rahul|Engineering| 65000|\n",
            "| Priya|Engineering| 60000|\n",
            "|Naveen|Engineering| 70000|\n",
            "+------+-----------+------+\n",
            "\n"
          ]
        }
      ]
    },
    {
      "cell_type": "code",
      "source": [
        "# 7. Display employees whose salary is greater than 60000.\n",
        "df.filter(col(\"Salary\") > 60000).show()"
      ],
      "metadata": {
        "colab": {
          "base_uri": "https://localhost:8080/"
        },
        "id": "_X43-X5Hq87d",
        "outputId": "db447c13-7a78-47aa-f27e-2003156da21c"
      },
      "execution_count": 11,
      "outputs": [
        {
          "output_type": "stream",
          "name": "stdout",
          "text": [
            "+------+-----------+------+\n",
            "|  Name| Department|Salary|\n",
            "+------+-----------+------+\n",
            "| Rahul|Engineering| 65000|\n",
            "|Naveen|Engineering| 70000|\n",
            "+------+-----------+------+\n",
            "\n"
          ]
        }
      ]
    },
    {
      "cell_type": "code",
      "source": [
        "# 8. Display employees who are not in the “Marketing” department.\n",
        "df.filter(col(\"Department\") != \"Marketing\").show()"
      ],
      "metadata": {
        "colab": {
          "base_uri": "https://localhost:8080/"
        },
        "id": "3aDH4kpFq-sd",
        "outputId": "5538be82-d645-4054-8906-8977ca09ca27"
      },
      "execution_count": 12,
      "outputs": [
        {
          "output_type": "stream",
          "name": "stdout",
          "text": [
            "+------+-----------+------+\n",
            "|  Name| Department|Salary|\n",
            "+------+-----------+------+\n",
            "|Ananya|         HR| 52000|\n",
            "| Rahul|Engineering| 65000|\n",
            "| Priya|Engineering| 60000|\n",
            "| Karan|         HR| 53000|\n",
            "|Naveen|Engineering| 70000|\n",
            "+------+-----------+------+\n",
            "\n"
          ]
        }
      ]
    },
    {
      "cell_type": "markdown",
      "source": [
        "Exercise Set 4: Sorting and Limiting"
      ],
      "metadata": {
        "id": "hvM2NJVRsDZm"
      }
    },
    {
      "cell_type": "code",
      "source": [
        "# 9. Show top 3 highest paid employees.\n",
        "df.orderBy(col(\"Salary\").desc()).show(3)"
      ],
      "metadata": {
        "colab": {
          "base_uri": "https://localhost:8080/"
        },
        "id": "o15vgXQtrAjx",
        "outputId": "2bb1c30c-4132-46d4-ae9c-30fac4fb4126"
      },
      "execution_count": 13,
      "outputs": [
        {
          "output_type": "stream",
          "name": "stdout",
          "text": [
            "+------+-----------+------+\n",
            "|  Name| Department|Salary|\n",
            "+------+-----------+------+\n",
            "|Naveen|Engineering| 70000|\n",
            "| Rahul|Engineering| 65000|\n",
            "| Priya|Engineering| 60000|\n",
            "+------+-----------+------+\n",
            "only showing top 3 rows\n",
            "\n"
          ]
        }
      ]
    },
    {
      "cell_type": "code",
      "source": [
        "# 10. Sort the data by Department ascending and Salary descending.\n",
        "df.orderBy(col(\"Department\").asc(), col(\"Salary\").desc()).show()"
      ],
      "metadata": {
        "colab": {
          "base_uri": "https://localhost:8080/"
        },
        "id": "0cs8y5eErCcc",
        "outputId": "590507a5-f5c6-4ef8-83e3-cfadd3e08482"
      },
      "execution_count": 14,
      "outputs": [
        {
          "output_type": "stream",
          "name": "stdout",
          "text": [
            "+------+-----------+------+\n",
            "|  Name| Department|Salary|\n",
            "+------+-----------+------+\n",
            "|Naveen|Engineering| 70000|\n",
            "| Rahul|Engineering| 65000|\n",
            "| Priya|Engineering| 60000|\n",
            "| Karan|         HR| 53000|\n",
            "|Ananya|         HR| 52000|\n",
            "|  Zoya|  Marketing| 48000|\n",
            "|Fatima|  Marketing| 45000|\n",
            "+------+-----------+------+\n",
            "\n"
          ]
        }
      ]
    },
    {
      "cell_type": "markdown",
      "source": [
        "Exercise Set 5: String and Case Logic"
      ],
      "metadata": {
        "id": "6MtOz1A7sNd1"
      }
    },
    {
      "cell_type": "code",
      "source": [
        "# 11. Add a new column Level :\n",
        "# “Senior” if salary > 60000\n",
        "# “Mid” if salary between 50000 and 60000\n",
        "# “Junior” otherwise\n",
        "from pyspark.sql.functions import when\n",
        "df_level = df.withColumn(\"Level\", when(col(\"Salary\") > 60000, \"Senior\")\n",
        "                        .when((col(\"Salary\") >= 50000) & (col(\"Salary\") <= 60000), \"Mid\")\n",
        "                        .otherwise(\"Junior\"))\n",
        "df_level.show()"
      ],
      "metadata": {
        "colab": {
          "base_uri": "https://localhost:8080/"
        },
        "id": "SToO-JytrEtQ",
        "outputId": "50130c61-abec-4e8c-93f9-bd6fc8b0a378"
      },
      "execution_count": 17,
      "outputs": [
        {
          "output_type": "stream",
          "name": "stdout",
          "text": [
            "+------+-----------+------+------+\n",
            "|  Name| Department|Salary| Level|\n",
            "+------+-----------+------+------+\n",
            "|Ananya|         HR| 52000|   Mid|\n",
            "| Rahul|Engineering| 65000|Senior|\n",
            "| Priya|Engineering| 60000|   Mid|\n",
            "|  Zoya|  Marketing| 48000|Junior|\n",
            "| Karan|         HR| 53000|   Mid|\n",
            "|Naveen|Engineering| 70000|Senior|\n",
            "|Fatima|  Marketing| 45000|Junior|\n",
            "+------+-----------+------+------+\n",
            "\n"
          ]
        }
      ]
    },
    {
      "cell_type": "code",
      "source": [
        "# 12. Convert all names to uppercase.\n",
        "from pyspark.sql.functions import upper\n",
        "df_upper = df_level.withColumn(\"Name_Upper\", upper(col(\"Name\")))\n",
        "df_upper.show()"
      ],
      "metadata": {
        "colab": {
          "base_uri": "https://localhost:8080/"
        },
        "id": "wgB5nRcArGAZ",
        "outputId": "61b0520b-0a41-4f8c-bc96-2b45b3231879"
      },
      "execution_count": 16,
      "outputs": [
        {
          "output_type": "stream",
          "name": "stdout",
          "text": [
            "+------+-----------+------+------+----------+\n",
            "|  Name| Department|Salary| Level|Name_Upper|\n",
            "+------+-----------+------+------+----------+\n",
            "|Ananya|         HR| 52000|   Mid|    ANANYA|\n",
            "| Rahul|Engineering| 65000|Senior|     RAHUL|\n",
            "| Priya|Engineering| 60000|   Mid|     PRIYA|\n",
            "|  Zoya|  Marketing| 48000|Junior|      ZOYA|\n",
            "| Karan|         HR| 53000|   Mid|     KARAN|\n",
            "|Naveen|Engineering| 70000|Senior|    NAVEEN|\n",
            "|Fatima|  Marketing| 45000|Junior|    FATIMA|\n",
            "+------+-----------+------+------+----------+\n",
            "\n"
          ]
        }
      ]
    }
  ]
}