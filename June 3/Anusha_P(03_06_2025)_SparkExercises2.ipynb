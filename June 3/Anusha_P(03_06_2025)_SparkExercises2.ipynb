{
  "nbformat": 4,
  "nbformat_minor": 0,
  "metadata": {
    "colab": {
      "provenance": []
    },
    "kernelspec": {
      "name": "python3",
      "display_name": "Python 3"
    },
    "language_info": {
      "name": "python"
    }
  },
  "cells": [
    {
      "cell_type": "code",
      "execution_count": null,
      "metadata": {
        "id": "eN-mkhPCHadX"
      },
      "outputs": [],
      "source": [
        "if 'spark' in locals() and isinstance(spark, SparkSession):\n",
        "    print(\"Stopping existing SparkSession...\")\n",
        "    spark.stop()"
      ]
    },
    {
      "cell_type": "code",
      "source": [
        "from pyspark.sql import SparkSession\n",
        "spark = SparkSession.builder.appName(\"Sales Dataset Exploration\").getOrCreate()\n",
        "spark"
      ],
      "metadata": {
        "id": "LQ41_kG7Igr2",
        "colab": {
          "base_uri": "https://localhost:8080/",
          "height": 219
        },
        "outputId": "d1d1551c-1c6b-448e-9fc5-fff92a1c0798"
      },
      "execution_count": null,
      "outputs": [
        {
          "output_type": "execute_result",
          "data": {
            "text/plain": [
              "<pyspark.sql.session.SparkSession at 0x7aec2032c8d0>"
            ],
            "text/html": [
              "\n",
              "            <div>\n",
              "                <p><b>SparkSession - in-memory</b></p>\n",
              "                \n",
              "        <div>\n",
              "            <p><b>SparkContext</b></p>\n",
              "\n",
              "            <p><a href=\"http://d7f2e953623f:4040\">Spark UI</a></p>\n",
              "\n",
              "            <dl>\n",
              "              <dt>Version</dt>\n",
              "                <dd><code>v3.5.1</code></dd>\n",
              "              <dt>Master</dt>\n",
              "                <dd><code>local[*]</code></dd>\n",
              "              <dt>AppName</dt>\n",
              "                <dd><code>Sales Dataset Exploration</code></dd>\n",
              "            </dl>\n",
              "        </div>\n",
              "        \n",
              "            </div>\n",
              "        "
            ]
          },
          "metadata": {},
          "execution_count": 2
        }
      ]
    },
    {
      "cell_type": "code",
      "source": [
        "#mount google drive\n",
        "from google.colab import drive\n",
        "drive.mount('/content/drive')"
      ],
      "metadata": {
        "id": "9dXpfuhEKRTg",
        "outputId": "59090131-d9a6-446b-f5dc-b6253e39da18",
        "colab": {
          "base_uri": "https://localhost:8080/"
        }
      },
      "execution_count": null,
      "outputs": [
        {
          "output_type": "stream",
          "name": "stdout",
          "text": [
            "Mounted at /content/drive\n"
          ]
        }
      ]
    },
    {
      "cell_type": "markdown",
      "source": [
        "1. DataFrame Creation and Inspection"
      ],
      "metadata": {
        "id": "C8zrNEa9JRfa"
      }
    },
    {
      "cell_type": "code",
      "source": [
        "# Load the CSV using Pandas, PySpark, and Dask.\n",
        "\n",
        "# using spark\n",
        "sales_df=spark.read.csv(\"/content/drive/MyDrive/Sales_Dataset.csv\",header=True,inferSchema=True)"
      ],
      "metadata": {
        "id": "4pfLdlepJDDg"
      },
      "execution_count": 105,
      "outputs": []
    },
    {
      "cell_type": "code",
      "source": [
        "# Display the first 5 and last 5 records.\n",
        "sales_df.show(5)\n",
        "last_rows = sales_df.tail(5)\n",
        "last_df = spark.createDataFrame(last_rows)\n",
        "last_df.show()"
      ],
      "metadata": {
        "id": "SbySLQbeKJXH",
        "colab": {
          "base_uri": "https://localhost:8080/"
        },
        "outputId": "4a9d2d6a-7437-4d75-ca2b-19cce2621c02"
      },
      "execution_count": 78,
      "outputs": [
        {
          "output_type": "stream",
          "name": "stdout",
          "text": [
            "+-------+--------------+---------------+------+----------+--------------+--------+----------------+-----------+-------------+\n",
            "|OrderID|  CustomerName|ProductCategory|Amount| OrderDate|DeliveryStatus|Discount|            City|PaymentMode|CustomerSince|\n",
            "+-------+--------------+---------------+------+----------+--------------+--------+----------------+-----------+-------------+\n",
            "|   2824| Donald Walker|          Books|783.04|2024-12-26|      Returned|    0.15|    Lake Joyside|Credit Card|   2020-10-15|\n",
            "|   7912|  Brandon Hall|      Groceries| 905.0|2024-09-12|     Cancelled|    0.03|   New Jamesside|     Wallet|   2022-03-15|\n",
            "|   4611|  Donald Booth|        Fashion|657.96|2025-01-12|      Returned|    0.01|    Lake Roberto|     Wallet|   2021-08-07|\n",
            "|   3547|Phillip Garcia|        Fashion|606.89|2024-03-24|      Returned|    0.15|West Melanieview|     Wallet|   2020-08-08|\n",
            "|   8527|  Valerie Gray|           Toys| 77.87|2024-08-04|     Delivered|    0.17|       Mariastad|       Cash|   2022-11-15|\n",
            "+-------+--------------+---------------+------+----------+--------------+--------+----------------+-----------+-------------+\n",
            "only showing top 5 rows\n",
            "\n",
            "+-------+---------------+---------------+------+----------+--------------+--------+---------------+-----------+-------------+\n",
            "|OrderID|   CustomerName|ProductCategory|Amount| OrderDate|DeliveryStatus|Discount|           City|PaymentMode|CustomerSince|\n",
            "+-------+---------------+---------------+------+----------+--------------+--------+---------------+-----------+-------------+\n",
            "|   2930|   Jaime Harris|        Fashion| 680.0|2025-02-16|      Returned|     0.2|    Robertville|       Cash|   2021-01-28|\n",
            "|   7980|     Dawn Wyatt|        Fashion|285.32|2024-04-26|     Cancelled|    0.06|     Cherylfurt|        UPI|   2021-04-14|\n",
            "|   7770|  Kristin White|      Groceries|792.11|2024-08-10|      Returned|    0.07|       Kingport|        UPI|   2022-11-16|\n",
            "|   6641|Jennifer Taylor|           Toys|578.49|2025-04-03|     Delivered|     0.1|Lake Jerryburgh|       Cash|   2020-11-04|\n",
            "|   4513|    Rachel Owen|    Electronics|904.97|2024-09-21|     Delivered|    0.12|  East Paultown|       Cash|   2020-10-21|\n",
            "+-------+---------------+---------------+------+----------+--------------+--------+---------------+-----------+-------------+\n",
            "\n"
          ]
        }
      ]
    },
    {
      "cell_type": "code",
      "source": [
        "# Print schema and check data types.\n",
        "sales_df.printSchema()"
      ],
      "metadata": {
        "colab": {
          "base_uri": "https://localhost:8080/"
        },
        "id": "s9ZCZqrDMYAH",
        "outputId": "3003ed2c-0742-40af-eb37-11b7c68f59f1"
      },
      "execution_count": 79,
      "outputs": [
        {
          "output_type": "stream",
          "name": "stdout",
          "text": [
            "root\n",
            " |-- OrderID: integer (nullable = true)\n",
            " |-- CustomerName: string (nullable = true)\n",
            " |-- ProductCategory: string (nullable = true)\n",
            " |-- Amount: double (nullable = true)\n",
            " |-- OrderDate: date (nullable = true)\n",
            " |-- DeliveryStatus: string (nullable = true)\n",
            " |-- Discount: double (nullable = true)\n",
            " |-- City: string (nullable = true)\n",
            " |-- PaymentMode: string (nullable = true)\n",
            " |-- CustomerSince: date (nullable = true)\n",
            "\n"
          ]
        }
      ]
    },
    {
      "cell_type": "markdown",
      "source": [
        "2.Selection, Renaming, and Filtering"
      ],
      "metadata": {
        "id": "q4m-ad0gMkCC"
      }
    },
    {
      "cell_type": "code",
      "source": [
        "# Select only OrderID , CustomerName , and Amount .\n",
        "sales_df.select(\"OrderID\",\"CustomerName\",\"Amount\").show()"
      ],
      "metadata": {
        "colab": {
          "base_uri": "https://localhost:8080/"
        },
        "id": "FpJBrGMbMipW",
        "outputId": "46d4204e-4e7e-45aa-a3bb-e0656cff81fd"
      },
      "execution_count": 80,
      "outputs": [
        {
          "output_type": "stream",
          "name": "stdout",
          "text": [
            "+-------+------------------+------+\n",
            "|OrderID|      CustomerName|Amount|\n",
            "+-------+------------------+------+\n",
            "|   2824|     Donald Walker|783.04|\n",
            "|   7912|      Brandon Hall| 905.0|\n",
            "|   4611|      Donald Booth|657.96|\n",
            "|   3547|    Phillip Garcia|606.89|\n",
            "|   8527|      Valerie Gray| 77.87|\n",
            "|   4150|       Amber Perez|352.37|\n",
            "|   5554|        Roy Martin|148.33|\n",
            "|   2169|    Carolyn Daniel| 14.09|\n",
            "|   6313|       Patty Perez| 79.83|\n",
            "|   6155|Jonathan Wilkerson|882.68|\n",
            "|   9830|       Kevin Hurst|870.55|\n",
            "|   9085| Anthony Rodriguez|921.73|\n",
            "|   2040|     Kyle Mcdonald|327.52|\n",
            "|   6573|    Jeffrey Chavez|676.02|\n",
            "|   2743|  Elizabeth Fowler| 47.06|\n",
            "|   9837|     Tammy Sellers| 46.15|\n",
            "|   6038|     David Bradley|348.51|\n",
            "|   3060|       John Pierce|362.09|\n",
            "|   4295|   Jennifer Powers|684.26|\n",
            "|   5061|    George Chapman|251.89|\n",
            "+-------+------------------+------+\n",
            "only showing top 20 rows\n",
            "\n"
          ]
        }
      ]
    },
    {
      "cell_type": "code",
      "source": [
        "# Rename Amount to OrderAmount\n",
        "sales_df=sales_df.withColumnRenamed(\"Amount\",\"OrderAmount\")\n",
        "sales_df.show()"
      ],
      "metadata": {
        "colab": {
          "base_uri": "https://localhost:8080/"
        },
        "id": "D7t8omWNMtT2",
        "outputId": "53dc9410-9765-43a7-c75f-20b1db650396"
      },
      "execution_count": 81,
      "outputs": [
        {
          "output_type": "stream",
          "name": "stdout",
          "text": [
            "+-------+------------------+---------------+-----------+----------+--------------+--------+-----------------+-----------+-------------+\n",
            "|OrderID|      CustomerName|ProductCategory|OrderAmount| OrderDate|DeliveryStatus|Discount|             City|PaymentMode|CustomerSince|\n",
            "+-------+------------------+---------------+-----------+----------+--------------+--------+-----------------+-----------+-------------+\n",
            "|   2824|     Donald Walker|          Books|     783.04|2024-12-26|      Returned|    0.15|     Lake Joyside|Credit Card|   2020-10-15|\n",
            "|   7912|      Brandon Hall|      Groceries|      905.0|2024-09-12|     Cancelled|    0.03|    New Jamesside|     Wallet|   2022-03-15|\n",
            "|   4611|      Donald Booth|        Fashion|     657.96|2025-01-12|      Returned|    0.01|     Lake Roberto|     Wallet|   2021-08-07|\n",
            "|   3547|    Phillip Garcia|        Fashion|     606.89|2024-03-24|      Returned|    0.15| West Melanieview|     Wallet|   2020-08-08|\n",
            "|   8527|      Valerie Gray|           Toys|      77.87|2024-08-04|     Delivered|    0.17|        Mariastad|       Cash|   2022-11-15|\n",
            "|   4150|       Amber Perez|          Books|     352.37|2024-01-13|     Cancelled|    0.24|  Port Jesseville|       Cash|   2022-01-13|\n",
            "|   5554|        Roy Martin|           Toys|     148.33|2024-03-04|     Cancelled|    0.27|      Lake Joseph|       Cash|   2023-04-29|\n",
            "|   2169|    Carolyn Daniel|    Electronics|      14.09|2023-10-07|     Delivered|    0.25|         Grayside|Credit Card|   2021-05-09|\n",
            "|   6313|       Patty Perez|      Groceries|      79.83|2023-06-27|     Cancelled|    0.12|      Richardland|Credit Card|   2021-04-25|\n",
            "|   6155|Jonathan Wilkerson|        Fashion|     882.68|2024-10-14|     Cancelled|    0.27|       Thomasberg|       Cash|   2021-06-20|\n",
            "|   9830|       Kevin Hurst|          Books|     870.55|2024-04-08|     Delivered|    0.22|      Jeffreyberg|     Wallet|   2022-08-02|\n",
            "|   9085| Anthony Rodriguez|      Groceries|     921.73|2024-10-02|     Cancelled|    0.03|        Port Erin|        UPI|   2022-12-15|\n",
            "|   2040|     Kyle Mcdonald|           Toys|     327.52|2023-12-15|      Returned|    0.06|Lake Jenniferside|     Wallet|   2021-07-21|\n",
            "|   6573|    Jeffrey Chavez|          Books|     676.02|2024-12-14|     Cancelled|    0.19|      Teresaburgh|     Wallet|   2022-07-30|\n",
            "|   2743|  Elizabeth Fowler|    Electronics|      47.06|2024-09-18|     Delivered|    0.13|   East Nathaniel|       Cash|   2021-02-07|\n",
            "|   9837|     Tammy Sellers|          Books|      46.15|2024-09-10|     Cancelled|    0.05|       Tracyville|        UPI|   2021-12-17|\n",
            "|   6038|     David Bradley|        Fashion|     348.51|2023-08-03|      Returned|    0.23|    Lake Toddland|        UPI|   2022-09-07|\n",
            "|   3060|       John Pierce|           Toys|     362.09|2023-12-25|      Returned|    0.03|       Brandtside|       Cash|   2023-05-09|\n",
            "|   4295|   Jennifer Powers|    Electronics|     684.26|2024-03-19|     Cancelled|    0.21|         Lammouth|        UPI|   2020-12-06|\n",
            "|   5061|    George Chapman|    Electronics|     251.89|2023-11-28|       Pending|    0.27|       North Chad|       Cash|   2023-02-07|\n",
            "+-------+------------------+---------------+-----------+----------+--------------+--------+-----------------+-----------+-------------+\n",
            "only showing top 20 rows\n",
            "\n"
          ]
        }
      ]
    },
    {
      "cell_type": "code",
      "source": [
        "# Filter orders where Amount > 500.\n",
        "sales_df.filter(sales_df.OrderAmount > 500).show()"
      ],
      "metadata": {
        "colab": {
          "base_uri": "https://localhost:8080/"
        },
        "id": "37SSBdroM1pu",
        "outputId": "dde8c03c-8780-4d4d-bf26-e70c132ab4d1"
      },
      "execution_count": 82,
      "outputs": [
        {
          "output_type": "stream",
          "name": "stdout",
          "text": [
            "+-------+------------------+---------------+-----------+----------+--------------+--------+-----------------+-----------+-------------+\n",
            "|OrderID|      CustomerName|ProductCategory|OrderAmount| OrderDate|DeliveryStatus|Discount|             City|PaymentMode|CustomerSince|\n",
            "+-------+------------------+---------------+-----------+----------+--------------+--------+-----------------+-----------+-------------+\n",
            "|   2824|     Donald Walker|          Books|     783.04|2024-12-26|      Returned|    0.15|     Lake Joyside|Credit Card|   2020-10-15|\n",
            "|   7912|      Brandon Hall|      Groceries|      905.0|2024-09-12|     Cancelled|    0.03|    New Jamesside|     Wallet|   2022-03-15|\n",
            "|   4611|      Donald Booth|        Fashion|     657.96|2025-01-12|      Returned|    0.01|     Lake Roberto|     Wallet|   2021-08-07|\n",
            "|   3547|    Phillip Garcia|        Fashion|     606.89|2024-03-24|      Returned|    0.15| West Melanieview|     Wallet|   2020-08-08|\n",
            "|   6155|Jonathan Wilkerson|        Fashion|     882.68|2024-10-14|     Cancelled|    0.27|       Thomasberg|       Cash|   2021-06-20|\n",
            "|   9830|       Kevin Hurst|          Books|     870.55|2024-04-08|     Delivered|    0.22|      Jeffreyberg|     Wallet|   2022-08-02|\n",
            "|   9085| Anthony Rodriguez|      Groceries|     921.73|2024-10-02|     Cancelled|    0.03|        Port Erin|        UPI|   2022-12-15|\n",
            "|   6573|    Jeffrey Chavez|          Books|     676.02|2024-12-14|     Cancelled|    0.19|      Teresaburgh|     Wallet|   2022-07-30|\n",
            "|   4295|   Jennifer Powers|    Electronics|     684.26|2024-03-19|     Cancelled|    0.21|         Lammouth|        UPI|   2020-12-06|\n",
            "|   1964|      Taylor Heath|           Toys|      578.5|2023-07-28|     Cancelled|    0.01|   West Elizabeth|       Cash|   2021-04-30|\n",
            "|   9834|    Timothy Duncan|    Electronics|     944.55|2024-06-04|     Cancelled|    0.07|      Port Thomas|     Wallet|   2022-02-24|\n",
            "|   3296|     Donald Wright|        Fashion|     579.99|2025-05-20|     Cancelled|    0.25|South Lindseyside|     Wallet|   2020-11-01|\n",
            "|   4502|  Stephanie Martin|    Electronics|     656.32|2023-06-04|       Pending|     0.2|       Bakermouth|Credit Card|   2021-08-19|\n",
            "|   1931|      Angela Lopez|    Electronics|     686.21|2024-09-07|     Cancelled|    0.17|Lake Michellefurt|        UPI|   2020-12-05|\n",
            "|   5033|     Amanda Miller|           Toys|     552.76|2024-10-25|       Pending|    0.21|     Sarahborough|     Wallet|   2023-04-08|\n",
            "|   6147|      James Powers|           Toys|     561.91|2024-01-22|     Cancelled|    0.05|      Stewartland|Credit Card|   2020-06-16|\n",
            "|   2127|      Jaclyn Moore|      Groceries|     933.32|2025-03-11|      Returned|    0.01|      Cherylhaven|       Cash|   2020-06-14|\n",
            "|   5905|   Ashley Humphrey|          Books|     844.87|2023-12-25|       Pending|    0.28|  North Juliaberg|       Cash|   2021-07-30|\n",
            "|   2512|   Sandra Williams|           Toys|     630.21|2024-02-17|       Pending|    0.08|        Lake Tina|        UPI|   2021-02-08|\n",
            "|   8239|     Jessica Smith|          Books|     610.08|2023-07-31|     Delivered|    0.09|        New Barry|        UPI|   2021-12-27|\n",
            "+-------+------------------+---------------+-----------+----------+--------------+--------+-----------------+-----------+-------------+\n",
            "only showing top 20 rows\n",
            "\n"
          ]
        }
      ]
    },
    {
      "cell_type": "code",
      "source": [
        "# Filter orders from a specific city using .query() or .filter().\n",
        "sales_df.filter(sales_df.City == \"New Barry\").show()"
      ],
      "metadata": {
        "colab": {
          "base_uri": "https://localhost:8080/"
        },
        "id": "x6ELj9xuM9gN",
        "outputId": "1a0aafce-cbe6-4bd0-f1a4-3fcff4ee5a02"
      },
      "execution_count": 83,
      "outputs": [
        {
          "output_type": "stream",
          "name": "stdout",
          "text": [
            "+-------+-------------+---------------+-----------+----------+--------------+--------+---------+-----------+-------------+\n",
            "|OrderID| CustomerName|ProductCategory|OrderAmount| OrderDate|DeliveryStatus|Discount|     City|PaymentMode|CustomerSince|\n",
            "+-------+-------------+---------------+-----------+----------+--------------+--------+---------+-----------+-------------+\n",
            "|   8239|Jessica Smith|          Books|     610.08|2023-07-31|     Delivered|    0.09|New Barry|        UPI|   2021-12-27|\n",
            "+-------+-------------+---------------+-----------+----------+--------------+--------+---------+-----------+-------------+\n",
            "\n"
          ]
        }
      ]
    },
    {
      "cell_type": "markdown",
      "source": [
        "3. Data Manipulation"
      ],
      "metadata": {
        "id": "N3cFSpkSNQeD"
      }
    },
    {
      "cell_type": "code",
      "source": [
        "# Drop CustomerSince column.\n",
        "sales_df = sales_df.drop(\"CustomerSince\")\n",
        "sales_df.show()"
      ],
      "metadata": {
        "colab": {
          "base_uri": "https://localhost:8080/"
        },
        "id": "nhr5AikmNTjq",
        "outputId": "839a8aad-d8c3-4e5e-c27c-ed6ab44d77d5"
      },
      "execution_count": 84,
      "outputs": [
        {
          "output_type": "stream",
          "name": "stdout",
          "text": [
            "+-------+------------------+---------------+-----------+----------+--------------+--------+-----------------+-----------+\n",
            "|OrderID|      CustomerName|ProductCategory|OrderAmount| OrderDate|DeliveryStatus|Discount|             City|PaymentMode|\n",
            "+-------+------------------+---------------+-----------+----------+--------------+--------+-----------------+-----------+\n",
            "|   2824|     Donald Walker|          Books|     783.04|2024-12-26|      Returned|    0.15|     Lake Joyside|Credit Card|\n",
            "|   7912|      Brandon Hall|      Groceries|      905.0|2024-09-12|     Cancelled|    0.03|    New Jamesside|     Wallet|\n",
            "|   4611|      Donald Booth|        Fashion|     657.96|2025-01-12|      Returned|    0.01|     Lake Roberto|     Wallet|\n",
            "|   3547|    Phillip Garcia|        Fashion|     606.89|2024-03-24|      Returned|    0.15| West Melanieview|     Wallet|\n",
            "|   8527|      Valerie Gray|           Toys|      77.87|2024-08-04|     Delivered|    0.17|        Mariastad|       Cash|\n",
            "|   4150|       Amber Perez|          Books|     352.37|2024-01-13|     Cancelled|    0.24|  Port Jesseville|       Cash|\n",
            "|   5554|        Roy Martin|           Toys|     148.33|2024-03-04|     Cancelled|    0.27|      Lake Joseph|       Cash|\n",
            "|   2169|    Carolyn Daniel|    Electronics|      14.09|2023-10-07|     Delivered|    0.25|         Grayside|Credit Card|\n",
            "|   6313|       Patty Perez|      Groceries|      79.83|2023-06-27|     Cancelled|    0.12|      Richardland|Credit Card|\n",
            "|   6155|Jonathan Wilkerson|        Fashion|     882.68|2024-10-14|     Cancelled|    0.27|       Thomasberg|       Cash|\n",
            "|   9830|       Kevin Hurst|          Books|     870.55|2024-04-08|     Delivered|    0.22|      Jeffreyberg|     Wallet|\n",
            "|   9085| Anthony Rodriguez|      Groceries|     921.73|2024-10-02|     Cancelled|    0.03|        Port Erin|        UPI|\n",
            "|   2040|     Kyle Mcdonald|           Toys|     327.52|2023-12-15|      Returned|    0.06|Lake Jenniferside|     Wallet|\n",
            "|   6573|    Jeffrey Chavez|          Books|     676.02|2024-12-14|     Cancelled|    0.19|      Teresaburgh|     Wallet|\n",
            "|   2743|  Elizabeth Fowler|    Electronics|      47.06|2024-09-18|     Delivered|    0.13|   East Nathaniel|       Cash|\n",
            "|   9837|     Tammy Sellers|          Books|      46.15|2024-09-10|     Cancelled|    0.05|       Tracyville|        UPI|\n",
            "|   6038|     David Bradley|        Fashion|     348.51|2023-08-03|      Returned|    0.23|    Lake Toddland|        UPI|\n",
            "|   3060|       John Pierce|           Toys|     362.09|2023-12-25|      Returned|    0.03|       Brandtside|       Cash|\n",
            "|   4295|   Jennifer Powers|    Electronics|     684.26|2024-03-19|     Cancelled|    0.21|         Lammouth|        UPI|\n",
            "|   5061|    George Chapman|    Electronics|     251.89|2023-11-28|       Pending|    0.27|       North Chad|       Cash|\n",
            "+-------+------------------+---------------+-----------+----------+--------------+--------+-----------------+-----------+\n",
            "only showing top 20 rows\n",
            "\n"
          ]
        }
      ]
    },
    {
      "cell_type": "code",
      "source": [
        "# Add a new column FinalAmount = Amount - (Amount * Discount).\n",
        "sales_df = sales_df.withColumn(\"FinalAmount\", sales_df.OrderAmount - (sales_df.OrderAmount * sales_df.Discount))\n",
        "sales_df.show()"
      ],
      "metadata": {
        "colab": {
          "base_uri": "https://localhost:8080/"
        },
        "id": "7h2uEO9pNXhu",
        "outputId": "1f29366b-09ec-44de-b7a3-aa2a3dafca07"
      },
      "execution_count": 85,
      "outputs": [
        {
          "output_type": "stream",
          "name": "stdout",
          "text": [
            "+-------+------------------+---------------+-----------+----------+--------------+--------+-----------------+-----------+------------------+\n",
            "|OrderID|      CustomerName|ProductCategory|OrderAmount| OrderDate|DeliveryStatus|Discount|             City|PaymentMode|       FinalAmount|\n",
            "+-------+------------------+---------------+-----------+----------+--------------+--------+-----------------+-----------+------------------+\n",
            "|   2824|     Donald Walker|          Books|     783.04|2024-12-26|      Returned|    0.15|     Lake Joyside|Credit Card|           665.584|\n",
            "|   7912|      Brandon Hall|      Groceries|      905.0|2024-09-12|     Cancelled|    0.03|    New Jamesside|     Wallet|            877.85|\n",
            "|   4611|      Donald Booth|        Fashion|     657.96|2025-01-12|      Returned|    0.01|     Lake Roberto|     Wallet|          651.3804|\n",
            "|   3547|    Phillip Garcia|        Fashion|     606.89|2024-03-24|      Returned|    0.15| West Melanieview|     Wallet|          515.8565|\n",
            "|   8527|      Valerie Gray|           Toys|      77.87|2024-08-04|     Delivered|    0.17|        Mariastad|       Cash| 64.63210000000001|\n",
            "|   4150|       Amber Perez|          Books|     352.37|2024-01-13|     Cancelled|    0.24|  Port Jesseville|       Cash|          267.8012|\n",
            "|   5554|        Roy Martin|           Toys|     148.33|2024-03-04|     Cancelled|    0.27|      Lake Joseph|       Cash|          108.2809|\n",
            "|   2169|    Carolyn Daniel|    Electronics|      14.09|2023-10-07|     Delivered|    0.25|         Grayside|Credit Card|10.567499999999999|\n",
            "|   6313|       Patty Perez|      Groceries|      79.83|2023-06-27|     Cancelled|    0.12|      Richardland|Credit Card|           70.2504|\n",
            "|   6155|Jonathan Wilkerson|        Fashion|     882.68|2024-10-14|     Cancelled|    0.27|       Thomasberg|       Cash| 644.3563999999999|\n",
            "|   9830|       Kevin Hurst|          Books|     870.55|2024-04-08|     Delivered|    0.22|      Jeffreyberg|     Wallet|           679.029|\n",
            "|   9085| Anthony Rodriguez|      Groceries|     921.73|2024-10-02|     Cancelled|    0.03|        Port Erin|        UPI| 894.0781000000001|\n",
            "|   2040|     Kyle Mcdonald|           Toys|     327.52|2023-12-15|      Returned|    0.06|Lake Jenniferside|     Wallet|307.86879999999996|\n",
            "|   6573|    Jeffrey Chavez|          Books|     676.02|2024-12-14|     Cancelled|    0.19|      Teresaburgh|     Wallet|          547.5762|\n",
            "|   2743|  Elizabeth Fowler|    Electronics|      47.06|2024-09-18|     Delivered|    0.13|   East Nathaniel|       Cash|           40.9422|\n",
            "|   9837|     Tammy Sellers|          Books|      46.15|2024-09-10|     Cancelled|    0.05|       Tracyville|        UPI|           43.8425|\n",
            "|   6038|     David Bradley|        Fashion|     348.51|2023-08-03|      Returned|    0.23|    Lake Toddland|        UPI|268.35269999999997|\n",
            "|   3060|       John Pierce|           Toys|     362.09|2023-12-25|      Returned|    0.03|       Brandtside|       Cash|351.22729999999996|\n",
            "|   4295|   Jennifer Powers|    Electronics|     684.26|2024-03-19|     Cancelled|    0.21|         Lammouth|        UPI|          540.5654|\n",
            "|   5061|    George Chapman|    Electronics|     251.89|2023-11-28|       Pending|    0.27|       North Chad|       Cash|183.87969999999999|\n",
            "+-------+------------------+---------------+-----------+----------+--------------+--------+-----------------+-----------+------------------+\n",
            "only showing top 20 rows\n",
            "\n"
          ]
        }
      ]
    },
    {
      "cell_type": "code",
      "source": [
        "# Sort by FinalAmount descending.\n",
        "sales_df = sales_df.sort(\"FinalAmount\", ascending=False)\n",
        "sales_df.show()"
      ],
      "metadata": {
        "colab": {
          "base_uri": "https://localhost:8080/"
        },
        "id": "nnEVGzMtNZdm",
        "outputId": "10b5117c-6dda-4096-aaab-cd57529c3640"
      },
      "execution_count": 86,
      "outputs": [
        {
          "output_type": "stream",
          "name": "stdout",
          "text": [
            "+-------+-----------------+---------------+-----------+----------+--------------+--------+-----------------+-----------+-----------------+\n",
            "|OrderID|     CustomerName|ProductCategory|OrderAmount| OrderDate|DeliveryStatus|Discount|             City|PaymentMode|      FinalAmount|\n",
            "+-------+-----------------+---------------+-----------+----------+--------------+--------+-----------------+-----------+-----------------+\n",
            "|   5573|   Jordan Frazier|          Books|     981.05|2025-03-19|     Cancelled|    0.02|      Sheilaville|       Cash|          961.429|\n",
            "|   8474|      Heidi Brown|    Electronics|     968.91|2023-11-23|     Cancelled|    0.02|       Riverafort|       Cash|         949.5318|\n",
            "|   8889|      Karen Garza|          Books|      998.3|2024-10-17|     Cancelled|    0.06|       Johnsonton|Credit Card|938.4019999999999|\n",
            "|   2127|     Jaclyn Moore|      Groceries|     933.32|2025-03-11|      Returned|    0.01|      Cherylhaven|       Cash|         923.9868|\n",
            "|   9806|    Samantha Gill|      Groceries|     993.17|2024-11-12|     Cancelled|    0.07|     New Seanstad|     Wallet|         923.6481|\n",
            "|   5593|   Kristy Johnson|        Fashion|     961.35|2025-05-24|      Returned|    0.05|    Alexisborough|       Cash|         913.2825|\n",
            "|   2120| Alejandra Santos|    Electronics|     948.84|2024-05-09|      Returned|    0.04|     Jenniferberg|     Wallet|         910.8864|\n",
            "|   5949|Dr. Michael Evans|           Toys|     918.14|2023-07-29|       Pending|    0.01|   East Scottfort|     Wallet|908.9585999999999|\n",
            "|   1422|    Hunter Kramer|          Books|      973.2|2024-09-02|      Returned|    0.07|       Alfredview|       Cash|          905.076|\n",
            "|   2904|   Michelle Burns|        Fashion|     922.29|2025-05-01|      Returned|    0.02|      Stokesmouth|Credit Card|         903.8442|\n",
            "|   7566|    Jesus Houston|        Fashion|     899.31|2024-11-19|     Delivered|     0.0|       Marshburgh|Credit Card|           899.31|\n",
            "|   7511|      Regina Diaz|           Toys|     932.21|2025-02-06|     Cancelled|    0.04|        Smithside|       Cash|         894.9216|\n",
            "|   9085|Anthony Rodriguez|      Groceries|     921.73|2024-10-02|     Cancelled|    0.03|        Port Erin|        UPI|894.0781000000001|\n",
            "|   1436|     James Brooks|      Groceries|     978.96|2024-03-28|     Cancelled|    0.09|West Jeffreymouth|Credit Card|         890.8536|\n",
            "|   6008|  Brittany Knight|          Books|     903.71|2025-02-19|       Pending|    0.02|       Susanburgh|       Cash|         885.6358|\n",
            "|   9834|   Timothy Duncan|    Electronics|     944.55|2024-06-04|     Cancelled|    0.07|      Port Thomas|     Wallet|878.4314999999999|\n",
            "|   8253|  Kevin Patterson|          Books|     998.21|2024-08-17|     Cancelled|    0.12|   New Susanville|        UPI|         878.4248|\n",
            "|   7912|     Brandon Hall|      Groceries|      905.0|2024-09-12|     Cancelled|    0.03|    New Jamesside|     Wallet|           877.85|\n",
            "|   1654|   Frank Williams|          Books|     903.78|2025-05-27|     Cancelled|    0.03|       Tracyshire|     Wallet|         876.6666|\n",
            "|   9239|    Tracy Montoya|    Electronics|     897.41|2025-02-14|     Cancelled|    0.04|        Port John|     Wallet|         861.5136|\n",
            "+-------+-----------------+---------------+-----------+----------+--------------+--------+-----------------+-----------+-----------------+\n",
            "only showing top 20 rows\n",
            "\n"
          ]
        }
      ]
    },
    {
      "cell_type": "code",
      "source": [
        "# Replace all “Cancelled” status with “Order Cancelled”.\n",
        "from pyspark.sql.functions import regexp_replace\n",
        "sales_df = sales_df.withColumn(\"DeliveryStatus\",regexp_replace(sales_df.DeliveryStatus, \"Cancelled\", \"Order Cancelled\"))\n",
        "sales_df.show()"
      ],
      "metadata": {
        "colab": {
          "base_uri": "https://localhost:8080/"
        },
        "id": "Dloaemr9Nbiy",
        "outputId": "d6192e44-a087-4519-d86b-1a0aec8b9d58"
      },
      "execution_count": 87,
      "outputs": [
        {
          "output_type": "stream",
          "name": "stdout",
          "text": [
            "+-------+-----------------+---------------+-----------+----------+---------------+--------+-----------------+-----------+-----------------+\n",
            "|OrderID|     CustomerName|ProductCategory|OrderAmount| OrderDate| DeliveryStatus|Discount|             City|PaymentMode|      FinalAmount|\n",
            "+-------+-----------------+---------------+-----------+----------+---------------+--------+-----------------+-----------+-----------------+\n",
            "|   5573|   Jordan Frazier|          Books|     981.05|2025-03-19|Order Cancelled|    0.02|      Sheilaville|       Cash|          961.429|\n",
            "|   8474|      Heidi Brown|    Electronics|     968.91|2023-11-23|Order Cancelled|    0.02|       Riverafort|       Cash|         949.5318|\n",
            "|   8889|      Karen Garza|          Books|      998.3|2024-10-17|Order Cancelled|    0.06|       Johnsonton|Credit Card|938.4019999999999|\n",
            "|   2127|     Jaclyn Moore|      Groceries|     933.32|2025-03-11|       Returned|    0.01|      Cherylhaven|       Cash|         923.9868|\n",
            "|   9806|    Samantha Gill|      Groceries|     993.17|2024-11-12|Order Cancelled|    0.07|     New Seanstad|     Wallet|         923.6481|\n",
            "|   5593|   Kristy Johnson|        Fashion|     961.35|2025-05-24|       Returned|    0.05|    Alexisborough|       Cash|         913.2825|\n",
            "|   2120| Alejandra Santos|    Electronics|     948.84|2024-05-09|       Returned|    0.04|     Jenniferberg|     Wallet|         910.8864|\n",
            "|   5949|Dr. Michael Evans|           Toys|     918.14|2023-07-29|        Pending|    0.01|   East Scottfort|     Wallet|908.9585999999999|\n",
            "|   1422|    Hunter Kramer|          Books|      973.2|2024-09-02|       Returned|    0.07|       Alfredview|       Cash|          905.076|\n",
            "|   2904|   Michelle Burns|        Fashion|     922.29|2025-05-01|       Returned|    0.02|      Stokesmouth|Credit Card|         903.8442|\n",
            "|   7566|    Jesus Houston|        Fashion|     899.31|2024-11-19|      Delivered|     0.0|       Marshburgh|Credit Card|           899.31|\n",
            "|   7511|      Regina Diaz|           Toys|     932.21|2025-02-06|Order Cancelled|    0.04|        Smithside|       Cash|         894.9216|\n",
            "|   9085|Anthony Rodriguez|      Groceries|     921.73|2024-10-02|Order Cancelled|    0.03|        Port Erin|        UPI|894.0781000000001|\n",
            "|   1436|     James Brooks|      Groceries|     978.96|2024-03-28|Order Cancelled|    0.09|West Jeffreymouth|Credit Card|         890.8536|\n",
            "|   6008|  Brittany Knight|          Books|     903.71|2025-02-19|        Pending|    0.02|       Susanburgh|       Cash|         885.6358|\n",
            "|   9834|   Timothy Duncan|    Electronics|     944.55|2024-06-04|Order Cancelled|    0.07|      Port Thomas|     Wallet|878.4314999999999|\n",
            "|   8253|  Kevin Patterson|          Books|     998.21|2024-08-17|Order Cancelled|    0.12|   New Susanville|        UPI|         878.4248|\n",
            "|   7912|     Brandon Hall|      Groceries|      905.0|2024-09-12|Order Cancelled|    0.03|    New Jamesside|     Wallet|           877.85|\n",
            "|   1654|   Frank Williams|          Books|     903.78|2025-05-27|Order Cancelled|    0.03|       Tracyshire|     Wallet|         876.6666|\n",
            "|   9239|    Tracy Montoya|    Electronics|     897.41|2025-02-14|Order Cancelled|    0.04|        Port John|     Wallet|         861.5136|\n",
            "+-------+-----------------+---------------+-----------+----------+---------------+--------+-----------------+-----------+-----------------+\n",
            "only showing top 20 rows\n",
            "\n"
          ]
        }
      ]
    },
    {
      "cell_type": "markdown",
      "source": [
        "4. Aggregations and GroupBy"
      ],
      "metadata": {
        "id": "DnHkrn71QXSf"
      }
    },
    {
      "cell_type": "code",
      "source": [
        "# Count of orders by DeliveryStatus.\n",
        "sales_df.groupBy(\"DeliveryStatus\").count().show()"
      ],
      "metadata": {
        "colab": {
          "base_uri": "https://localhost:8080/"
        },
        "id": "t6u2gkJdQbiP",
        "outputId": "f38f5c86-5109-477e-8e71-ac684406f3cf"
      },
      "execution_count": 88,
      "outputs": [
        {
          "output_type": "stream",
          "name": "stdout",
          "text": [
            "+---------------+-----+\n",
            "| DeliveryStatus|count|\n",
            "+---------------+-----+\n",
            "|       Returned|  117|\n",
            "|      Delivered|  119|\n",
            "|Order Cancelled|  149|\n",
            "|        Pending|  115|\n",
            "+---------------+-----+\n",
            "\n"
          ]
        }
      ]
    },
    {
      "cell_type": "code",
      "source": [
        "# Average Amount by ProductCategory.\n",
        "from pyspark.sql.functions import avg\n",
        "sales_df.groupBy(\"ProductCategory\").agg(avg(\"OrderAmount\").alias(\"Average Amount\")).show()"
      ],
      "metadata": {
        "colab": {
          "base_uri": "https://localhost:8080/"
        },
        "id": "LNUGQLzqQfLC",
        "outputId": "ee2e5921-759c-4579-b758-1bdabe69614f"
      },
      "execution_count": 89,
      "outputs": [
        {
          "output_type": "stream",
          "name": "stdout",
          "text": [
            "+---------------+------------------+\n",
            "|ProductCategory|    Average Amount|\n",
            "+---------------+------------------+\n",
            "|        Fashion|500.63082352941205|\n",
            "|      Groceries|459.51786407767014|\n",
            "|    Electronics| 551.7450000000002|\n",
            "|          Books| 568.6003773584907|\n",
            "|           Toys| 534.2837499999999|\n",
            "+---------------+------------------+\n",
            "\n"
          ]
        }
      ]
    },
    {
      "cell_type": "code",
      "source": [
        "# Group by City and show total sales.\n",
        "from pyspark.sql.functions import sum,col\n",
        "from pyspark.sql.types import DoubleType\n",
        "sales_df.groupBy(\"City\").agg(sum(col(\"OrderAmount\").cast(DoubleType())).alias(\"Total Sales\")).show()"
      ],
      "metadata": {
        "colab": {
          "base_uri": "https://localhost:8080/"
        },
        "id": "rmsvW_YKQgxi",
        "outputId": "35c7435a-f5e6-46e2-8ba1-4311fc773141"
      },
      "execution_count": 90,
      "outputs": [
        {
          "output_type": "stream",
          "name": "stdout",
          "text": [
            "+----------------+-----------+\n",
            "|            City|Total Sales|\n",
            "+----------------+-----------+\n",
            "|     Ramseymouth|     761.06|\n",
            "|East Edwardshire|     291.26|\n",
            "|    Lake Douglas|     975.09|\n",
            "|      Thomasberg|     882.68|\n",
            "| South Colinstad|     786.27|\n",
            "|     Laurenville|     383.26|\n",
            "|        Seanbury|     814.39|\n",
            "|      Gordonport|     514.99|\n",
            "|  West Dawnmouth|       12.8|\n",
            "|   Williamsmouth|      10.78|\n",
            "|     Sheilaville|     981.05|\n",
            "|       Mollybury|     222.02|\n",
            "|       Perezfort|     917.55|\n",
            "| Lake Jerrymouth|     404.01|\n",
            "|       Lisaville|      45.69|\n",
            "|     Port Willie|     788.13|\n",
            "|  South Samantha|     229.46|\n",
            "|Port Nicoleshire|     133.78|\n",
            "|Lake Rebeccabury|     891.66|\n",
            "|      Valdezberg|     424.96|\n",
            "+----------------+-----------+\n",
            "only showing top 20 rows\n",
            "\n"
          ]
        }
      ]
    },
    {
      "cell_type": "markdown",
      "source": [
        "Null Handling & Update\n"
      ],
      "metadata": {
        "id": "_oTMhRWUSXtF"
      }
    },
    {
      "cell_type": "code",
      "source": [
        "# Intentionally inject nulls in City column and handle them using fillna(),dropna().\n",
        "from pyspark.sql.functions import when,col\n",
        "\n",
        "# Intentionally inserting null values\n",
        "sales_df = sales_df.withColumn(\"City\", when(col(\"City\").startswith(\"New\"), None).otherwise(col(\"City\")))\n",
        "sales_df.where(col(\"City\").isNull()).show()\n",
        "\n",
        "# Using fillna() to fill null values\n",
        "sales_df=sales_df.fillna({\"City\": \"Unknown\"})\n",
        "sales_df.where(col('City')=='Unknown').show()\n",
        "\n",
        "#Again intentionally inserting null values\n",
        "sales_df = sales_df.withColumn(\"City\", when(col(\"City\").startswith(\"East\"), None).otherwise(col(\"City\")))\n",
        "sales_df.where(col(\"City\").isNull()).show()\n",
        "\n",
        "# Using dropna() to drop null values\n",
        "sales_df = sales_df.dropna(subset=[\"City\"])\n",
        "sales_df.where(col(\"City\").isNull()).show()"
      ],
      "metadata": {
        "colab": {
          "base_uri": "https://localhost:8080/"
        },
        "id": "hD9M2h94Sa8I",
        "outputId": "31003f99-8e4d-4369-8922-6bf73cca9181"
      },
      "execution_count": 91,
      "outputs": [
        {
          "output_type": "stream",
          "name": "stdout",
          "text": [
            "+-------+---------------+---------------+-----------+----------+---------------+--------+----+-----------+------------------+\n",
            "|OrderID|   CustomerName|ProductCategory|OrderAmount| OrderDate| DeliveryStatus|Discount|City|PaymentMode|       FinalAmount|\n",
            "+-------+---------------+---------------+-----------+----------+---------------+--------+----+-----------+------------------+\n",
            "|   9806|  Samantha Gill|      Groceries|     993.17|2024-11-12|Order Cancelled|    0.07|NULL|     Wallet|          923.6481|\n",
            "|   8253|Kevin Patterson|          Books|     998.21|2024-08-17|Order Cancelled|    0.12|NULL|        UPI|          878.4248|\n",
            "|   7912|   Brandon Hall|      Groceries|      905.0|2024-09-12|Order Cancelled|    0.03|NULL|     Wallet|            877.85|\n",
            "|   5496|  Eric Ferguson|        Fashion|      865.0|2024-06-27|Order Cancelled|    0.03|NULL|Credit Card|            839.05|\n",
            "|   9185|    Carol Moore|    Electronics|     766.67|2025-01-23|        Pending|    0.04|NULL|       Cash|          736.0032|\n",
            "|   8726|    Nancy Brown|          Books|     801.69|2023-09-18|Order Cancelled|    0.09|NULL|       Cash|          729.5379|\n",
            "|   6912|    Jackie Lara|    Electronics|     917.73|2024-08-04|        Pending|    0.22|NULL|       Cash| 715.8294000000001|\n",
            "|   5676|    Susan Davis|          Books|     662.05|2024-08-21|        Pending|     0.1|NULL|        UPI| 595.8449999999999|\n",
            "|   1049| Laura Williams|           Toys|     598.71|2024-02-25|        Pending|    0.02|NULL|Credit Card|          586.7358|\n",
            "|   8349|    Susan Smith|      Groceries|     737.59|2023-11-17|        Pending|    0.24|NULL|     Wallet|          560.5684|\n",
            "|   8239|  Jessica Smith|          Books|     610.08|2023-07-31|      Delivered|    0.09|NULL|        UPI|          555.1728|\n",
            "|   1025| Cynthia Butler|    Electronics|      536.8|2024-10-31|Order Cancelled|    0.05|NULL|        UPI|            509.96|\n",
            "|   2494|    April Woods|        Fashion|     604.59|2023-09-14|        Pending|    0.25|NULL|Credit Card|          453.4425|\n",
            "|   3258|   Jenny Tucker|      Groceries|     334.91|2024-07-24|      Delivered|    0.05|NULL|        UPI|318.16450000000003|\n",
            "|   8508|Kristine Garcia|    Electronics|     382.59|2024-07-24|      Delivered|    0.22|NULL|     Wallet|298.42019999999997|\n",
            "|   9524|   Larry Taylor|        Fashion|     333.73|2025-03-09|Order Cancelled|    0.22|NULL|Credit Card|          260.3094|\n",
            "|   3194|   David Wilson|      Groceries|     333.92|2024-03-18|       Returned|    0.25|NULL|       Cash|            250.44|\n",
            "|   8248|Angelica Garcia|          Books|      282.0|2025-01-07|        Pending|    0.16|NULL|Credit Card|            236.88|\n",
            "|   6427| Veronica Silva|      Groceries|      285.3|2025-02-10|      Delivered|     0.3|NULL|        UPI|            199.71|\n",
            "|   8989|   Dennis Young|           Toys|     169.91|2024-11-03|Order Cancelled|    0.02|NULL|Credit Card|          166.5118|\n",
            "+-------+---------------+---------------+-----------+----------+---------------+--------+----+-----------+------------------+\n",
            "only showing top 20 rows\n",
            "\n",
            "+-------+---------------+---------------+-----------+----------+---------------+--------+-------+-----------+------------------+\n",
            "|OrderID|   CustomerName|ProductCategory|OrderAmount| OrderDate| DeliveryStatus|Discount|   City|PaymentMode|       FinalAmount|\n",
            "+-------+---------------+---------------+-----------+----------+---------------+--------+-------+-----------+------------------+\n",
            "|   9806|  Samantha Gill|      Groceries|     993.17|2024-11-12|Order Cancelled|    0.07|Unknown|     Wallet|          923.6481|\n",
            "|   8253|Kevin Patterson|          Books|     998.21|2024-08-17|Order Cancelled|    0.12|Unknown|        UPI|          878.4248|\n",
            "|   7912|   Brandon Hall|      Groceries|      905.0|2024-09-12|Order Cancelled|    0.03|Unknown|     Wallet|            877.85|\n",
            "|   5496|  Eric Ferguson|        Fashion|      865.0|2024-06-27|Order Cancelled|    0.03|Unknown|Credit Card|            839.05|\n",
            "|   9185|    Carol Moore|    Electronics|     766.67|2025-01-23|        Pending|    0.04|Unknown|       Cash|          736.0032|\n",
            "|   8726|    Nancy Brown|          Books|     801.69|2023-09-18|Order Cancelled|    0.09|Unknown|       Cash|          729.5379|\n",
            "|   6912|    Jackie Lara|    Electronics|     917.73|2024-08-04|        Pending|    0.22|Unknown|       Cash| 715.8294000000001|\n",
            "|   5676|    Susan Davis|          Books|     662.05|2024-08-21|        Pending|     0.1|Unknown|        UPI| 595.8449999999999|\n",
            "|   1049| Laura Williams|           Toys|     598.71|2024-02-25|        Pending|    0.02|Unknown|Credit Card|          586.7358|\n",
            "|   8349|    Susan Smith|      Groceries|     737.59|2023-11-17|        Pending|    0.24|Unknown|     Wallet|          560.5684|\n",
            "|   8239|  Jessica Smith|          Books|     610.08|2023-07-31|      Delivered|    0.09|Unknown|        UPI|          555.1728|\n",
            "|   1025| Cynthia Butler|    Electronics|      536.8|2024-10-31|Order Cancelled|    0.05|Unknown|        UPI|            509.96|\n",
            "|   2494|    April Woods|        Fashion|     604.59|2023-09-14|        Pending|    0.25|Unknown|Credit Card|          453.4425|\n",
            "|   3258|   Jenny Tucker|      Groceries|     334.91|2024-07-24|      Delivered|    0.05|Unknown|        UPI|318.16450000000003|\n",
            "|   8508|Kristine Garcia|    Electronics|     382.59|2024-07-24|      Delivered|    0.22|Unknown|     Wallet|298.42019999999997|\n",
            "|   9524|   Larry Taylor|        Fashion|     333.73|2025-03-09|Order Cancelled|    0.22|Unknown|Credit Card|          260.3094|\n",
            "|   3194|   David Wilson|      Groceries|     333.92|2024-03-18|       Returned|    0.25|Unknown|       Cash|            250.44|\n",
            "|   8248|Angelica Garcia|          Books|      282.0|2025-01-07|        Pending|    0.16|Unknown|Credit Card|            236.88|\n",
            "|   6427| Veronica Silva|      Groceries|      285.3|2025-02-10|      Delivered|     0.3|Unknown|        UPI|            199.71|\n",
            "|   8989|   Dennis Young|           Toys|     169.91|2024-11-03|Order Cancelled|    0.02|Unknown|Credit Card|          166.5118|\n",
            "+-------+---------------+---------------+-----------+----------+---------------+--------+-------+-----------+------------------+\n",
            "only showing top 20 rows\n",
            "\n",
            "+-------+-----------------+---------------+-----------+----------+---------------+--------+----+-----------+-----------------+\n",
            "|OrderID|     CustomerName|ProductCategory|OrderAmount| OrderDate| DeliveryStatus|Discount|City|PaymentMode|      FinalAmount|\n",
            "+-------+-----------------+---------------+-----------+----------+---------------+--------+----+-----------+-----------------+\n",
            "|   5949|Dr. Michael Evans|           Toys|     918.14|2023-07-29|        Pending|    0.01|NULL|     Wallet|908.9585999999999|\n",
            "|   4513|      Rachel Owen|    Electronics|     904.97|2024-09-21|      Delivered|    0.12|NULL|       Cash|         796.3736|\n",
            "|   3703|    Jessica Brown|    Electronics|     833.82|2024-02-15|      Delivered|    0.09|NULL|Credit Card|         758.7762|\n",
            "|   3339|        Megan Kim|        Fashion|     987.49|2023-09-09|Order Cancelled|    0.25|NULL|     Wallet|740.6175000000001|\n",
            "|   1659| Tiffany Gonzalez|          Books|     741.43|2023-06-18|       Returned|    0.02|NULL|Credit Card|726.6013999999999|\n",
            "|   5444|     Laura Wilson|          Books|     843.58|2024-11-06|       Returned|     0.2|NULL|       Cash|          674.864|\n",
            "|   3852|   Katie Martinez|      Groceries|     665.03|2023-11-06|Order Cancelled|     0.0|NULL|     Wallet|           665.03|\n",
            "|   2684|    Justin Baxter|          Books|     837.46|2024-09-27|Order Cancelled|    0.22|NULL|Credit Card|         653.2188|\n",
            "|   3742|Patricia Ferguson|           Toys|      807.0|2024-10-01|      Delivered|    0.21|NULL|       Cash|           637.53|\n",
            "|   7783|  James Payne Jr.|    Electronics|     644.12|2024-06-09|Order Cancelled|    0.04|NULL|        UPI|         618.3552|\n",
            "|   2838|    Joshua Wagner|    Electronics|      699.7|2024-08-20|      Delivered|    0.15|NULL|       Cash|          594.745|\n",
            "|   5186|    Bryan Jimenez|        Fashion|     741.05|2024-05-02|Order Cancelled|    0.22|NULL|        UPI|          578.019|\n",
            "|   7253|   Jennifer Pitts|      Groceries|     603.39|2023-09-28|Order Cancelled|    0.08|NULL|Credit Card|         555.1188|\n",
            "|   6420|    Michael Young|    Electronics|     762.34|2024-01-10|        Pending|    0.28|NULL|       Cash|         548.8848|\n",
            "|   7643|    Kaylee Miller|      Groceries|     700.36|2024-11-03|       Returned|    0.23|NULL|     Wallet|         539.2772|\n",
            "|   6302| Eileen Armstrong|        Fashion|     553.25|2025-03-30|      Delivered|    0.03|NULL|Credit Card|         536.6525|\n",
            "|   7878| Anthony Shea DDS|          Books|     463.12|2023-08-14|       Returned|    0.02|NULL|        UPI|         453.8576|\n",
            "|   7141|    David Jenkins|    Electronics|     485.99|2024-11-13|Order Cancelled|     0.1|NULL|Credit Card|          437.391|\n",
            "|   4457|       Brad Allen|          Books|     419.23|2024-08-04|      Delivered|    0.03|NULL|       Cash|         406.6531|\n",
            "|   9647|    Ricardo Young|           Toys|     471.74|2023-09-05|Order Cancelled|     0.2|NULL|       Cash|          377.392|\n",
            "+-------+-----------------+---------------+-----------+----------+---------------+--------+----+-----------+-----------------+\n",
            "only showing top 20 rows\n",
            "\n",
            "+-------+------------+---------------+-----------+---------+--------------+--------+----+-----------+-----------+\n",
            "|OrderID|CustomerName|ProductCategory|OrderAmount|OrderDate|DeliveryStatus|Discount|City|PaymentMode|FinalAmount|\n",
            "+-------+------------+---------------+-----------+---------+--------------+--------+----+-----------+-----------+\n",
            "+-------+------------+---------------+-----------+---------+--------------+--------+----+-----------+-----------+\n",
            "\n"
          ]
        }
      ]
    },
    {
      "cell_type": "code",
      "source": [
        "# Use .when().otherwise() in PySpark to tag high-value customers ( Amount >800 ).\n",
        "from pyspark.sql.functions import when\n",
        "sales_df = sales_df.withColumn(\"CustomerCategory\", when(sales_df.OrderAmount > 800, \"High-Value\").otherwise(\"Low-Value\"))\n",
        "sales_df.show()"
      ],
      "metadata": {
        "colab": {
          "base_uri": "https://localhost:8080/"
        },
        "id": "rdnBj3rYSclz",
        "outputId": "47605898-2f80-49d2-ecea-e72f65df1c27"
      },
      "execution_count": 92,
      "outputs": [
        {
          "output_type": "stream",
          "name": "stdout",
          "text": [
            "+-------+-----------------+---------------+-----------+----------+---------------+--------+-----------------+-----------+-----------------+----------------+\n",
            "|OrderID|     CustomerName|ProductCategory|OrderAmount| OrderDate| DeliveryStatus|Discount|             City|PaymentMode|      FinalAmount|CustomerCategory|\n",
            "+-------+-----------------+---------------+-----------+----------+---------------+--------+-----------------+-----------+-----------------+----------------+\n",
            "|   5573|   Jordan Frazier|          Books|     981.05|2025-03-19|Order Cancelled|    0.02|      Sheilaville|       Cash|          961.429|      High-Value|\n",
            "|   8474|      Heidi Brown|    Electronics|     968.91|2023-11-23|Order Cancelled|    0.02|       Riverafort|       Cash|         949.5318|      High-Value|\n",
            "|   8889|      Karen Garza|          Books|      998.3|2024-10-17|Order Cancelled|    0.06|       Johnsonton|Credit Card|938.4019999999999|      High-Value|\n",
            "|   2127|     Jaclyn Moore|      Groceries|     933.32|2025-03-11|       Returned|    0.01|      Cherylhaven|       Cash|         923.9868|      High-Value|\n",
            "|   9806|    Samantha Gill|      Groceries|     993.17|2024-11-12|Order Cancelled|    0.07|          Unknown|     Wallet|         923.6481|      High-Value|\n",
            "|   5593|   Kristy Johnson|        Fashion|     961.35|2025-05-24|       Returned|    0.05|    Alexisborough|       Cash|         913.2825|      High-Value|\n",
            "|   2120| Alejandra Santos|    Electronics|     948.84|2024-05-09|       Returned|    0.04|     Jenniferberg|     Wallet|         910.8864|      High-Value|\n",
            "|   1422|    Hunter Kramer|          Books|      973.2|2024-09-02|       Returned|    0.07|       Alfredview|       Cash|          905.076|      High-Value|\n",
            "|   2904|   Michelle Burns|        Fashion|     922.29|2025-05-01|       Returned|    0.02|      Stokesmouth|Credit Card|         903.8442|      High-Value|\n",
            "|   7566|    Jesus Houston|        Fashion|     899.31|2024-11-19|      Delivered|     0.0|       Marshburgh|Credit Card|           899.31|      High-Value|\n",
            "|   7511|      Regina Diaz|           Toys|     932.21|2025-02-06|Order Cancelled|    0.04|        Smithside|       Cash|         894.9216|      High-Value|\n",
            "|   9085|Anthony Rodriguez|      Groceries|     921.73|2024-10-02|Order Cancelled|    0.03|        Port Erin|        UPI|894.0781000000001|      High-Value|\n",
            "|   1436|     James Brooks|      Groceries|     978.96|2024-03-28|Order Cancelled|    0.09|West Jeffreymouth|Credit Card|         890.8536|      High-Value|\n",
            "|   6008|  Brittany Knight|          Books|     903.71|2025-02-19|        Pending|    0.02|       Susanburgh|       Cash|         885.6358|      High-Value|\n",
            "|   9834|   Timothy Duncan|    Electronics|     944.55|2024-06-04|Order Cancelled|    0.07|      Port Thomas|     Wallet|878.4314999999999|      High-Value|\n",
            "|   8253|  Kevin Patterson|          Books|     998.21|2024-08-17|Order Cancelled|    0.12|          Unknown|        UPI|         878.4248|      High-Value|\n",
            "|   7912|     Brandon Hall|      Groceries|      905.0|2024-09-12|Order Cancelled|    0.03|          Unknown|     Wallet|           877.85|      High-Value|\n",
            "|   1654|   Frank Williams|          Books|     903.78|2025-05-27|Order Cancelled|    0.03|       Tracyshire|     Wallet|         876.6666|      High-Value|\n",
            "|   9239|    Tracy Montoya|    Electronics|     897.41|2025-02-14|Order Cancelled|    0.04|        Port John|     Wallet|         861.5136|      High-Value|\n",
            "|   9006|      Keith Flynn|    Electronics|     997.67|2023-11-21|        Pending|    0.14|      Antoniobury|       Cash|857.9961999999999|      High-Value|\n",
            "+-------+-----------------+---------------+-----------+----------+---------------+--------+-----------------+-----------+-----------------+----------------+\n",
            "only showing top 20 rows\n",
            "\n"
          ]
        }
      ]
    },
    {
      "cell_type": "markdown",
      "source": [
        "6. Date & Time Functions"
      ],
      "metadata": {
        "id": "lFXLGt_RW5ps"
      }
    },
    {
      "cell_type": "code",
      "source": [
        "# Extract year and month from OrderDate .\n",
        "sales_df = sales_df.withColumn(\"OrderDate\", sales_df.OrderDate.cast(\"date\"))\n",
        "sales_df = sales_df.withColumn(\"Year\", sales_df.OrderDate.substr(1, 4))\n",
        "sales_df = sales_df.withColumn(\"Month\", sales_df.OrderDate.substr(6, 2))\n",
        "sales_df.show()"
      ],
      "metadata": {
        "colab": {
          "base_uri": "https://localhost:8080/"
        },
        "id": "cnxU3ASlW8sb",
        "outputId": "f2288121-a00f-427b-c612-9b19d8e348cf"
      },
      "execution_count": 95,
      "outputs": [
        {
          "output_type": "stream",
          "name": "stdout",
          "text": [
            "+-------+-----------------+---------------+-----------+----------+---------------+--------+-----------------+-----------+-----------------+----------------+----+-----+\n",
            "|OrderID|     CustomerName|ProductCategory|OrderAmount| OrderDate| DeliveryStatus|Discount|             City|PaymentMode|      FinalAmount|CustomerCategory|Year|Month|\n",
            "+-------+-----------------+---------------+-----------+----------+---------------+--------+-----------------+-----------+-----------------+----------------+----+-----+\n",
            "|   5573|   Jordan Frazier|          Books|     981.05|2025-03-19|Order Cancelled|    0.02|      Sheilaville|       Cash|          961.429|      High-Value|2025|   03|\n",
            "|   8474|      Heidi Brown|    Electronics|     968.91|2023-11-23|Order Cancelled|    0.02|       Riverafort|       Cash|         949.5318|      High-Value|2023|   11|\n",
            "|   8889|      Karen Garza|          Books|      998.3|2024-10-17|Order Cancelled|    0.06|       Johnsonton|Credit Card|938.4019999999999|      High-Value|2024|   10|\n",
            "|   2127|     Jaclyn Moore|      Groceries|     933.32|2025-03-11|       Returned|    0.01|      Cherylhaven|       Cash|         923.9868|      High-Value|2025|   03|\n",
            "|   9806|    Samantha Gill|      Groceries|     993.17|2024-11-12|Order Cancelled|    0.07|          Unknown|     Wallet|         923.6481|      High-Value|2024|   11|\n",
            "|   5593|   Kristy Johnson|        Fashion|     961.35|2025-05-24|       Returned|    0.05|    Alexisborough|       Cash|         913.2825|      High-Value|2025|   05|\n",
            "|   2120| Alejandra Santos|    Electronics|     948.84|2024-05-09|       Returned|    0.04|     Jenniferberg|     Wallet|         910.8864|      High-Value|2024|   05|\n",
            "|   1422|    Hunter Kramer|          Books|      973.2|2024-09-02|       Returned|    0.07|       Alfredview|       Cash|          905.076|      High-Value|2024|   09|\n",
            "|   2904|   Michelle Burns|        Fashion|     922.29|2025-05-01|       Returned|    0.02|      Stokesmouth|Credit Card|         903.8442|      High-Value|2025|   05|\n",
            "|   7566|    Jesus Houston|        Fashion|     899.31|2024-11-19|      Delivered|     0.0|       Marshburgh|Credit Card|           899.31|      High-Value|2024|   11|\n",
            "|   7511|      Regina Diaz|           Toys|     932.21|2025-02-06|Order Cancelled|    0.04|        Smithside|       Cash|         894.9216|      High-Value|2025|   02|\n",
            "|   9085|Anthony Rodriguez|      Groceries|     921.73|2024-10-02|Order Cancelled|    0.03|        Port Erin|        UPI|894.0781000000001|      High-Value|2024|   10|\n",
            "|   1436|     James Brooks|      Groceries|     978.96|2024-03-28|Order Cancelled|    0.09|West Jeffreymouth|Credit Card|         890.8536|      High-Value|2024|   03|\n",
            "|   6008|  Brittany Knight|          Books|     903.71|2025-02-19|        Pending|    0.02|       Susanburgh|       Cash|         885.6358|      High-Value|2025|   02|\n",
            "|   9834|   Timothy Duncan|    Electronics|     944.55|2024-06-04|Order Cancelled|    0.07|      Port Thomas|     Wallet|878.4314999999999|      High-Value|2024|   06|\n",
            "|   8253|  Kevin Patterson|          Books|     998.21|2024-08-17|Order Cancelled|    0.12|          Unknown|        UPI|         878.4248|      High-Value|2024|   08|\n",
            "|   7912|     Brandon Hall|      Groceries|      905.0|2024-09-12|Order Cancelled|    0.03|          Unknown|     Wallet|           877.85|      High-Value|2024|   09|\n",
            "|   1654|   Frank Williams|          Books|     903.78|2025-05-27|Order Cancelled|    0.03|       Tracyshire|     Wallet|         876.6666|      High-Value|2025|   05|\n",
            "|   9239|    Tracy Montoya|    Electronics|     897.41|2025-02-14|Order Cancelled|    0.04|        Port John|     Wallet|         861.5136|      High-Value|2025|   02|\n",
            "|   9006|      Keith Flynn|    Electronics|     997.67|2023-11-21|        Pending|    0.14|      Antoniobury|       Cash|857.9961999999999|      High-Value|2023|   11|\n",
            "+-------+-----------------+---------------+-----------+----------+---------------+--------+-----------------+-----------+-----------------+----------------+----+-----+\n",
            "only showing top 20 rows\n",
            "\n"
          ]
        }
      ]
    },
    {
      "cell_type": "code",
      "source": [
        "# Calculate customer loyalty in years = today - CustomerSince .\n",
        "from pyspark.sql.functions import current_date, datediff,round\n",
        "sales_df = sales_df.withColumn(\"CustomerSince\", sales_df.CustomerSince.cast(\"date\"))\n",
        "sales_df = sales_df.withColumn(\"LoyaltyYears\",round(datediff(current_date(), sales_df.CustomerSince) / 365,2))\n",
        "sales_df.show()"
      ],
      "metadata": {
        "colab": {
          "base_uri": "https://localhost:8080/"
        },
        "id": "E0W4mp6CXX7W",
        "outputId": "a257694e-2bbc-41f9-ecdb-fdfb41a7ddab"
      },
      "execution_count": 101,
      "outputs": [
        {
          "output_type": "stream",
          "name": "stdout",
          "text": [
            "+-------+------------------+---------------+------+----------+--------------+--------+-----------------+-----------+-------------+------------+\n",
            "|OrderID|      CustomerName|ProductCategory|Amount| OrderDate|DeliveryStatus|Discount|             City|PaymentMode|CustomerSince|LoyaltyYears|\n",
            "+-------+------------------+---------------+------+----------+--------------+--------+-----------------+-----------+-------------+------------+\n",
            "|   2824|     Donald Walker|          Books|783.04|2024-12-26|      Returned|    0.15|     Lake Joyside|Credit Card|   2020-10-15|        4.64|\n",
            "|   7912|      Brandon Hall|      Groceries| 905.0|2024-09-12|     Cancelled|    0.03|    New Jamesside|     Wallet|   2022-03-15|        3.22|\n",
            "|   4611|      Donald Booth|        Fashion|657.96|2025-01-12|      Returned|    0.01|     Lake Roberto|     Wallet|   2021-08-07|        3.82|\n",
            "|   3547|    Phillip Garcia|        Fashion|606.89|2024-03-24|      Returned|    0.15| West Melanieview|     Wallet|   2020-08-08|        4.82|\n",
            "|   8527|      Valerie Gray|           Toys| 77.87|2024-08-04|     Delivered|    0.17|        Mariastad|       Cash|   2022-11-15|        2.55|\n",
            "|   4150|       Amber Perez|          Books|352.37|2024-01-13|     Cancelled|    0.24|  Port Jesseville|       Cash|   2022-01-13|        3.39|\n",
            "|   5554|        Roy Martin|           Toys|148.33|2024-03-04|     Cancelled|    0.27|      Lake Joseph|       Cash|   2023-04-29|         2.1|\n",
            "|   2169|    Carolyn Daniel|    Electronics| 14.09|2023-10-07|     Delivered|    0.25|         Grayside|Credit Card|   2021-05-09|        4.07|\n",
            "|   6313|       Patty Perez|      Groceries| 79.83|2023-06-27|     Cancelled|    0.12|      Richardland|Credit Card|   2021-04-25|        4.11|\n",
            "|   6155|Jonathan Wilkerson|        Fashion|882.68|2024-10-14|     Cancelled|    0.27|       Thomasberg|       Cash|   2021-06-20|        3.96|\n",
            "|   9830|       Kevin Hurst|          Books|870.55|2024-04-08|     Delivered|    0.22|      Jeffreyberg|     Wallet|   2022-08-02|        2.84|\n",
            "|   9085| Anthony Rodriguez|      Groceries|921.73|2024-10-02|     Cancelled|    0.03|        Port Erin|        UPI|   2022-12-15|        2.47|\n",
            "|   2040|     Kyle Mcdonald|           Toys|327.52|2023-12-15|      Returned|    0.06|Lake Jenniferside|     Wallet|   2021-07-21|        3.87|\n",
            "|   6573|    Jeffrey Chavez|          Books|676.02|2024-12-14|     Cancelled|    0.19|      Teresaburgh|     Wallet|   2022-07-30|        2.85|\n",
            "|   2743|  Elizabeth Fowler|    Electronics| 47.06|2024-09-18|     Delivered|    0.13|   East Nathaniel|       Cash|   2021-02-07|        4.32|\n",
            "|   9837|     Tammy Sellers|          Books| 46.15|2024-09-10|     Cancelled|    0.05|       Tracyville|        UPI|   2021-12-17|        3.46|\n",
            "|   6038|     David Bradley|        Fashion|348.51|2023-08-03|      Returned|    0.23|    Lake Toddland|        UPI|   2022-09-07|        2.74|\n",
            "|   3060|       John Pierce|           Toys|362.09|2023-12-25|      Returned|    0.03|       Brandtside|       Cash|   2023-05-09|        2.07|\n",
            "|   4295|   Jennifer Powers|    Electronics|684.26|2024-03-19|     Cancelled|    0.21|         Lammouth|        UPI|   2020-12-06|        4.49|\n",
            "|   5061|    George Chapman|    Electronics|251.89|2023-11-28|       Pending|    0.27|       North Chad|       Cash|   2023-02-07|        2.32|\n",
            "+-------+------------------+---------------+------+----------+--------------+--------+-----------------+-----------+-------------+------------+\n",
            "only showing top 20 rows\n",
            "\n"
          ]
        }
      ]
    },
    {
      "cell_type": "markdown",
      "source": [
        "7.Joins and Unions"
      ],
      "metadata": {
        "id": "Xglle2IJY_8L"
      }
    },
    {
      "cell_type": "code",
      "source": [
        "# Create a second DataFrame with city-wise region mapping.\n",
        "from pyspark.sql.functions import when, col\n",
        "region_temp_df = sales_df.select(\"City\").distinct().withColumn(\n",
        "    \"Region\",\n",
        "    when(col(\"City\").startswith(\"North\"), \"North\")\n",
        "    .when(col(\"City\").startswith(\"West\"), \"West\")\n",
        "    .when(col(\"City\").startswith(\"East\"), \"East\")\n",
        "    .when(col(\"City\").startswith(\"South\"), \"South\")\n",
        "    .otherwise(\"Unknown\"))\n",
        "region_temp_df.show()"
      ],
      "metadata": {
        "colab": {
          "base_uri": "https://localhost:8080/"
        },
        "id": "brbhL5rXZDiC",
        "outputId": "be1a576d-97d3-4ea7-e84c-b85cc8c70aed"
      },
      "execution_count": 106,
      "outputs": [
        {
          "output_type": "stream",
          "name": "stdout",
          "text": [
            "+----------------+-------+\n",
            "|            City| Region|\n",
            "+----------------+-------+\n",
            "|     Ramseymouth|Unknown|\n",
            "|East Edwardshire|   East|\n",
            "|      Thomasberg|Unknown|\n",
            "|     Laurenville|Unknown|\n",
            "| South Colinstad|  South|\n",
            "|    Lake Douglas|Unknown|\n",
            "|   Williamsmouth|Unknown|\n",
            "|      Gordonport|Unknown|\n",
            "|  West Dawnmouth|   West|\n",
            "|        Seanbury|Unknown|\n",
            "|     Sheilaville|Unknown|\n",
            "|       Mollybury|Unknown|\n",
            "|       Lisaville|Unknown|\n",
            "| Lake Jerrymouth|Unknown|\n",
            "|       Perezfort|Unknown|\n",
            "|Port Nicoleshire|Unknown|\n",
            "|  South Samantha|  South|\n",
            "|     Port Willie|Unknown|\n",
            "|     Waltersfort|Unknown|\n",
            "|       Youngbury|Unknown|\n",
            "+----------------+-------+\n",
            "only showing top 20 rows\n",
            "\n"
          ]
        }
      ]
    },
    {
      "cell_type": "code",
      "source": [
        "# Perform left join with the main dataset.\n",
        "left_join_df = sales_df.join(region_temp_df, on=\"City\", how=\"left\")\n",
        "left_join_df.show()"
      ],
      "metadata": {
        "colab": {
          "base_uri": "https://localhost:8080/"
        },
        "id": "FdDfdrsharDt",
        "outputId": "3587af54-56cc-442c-c2d2-caa15b7459ba"
      },
      "execution_count": 107,
      "outputs": [
        {
          "output_type": "stream",
          "name": "stdout",
          "text": [
            "+-----------------+-------+------------------+---------------+------+----------+--------------+--------+-----------+-------------+-------+\n",
            "|             City|OrderID|      CustomerName|ProductCategory|Amount| OrderDate|DeliveryStatus|Discount|PaymentMode|CustomerSince| Region|\n",
            "+-----------------+-------+------------------+---------------+------+----------+--------------+--------+-----------+-------------+-------+\n",
            "|     Lake Joyside|   2824|     Donald Walker|          Books|783.04|2024-12-26|      Returned|    0.15|Credit Card|   2020-10-15|Unknown|\n",
            "|    New Jamesside|   7912|      Brandon Hall|      Groceries| 905.0|2024-09-12|     Cancelled|    0.03|     Wallet|   2022-03-15|Unknown|\n",
            "|     Lake Roberto|   4611|      Donald Booth|        Fashion|657.96|2025-01-12|      Returned|    0.01|     Wallet|   2021-08-07|Unknown|\n",
            "| West Melanieview|   3547|    Phillip Garcia|        Fashion|606.89|2024-03-24|      Returned|    0.15|     Wallet|   2020-08-08|   West|\n",
            "|        Mariastad|   8527|      Valerie Gray|           Toys| 77.87|2024-08-04|     Delivered|    0.17|       Cash|   2022-11-15|Unknown|\n",
            "|  Port Jesseville|   4150|       Amber Perez|          Books|352.37|2024-01-13|     Cancelled|    0.24|       Cash|   2022-01-13|Unknown|\n",
            "|      Lake Joseph|   5554|        Roy Martin|           Toys|148.33|2024-03-04|     Cancelled|    0.27|       Cash|   2023-04-29|Unknown|\n",
            "|         Grayside|   2169|    Carolyn Daniel|    Electronics| 14.09|2023-10-07|     Delivered|    0.25|Credit Card|   2021-05-09|Unknown|\n",
            "|      Richardland|   6313|       Patty Perez|      Groceries| 79.83|2023-06-27|     Cancelled|    0.12|Credit Card|   2021-04-25|Unknown|\n",
            "|       Thomasberg|   6155|Jonathan Wilkerson|        Fashion|882.68|2024-10-14|     Cancelled|    0.27|       Cash|   2021-06-20|Unknown|\n",
            "|      Jeffreyberg|   9830|       Kevin Hurst|          Books|870.55|2024-04-08|     Delivered|    0.22|     Wallet|   2022-08-02|Unknown|\n",
            "|        Port Erin|   9085| Anthony Rodriguez|      Groceries|921.73|2024-10-02|     Cancelled|    0.03|        UPI|   2022-12-15|Unknown|\n",
            "|Lake Jenniferside|   2040|     Kyle Mcdonald|           Toys|327.52|2023-12-15|      Returned|    0.06|     Wallet|   2021-07-21|Unknown|\n",
            "|      Teresaburgh|   6573|    Jeffrey Chavez|          Books|676.02|2024-12-14|     Cancelled|    0.19|     Wallet|   2022-07-30|Unknown|\n",
            "|   East Nathaniel|   2743|  Elizabeth Fowler|    Electronics| 47.06|2024-09-18|     Delivered|    0.13|       Cash|   2021-02-07|   East|\n",
            "|       Tracyville|   9837|     Tammy Sellers|          Books| 46.15|2024-09-10|     Cancelled|    0.05|        UPI|   2021-12-17|Unknown|\n",
            "|    Lake Toddland|   6038|     David Bradley|        Fashion|348.51|2023-08-03|      Returned|    0.23|        UPI|   2022-09-07|Unknown|\n",
            "|       Brandtside|   3060|       John Pierce|           Toys|362.09|2023-12-25|      Returned|    0.03|       Cash|   2023-05-09|Unknown|\n",
            "|         Lammouth|   4295|   Jennifer Powers|    Electronics|684.26|2024-03-19|     Cancelled|    0.21|        UPI|   2020-12-06|Unknown|\n",
            "|       North Chad|   5061|    George Chapman|    Electronics|251.89|2023-11-28|       Pending|    0.27|       Cash|   2023-02-07|  North|\n",
            "+-----------------+-------+------------------+---------------+------+----------+--------------+--------+-----------+-------------+-------+\n",
            "only showing top 20 rows\n",
            "\n"
          ]
        }
      ]
    },
    {
      "cell_type": "code",
      "source": [
        "#Perform inner join with the main dataset.\n",
        "inner_join_df = sales_df.join(region_temp_df, on=\"City\", how=\"inner\")\n",
        "inner_join_df.show()"
      ],
      "metadata": {
        "colab": {
          "base_uri": "https://localhost:8080/"
        },
        "id": "36JdujwMatHw",
        "outputId": "27ed43a2-5d1b-41b6-e642-a93dba4cacbe"
      },
      "execution_count": 108,
      "outputs": [
        {
          "output_type": "stream",
          "name": "stdout",
          "text": [
            "+-----------------+-------+------------------+---------------+------+----------+--------------+--------+-----------+-------------+-------+\n",
            "|             City|OrderID|      CustomerName|ProductCategory|Amount| OrderDate|DeliveryStatus|Discount|PaymentMode|CustomerSince| Region|\n",
            "+-----------------+-------+------------------+---------------+------+----------+--------------+--------+-----------+-------------+-------+\n",
            "|     Lake Joyside|   2824|     Donald Walker|          Books|783.04|2024-12-26|      Returned|    0.15|Credit Card|   2020-10-15|Unknown|\n",
            "|    New Jamesside|   7912|      Brandon Hall|      Groceries| 905.0|2024-09-12|     Cancelled|    0.03|     Wallet|   2022-03-15|Unknown|\n",
            "|     Lake Roberto|   4611|      Donald Booth|        Fashion|657.96|2025-01-12|      Returned|    0.01|     Wallet|   2021-08-07|Unknown|\n",
            "| West Melanieview|   3547|    Phillip Garcia|        Fashion|606.89|2024-03-24|      Returned|    0.15|     Wallet|   2020-08-08|   West|\n",
            "|        Mariastad|   8527|      Valerie Gray|           Toys| 77.87|2024-08-04|     Delivered|    0.17|       Cash|   2022-11-15|Unknown|\n",
            "|  Port Jesseville|   4150|       Amber Perez|          Books|352.37|2024-01-13|     Cancelled|    0.24|       Cash|   2022-01-13|Unknown|\n",
            "|      Lake Joseph|   5554|        Roy Martin|           Toys|148.33|2024-03-04|     Cancelled|    0.27|       Cash|   2023-04-29|Unknown|\n",
            "|         Grayside|   2169|    Carolyn Daniel|    Electronics| 14.09|2023-10-07|     Delivered|    0.25|Credit Card|   2021-05-09|Unknown|\n",
            "|      Richardland|   6313|       Patty Perez|      Groceries| 79.83|2023-06-27|     Cancelled|    0.12|Credit Card|   2021-04-25|Unknown|\n",
            "|       Thomasberg|   6155|Jonathan Wilkerson|        Fashion|882.68|2024-10-14|     Cancelled|    0.27|       Cash|   2021-06-20|Unknown|\n",
            "|      Jeffreyberg|   9830|       Kevin Hurst|          Books|870.55|2024-04-08|     Delivered|    0.22|     Wallet|   2022-08-02|Unknown|\n",
            "|        Port Erin|   9085| Anthony Rodriguez|      Groceries|921.73|2024-10-02|     Cancelled|    0.03|        UPI|   2022-12-15|Unknown|\n",
            "|Lake Jenniferside|   2040|     Kyle Mcdonald|           Toys|327.52|2023-12-15|      Returned|    0.06|     Wallet|   2021-07-21|Unknown|\n",
            "|      Teresaburgh|   6573|    Jeffrey Chavez|          Books|676.02|2024-12-14|     Cancelled|    0.19|     Wallet|   2022-07-30|Unknown|\n",
            "|   East Nathaniel|   2743|  Elizabeth Fowler|    Electronics| 47.06|2024-09-18|     Delivered|    0.13|       Cash|   2021-02-07|   East|\n",
            "|       Tracyville|   9837|     Tammy Sellers|          Books| 46.15|2024-09-10|     Cancelled|    0.05|        UPI|   2021-12-17|Unknown|\n",
            "|    Lake Toddland|   6038|     David Bradley|        Fashion|348.51|2023-08-03|      Returned|    0.23|        UPI|   2022-09-07|Unknown|\n",
            "|       Brandtside|   3060|       John Pierce|           Toys|362.09|2023-12-25|      Returned|    0.03|       Cash|   2023-05-09|Unknown|\n",
            "|         Lammouth|   4295|   Jennifer Powers|    Electronics|684.26|2024-03-19|     Cancelled|    0.21|        UPI|   2020-12-06|Unknown|\n",
            "|       North Chad|   5061|    George Chapman|    Electronics|251.89|2023-11-28|       Pending|    0.27|       Cash|   2023-02-07|  North|\n",
            "+-----------------+-------+------------------+---------------+------+----------+--------------+--------+-----------+-------------+-------+\n",
            "only showing top 20 rows\n",
            "\n"
          ]
        }
      ]
    },
    {
      "cell_type": "code",
      "source": [
        "# Union two datasets: e.g., orders from 2023 and 2024.\n",
        "from pyspark.sql.functions import year, to_date\n",
        "sales_df = sales_df.withColumn(\"OrderDate\", to_date(\"OrderDate\"))\n",
        "sales_2023 = sales_df.filter(year(\"OrderDate\") == 2023)\n",
        "sales_2024 = sales_df.filter(year(\"OrderDate\") == 2024)\n",
        "union_df = sales_2023.union(sales_2024)\n",
        "union_df.show()\n"
      ],
      "metadata": {
        "colab": {
          "base_uri": "https://localhost:8080/"
        },
        "id": "_oLeGS-0a5_0",
        "outputId": "6efcd2b7-3ac5-40cc-a5fc-a03ae89e5636"
      },
      "execution_count": 109,
      "outputs": [
        {
          "output_type": "stream",
          "name": "stdout",
          "text": [
            "+-------+----------------+---------------+------+----------+--------------+--------+-----------------+-----------+-------------+\n",
            "|OrderID|    CustomerName|ProductCategory|Amount| OrderDate|DeliveryStatus|Discount|             City|PaymentMode|CustomerSince|\n",
            "+-------+----------------+---------------+------+----------+--------------+--------+-----------------+-----------+-------------+\n",
            "|   2169|  Carolyn Daniel|    Electronics| 14.09|2023-10-07|     Delivered|    0.25|         Grayside|Credit Card|   2021-05-09|\n",
            "|   6313|     Patty Perez|      Groceries| 79.83|2023-06-27|     Cancelled|    0.12|      Richardland|Credit Card|   2021-04-25|\n",
            "|   2040|   Kyle Mcdonald|           Toys|327.52|2023-12-15|      Returned|    0.06|Lake Jenniferside|     Wallet|   2021-07-21|\n",
            "|   6038|   David Bradley|        Fashion|348.51|2023-08-03|      Returned|    0.23|    Lake Toddland|        UPI|   2022-09-07|\n",
            "|   3060|     John Pierce|           Toys|362.09|2023-12-25|      Returned|    0.03|       Brandtside|       Cash|   2023-05-09|\n",
            "|   5061|  George Chapman|    Electronics|251.89|2023-11-28|       Pending|    0.27|       North Chad|       Cash|   2023-02-07|\n",
            "|   1964|    Taylor Heath|           Toys| 578.5|2023-07-28|     Cancelled|    0.01|   West Elizabeth|       Cash|   2021-04-30|\n",
            "|   2612|Nicholas Mcbride|        Fashion|219.05|2023-08-26|     Delivered|    0.27|       East James|        UPI|   2022-04-29|\n",
            "|   1828|  Kimberly Smith|           Toys| 89.01|2023-08-14|     Delivered|    0.04|     East Richard|Credit Card|   2022-06-19|\n",
            "|   4502|Stephanie Martin|    Electronics|656.32|2023-06-04|       Pending|     0.2|       Bakermouth|Credit Card|   2021-08-19|\n",
            "|   1958| Kimberly Adkins|    Electronics| 98.66|2023-07-17|     Cancelled|    0.13|  New Thomashaven|     Wallet|   2021-02-01|\n",
            "|   5905| Ashley Humphrey|          Books|844.87|2023-12-25|       Pending|    0.28|  North Juliaberg|       Cash|   2021-07-30|\n",
            "|   8239|   Jessica Smith|          Books|610.08|2023-07-31|     Delivered|    0.09|        New Barry|        UPI|   2021-12-27|\n",
            "|   9379|      Steven Lee|          Books|181.97|2023-07-07|      Returned|    0.22|        Smithside|        UPI|   2023-05-04|\n",
            "|   3851|Elizabeth Kelley|        Fashion|517.15|2023-06-03|     Cancelled|    0.19|    Justinchester|Credit Card|   2022-11-19|\n",
            "|   1757|   John Atkinson|          Books|724.04|2023-07-29|      Returned|    0.06|       Perryshire|       Cash|   2021-03-31|\n",
            "|   9486|   Justin Lowery|    Electronics|554.55|2023-09-05|       Pending|    0.24|    Andersonmouth|     Wallet|   2023-04-05|\n",
            "|   3607|     Karen Green|          Books|621.24|2023-12-12|     Cancelled|    0.18|       Katiehaven|        UPI|   2022-06-24|\n",
            "|   4919|  Billy Mitchell|    Electronics|653.51|2023-12-31|     Delivered|    0.08|         Luisside|        UPI|   2020-10-05|\n",
            "|   3267| James Hernandez|          Books|593.98|2023-11-16|      Returned|     0.2|   South Rickside|     Wallet|   2022-05-26|\n",
            "+-------+----------------+---------------+------+----------+--------------+--------+-----------------+-----------+-------------+\n",
            "only showing top 20 rows\n",
            "\n"
          ]
        }
      ]
    },
    {
      "cell_type": "markdown",
      "source": [
        "8. Complex JSON Simulation (Advanced)"
      ],
      "metadata": {
        "id": "qSMqxM-7bbzp"
      }
    },
    {
      "cell_type": "code",
      "source": [
        "# Convert each order to a JSON string and load it back into a DataFrame.\n",
        "from pyspark.sql.functions import to_json, struct, from_json\n",
        "from pyspark.sql.types import StructType, StructField, StringType, DoubleType\n",
        "\n",
        "sales_json = sales_df.withColumn(\"json_order\", to_json(struct(\"*\")))\n",
        "sales_json.select(\"json_order\").show(truncate=False)\n",
        "\n",
        "schema = sales_df.schema\n",
        "sales_from_json = sales_json.select(from_json(\"json_order\", schema).alias(\"data\")).select(\"data.*\")\n",
        "sales_from_json.show()"
      ],
      "metadata": {
        "colab": {
          "base_uri": "https://localhost:8080/"
        },
        "id": "VASJlfEHbe1W",
        "outputId": "d39b1c8e-71d9-4370-cb03-0e6d6d012868"
      },
      "execution_count": 110,
      "outputs": [
        {
          "output_type": "stream",
          "name": "stdout",
          "text": [
            "+-------------------------------------------------------------------------------------------------------------------------------------------------------------------------------------------------------------------------------------------------+\n",
            "|json_order                                                                                                                                                                                                                                       |\n",
            "+-------------------------------------------------------------------------------------------------------------------------------------------------------------------------------------------------------------------------------------------------+\n",
            "|{\"OrderID\":2824,\"CustomerName\":\"Donald Walker\",\"ProductCategory\":\"Books\",\"Amount\":783.04,\"OrderDate\":\"2024-12-26\",\"DeliveryStatus\":\"Returned\",\"Discount\":0.15,\"City\":\"Lake Joyside\",\"PaymentMode\":\"Credit Card\",\"CustomerSince\":\"2020-10-15\"}    |\n",
            "|{\"OrderID\":7912,\"CustomerName\":\"Brandon Hall\",\"ProductCategory\":\"Groceries\",\"Amount\":905.0,\"OrderDate\":\"2024-09-12\",\"DeliveryStatus\":\"Cancelled\",\"Discount\":0.03,\"City\":\"New Jamesside\",\"PaymentMode\":\"Wallet\",\"CustomerSince\":\"2022-03-15\"}     |\n",
            "|{\"OrderID\":4611,\"CustomerName\":\"Donald Booth\",\"ProductCategory\":\"Fashion\",\"Amount\":657.96,\"OrderDate\":\"2025-01-12\",\"DeliveryStatus\":\"Returned\",\"Discount\":0.01,\"City\":\"Lake Roberto\",\"PaymentMode\":\"Wallet\",\"CustomerSince\":\"2021-08-07\"}        |\n",
            "|{\"OrderID\":3547,\"CustomerName\":\"Phillip Garcia\",\"ProductCategory\":\"Fashion\",\"Amount\":606.89,\"OrderDate\":\"2024-03-24\",\"DeliveryStatus\":\"Returned\",\"Discount\":0.15,\"City\":\"West Melanieview\",\"PaymentMode\":\"Wallet\",\"CustomerSince\":\"2020-08-08\"}  |\n",
            "|{\"OrderID\":8527,\"CustomerName\":\"Valerie Gray\",\"ProductCategory\":\"Toys\",\"Amount\":77.87,\"OrderDate\":\"2024-08-04\",\"DeliveryStatus\":\"Delivered\",\"Discount\":0.17,\"City\":\"Mariastad\",\"PaymentMode\":\"Cash\",\"CustomerSince\":\"2022-11-15\"}                |\n",
            "|{\"OrderID\":4150,\"CustomerName\":\"Amber Perez\",\"ProductCategory\":\"Books\",\"Amount\":352.37,\"OrderDate\":\"2024-01-13\",\"DeliveryStatus\":\"Cancelled\",\"Discount\":0.24,\"City\":\"Port Jesseville\",\"PaymentMode\":\"Cash\",\"CustomerSince\":\"2022-01-13\"}         |\n",
            "|{\"OrderID\":5554,\"CustomerName\":\"Roy Martin\",\"ProductCategory\":\"Toys\",\"Amount\":148.33,\"OrderDate\":\"2024-03-04\",\"DeliveryStatus\":\"Cancelled\",\"Discount\":0.27,\"City\":\"Lake Joseph\",\"PaymentMode\":\"Cash\",\"CustomerSince\":\"2023-04-29\"}               |\n",
            "|{\"OrderID\":2169,\"CustomerName\":\"Carolyn Daniel\",\"ProductCategory\":\"Electronics\",\"Amount\":14.09,\"OrderDate\":\"2023-10-07\",\"DeliveryStatus\":\"Delivered\",\"Discount\":0.25,\"City\":\"Grayside\",\"PaymentMode\":\"Credit Card\",\"CustomerSince\":\"2021-05-09\"} |\n",
            "|{\"OrderID\":6313,\"CustomerName\":\"Patty Perez\",\"ProductCategory\":\"Groceries\",\"Amount\":79.83,\"OrderDate\":\"2023-06-27\",\"DeliveryStatus\":\"Cancelled\",\"Discount\":0.12,\"City\":\"Richardland\",\"PaymentMode\":\"Credit Card\",\"CustomerSince\":\"2021-04-25\"}   |\n",
            "|{\"OrderID\":6155,\"CustomerName\":\"Jonathan Wilkerson\",\"ProductCategory\":\"Fashion\",\"Amount\":882.68,\"OrderDate\":\"2024-10-14\",\"DeliveryStatus\":\"Cancelled\",\"Discount\":0.27,\"City\":\"Thomasberg\",\"PaymentMode\":\"Cash\",\"CustomerSince\":\"2021-06-20\"}     |\n",
            "|{\"OrderID\":9830,\"CustomerName\":\"Kevin Hurst\",\"ProductCategory\":\"Books\",\"Amount\":870.55,\"OrderDate\":\"2024-04-08\",\"DeliveryStatus\":\"Delivered\",\"Discount\":0.22,\"City\":\"Jeffreyberg\",\"PaymentMode\":\"Wallet\",\"CustomerSince\":\"2022-08-02\"}           |\n",
            "|{\"OrderID\":9085,\"CustomerName\":\"Anthony Rodriguez\",\"ProductCategory\":\"Groceries\",\"Amount\":921.73,\"OrderDate\":\"2024-10-02\",\"DeliveryStatus\":\"Cancelled\",\"Discount\":0.03,\"City\":\"Port Erin\",\"PaymentMode\":\"UPI\",\"CustomerSince\":\"2022-12-15\"}      |\n",
            "|{\"OrderID\":2040,\"CustomerName\":\"Kyle Mcdonald\",\"ProductCategory\":\"Toys\",\"Amount\":327.52,\"OrderDate\":\"2023-12-15\",\"DeliveryStatus\":\"Returned\",\"Discount\":0.06,\"City\":\"Lake Jenniferside\",\"PaymentMode\":\"Wallet\",\"CustomerSince\":\"2021-07-21\"}     |\n",
            "|{\"OrderID\":6573,\"CustomerName\":\"Jeffrey Chavez\",\"ProductCategory\":\"Books\",\"Amount\":676.02,\"OrderDate\":\"2024-12-14\",\"DeliveryStatus\":\"Cancelled\",\"Discount\":0.19,\"City\":\"Teresaburgh\",\"PaymentMode\":\"Wallet\",\"CustomerSince\":\"2022-07-30\"}        |\n",
            "|{\"OrderID\":2743,\"CustomerName\":\"Elizabeth Fowler\",\"ProductCategory\":\"Electronics\",\"Amount\":47.06,\"OrderDate\":\"2024-09-18\",\"DeliveryStatus\":\"Delivered\",\"Discount\":0.13,\"City\":\"East Nathaniel\",\"PaymentMode\":\"Cash\",\"CustomerSince\":\"2021-02-07\"}|\n",
            "|{\"OrderID\":9837,\"CustomerName\":\"Tammy Sellers\",\"ProductCategory\":\"Books\",\"Amount\":46.15,\"OrderDate\":\"2024-09-10\",\"DeliveryStatus\":\"Cancelled\",\"Discount\":0.05,\"City\":\"Tracyville\",\"PaymentMode\":\"UPI\",\"CustomerSince\":\"2021-12-17\"}              |\n",
            "|{\"OrderID\":6038,\"CustomerName\":\"David Bradley\",\"ProductCategory\":\"Fashion\",\"Amount\":348.51,\"OrderDate\":\"2023-08-03\",\"DeliveryStatus\":\"Returned\",\"Discount\":0.23,\"City\":\"Lake Toddland\",\"PaymentMode\":\"UPI\",\"CustomerSince\":\"2022-09-07\"}         |\n",
            "|{\"OrderID\":3060,\"CustomerName\":\"John Pierce\",\"ProductCategory\":\"Toys\",\"Amount\":362.09,\"OrderDate\":\"2023-12-25\",\"DeliveryStatus\":\"Returned\",\"Discount\":0.03,\"City\":\"Brandtside\",\"PaymentMode\":\"Cash\",\"CustomerSince\":\"2023-05-09\"}                |\n",
            "|{\"OrderID\":4295,\"CustomerName\":\"Jennifer Powers\",\"ProductCategory\":\"Electronics\",\"Amount\":684.26,\"OrderDate\":\"2024-03-19\",\"DeliveryStatus\":\"Cancelled\",\"Discount\":0.21,\"City\":\"Lammouth\",\"PaymentMode\":\"UPI\",\"CustomerSince\":\"2020-12-06\"}       |\n",
            "|{\"OrderID\":5061,\"CustomerName\":\"George Chapman\",\"ProductCategory\":\"Electronics\",\"Amount\":251.89,\"OrderDate\":\"2023-11-28\",\"DeliveryStatus\":\"Pending\",\"Discount\":0.27,\"City\":\"North Chad\",\"PaymentMode\":\"Cash\",\"CustomerSince\":\"2023-02-07\"}       |\n",
            "+-------------------------------------------------------------------------------------------------------------------------------------------------------------------------------------------------------------------------------------------------+\n",
            "only showing top 20 rows\n",
            "\n",
            "+-------+------------------+---------------+------+----------+--------------+--------+-----------------+-----------+-------------+\n",
            "|OrderID|      CustomerName|ProductCategory|Amount| OrderDate|DeliveryStatus|Discount|             City|PaymentMode|CustomerSince|\n",
            "+-------+------------------+---------------+------+----------+--------------+--------+-----------------+-----------+-------------+\n",
            "|   2824|     Donald Walker|          Books|783.04|2024-12-26|      Returned|    0.15|     Lake Joyside|Credit Card|   2020-10-15|\n",
            "|   7912|      Brandon Hall|      Groceries| 905.0|2024-09-12|     Cancelled|    0.03|    New Jamesside|     Wallet|   2022-03-15|\n",
            "|   4611|      Donald Booth|        Fashion|657.96|2025-01-12|      Returned|    0.01|     Lake Roberto|     Wallet|   2021-08-07|\n",
            "|   3547|    Phillip Garcia|        Fashion|606.89|2024-03-24|      Returned|    0.15| West Melanieview|     Wallet|   2020-08-08|\n",
            "|   8527|      Valerie Gray|           Toys| 77.87|2024-08-04|     Delivered|    0.17|        Mariastad|       Cash|   2022-11-15|\n",
            "|   4150|       Amber Perez|          Books|352.37|2024-01-13|     Cancelled|    0.24|  Port Jesseville|       Cash|   2022-01-13|\n",
            "|   5554|        Roy Martin|           Toys|148.33|2024-03-04|     Cancelled|    0.27|      Lake Joseph|       Cash|   2023-04-29|\n",
            "|   2169|    Carolyn Daniel|    Electronics| 14.09|2023-10-07|     Delivered|    0.25|         Grayside|Credit Card|   2021-05-09|\n",
            "|   6313|       Patty Perez|      Groceries| 79.83|2023-06-27|     Cancelled|    0.12|      Richardland|Credit Card|   2021-04-25|\n",
            "|   6155|Jonathan Wilkerson|        Fashion|882.68|2024-10-14|     Cancelled|    0.27|       Thomasberg|       Cash|   2021-06-20|\n",
            "|   9830|       Kevin Hurst|          Books|870.55|2024-04-08|     Delivered|    0.22|      Jeffreyberg|     Wallet|   2022-08-02|\n",
            "|   9085| Anthony Rodriguez|      Groceries|921.73|2024-10-02|     Cancelled|    0.03|        Port Erin|        UPI|   2022-12-15|\n",
            "|   2040|     Kyle Mcdonald|           Toys|327.52|2023-12-15|      Returned|    0.06|Lake Jenniferside|     Wallet|   2021-07-21|\n",
            "|   6573|    Jeffrey Chavez|          Books|676.02|2024-12-14|     Cancelled|    0.19|      Teresaburgh|     Wallet|   2022-07-30|\n",
            "|   2743|  Elizabeth Fowler|    Electronics| 47.06|2024-09-18|     Delivered|    0.13|   East Nathaniel|       Cash|   2021-02-07|\n",
            "|   9837|     Tammy Sellers|          Books| 46.15|2024-09-10|     Cancelled|    0.05|       Tracyville|        UPI|   2021-12-17|\n",
            "|   6038|     David Bradley|        Fashion|348.51|2023-08-03|      Returned|    0.23|    Lake Toddland|        UPI|   2022-09-07|\n",
            "|   3060|       John Pierce|           Toys|362.09|2023-12-25|      Returned|    0.03|       Brandtside|       Cash|   2023-05-09|\n",
            "|   4295|   Jennifer Powers|    Electronics|684.26|2024-03-19|     Cancelled|    0.21|         Lammouth|        UPI|   2020-12-06|\n",
            "|   5061|    George Chapman|    Electronics|251.89|2023-11-28|       Pending|    0.27|       North Chad|       Cash|   2023-02-07|\n",
            "+-------+------------------+---------------+------+----------+--------------+--------+-----------------+-----------+-------------+\n",
            "only showing top 20 rows\n",
            "\n"
          ]
        }
      ]
    },
    {
      "cell_type": "code",
      "source": [
        "# Access nested fields using get_json_object and explode()\n",
        "from pyspark.sql.functions import get_json_object\n",
        "sales_json.select(get_json_object(\"json_order\", \"$.City\").alias(\"CityFromJSON\")).show()"
      ],
      "metadata": {
        "colab": {
          "base_uri": "https://localhost:8080/"
        },
        "id": "HmELBDljcIdr",
        "outputId": "530f08aa-8a33-416e-abd2-b4f7af3e069a"
      },
      "execution_count": 111,
      "outputs": [
        {
          "output_type": "stream",
          "name": "stdout",
          "text": [
            "+-----------------+\n",
            "|     CityFromJSON|\n",
            "+-----------------+\n",
            "|     Lake Joyside|\n",
            "|    New Jamesside|\n",
            "|     Lake Roberto|\n",
            "| West Melanieview|\n",
            "|        Mariastad|\n",
            "|  Port Jesseville|\n",
            "|      Lake Joseph|\n",
            "|         Grayside|\n",
            "|      Richardland|\n",
            "|       Thomasberg|\n",
            "|      Jeffreyberg|\n",
            "|        Port Erin|\n",
            "|Lake Jenniferside|\n",
            "|      Teresaburgh|\n",
            "|   East Nathaniel|\n",
            "|       Tracyville|\n",
            "|    Lake Toddland|\n",
            "|       Brandtside|\n",
            "|         Lammouth|\n",
            "|       North Chad|\n",
            "+-----------------+\n",
            "only showing top 20 rows\n",
            "\n"
          ]
        }
      ]
    },
    {
      "cell_type": "markdown",
      "source": [
        "9. Applying Functions"
      ],
      "metadata": {
        "id": "OhlLvDL-JIrs"
      }
    },
    {
      "cell_type": "code",
      "source": [
        "# Create a function to tag orders: “Big”, “Medium”, “Small” based on Amount.\n",
        "from pyspark.sql.functions import udf\n",
        "from pyspark.sql.types import StringType\n",
        "def tag_order(amount):\n",
        "    if amount >= 10000:\n",
        "        return \"Big\"\n",
        "    elif amount >= 5000:\n",
        "        return \"Medium\"\n",
        "    else:\n",
        "        return \"Small\"\n",
        "tag_order_udf = udf(tag_order, StringType())\n",
        "sales_df = sales_df.withColumn(\"OrderTag\", tag_order_udf(col(\"Amount\")))\n",
        "sales_df.select(\"Amount\", \"OrderTag\").show()\n"
      ],
      "metadata": {
        "colab": {
          "base_uri": "https://localhost:8080/"
        },
        "id": "IuLOLRgZchOU",
        "outputId": "3b428509-6741-4bbe-9925-d7feb63609e8"
      },
      "execution_count": 112,
      "outputs": [
        {
          "output_type": "stream",
          "name": "stdout",
          "text": [
            "+------+--------+\n",
            "|Amount|OrderTag|\n",
            "+------+--------+\n",
            "|783.04|   Small|\n",
            "| 905.0|   Small|\n",
            "|657.96|   Small|\n",
            "|606.89|   Small|\n",
            "| 77.87|   Small|\n",
            "|352.37|   Small|\n",
            "|148.33|   Small|\n",
            "| 14.09|   Small|\n",
            "| 79.83|   Small|\n",
            "|882.68|   Small|\n",
            "|870.55|   Small|\n",
            "|921.73|   Small|\n",
            "|327.52|   Small|\n",
            "|676.02|   Small|\n",
            "| 47.06|   Small|\n",
            "| 46.15|   Small|\n",
            "|348.51|   Small|\n",
            "|362.09|   Small|\n",
            "|684.26|   Small|\n",
            "|251.89|   Small|\n",
            "+------+--------+\n",
            "only showing top 20 rows\n",
            "\n"
          ]
        }
      ]
    },
    {
      "cell_type": "code",
      "source": [
        "import pandas as pd\n",
        "sales_df1=pd.read_csv(\"/content/drive/MyDrive/Sales_Dataset.csv\")\n",
        "def tag_order(amount):\n",
        "    if amount >= 10000:\n",
        "        return \"Big\"\n",
        "    elif amount >= 5000:\n",
        "        return \"Medium\"\n",
        "    else:\n",
        "        return \"Small\"\n",
        "sales_df1[\"OrderTag\"] = sales_df1[\"Amount\"].apply(tag_order)\n",
        "print(sales_df1[[\"Amount\", \"OrderTag\"]])"
      ],
      "metadata": {
        "colab": {
          "base_uri": "https://localhost:8080/"
        },
        "id": "6nMtDjn_c2uo",
        "outputId": "8f1eb887-e748-401c-8953-6db7ff5cadcb"
      },
      "execution_count": 114,
      "outputs": [
        {
          "output_type": "stream",
          "name": "stdout",
          "text": [
            "     Amount OrderTag\n",
            "0    783.04    Small\n",
            "1    905.00    Small\n",
            "2    657.96    Small\n",
            "3    606.89    Small\n",
            "4     77.87    Small\n",
            "..      ...      ...\n",
            "495  680.00    Small\n",
            "496  285.32    Small\n",
            "497  792.11    Small\n",
            "498  578.49    Small\n",
            "499  904.97    Small\n",
            "\n",
            "[500 rows x 2 columns]\n"
          ]
        }
      ]
    }
  ]
}