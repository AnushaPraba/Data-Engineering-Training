{
  "nbformat": 4,
  "nbformat_minor": 0,
  "metadata": {
    "colab": {
      "provenance": []
    },
    "kernelspec": {
      "name": "python3",
      "display_name": "Python 3"
    },
    "language_info": {
      "name": "python"
    }
  },
  "cells": [
    {
      "cell_type": "code",
      "execution_count": 1,
      "metadata": {
        "colab": {
          "base_uri": "https://localhost:8080/",
          "height": 219
        },
        "id": "R6qyjM6tDzBn",
        "outputId": "8f394f07-a5d9-4af9-8ad4-cebd4f818d98"
      },
      "outputs": [
        {
          "output_type": "execute_result",
          "data": {
            "text/plain": [
              "<pyspark.sql.session.SparkSession at 0x7cba4c416050>"
            ],
            "text/html": [
              "\n",
              "            <div>\n",
              "                <p><b>SparkSession - in-memory</b></p>\n",
              "                \n",
              "        <div>\n",
              "            <p><b>SparkContext</b></p>\n",
              "\n",
              "            <p><a href=\"http://7f26fe4d6957:4040\">Spark UI</a></p>\n",
              "\n",
              "            <dl>\n",
              "              <dt>Version</dt>\n",
              "                <dd><code>v3.5.1</code></dd>\n",
              "              <dt>Master</dt>\n",
              "                <dd><code>local[*]</code></dd>\n",
              "              <dt>AppName</dt>\n",
              "                <dd><code>ExpenseVolumeAnalysis</code></dd>\n",
              "            </dl>\n",
              "        </div>\n",
              "        \n",
              "            </div>\n",
              "        "
            ]
          },
          "metadata": {},
          "execution_count": 1
        }
      ],
      "source": [
        "from pyspark.sql import SparkSession\n",
        "spark = SparkSession.builder.appName(\"ExpenseVolumeAnalysis\").getOrCreate()\n",
        "spark"
      ]
    },
    {
      "cell_type": "code",
      "source": [
        "df = spark.read.csv(\"expenses_large.csv\", header=True, inferSchema=True)\n",
        "df.show()"
      ],
      "metadata": {
        "colab": {
          "base_uri": "https://localhost:8080/"
        },
        "id": "utfh9fGgF0kN",
        "outputId": "5262f1a7-0bf9-4075-8802-1d761afbabce"
      },
      "execution_count": 8,
      "outputs": [
        {
          "output_type": "stream",
          "name": "stdout",
          "text": [
            "+-------+---------+------+------------+--------------------+\n",
            "|user_id| category|amount|expense_date|         description|\n",
            "+-------+---------+------+------------+--------------------+\n",
            "|      1|     Food|   500|  2025-01-10|Dinner at restaurant|\n",
            "|      1|     Food|   600|  2025-02-15|  Lunch with friends|\n",
            "|      1|     Food|   700|  2025-03-12|      Weekend snacks|\n",
            "|      1|     Food|  2000|  2025-04-05|      Party at hotel|\n",
            "|      1|     Food|   300|  2025-05-09|       Chai & Samosa|\n",
            "|      2|Transport|   800|  2025-01-12| Metro card recharge|\n",
            "|      2|Transport|   900|  2025-02-20|           Uber ride|\n",
            "|      2|Transport|   850|  2025-03-10|      Taxi to office|\n",
            "|      2|Transport|   950|  2025-04-18|    Bus monthly pass|\n",
            "|      2|Transport|  4000|  2025-05-25|       Flight ticket|\n",
            "+-------+---------+------+------------+--------------------+\n",
            "\n"
          ]
        }
      ]
    },
    {
      "cell_type": "code",
      "source": [
        "from pyspark.sql.functions import month, year, sum as _sum, col, avg, stddev\n",
        "df = df.withColumn(\"expense_date\", col(\"expense_date\").cast(\"date\"))\n",
        "df = df.withColumn(\"month\", month(\"expense_date\"))\n",
        "df = df.withColumn(\"year\", year(\"expense_date\"))\n",
        "df.show()"
      ],
      "metadata": {
        "colab": {
          "base_uri": "https://localhost:8080/"
        },
        "id": "3_2O6PQUGmO8",
        "outputId": "44560e62-91d7-4f73-b16a-4e92f8aa89a2"
      },
      "execution_count": 9,
      "outputs": [
        {
          "output_type": "stream",
          "name": "stdout",
          "text": [
            "+-------+---------+------+------------+--------------------+-----+----+\n",
            "|user_id| category|amount|expense_date|         description|month|year|\n",
            "+-------+---------+------+------------+--------------------+-----+----+\n",
            "|      1|     Food|   500|  2025-01-10|Dinner at restaurant|    1|2025|\n",
            "|      1|     Food|   600|  2025-02-15|  Lunch with friends|    2|2025|\n",
            "|      1|     Food|   700|  2025-03-12|      Weekend snacks|    3|2025|\n",
            "|      1|     Food|  2000|  2025-04-05|      Party at hotel|    4|2025|\n",
            "|      1|     Food|   300|  2025-05-09|       Chai & Samosa|    5|2025|\n",
            "|      2|Transport|   800|  2025-01-12| Metro card recharge|    1|2025|\n",
            "|      2|Transport|   900|  2025-02-20|           Uber ride|    2|2025|\n",
            "|      2|Transport|   850|  2025-03-10|      Taxi to office|    3|2025|\n",
            "|      2|Transport|   950|  2025-04-18|    Bus monthly pass|    4|2025|\n",
            "|      2|Transport|  4000|  2025-05-25|       Flight ticket|    5|2025|\n",
            "+-------+---------+------+------------+--------------------+-----+----+\n",
            "\n"
          ]
        }
      ]
    },
    {
      "cell_type": "code",
      "source": [
        "# Group by user, year, month to calculate total monthly spend\n",
        "monthly_spend = df.groupBy(\"user_id\", \"year\", \"month\").agg(_sum(\"amount\").alias(\"total_spent\"))\n",
        "\n",
        "# Detect unusual spending\n",
        "unusual_df = monthly_spend.groupBy(\"user_id\").agg(\n",
        "    avg(\"total_spent\").alias(\"avg_spent\"),\n",
        "    stddev(\"total_spent\").alias(\"std_spent\")\n",
        ")\n",
        "unusual_df.show()"
      ],
      "metadata": {
        "colab": {
          "base_uri": "https://localhost:8080/"
        },
        "id": "YlZOkX-XG7-5",
        "outputId": "d8a85bdd-128f-4b94-f596-f4a8cd2c0d99"
      },
      "execution_count": 10,
      "outputs": [
        {
          "output_type": "stream",
          "name": "stdout",
          "text": [
            "+-------+---------+------------------+\n",
            "|user_id|avg_spent|         std_spent|\n",
            "+-------+---------+------------------+\n",
            "|      1|    820.0| 676.0177512462228|\n",
            "|      2|   1500.0|1398.6600730699365|\n",
            "+-------+---------+------------------+\n",
            "\n"
          ]
        }
      ]
    },
    {
      "cell_type": "code",
      "source": [
        "# Join back with monthly spend\n",
        "detected = monthly_spend.join(unusual_df, \"user_id\")\n",
        "detected = detected.withColumn(\"is_spike\", col(\"total_spent\") > (col(\"avg_spent\") + col(\"std_spent\")))\n",
        "detected.show()\n",
        "\n",
        "# Filter only spike entries\n",
        "detected_spikes = detected.filter(col(\"is_spike\") == True)\n",
        "detected_spikes.select(\"user_id\", \"year\", \"month\", \"total_spent\", \"avg_spent\", \"std_spent\").show()\n"
      ],
      "metadata": {
        "colab": {
          "base_uri": "https://localhost:8080/"
        },
        "id": "7imiRaiiHv-r",
        "outputId": "109ab870-aa6d-45d9-933e-25935e2900f6"
      },
      "execution_count": 18,
      "outputs": [
        {
          "output_type": "stream",
          "name": "stdout",
          "text": [
            "+-------+----+-----+-----------+---------+------------------+--------+\n",
            "|user_id|year|month|total_spent|avg_spent|         std_spent|is_spike|\n",
            "+-------+----+-----+-----------+---------+------------------+--------+\n",
            "|      1|2025|    4|       2000|    820.0| 676.0177512462228|    true|\n",
            "|      1|2025|    2|        600|    820.0| 676.0177512462228|   false|\n",
            "|      1|2025|    1|        500|    820.0| 676.0177512462228|   false|\n",
            "|      1|2025|    5|        300|    820.0| 676.0177512462228|   false|\n",
            "|      1|2025|    3|        700|    820.0| 676.0177512462228|   false|\n",
            "|      2|2025|    1|        800|   1500.0|1398.6600730699365|   false|\n",
            "|      2|2025|    5|       4000|   1500.0|1398.6600730699365|    true|\n",
            "|      2|2025|    3|        850|   1500.0|1398.6600730699365|   false|\n",
            "|      2|2025|    4|        950|   1500.0|1398.6600730699365|   false|\n",
            "|      2|2025|    2|        900|   1500.0|1398.6600730699365|   false|\n",
            "+-------+----+-----+-----------+---------+------------------+--------+\n",
            "\n",
            "+-------+----+-----+-----------+---------+------------------+\n",
            "|user_id|year|month|total_spent|avg_spent|         std_spent|\n",
            "+-------+----+-----+-----------+---------+------------------+\n",
            "|      1|2025|    4|       2000|    820.0| 676.0177512462228|\n",
            "|      2|2025|    5|       4000|   1500.0|1398.6600730699365|\n",
            "+-------+----+-----+-----------+---------+------------------+\n",
            "\n"
          ]
        }
      ]
    }
  ]
}