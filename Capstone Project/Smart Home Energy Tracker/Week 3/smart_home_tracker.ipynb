{
  "nbformat": 4,
  "nbformat_minor": 0,
  "metadata": {
    "colab": {
      "provenance": []
    },
    "kernelspec": {
      "name": "python3",
      "display_name": "Python 3"
    },
    "language_info": {
      "name": "python"
    }
  },
  "cells": [
    {
      "cell_type": "code",
      "source": [
        "if 'spark' in locals() and isinstance(spark, SparkSession):\n",
        "    print(\"Stopping existing SparkSession...\")\n",
        "    spark.stop()"
      ],
      "metadata": {
        "id": "I5y-uFy4lyXe",
        "colab": {
          "base_uri": "https://localhost:8080/"
        },
        "outputId": "e2bad913-0b66-4939-ad64-f9cd01119a39"
      },
      "execution_count": 5,
      "outputs": [
        {
          "output_type": "stream",
          "name": "stdout",
          "text": [
            "Stopping existing SparkSession...\n"
          ]
        }
      ]
    },
    {
      "cell_type": "code",
      "source": [
        "from pyspark.sql import SparkSession\n",
        "spark = SparkSession.builder.appName(\"Smart Home Tracker\").getOrCreate()\n",
        "spark"
      ],
      "metadata": {
        "colab": {
          "base_uri": "https://localhost:8080/",
          "height": 219
        },
        "id": "qC-wTCd2lrzT",
        "outputId": "d464df88-cf8e-426b-e918-152d4573a820"
      },
      "execution_count": 6,
      "outputs": [
        {
          "output_type": "execute_result",
          "data": {
            "text/plain": [
              "<pyspark.sql.session.SparkSession at 0x78cb24695450>"
            ],
            "text/html": [
              "\n",
              "            <div>\n",
              "                <p><b>SparkSession - in-memory</b></p>\n",
              "                \n",
              "        <div>\n",
              "            <p><b>SparkContext</b></p>\n",
              "\n",
              "            <p><a href=\"http://c665fe778a1f:4040\">Spark UI</a></p>\n",
              "\n",
              "            <dl>\n",
              "              <dt>Version</dt>\n",
              "                <dd><code>v3.5.1</code></dd>\n",
              "              <dt>Master</dt>\n",
              "                <dd><code>local[*]</code></dd>\n",
              "              <dt>AppName</dt>\n",
              "                <dd><code>Smart Home Tracker</code></dd>\n",
              "            </dl>\n",
              "        </div>\n",
              "        \n",
              "            </div>\n",
              "        "
            ]
          },
          "metadata": {},
          "execution_count": 6
        }
      ]
    },
    {
      "cell_type": "code",
      "source": [
        "from pyspark.sql.functions import col, hour, when, sum\n",
        "df = spark.read.csv(\"energy_logs.csv\", header=True, inferSchema=True)\n",
        "df = df.withColumn(\"hour\", hour(col(\"timestamp\")))\n",
        "df.show()"
      ],
      "metadata": {
        "colab": {
          "base_uri": "https://localhost:8080/"
        },
        "id": "SPYyaykslzVk",
        "outputId": "66613735-cdbc-44ac-aedc-218fe7b0d49a"
      },
      "execution_count": 7,
      "outputs": [
        {
          "output_type": "stream",
          "name": "stdout",
          "text": [
            "+------+---------+-------------------+---------------+----+\n",
            "|log_id|device_id|          timestamp|energy_used_kwh|hour|\n",
            "+------+---------+-------------------+---------------+----+\n",
            "|     1|        1|2025-06-01 08:00:00|           0.05|   8|\n",
            "|     2|        1|2025-06-01 09:00:00|           0.06|   9|\n",
            "|     3|        2|2025-06-01 20:00:00|           0.12|  20|\n",
            "|     4|        3|2025-06-01 22:00:00|           0.08|  22|\n",
            "|     5|        4|2025-06-01 07:00:00|            0.1|   7|\n",
            "|     6|        5|2025-06-01 14:00:00|           0.75|  14|\n",
            "|     7|        6|2025-06-01 09:30:00|            0.2|   9|\n",
            "|     8|        1|2025-06-02 08:00:00|           0.07|   8|\n",
            "|     9|        3|2025-06-02 22:00:00|           0.09|  22|\n",
            "+------+---------+-------------------+---------------+----+\n",
            "\n"
          ]
        }
      ]
    },
    {
      "cell_type": "code",
      "source": [
        "# Classify each log entry as 'peak' if the hour is between 18:00 and 22:00, otherwise 'off_peak'\n",
        "df = df.withColumn(\"period\",when((col(\"hour\") >= 18) & (col(\"hour\") <= 22), \"peak\").otherwise(\"off_peak\"))\n",
        "\n",
        "# Group by device and period to calculate total energy used in peak and off-peak periods\n",
        "device_usage = df.groupBy(\"device_id\", \"period\").agg(sum(\"energy_used_kwh\").alias(\"total_kwh\"))\n",
        "\n",
        "# Group by device to calculate total energy usage across all periods\n",
        "total_usage = df.groupBy(\"device_id\").agg(sum(\"energy_used_kwh\").alias(\"total_kwh\")).orderBy(col(\"total_kwh\").desc())\n",
        "\n",
        "total_usage.write.csv(\"output/top_devices.csv\", header=True)"
      ],
      "metadata": {
        "id": "dCNe4Iqfm9cO"
      },
      "execution_count": 8,
      "outputs": []
    }
  ]
}