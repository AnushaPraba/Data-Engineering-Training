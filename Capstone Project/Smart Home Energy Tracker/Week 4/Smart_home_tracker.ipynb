{
 "cells": [
  {
   "cell_type": "code",
   "execution_count": 0,
   "metadata": {
    "application/vnd.databricks.v1+cell": {
     "cellMetadata": {
      "byteLimit": 2048000,
      "rowLimit": 10000
     },
     "inputWidgets": {},
     "nuid": "6d95454c-8e61-4f6f-837e-d16387679c33",
     "showTitle": false,
     "tableResultSettingsMap": {},
     "title": ""
    }
   },
   "outputs": [
    {
     "output_type": "execute_result",
     "data": {
      "text/html": [
       "\n",
       "            <div>\n",
       "                <p><b>SparkSession - hive</b></p>\n",
       "                \n",
       "        <div>\n",
       "            <p><b>SparkContext</b></p>\n",
       "\n",
       "            <p><a href=\"/?o=2806829887576824#setting/sparkui/0612-043650-nhuexwr6/driver-7243797827306264588\">Spark UI</a></p>\n",
       "\n",
       "            <dl>\n",
       "              <dt>Version</dt>\n",
       "                <dd><code>v3.5.0</code></dd>\n",
       "              <dt>Master</dt>\n",
       "                <dd><code>local[*, 4]</code></dd>\n",
       "              <dt>AppName</dt>\n",
       "                <dd><code>Databricks Shell</code></dd>\n",
       "            </dl>\n",
       "        </div>\n",
       "        \n",
       "            </div>\n",
       "        "
      ],
      "text/plain": [
       "<pyspark.sql.session.SparkSession at 0x767214f5c7d0>"
      ]
     },
     "execution_count": 1,
     "metadata": {},
     "output_type": "execute_result"
    }
   ],
   "source": [
    "from pyspark.sql import SparkSession\n",
    "spark=SparkSession.builder.appName(\"Smart Home Tracker\").getOrCreate()\n",
    "spark"
   ]
  },
  {
   "cell_type": "code",
   "execution_count": 0,
   "metadata": {
    "application/vnd.databricks.v1+cell": {
     "cellMetadata": {
      "byteLimit": 2048000,
      "rowLimit": 10000
     },
     "inputWidgets": {},
     "nuid": "797b213b-9f21-40f1-8254-6f9878fb48f3",
     "showTitle": false,
     "tableResultSettingsMap": {},
     "title": ""
    }
   },
   "outputs": [
    {
     "output_type": "stream",
     "name": "stdout",
     "output_type": "stream",
     "text": [
      "+------+---------+-------------------+---------------+\n|log_id|device_id|          timestamp|energy_used_kwh|\n+------+---------+-------------------+---------------+\n|     1|        1|2025-06-01 08:00:00|           0.05|\n|     2|        1|2025-06-01 09:00:00|           0.06|\n|     3|        2|2025-06-01 20:00:00|           0.12|\n|     4|        3|2025-06-01 22:00:00|           0.08|\n|     5|        4|2025-06-01 07:00:00|            0.1|\n|     6|        5|2025-06-01 14:00:00|           0.75|\n|     7|        6|2025-06-01 09:30:00|            0.2|\n|     8|        1|2025-06-02 08:00:00|           0.07|\n|     9|        3|2025-06-02 22:00:00|           0.09|\n+------+---------+-------------------+---------------+\n\n"
     ]
    }
   ],
   "source": [
    "df = spark.read.csv(\"file:/Workspace/Shared/energy_logs.csv\", header=True, inferSchema=True)\n",
    "df.show()"
   ]
  },
  {
   "cell_type": "code",
   "execution_count": 0,
   "metadata": {
    "application/vnd.databricks.v1+cell": {
     "cellMetadata": {
      "byteLimit": 2048000,
      "rowLimit": 10000
     },
     "inputWidgets": {},
     "nuid": "203f86f4-95ba-4f97-8326-c67479a974d8",
     "showTitle": false,
     "tableResultSettingsMap": {},
     "title": ""
    }
   },
   "outputs": [
    {
     "output_type": "stream",
     "name": "stdout",
     "output_type": "stream",
     "text": [
      "+------+---------+-------------------+---------------+----------+----+\n|log_id|device_id|          timestamp|energy_used_kwh|      date|week|\n+------+---------+-------------------+---------------+----------+----+\n|     1|        1|2025-06-01 08:00:00|           0.05|2025-06-01|  22|\n|     2|        1|2025-06-01 09:00:00|           0.06|2025-06-01|  22|\n|     3|        2|2025-06-01 20:00:00|           0.12|2025-06-01|  22|\n|     4|        3|2025-06-01 22:00:00|           0.08|2025-06-01|  22|\n|     5|        4|2025-06-01 07:00:00|            0.1|2025-06-01|  22|\n|     6|        5|2025-06-01 14:00:00|           0.75|2025-06-01|  22|\n|     7|        6|2025-06-01 09:30:00|            0.2|2025-06-01|  22|\n|     8|        1|2025-06-02 08:00:00|           0.07|2025-06-02|  23|\n|     9|        3|2025-06-02 22:00:00|           0.09|2025-06-02|  23|\n+------+---------+-------------------+---------------+----------+----+\n\n"
     ]
    }
   ],
   "source": [
    "from pyspark.sql.functions import to_timestamp, date_format, weekofyear\n",
    "# Convert string timestamp to actual TimestampType\n",
    "df = df.withColumn(\"timestamp\", to_timestamp(\"timestamp\"))\n",
    "\n",
    "# Extract only the date part (yyyy-MM-dd) for daily aggregation\n",
    "df = df.withColumn(\"date\", date_format(\"timestamp\", \"yyyy-MM-dd\"))\n",
    "\n",
    "# Extract week number from timestamp for weekly aggregation\n",
    "df = df.withColumn(\"week\", weekofyear(\"timestamp\"))\n",
    "\n",
    "df.show()"
   ]
  },
  {
   "cell_type": "code",
   "execution_count": 0,
   "metadata": {
    "application/vnd.databricks.v1+cell": {
     "cellMetadata": {
      "byteLimit": 2048000,
      "rowLimit": 10000
     },
     "inputWidgets": {},
     "nuid": "20cd46a0-9dcb-462b-bee2-532cac3fb74f",
     "showTitle": false,
     "tableResultSettingsMap": {},
     "title": ""
    }
   },
   "outputs": [
    {
     "output_type": "stream",
     "name": "stdout",
     "output_type": "stream",
     "text": [
      "+---------+----------+---------+\n|device_id|      date|daily_kwh|\n+---------+----------+---------+\n|        3|2025-06-01|     0.08|\n|        1|2025-06-02|     0.07|\n|        1|2025-06-01|     0.11|\n|        6|2025-06-01|      0.2|\n|        2|2025-06-01|     0.12|\n|        3|2025-06-02|     0.09|\n|        4|2025-06-01|      0.1|\n|        5|2025-06-01|     0.75|\n+---------+----------+---------+\n\n"
     ]
    }
   ],
   "source": [
    "# Total energy used per day\n",
    "from pyspark.sql.functions import sum \n",
    "daily_summary = df.groupBy(\"device_id\", \"date\").agg(sum(\"energy_used_kwh\").alias(\"daily_kwh\"))\n",
    "daily_summary.show()"
   ]
  },
  {
   "cell_type": "code",
   "execution_count": 0,
   "metadata": {
    "application/vnd.databricks.v1+cell": {
     "cellMetadata": {
      "byteLimit": 2048000,
      "rowLimit": 10000
     },
     "inputWidgets": {},
     "nuid": "77b2b5a5-dac2-4d88-8ce3-b4ad44ad0a12",
     "showTitle": false,
     "tableResultSettingsMap": {},
     "title": ""
    }
   },
   "outputs": [
    {
     "output_type": "stream",
     "name": "stdout",
     "output_type": "stream",
     "text": [
      "+---------+----+----------+\n|device_id|week|weekly_kwh|\n+---------+----+----------+\n|        3|  22|      0.08|\n|        6|  22|       0.2|\n|        4|  22|       0.1|\n|        2|  22|      0.12|\n|        5|  22|      0.75|\n|        1|  22|      0.11|\n|        1|  23|      0.07|\n|        3|  23|      0.09|\n+---------+----+----------+\n\n"
     ]
    }
   ],
   "source": [
    "# Total energy used per week\n",
    "weekly_summary = df.groupBy(\"device_id\", \"week\").agg(sum(\"energy_used_kwh\").alias(\"weekly_kwh\"))\n",
    "weekly_summary.show()"
   ]
  },
  {
   "cell_type": "code",
   "execution_count": 0,
   "metadata": {
    "application/vnd.databricks.v1+cell": {
     "cellMetadata": {
      "byteLimit": 2048000,
      "rowLimit": 10000
     },
     "inputWidgets": {},
     "nuid": "f8393f05-6697-4778-a738-61e26f893c9f",
     "showTitle": false,
     "tableResultSettingsMap": {},
     "title": ""
    }
   },
   "outputs": [],
   "source": [
    "# Save daily summary in Delta format\n",
    "daily_summary.write.format(\"delta\").mode(\"overwrite\").save(\"file:/Workspace/Shared/daily_summary\")\n",
    "\n",
    "# Save weekly summary as CSV\n",
    "weekly_summary.write.csv(\"file:/Workspace/Shared/weekly_summary.csv\", header=True)"
   ]
  }
 ],
 "metadata": {
  "application/vnd.databricks.v1+notebook": {
   "computePreferences": null,
   "dashboards": [],
   "environmentMetadata": {
    "base_environment": "",
    "environment_version": "2"
   },
   "inputWidgetPreferences": null,
   "language": "python",
   "notebookMetadata": {
    "pythonIndentUnit": 4
   },
   "notebookName": "Smart_home_tracker",
   "widgets": {}
  },
  "language_info": {
   "name": "python"
  }
 },
 "nbformat": 4,
 "nbformat_minor": 0
}