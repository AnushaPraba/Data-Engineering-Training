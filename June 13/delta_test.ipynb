{
  "nbformat": 4,
  "nbformat_minor": 0,
  "metadata": {
    "colab": {
      "provenance": []
    },
    "kernelspec": {
      "name": "python3",
      "display_name": "Python 3"
    },
    "language_info": {
      "name": "python"
    }
  },
  "cells": [
    {
      "cell_type": "code",
      "source": [
        "!pip install pyspark==3.3.2 delta-spark==2.1.0\n"
      ],
      "metadata": {
        "id": "opGZ9-nJFS0v"
      },
      "execution_count": null,
      "outputs": []
    },
    {
      "cell_type": "code",
      "source": [
        "from pyspark.sql import SparkSession\n",
        "from delta import configure_spark_with_delta_pip\n",
        "\n",
        "# Build Spark session\n",
        "builder = SparkSession.builder \\\n",
        "    .appName(\"DeltaLakeExample\") \\\n",
        "    .config(\"spark.sql.extensions\", \"io.delta.sql.DeltaSparkSessionExtension\") \\\n",
        "    .config(\"spark.sql.catalog.spark_catalog\", \"org.apache.spark.sql.delta.catalog.DeltaCatalog\")\n",
        "\n",
        "spark = configure_spark_with_delta_pip(builder).getOrCreate()\n"
      ],
      "metadata": {
        "id": "I_BCT4-tF1A0"
      },
      "execution_count": 4,
      "outputs": []
    },
    {
      "cell_type": "code",
      "source": [
        "df_cust = spark.read.option(\"header\", True).option(\"inferSchema\", True) \\\n",
        "    .csv(\"/content/customers.csv\")\n",
        "\n",
        "# Save as Delta format\n",
        "df_cust.write.format(\"delta\").mode(\"overwrite\").save(\"/content/customers_delta\")\n",
        "\n",
        "# Load the Delta table\n",
        "delta = spark.read.format(\"delta\").load(\"/content/customers_delta\")\n",
        "\n",
        "# Show the data\n",
        "delta.show()\n"
      ],
      "metadata": {
        "colab": {
          "base_uri": "https://localhost:8080/"
        },
        "id": "q5JtJ5alGgLV",
        "outputId": "8ece7cdd-47ab-4537-b1fe-ba1bc181980e"
      },
      "execution_count": 5,
      "outputs": [
        {
          "output_type": "stream",
          "name": "stdout",
          "text": [
            "+----------+-----+---------+---+\n",
            "|CustomerID| Name|     City|Age|\n",
            "+----------+-----+---------+---+\n",
            "|       101|Aditi|   Mumbai| 28|\n",
            "|       102|Rohan|    Delhi| 35|\n",
            "|       103|Meena|Bangalore| 41|\n",
            "|       104|Kabir|Hyderabad| 30|\n",
            "|       105| Zoya|  Chennai| 25|\n",
            "+----------+-----+---------+---+\n",
            "\n"
          ]
        }
      ]
    }
  ]
}