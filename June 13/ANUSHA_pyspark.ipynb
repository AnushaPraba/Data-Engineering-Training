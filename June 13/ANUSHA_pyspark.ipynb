{
  "nbformat": 4,
  "nbformat_minor": 0,
  "metadata": {
    "colab": {
      "provenance": []
    },
    "kernelspec": {
      "name": "python3",
      "display_name": "Python 3"
    },
    "language_info": {
      "name": "python"
    }
  },
  "cells": [
    {
      "cell_type": "code",
      "execution_count": 1,
      "metadata": {
        "id": "65VZqX7glu-L"
      },
      "outputs": [],
      "source": [
        "from pyspark.sql import SparkSession\n",
        "from pyspark.sql.functions import col, expr, count, avg, sum as _sum\n"
      ]
    },
    {
      "cell_type": "markdown",
      "source": [
        "# 1️⃣ Start Spark session\n"
      ],
      "metadata": {
        "id": "tDPG9E7LmzEj"
      }
    },
    {
      "cell_type": "code",
      "source": [
        "spark = SparkSession.builder.appName(\"CustomerOrdersAnalysis\").getOrCreate()\n"
      ],
      "metadata": {
        "id": "HLgKPmrdmDBp"
      },
      "execution_count": 2,
      "outputs": []
    },
    {
      "cell_type": "markdown",
      "source": [
        "# 2️⃣ Read CSV into DataFrames\n"
      ],
      "metadata": {
        "id": "kCG7WMMQm0M_"
      }
    },
    {
      "cell_type": "code",
      "source": [
        "customers_df = spark.read.option(\"header\", \"true\").option(\"inferSchema\", \"true\").csv(\"/content/customers.csv\")\n"
      ],
      "metadata": {
        "id": "cnlGpwPnmGCu"
      },
      "execution_count": 4,
      "outputs": []
    },
    {
      "cell_type": "code",
      "source": [
        "orders_df = spark.read.option(\"header\", \"true\").option(\"inferSchema\", \"true\").csv(\"/content/orders.csv\")\n",
        "\n"
      ],
      "metadata": {
        "id": "4i7nZWCzmJrK"
      },
      "execution_count": 5,
      "outputs": []
    },
    {
      "cell_type": "markdown",
      "source": [
        "# 3️⃣ Print schema\n"
      ],
      "metadata": {
        "id": "pXiiQ4Num5vI"
      }
    },
    {
      "cell_type": "code",
      "source": [
        "customers_df.printSchema()\n"
      ],
      "metadata": {
        "colab": {
          "base_uri": "https://localhost:8080/"
        },
        "id": "o-WAw8nzmTDP",
        "outputId": "162a3e9f-54e3-4ea0-b7b5-456719074714"
      },
      "execution_count": 6,
      "outputs": [
        {
          "output_type": "stream",
          "name": "stdout",
          "text": [
            "root\n",
            " |-- CustomerID: integer (nullable = true)\n",
            " |-- Name: string (nullable = true)\n",
            " |-- City: string (nullable = true)\n",
            " |-- Age: integer (nullable = true)\n",
            "\n"
          ]
        }
      ]
    },
    {
      "cell_type": "code",
      "source": [
        "orders_df.printSchema()\n"
      ],
      "metadata": {
        "colab": {
          "base_uri": "https://localhost:8080/"
        },
        "id": "hPcpZ6VPmXyz",
        "outputId": "94431fcd-761f-4c78-a5c8-bf8cca5bc565"
      },
      "execution_count": 7,
      "outputs": [
        {
          "output_type": "stream",
          "name": "stdout",
          "text": [
            "root\n",
            " |-- OrderID: integer (nullable = true)\n",
            " |-- CustomerID: integer (nullable = true)\n",
            " |-- Product: string (nullable = true)\n",
            " |-- Quantity: integer (nullable = true)\n",
            " |-- Price: integer (nullable = true)\n",
            " |-- OrderDate: date (nullable = true)\n",
            "\n"
          ]
        }
      ]
    },
    {
      "cell_type": "markdown",
      "source": [
        "# 4️⃣ Add TotalAmount column\n"
      ],
      "metadata": {
        "id": "95EukHgom89a"
      }
    },
    {
      "cell_type": "code",
      "source": [
        "orders_df = orders_df.withColumn(\"TotalAmount\", col(\"Quantity\") * col(\"Price\"))\n"
      ],
      "metadata": {
        "id": "-EElr5OdmZox"
      },
      "execution_count": 8,
      "outputs": []
    },
    {
      "cell_type": "markdown",
      "source": [
        "# 5️⃣ Join DataFrames\n"
      ],
      "metadata": {
        "id": "PcVak1MMm__L"
      }
    },
    {
      "cell_type": "code",
      "source": [
        "joined_df = orders_df.join(customers_df, on=\"CustomerID\")\n"
      ],
      "metadata": {
        "id": "A1caz0txmbEH"
      },
      "execution_count": 9,
      "outputs": []
    },
    {
      "cell_type": "markdown",
      "source": [
        "# 6️⃣ Filter TotalAmount > 20000\n"
      ],
      "metadata": {
        "id": "fFrtmQitnCQz"
      }
    },
    {
      "cell_type": "code",
      "source": [
        "high_value_orders = joined_df.filter(col(\"TotalAmount\") > 20000)\n",
        "high_value_orders.show()\n"
      ],
      "metadata": {
        "colab": {
          "base_uri": "https://localhost:8080/"
        },
        "id": "BBZi99PGmcR2",
        "outputId": "293cb7fd-06d2-4d9f-f398-623e92da42a9"
      },
      "execution_count": 10,
      "outputs": [
        {
          "output_type": "stream",
          "name": "stdout",
          "text": [
            "+----------+-------+-------+--------+-----+----------+-----------+-----+------+---+\n",
            "|CustomerID|OrderID|Product|Quantity|Price| OrderDate|TotalAmount| Name|  City|Age|\n",
            "+----------+-------+-------+--------+-----+----------+-----------+-----+------+---+\n",
            "|       101|   1001| Laptop|       1|70000|2024-01-05|      70000|Aditi|Mumbai| 28|\n",
            "|       102|   1002| Mobile|       2|25000|2024-02-10|      50000|Rohan| Delhi| 35|\n",
            "+----------+-------+-------+--------+-----+----------+-----------+-----+------+---+\n",
            "\n"
          ]
        }
      ]
    },
    {
      "cell_type": "markdown",
      "source": [
        "# 7️⃣ Customers with >1 order\n"
      ],
      "metadata": {
        "id": "OhB_Uhg4nFbt"
      }
    },
    {
      "cell_type": "code",
      "source": [
        "from pyspark.sql.window import Window\n",
        "from pyspark.sql.functions import row_number\n"
      ],
      "metadata": {
        "id": "0sFQgdo6meVM"
      },
      "execution_count": 11,
      "outputs": []
    },
    {
      "cell_type": "code",
      "source": [
        "order_counts = joined_df.groupBy(\"CustomerID\", \"Name\").count().filter(col(\"count\") > 1)\n",
        "order_counts.show()\n"
      ],
      "metadata": {
        "colab": {
          "base_uri": "https://localhost:8080/"
        },
        "id": "iymfbKp4mhoY",
        "outputId": "816dc094-0d1d-4408-c019-369154eab7e1"
      },
      "execution_count": 12,
      "outputs": [
        {
          "output_type": "stream",
          "name": "stdout",
          "text": [
            "+----------+-----+-----+\n",
            "|CustomerID| Name|count|\n",
            "+----------+-----+-----+\n",
            "|       101|Aditi|    2|\n",
            "+----------+-----+-----+\n",
            "\n"
          ]
        }
      ]
    },
    {
      "cell_type": "markdown",
      "source": [
        "# 8️⃣ Group by City and avg order value\n"
      ],
      "metadata": {
        "id": "z2f2zsyznH4d"
      }
    },
    {
      "cell_type": "code",
      "source": [
        "avg_order_by_city = joined_df.groupBy(\"City\").agg(avg(\"TotalAmount\").alias(\"AvgOrderValue\"))\n",
        "avg_order_by_city.show()\n"
      ],
      "metadata": {
        "colab": {
          "base_uri": "https://localhost:8080/"
        },
        "id": "zyjoLwYsmjAh",
        "outputId": "386012ca-a2c2-421b-c4a7-8419e3136739"
      },
      "execution_count": 13,
      "outputs": [
        {
          "output_type": "stream",
          "name": "stdout",
          "text": [
            "+---------+-------------+\n",
            "|     City|AvgOrderValue|\n",
            "+---------+-------------+\n",
            "|Bangalore|      10000.0|\n",
            "|   Mumbai|      36500.0|\n",
            "|    Delhi|      50000.0|\n",
            "|Hyderabad|      12000.0|\n",
            "+---------+-------------+\n",
            "\n"
          ]
        }
      ]
    },
    {
      "cell_type": "markdown",
      "source": [
        "# 9️⃣ Sort by OrderDate desc\n"
      ],
      "metadata": {
        "id": "_FDpySdLnJ0E"
      }
    },
    {
      "cell_type": "code",
      "source": [
        "sorted_orders = joined_df.orderBy(col(\"OrderDate\").desc())\n",
        "sorted_orders.show()\n"
      ],
      "metadata": {
        "colab": {
          "base_uri": "https://localhost:8080/"
        },
        "id": "aRi__3yWmkzf",
        "outputId": "2fe5b3c0-85bf-4bea-c696-1603ecbacb01"
      },
      "execution_count": 14,
      "outputs": [
        {
          "output_type": "stream",
          "name": "stdout",
          "text": [
            "+----------+-------+-------+--------+-----+----------+-----------+-----+---------+---+\n",
            "|CustomerID|OrderID|Product|Quantity|Price| OrderDate|TotalAmount| Name|     City|Age|\n",
            "+----------+-------+-------+--------+-----+----------+-----------+-----+---------+---+\n",
            "|       104|   1005|Monitor|       1|12000|2024-04-25|      12000|Kabir|Hyderabad| 30|\n",
            "|       101|   1004|  Mouse|       3| 1000|2024-04-01|       3000|Aditi|   Mumbai| 28|\n",
            "|       103|   1003|   Desk|       1|10000|2024-03-15|      10000|Meena|Bangalore| 41|\n",
            "|       102|   1002| Mobile|       2|25000|2024-02-10|      50000|Rohan|    Delhi| 35|\n",
            "|       101|   1001| Laptop|       1|70000|2024-01-05|      70000|Aditi|   Mumbai| 28|\n",
            "+----------+-------+-------+--------+-----+----------+-----------+-----+---------+---+\n",
            "\n"
          ]
        }
      ]
    },
    {
      "cell_type": "markdown",
      "source": [
        "# 🔟 Write as Parquet partitioned by City\n"
      ],
      "metadata": {
        "id": "VPdOJZSinMtk"
      }
    },
    {
      "cell_type": "code",
      "source": [
        "joined_df.write.mode(\"overwrite\").partitionBy(\"City\").parquet(\"/tmp/final_orders\")\n"
      ],
      "metadata": {
        "id": "9rkzXOaVmmUt"
      },
      "execution_count": 15,
      "outputs": []
    },
    {
      "cell_type": "markdown",
      "source": [
        "# 1️⃣1️⃣ Create temp view\n"
      ],
      "metadata": {
        "id": "pdcxtq9EnQod"
      }
    },
    {
      "cell_type": "code",
      "source": [
        "joined_df.createOrReplaceTempView(\"orders_view\")\n"
      ],
      "metadata": {
        "id": "4QXSUXDsmn77"
      },
      "execution_count": 16,
      "outputs": []
    },
    {
      "cell_type": "markdown",
      "source": [
        "# Total sales by customer\n"
      ],
      "metadata": {
        "id": "EouDmhC4nTYb"
      }
    },
    {
      "cell_type": "code",
      "source": [
        "spark.sql(\"\"\"\n",
        "SELECT CustomerID, Name, SUM(TotalAmount) as TotalSales\n",
        "FROM orders_view\n",
        "GROUP BY CustomerID, Name\n",
        "\"\"\").show()\n"
      ],
      "metadata": {
        "colab": {
          "base_uri": "https://localhost:8080/"
        },
        "id": "bhMA8IzcmpcJ",
        "outputId": "c697f97d-fb21-4928-dcfc-16fd64e09ce1"
      },
      "execution_count": 17,
      "outputs": [
        {
          "output_type": "stream",
          "name": "stdout",
          "text": [
            "+----------+-----+----------+\n",
            "|CustomerID| Name|TotalSales|\n",
            "+----------+-----+----------+\n",
            "|       101|Aditi|     73000|\n",
            "|       102|Rohan|     50000|\n",
            "|       103|Meena|     10000|\n",
            "|       104|Kabir|     12000|\n",
            "+----------+-----+----------+\n",
            "\n"
          ]
        }
      ]
    },
    {
      "cell_type": "markdown",
      "source": [
        "# Count of products per city\n"
      ],
      "metadata": {
        "id": "rcvJKaglnVjd"
      }
    },
    {
      "cell_type": "code",
      "source": [
        "spark.sql(\"\"\"\n",
        "SELECT City, COUNT(Product) as ProductCount\n",
        "FROM orders_view\n",
        "GROUP BY City\n",
        "\"\"\").show()\n"
      ],
      "metadata": {
        "colab": {
          "base_uri": "https://localhost:8080/"
        },
        "id": "xY9iFfTOmrEf",
        "outputId": "cef29657-d23d-431f-cdb7-f1e1de6a2f58"
      },
      "execution_count": 18,
      "outputs": [
        {
          "output_type": "stream",
          "name": "stdout",
          "text": [
            "+---------+------------+\n",
            "|     City|ProductCount|\n",
            "+---------+------------+\n",
            "|Bangalore|           1|\n",
            "|   Mumbai|           2|\n",
            "|    Delhi|           1|\n",
            "|Hyderabad|           1|\n",
            "+---------+------------+\n",
            "\n"
          ]
        }
      ]
    },
    {
      "cell_type": "markdown",
      "source": [
        "# Top 2 cities by revenue\n"
      ],
      "metadata": {
        "id": "K-8ha8CLnXwl"
      }
    },
    {
      "cell_type": "code",
      "source": [
        "spark.sql(\"\"\"\n",
        "SELECT City, SUM(TotalAmount) as Revenue\n",
        "FROM orders_view\n",
        "GROUP BY City\n",
        "ORDER BY Revenue DESC\n",
        "LIMIT 2\n",
        "\"\"\").show()\n"
      ],
      "metadata": {
        "colab": {
          "base_uri": "https://localhost:8080/"
        },
        "id": "gk1nSsWVmsz2",
        "outputId": "38a45065-367c-4c6d-f9d0-dace08b6237d"
      },
      "execution_count": 19,
      "outputs": [
        {
          "output_type": "stream",
          "name": "stdout",
          "text": [
            "+------+-------+\n",
            "|  City|Revenue|\n",
            "+------+-------+\n",
            "|Mumbai|  73000|\n",
            "| Delhi|  50000|\n",
            "+------+-------+\n",
            "\n"
          ]
        }
      ]
    }
  ]
}